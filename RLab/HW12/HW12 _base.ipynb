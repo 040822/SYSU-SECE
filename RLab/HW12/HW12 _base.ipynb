{
  "nbformat": 4,
  "nbformat_minor": 0,
  "metadata": {
    "colab": {
      "provenance": []
    },
    "kernelspec": {
      "display_name": "Python 3",
      "name": "python3"
    },
    "widgets": {
      "application/vnd.jupyter.widget-state+json": {
        "4305fd562871458dbc476ac4844409fd": {
          "model_module": "@jupyter-widgets/controls",
          "model_name": "HBoxModel",
          "model_module_version": "1.5.0",
          "state": {
            "_dom_classes": [],
            "_model_module": "@jupyter-widgets/controls",
            "_model_module_version": "1.5.0",
            "_model_name": "HBoxModel",
            "_view_count": null,
            "_view_module": "@jupyter-widgets/controls",
            "_view_module_version": "1.5.0",
            "_view_name": "HBoxView",
            "box_style": "",
            "children": [
              "IPY_MODEL_97649df1e2f046e39ae1f2c7d9cb5285",
              "IPY_MODEL_46d4784b10164f41b89dda35c044f4b7",
              "IPY_MODEL_a996bf0f9fd74232832fd1297acdfb11"
            ],
            "layout": "IPY_MODEL_92726fa1035447d88d2318703eacc1f6"
          }
        },
        "97649df1e2f046e39ae1f2c7d9cb5285": {
          "model_module": "@jupyter-widgets/controls",
          "model_name": "HTMLModel",
          "model_module_version": "1.5.0",
          "state": {
            "_dom_classes": [],
            "_model_module": "@jupyter-widgets/controls",
            "_model_module_version": "1.5.0",
            "_model_name": "HTMLModel",
            "_view_count": null,
            "_view_module": "@jupyter-widgets/controls",
            "_view_module_version": "1.5.0",
            "_view_name": "HTMLView",
            "description": "",
            "description_tooltip": null,
            "layout": "IPY_MODEL_5943c686282846e0ae8844eb1b815ecc",
            "placeholder": "​",
            "style": "IPY_MODEL_bc624ee6a3504d4e9fa65e1a5069fb94",
            "value": "Total: -50.5, Final: -40.0: 100%"
          }
        },
        "46d4784b10164f41b89dda35c044f4b7": {
          "model_module": "@jupyter-widgets/controls",
          "model_name": "FloatProgressModel",
          "model_module_version": "1.5.0",
          "state": {
            "_dom_classes": [],
            "_model_module": "@jupyter-widgets/controls",
            "_model_module_version": "1.5.0",
            "_model_name": "FloatProgressModel",
            "_view_count": null,
            "_view_module": "@jupyter-widgets/controls",
            "_view_module_version": "1.5.0",
            "_view_name": "ProgressView",
            "bar_style": "success",
            "description": "",
            "description_tooltip": null,
            "layout": "IPY_MODEL_6c37f23648084ab1814607be0d8bd8b3",
            "max": 500,
            "min": 0,
            "orientation": "horizontal",
            "style": "IPY_MODEL_f9362edaa84c450d9139f2b0a2adf859",
            "value": 500
          }
        },
        "a996bf0f9fd74232832fd1297acdfb11": {
          "model_module": "@jupyter-widgets/controls",
          "model_name": "HTMLModel",
          "model_module_version": "1.5.0",
          "state": {
            "_dom_classes": [],
            "_model_module": "@jupyter-widgets/controls",
            "_model_module_version": "1.5.0",
            "_model_name": "HTMLModel",
            "_view_count": null,
            "_view_module": "@jupyter-widgets/controls",
            "_view_module_version": "1.5.0",
            "_view_name": "HTMLView",
            "description": "",
            "description_tooltip": null,
            "layout": "IPY_MODEL_1dff8b85b5d74f63a9ec3f1721f797df",
            "placeholder": "​",
            "style": "IPY_MODEL_9a6f0169fe1a46b6b9dbb77028ee81b6",
            "value": " 500/500 [25:59&lt;00:00,  4.18s/it]"
          }
        },
        "92726fa1035447d88d2318703eacc1f6": {
          "model_module": "@jupyter-widgets/base",
          "model_name": "LayoutModel",
          "model_module_version": "1.2.0",
          "state": {
            "_model_module": "@jupyter-widgets/base",
            "_model_module_version": "1.2.0",
            "_model_name": "LayoutModel",
            "_view_count": null,
            "_view_module": "@jupyter-widgets/base",
            "_view_module_version": "1.2.0",
            "_view_name": "LayoutView",
            "align_content": null,
            "align_items": null,
            "align_self": null,
            "border": null,
            "bottom": null,
            "display": null,
            "flex": null,
            "flex_flow": null,
            "grid_area": null,
            "grid_auto_columns": null,
            "grid_auto_flow": null,
            "grid_auto_rows": null,
            "grid_column": null,
            "grid_gap": null,
            "grid_row": null,
            "grid_template_areas": null,
            "grid_template_columns": null,
            "grid_template_rows": null,
            "height": null,
            "justify_content": null,
            "justify_items": null,
            "left": null,
            "margin": null,
            "max_height": null,
            "max_width": null,
            "min_height": null,
            "min_width": null,
            "object_fit": null,
            "object_position": null,
            "order": null,
            "overflow": null,
            "overflow_x": null,
            "overflow_y": null,
            "padding": null,
            "right": null,
            "top": null,
            "visibility": null,
            "width": null
          }
        },
        "5943c686282846e0ae8844eb1b815ecc": {
          "model_module": "@jupyter-widgets/base",
          "model_name": "LayoutModel",
          "model_module_version": "1.2.0",
          "state": {
            "_model_module": "@jupyter-widgets/base",
            "_model_module_version": "1.2.0",
            "_model_name": "LayoutModel",
            "_view_count": null,
            "_view_module": "@jupyter-widgets/base",
            "_view_module_version": "1.2.0",
            "_view_name": "LayoutView",
            "align_content": null,
            "align_items": null,
            "align_self": null,
            "border": null,
            "bottom": null,
            "display": null,
            "flex": null,
            "flex_flow": null,
            "grid_area": null,
            "grid_auto_columns": null,
            "grid_auto_flow": null,
            "grid_auto_rows": null,
            "grid_column": null,
            "grid_gap": null,
            "grid_row": null,
            "grid_template_areas": null,
            "grid_template_columns": null,
            "grid_template_rows": null,
            "height": null,
            "justify_content": null,
            "justify_items": null,
            "left": null,
            "margin": null,
            "max_height": null,
            "max_width": null,
            "min_height": null,
            "min_width": null,
            "object_fit": null,
            "object_position": null,
            "order": null,
            "overflow": null,
            "overflow_x": null,
            "overflow_y": null,
            "padding": null,
            "right": null,
            "top": null,
            "visibility": null,
            "width": null
          }
        },
        "bc624ee6a3504d4e9fa65e1a5069fb94": {
          "model_module": "@jupyter-widgets/controls",
          "model_name": "DescriptionStyleModel",
          "model_module_version": "1.5.0",
          "state": {
            "_model_module": "@jupyter-widgets/controls",
            "_model_module_version": "1.5.0",
            "_model_name": "DescriptionStyleModel",
            "_view_count": null,
            "_view_module": "@jupyter-widgets/base",
            "_view_module_version": "1.2.0",
            "_view_name": "StyleView",
            "description_width": ""
          }
        },
        "6c37f23648084ab1814607be0d8bd8b3": {
          "model_module": "@jupyter-widgets/base",
          "model_name": "LayoutModel",
          "model_module_version": "1.2.0",
          "state": {
            "_model_module": "@jupyter-widgets/base",
            "_model_module_version": "1.2.0",
            "_model_name": "LayoutModel",
            "_view_count": null,
            "_view_module": "@jupyter-widgets/base",
            "_view_module_version": "1.2.0",
            "_view_name": "LayoutView",
            "align_content": null,
            "align_items": null,
            "align_self": null,
            "border": null,
            "bottom": null,
            "display": null,
            "flex": null,
            "flex_flow": null,
            "grid_area": null,
            "grid_auto_columns": null,
            "grid_auto_flow": null,
            "grid_auto_rows": null,
            "grid_column": null,
            "grid_gap": null,
            "grid_row": null,
            "grid_template_areas": null,
            "grid_template_columns": null,
            "grid_template_rows": null,
            "height": null,
            "justify_content": null,
            "justify_items": null,
            "left": null,
            "margin": null,
            "max_height": null,
            "max_width": null,
            "min_height": null,
            "min_width": null,
            "object_fit": null,
            "object_position": null,
            "order": null,
            "overflow": null,
            "overflow_x": null,
            "overflow_y": null,
            "padding": null,
            "right": null,
            "top": null,
            "visibility": null,
            "width": null
          }
        },
        "f9362edaa84c450d9139f2b0a2adf859": {
          "model_module": "@jupyter-widgets/controls",
          "model_name": "ProgressStyleModel",
          "model_module_version": "1.5.0",
          "state": {
            "_model_module": "@jupyter-widgets/controls",
            "_model_module_version": "1.5.0",
            "_model_name": "ProgressStyleModel",
            "_view_count": null,
            "_view_module": "@jupyter-widgets/base",
            "_view_module_version": "1.2.0",
            "_view_name": "StyleView",
            "bar_color": null,
            "description_width": ""
          }
        },
        "1dff8b85b5d74f63a9ec3f1721f797df": {
          "model_module": "@jupyter-widgets/base",
          "model_name": "LayoutModel",
          "model_module_version": "1.2.0",
          "state": {
            "_model_module": "@jupyter-widgets/base",
            "_model_module_version": "1.2.0",
            "_model_name": "LayoutModel",
            "_view_count": null,
            "_view_module": "@jupyter-widgets/base",
            "_view_module_version": "1.2.0",
            "_view_name": "LayoutView",
            "align_content": null,
            "align_items": null,
            "align_self": null,
            "border": null,
            "bottom": null,
            "display": null,
            "flex": null,
            "flex_flow": null,
            "grid_area": null,
            "grid_auto_columns": null,
            "grid_auto_flow": null,
            "grid_auto_rows": null,
            "grid_column": null,
            "grid_gap": null,
            "grid_row": null,
            "grid_template_areas": null,
            "grid_template_columns": null,
            "grid_template_rows": null,
            "height": null,
            "justify_content": null,
            "justify_items": null,
            "left": null,
            "margin": null,
            "max_height": null,
            "max_width": null,
            "min_height": null,
            "min_width": null,
            "object_fit": null,
            "object_position": null,
            "order": null,
            "overflow": null,
            "overflow_x": null,
            "overflow_y": null,
            "padding": null,
            "right": null,
            "top": null,
            "visibility": null,
            "width": null
          }
        },
        "9a6f0169fe1a46b6b9dbb77028ee81b6": {
          "model_module": "@jupyter-widgets/controls",
          "model_name": "DescriptionStyleModel",
          "model_module_version": "1.5.0",
          "state": {
            "_model_module": "@jupyter-widgets/controls",
            "_model_module_version": "1.5.0",
            "_model_name": "DescriptionStyleModel",
            "_view_count": null,
            "_view_module": "@jupyter-widgets/base",
            "_view_module_version": "1.2.0",
            "_view_name": "StyleView",
            "description_width": ""
          }
        }
      }
    }
  },
  "cells": [
    {
      "cell_type": "markdown",
      "metadata": {
        "id": "Fp30SB4bxeQb"
      },
      "source": [
        "# **Homework 12 - Reinforcement Learning**\n",
        "\n",
        "\n"
      ]
    },
    {
      "cell_type": "markdown",
      "metadata": {
        "id": "yXsnCWPtWSNk"
      },
      "source": [
        "## Preliminary work\n",
        "## 准备工作\n",
        "\n",
        "First, we need to install all necessary packages.\n",
        "One of them, gym, builded by OpenAI, is a toolkit for developing Reinforcement Learning algorithm. Other packages are for visualization in colab.  \n",
        "  \n",
        "首先，我们需要安装一堆包。其中gym包是用来实现RL的算法的，其他都是用来可视化的。\n"
      ]
    },
    {
      "cell_type": "code",
      "metadata": {
        "id": "5e2bScpnkVbv",
        "colab": {
          "base_uri": "https://localhost:8080/"
        },
        "outputId": "7ce7cc65-3215-48ba-a99e-2161f095d26e"
      },
      "source": [
        "!apt update\n",
        "!pip install swig\n",
        "!apt install python-opengl xvfb -y\n",
        "!pip install pyvirtualdisplay \n",
        "!pip install gym[box2d]\n",
        "\n",
        "#!pip install gym\n",
        "\n",
        "#tqdm numpy==1.19.5 torch==1.8.1"
      ],
      "execution_count": null,
      "outputs": [
        {
          "output_type": "stream",
          "name": "stderr",
          "text": [
            "/usr/local/lib/python3.10/dist-packages/ipykernel/ipkernel.py:283: DeprecationWarning: `should_run_async` will not call `transform_cell` automatically in the future. Please pass the result to `transformed_cell` argument and any exception that happen during thetransform in `preprocessing_exc_tuple` in IPython 7.17 and above.\n",
            "  and should_run_async(code)\n"
          ]
        },
        {
          "output_type": "stream",
          "name": "stdout",
          "text": [
            "\u001b[33m\r0% [Working]\u001b[0m\r            \rHit:1 https://cloud.r-project.org/bin/linux/ubuntu focal-cran40/ InRelease\n",
            "\u001b[33m\r0% [Connecting to archive.ubuntu.com (185.125.190.39)] [Connecting to security.\u001b[0m\r                                                                               \rHit:2 https://developer.download.nvidia.com/compute/cuda/repos/ubuntu2004/x86_64  InRelease\n",
            "\u001b[33m\r0% [Waiting for headers] [Waiting for headers] [Connecting to ppa.launchpad.net\u001b[0m\u001b[33m\r0% [Waiting for headers] [Waiting for headers] [Connecting to ppa.launchpad.net\u001b[0m\r                                                                               \rHit:3 http://security.ubuntu.com/ubuntu focal-security InRelease\n",
            "Hit:4 http://archive.ubuntu.com/ubuntu focal InRelease\n",
            "Hit:5 http://ppa.launchpad.net/c2d4u.team/c2d4u4.0+/ubuntu focal InRelease\n",
            "Hit:6 http://archive.ubuntu.com/ubuntu focal-updates InRelease\n",
            "Hit:7 http://archive.ubuntu.com/ubuntu focal-backports InRelease\n",
            "Hit:8 http://ppa.launchpad.net/cran/libgit2/ubuntu focal InRelease\n",
            "Hit:9 http://ppa.launchpad.net/deadsnakes/ppa/ubuntu focal InRelease\n",
            "Hit:10 http://ppa.launchpad.net/graphics-drivers/ppa/ubuntu focal InRelease\n",
            "Hit:11 http://ppa.launchpad.net/ubuntugis/ppa/ubuntu focal InRelease\n",
            "Reading package lists... Done\n",
            "Building dependency tree       \n",
            "Reading state information... Done\n",
            "29 packages can be upgraded. Run 'apt list --upgradable' to see them.\n",
            "Looking in indexes: https://pypi.org/simple, https://us-python.pkg.dev/colab-wheels/public/simple/\n",
            "Collecting swig\n",
            "  Using cached swig-4.1.1-py2.py3-none-manylinux_2_5_x86_64.manylinux1_x86_64.whl (1.8 MB)\n",
            "Installing collected packages: swig\n",
            "Successfully installed swig-4.1.1\n",
            "Reading package lists... Done\n",
            "Building dependency tree       \n",
            "Reading state information... Done\n",
            "python-opengl is already the newest version (3.1.0+dfsg-2build1).\n",
            "xvfb is already the newest version (2:1.20.13-1ubuntu1~20.04.8).\n",
            "0 upgraded, 0 newly installed, 0 to remove and 29 not upgraded.\n",
            "Looking in indexes: https://pypi.org/simple, https://us-python.pkg.dev/colab-wheels/public/simple/\n",
            "Requirement already satisfied: pyvirtualdisplay in /usr/local/lib/python3.10/dist-packages (3.0)\n",
            "Looking in indexes: https://pypi.org/simple, https://us-python.pkg.dev/colab-wheels/public/simple/\n",
            "Requirement already satisfied: gym[box2d] in /usr/local/lib/python3.10/dist-packages (0.25.2)\n",
            "Requirement already satisfied: numpy>=1.18.0 in /usr/local/lib/python3.10/dist-packages (from gym[box2d]) (1.22.4)\n",
            "Requirement already satisfied: cloudpickle>=1.2.0 in /usr/local/lib/python3.10/dist-packages (from gym[box2d]) (2.2.1)\n",
            "Requirement already satisfied: gym-notices>=0.0.4 in /usr/local/lib/python3.10/dist-packages (from gym[box2d]) (0.0.8)\n",
            "Collecting box2d-py==2.3.5 (from gym[box2d])\n",
            "  Using cached box2d-py-2.3.5.tar.gz (374 kB)\n",
            "  Preparing metadata (setup.py) ... \u001b[?25l\u001b[?25hdone\n",
            "Collecting pygame==2.1.0 (from gym[box2d])\n",
            "  Using cached pygame-2.1.0-cp310-cp310-manylinux_2_17_x86_64.manylinux2014_x86_64.whl (18.3 MB)\n",
            "Requirement already satisfied: swig==4.* in /usr/local/lib/python3.10/dist-packages (from gym[box2d]) (4.1.1)\n",
            "Building wheels for collected packages: box2d-py\n",
            "  Building wheel for box2d-py (setup.py) ... \u001b[?25l\u001b[?25hdone\n",
            "  Created wheel for box2d-py: filename=box2d_py-2.3.5-cp310-cp310-linux_x86_64.whl size=2812238 sha256=a18e2e9c942b0d2f7736f9863c29b687b660319d1a8e8f8038429590efd1da7a\n",
            "  Stored in directory: /root/.cache/pip/wheels/db/8f/6a/eaaadf056fba10a98d986f6dce954e6201ba3126926fc5ad9e\n",
            "Successfully built box2d-py\n",
            "Installing collected packages: box2d-py, pygame\n",
            "  Attempting uninstall: pygame\n",
            "    Found existing installation: pygame 2.3.0\n",
            "    Uninstalling pygame-2.3.0:\n",
            "      Successfully uninstalled pygame-2.3.0\n",
            "Successfully installed box2d-py-2.3.5 pygame-2.1.0\n"
          ]
        }
      ]
    },
    {
      "cell_type": "markdown",
      "metadata": {
        "id": "M_-i3cdoYsks"
      },
      "source": [
        "\n",
        "Next, set up virtual display，and import all necessaary packages.\n",
        "  \n",
        "import一堆包，并设置可视化页面"
      ]
    },
    {
      "cell_type": "code",
      "metadata": {
        "id": "nl2nREINDLiw"
      },
      "source": [
        "%%capture\n",
        "from pyvirtualdisplay import Display\n",
        "virtual_display = Display(visible=0, size=(1400, 900))\n",
        "virtual_display.start()\n",
        "\n",
        "%matplotlib inline\n",
        "import matplotlib.pyplot as plt\n",
        "\n",
        "from IPython import display\n",
        "\n",
        "import numpy as np\n",
        "import torch\n",
        "import torch.nn as nn\n",
        "import torch.optim as optim\n",
        "import torch.nn.functional as F\n",
        "from torch.distributions import Categorical\n",
        "from tqdm.notebook import tqdm\n",
        "\n",
        "%%capture\n",
        "import gym\n",
        "import random\n",
        "\n",
        "\n",
        "#https://www.gymlibrary.dev/content/basic_usage/  gym库"
      ],
      "execution_count": null,
      "outputs": []
    },
    {
      "cell_type": "markdown",
      "metadata": {
        "id": "CaEJ8BUCpN9P"
      },
      "source": [
        "# Warning ! Do not revise random seed !!!\n",
        "# Your submission on JudgeBoi will not reproduce your result !!!\n",
        "Make your HW result to be reproducible.\n",
        "\n",
        "  \n",
        "助教不允许我们用随机种子\n"
      ]
    },
    {
      "cell_type": "code",
      "metadata": {
        "id": "fV9i8i2YkRbO",
        "colab": {
          "base_uri": "https://localhost:8080/"
        },
        "outputId": "4c7993cc-6cfa-4ea2-c25f-ad6f238ae5a9"
      },
      "source": [
        "#固定种子\n",
        "\n",
        "seed = 543 # Do not change this\n",
        "def fix(env, seed):\n",
        "  env.seed(seed)\n",
        "  env.action_space.seed(seed)\n",
        "  torch.manual_seed(seed)\n",
        "  torch.cuda.manual_seed(seed)\n",
        "  torch.cuda.manual_seed_all(seed)\n",
        "  np.random.seed(seed)\n",
        "  random.seed(seed)\n",
        "  #torch.set_deterministic(True)\n",
        "  torch.backends.cudnn.benchmark = False\n",
        "  torch.backends.cudnn.deterministic = True"
      ],
      "execution_count": null,
      "outputs": [
        {
          "output_type": "stream",
          "name": "stderr",
          "text": [
            "/usr/local/lib/python3.10/dist-packages/ipykernel/ipkernel.py:283: DeprecationWarning: `should_run_async` will not call `transform_cell` automatically in the future. Please pass the result to `transformed_cell` argument and any exception that happen during thetransform in `preprocessing_exc_tuple` in IPython 7.17 and above.\n",
            "  and should_run_async(code)\n"
          ]
        }
      ]
    },
    {
      "cell_type": "markdown",
      "metadata": {
        "id": "He0XDx6bzjgC"
      },
      "source": [
        "Last, call gym and build an [Lunar Lander](https://gym.openai.com/envs/LunarLander-v2/) environment.\n",
        "  \n",
        "使用gym，建立“Lunar Lander”环境"
      ]
    },
    {
      "cell_type": "code",
      "metadata": {
        "id": "N_4-xJcbBt09"
      },
      "source": [
        "%%capture\n",
        "import gym\n",
        "import random\n",
        "env = gym.make('LunarLander-v2')\n",
        "fix(env, seed) # fix the environment Do not revise this !!!\n",
        "\n",
        "# 建立一个环境"
      ],
      "execution_count": null,
      "outputs": []
    },
    {
      "cell_type": "markdown",
      "metadata": {
        "id": "NrkVvTrvWZ5H"
      },
      "source": [
        "## What Lunar Lander？\n",
        "\n",
        "“LunarLander-v2”is to simulate the situation when the craft lands on the surface of the moon.  \n",
        "\n",
        "\n",
        "This task is to enable the craft to land \"safely\" at the pad between the two yellow flags.\n",
        "> Landing pad is always at coordinates (0,0).\n",
        "> Coordinates are the first two numbers in state vector.\n",
        "\n",
        "![](https://gym.openai.com/assets/docs/aeloop-138c89d44114492fd02822303e6b4b07213010bb14ca5856d2d49d6b62d88e53.svg)\n",
        "\n",
        "\"LunarLander-v2\" actually includes \"Agent\" and \"Environment\". \n",
        "\n",
        "In this homework, we will utilize the function `step()` to control the action of \"Agent\". \n",
        "\n",
        "Then `step()` will return the observation/state and reward given by the \"Environment\".  \n",
        "\n",
        "\n",
        "  \n",
        "这玩意是用来模拟飞行器降落在月球表面的情况的东西。  \n",
        "其目标是让飞行器安全地在两个黄旗子之间的垫子上着陆\n",
        "> 着陆垫始终在坐标（0，0）处  \n",
        "> 坐标是state vector（状态向量）的前两个数字？\n",
        "  \n",
        "  \n",
        "\"LunarLander-v2\"已经集成了“Agent”和“Environment”  \n",
        "在本次作业中，我们要使用step（）函数去控制“Agent”的行动  \n",
        "然后step（）会返回observation和环境的reward。\n",
        "\n"
      ]
    },
    {
      "cell_type": "markdown",
      "source": [
        "# 官方文档中的信息\n",
        "[文档](https://www.gymlibrary.dev/environments/box2d/lunar_lander/)\n",
        "\n",
        "##Actions：\n",
        "四种\n",
        "- 0代表agent啥也不做   \n",
        "- 1、2、3代表左边、向下、右边引擎开火（喷射）\n",
        "  \n",
        "##Observation space: \n",
        "八维向量，例如[1.5 1.5 5. 5. 3.14 5. 1. 1. ]  \n",
        "分别代表[坐标x，坐标y，x方向分速度，y方向分速度，角度，角速度，bool，bool]  \n",
        "两个bool表示飞行器的两只脚是否着陆。\n",
        "\n",
        "##Reward:\n",
        "登陆垫始终在（0，0）。坐标是状态向量（那个八维向量）的前两维。 从屏幕顶端到达登陆垫并保持速度为0的reward是大概100-140pt。如果登陆器从登陆垫上移动出去了，reward就没了。当登陆器被摧毁了（-100pt）或者成功着陆并休息后（+100pt），一个episode结束。登陆器的每条腿接触地面会+10pt。 主引擎点火为每帧-3分。 解决了加200分\n",
        "\n",
        "-在黄旗之间着陆    +100-140pt\n",
        "-着陆但移动出去了  上边的pt没了\n",
        "-坠毁           -100pt\n",
        "-主引擎点火(向下喷射) 每帧-0.3pt\n",
        "-左右引擎点火.    每帧-0.03pt\n",
        "-登陆器最终静止(rest)  再+100pt\n",
        "-每条腿接触地面.      +10pt\n",
        "\n",
        "-解决了（solved）（？）  +200pt\n",
        "\n",
        "  \n",
        "## Starting State\n",
        "The lander starts at the top center of the viewport with a random initial force applied to its center of mass.  \n",
        "着陆器\n",
        "\n",
        "## Episode Termination\n",
        "  \n",
        "\n"
      ],
      "metadata": {
        "id": "f9sRvDdL4mln"
      }
    },
    {
      "cell_type": "markdown",
      "metadata": {
        "id": "bIbp82sljvAt"
      },
      "source": [
        "# Observation / State\n",
        "\n",
        "First, we can take a look at what an Observation / State looks like.  \n",
        "Observation长下边这样"
      ]
    },
    {
      "cell_type": "code",
      "metadata": {
        "colab": {
          "base_uri": "https://localhost:8080/"
        },
        "id": "rsXZra3N9R5T",
        "outputId": "8390817b-fcc3-49e1-8c01-b606327685a0"
      },
      "source": [
        "print(env.observation_space)"
      ],
      "execution_count": null,
      "outputs": [
        {
          "output_type": "stream",
          "name": "stdout",
          "text": [
            "Box([-1.5       -1.5       -5.        -5.        -3.1415927 -5.\n",
            " -0.        -0.       ], [1.5       1.5       5.        5.        3.1415927 5.        1.\n",
            " 1.       ], (8,), float32)\n"
          ]
        }
      ]
    },
    {
      "cell_type": "markdown",
      "metadata": {
        "id": "ezdfoThbAQ49"
      },
      "source": [
        "\n",
        "`Box(8,)`means that observation is an 8-dim vector\n",
        "### Action\n",
        "\n",
        "Actions can be taken by looks like  \n",
        "Action长下边这样"
      ]
    },
    {
      "cell_type": "code",
      "metadata": {
        "id": "p1k4dIrBAaKi",
        "colab": {
          "base_uri": "https://localhost:8080/"
        },
        "outputId": "480a3c06-50da-4a1f-e168-0f9e160c035e"
      },
      "source": [
        "print(env.action_space)"
      ],
      "execution_count": null,
      "outputs": [
        {
          "output_type": "stream",
          "name": "stdout",
          "text": [
            "Discrete(4)\n"
          ]
        }
      ]
    },
    {
      "cell_type": "markdown",
      "metadata": {
        "id": "dejXT6PHBrPn"
      },
      "source": [
        "`Discrete(4)` implies that there are four kinds of actions can be taken by agent.\n",
        "- 0 implies the agent will not take any actions\n",
        "- 2 implies the agent will accelerate downward\n",
        "- 1, 3 implies the agent will accelerate left and right\n",
        "\n",
        "Next, we will try to make the agent interact with the environment. \n",
        "Before taking any actions, we recommend to call `reset()` function to reset the environment. Also, this function will return the initial state of the environment.\n",
        "  \n",
        "这表明一共有四种行动。  \n",
        "- 0代表agent啥也不做  \n",
        "- 2代表它向下加速  \n",
        "- 1、3代表它左移和右移  \n",
        "  \n",
        "下边我们将会尝试让agent与环境互动  \n",
        "在agent采取行动之前，我们推荐用reset（）去reset环境，这个函数也会返回环境的初始状态"
      ]
    },
    {
      "cell_type": "code",
      "metadata": {
        "id": "pi4OmrmZgnWA",
        "colab": {
          "base_uri": "https://localhost:8080/"
        },
        "outputId": "469cd676-5e7b-4110-b421-40b1a472bdfc"
      },
      "source": [
        "initial_state = env.reset()\n",
        "print(initial_state)\n",
        "\n",
        "#初始环境长下边这样，和Box一样，也是八维向量"
      ],
      "execution_count": null,
      "outputs": [
        {
          "output_type": "stream",
          "name": "stdout",
          "text": [
            "[-1.2619973e-03  1.3984586e+00 -1.2784091e-01 -5.5384123e-01\n",
            "  1.4691149e-03  2.8957864e-02  0.0000000e+00  0.0000000e+00]\n"
          ]
        }
      ]
    },
    {
      "cell_type": "markdown",
      "metadata": {
        "id": "uBx0mEqqgxJ9"
      },
      "source": [
        "Then, we try to get a random action from the agent's action space.  \n",
        "然后，我们将试着随机得到一种行动"
      ]
    },
    {
      "cell_type": "code",
      "metadata": {
        "id": "vxkOEXRKgizt",
        "colab": {
          "base_uri": "https://localhost:8080/"
        },
        "outputId": "48457203-f2bd-46a6-86f4-1f17a7966b71"
      },
      "source": [
        "random_action = env.action_space.sample()\n",
        "print(random_action)"
      ],
      "execution_count": null,
      "outputs": [
        {
          "output_type": "stream",
          "name": "stdout",
          "text": [
            "3\n"
          ]
        }
      ]
    },
    {
      "cell_type": "markdown",
      "metadata": {
        "id": "mns-bO01g0-J"
      },
      "source": [
        "More, we can utilize `step()` to make agent act according to the randomly-selected `random_action`.\n",
        "The `step()` function will return four values:\n",
        "- observation / state\n",
        "- reward\n",
        "- done (True/ False)\n",
        "- Other information  \n",
        "\n",
        "下边，我们可以用step（）去使agent按照上边随机抽取的random_action进行行动  \n",
        "step（）将会返回四个值：  \n",
        "- observation / state\n",
        "- reward\n",
        "- done (True/ False)\n",
        "- Other information  "
      ]
    },
    {
      "cell_type": "code",
      "metadata": {
        "id": "E_WViSxGgIk9"
      },
      "source": [
        "observation, reward, done, info = env.step(random_action)"
      ],
      "execution_count": null,
      "outputs": []
    },
    {
      "cell_type": "code",
      "metadata": {
        "id": "yK7r126kuCNp",
        "colab": {
          "base_uri": "https://localhost:8080/"
        },
        "outputId": "22214dd8-bb00-4051-e727-7911de01e86f"
      },
      "source": [
        "print(done)"
      ],
      "execution_count": null,
      "outputs": [
        {
          "output_type": "stream",
          "name": "stdout",
          "text": [
            "False\n"
          ]
        }
      ]
    },
    {
      "cell_type": "markdown",
      "metadata": {
        "id": "GKdS8vOihxhc"
      },
      "source": [
        "### Reward\n",
        "\n",
        "\n",
        "> Landing pad is always at coordinates (0,0). Coordinates are the first two numbers in state vector. Reward for moving from the top of the screen to landing pad and zero speed is about 100..140 points. If lander moves away from landing pad it loses reward back. Episode finishes if the lander crashes or comes to rest, receiving additional -100 or +100 points. Each leg ground contact is +10. Firing main engine is -0.3 points each frame. Solved is 200 points.   \n",
        "\n",
        "登陆垫始终在（0，0）。坐标是状态向量（那个八维向量）的前两维。 从屏幕顶端到达登陆垫并保持速度为0的reward是大概100-140pt。如果登陆器从登陆垫上移动出去了，reward就没了。当登陆器被摧毁了（-100pt）或者成功着陆并休息后（+100pt），一个episode结束。登陆器的每条腿接触地面会+10pt。 主引擎点火为每帧-3分。 解决了（？）加200分"
      ]
    },
    {
      "cell_type": "code",
      "metadata": {
        "id": "vxQNs77hi0_7",
        "colab": {
          "base_uri": "https://localhost:8080/"
        },
        "outputId": "d318a245-84be-4b16-969f-f9ebedf272ec"
      },
      "source": [
        "print(reward)"
      ],
      "execution_count": null,
      "outputs": [
        {
          "output_type": "stream",
          "name": "stdout",
          "text": [
            "-1.0511407416545058\n"
          ]
        }
      ]
    },
    {
      "cell_type": "markdown",
      "metadata": {
        "id": "Mhqp6D-XgHpe"
      },
      "source": [
        "# Random Agent\n",
        "In the end, before we start training, we can see whether a random agent can successfully land the moon or not.  \n",
        "在开始训练之前，我们可以看看一个随机生成的agent是否能够成功地着陆"
      ]
    },
    {
      "cell_type": "code",
      "metadata": {
        "id": "Y3G0bxoccelv",
        "colab": {
          "base_uri": "https://localhost:8080/",
          "height": 396
        },
        "outputId": "2042a310-8e67-417b-952a-902e668fed4b"
      },
      "source": [
        "env.reset()\n",
        "\n",
        "img = plt.imshow(env.render(mode='rgb_array'))\n",
        "\n",
        "done = False\n",
        "while not done:\n",
        "  action = env.action_space.sample()\n",
        "  #Randomly sample an element of this space.\n",
        "  #随机抽取动作空间里的一个元素\n",
        "  observation, reward, done, _ = env.step(action)\n",
        "  img.set_data(env.render(mode='rgb_array'))\n",
        "  display.display(plt.gcf())\n",
        "  display.clear_output(wait=True)\n",
        "    \n",
        "\n",
        "\n",
        "\n",
        "    "
      ],
      "execution_count": null,
      "outputs": [
        {
          "output_type": "display_data",
          "data": {
            "text/plain": [
              "<Figure size 640x480 with 1 Axes>"
            ],
            "image/png": "[encoded data removed]"
          },
          "metadata": {}
        }
      ]
    },
    {
      "cell_type": "markdown",
      "metadata": {
        "id": "F5paWqo7tWL2"
      },
      "source": [
        "## Policy Gradient\n",
        "Now, we can build a simple policy network. The network will return one of action in the action space.  \n",
        "现在，我们将创建一个简单的policy network，它将返回一项动作。"
      ]
    },
    {
      "cell_type": "code",
      "metadata": {
        "id": "J8tdmeD-tZew"
      },
      "source": [
        "class PolicyGradientNetwork(nn.Module):\n",
        "\n",
        "    def __init__(self):\n",
        "        super().__init__()\n",
        "        self.fc1 = nn.Linear(8, 16)\n",
        "        self.fc2 = nn.Linear(16, 16)\n",
        "        self.fc3 = nn.Linear(16, 4)\n",
        "\n",
        "        #三层线性层 8=>16=>16=>4\n",
        "\n",
        "    def forward(self, state):\n",
        "        hid = torch.tanh(self.fc1(state))\n",
        "        hid = torch.tanh(self.fc2(hid))\n",
        "        return F.softmax(self.fc3(hid), dim=-1)\n",
        "\n",
        "        #两次tanh一次softmax"
      ],
      "execution_count": null,
      "outputs": []
    },
    {
      "cell_type": "markdown",
      "metadata": {
        "id": "ynbqJrhIFTC3"
      },
      "source": [
        "Then, we need to build a simple agent. The agent will acts according to the output of the policy network above. There are a few things can be done by agent:\n",
        "- `learn()`：update the policy network from log probabilities and rewards.\n",
        "- `sample()`：After receiving observation from the environment, utilize policy network to tell which action to take. The return values of this function includes action and log probabilities.  \n",
        "  \n",
        "下边，我们需要创建一个简单的agent。它能够做以下事情：  \n",
        "- learn（）：使用log probabilities and rewards来更新policy network  \n",
        "- sample（）：在接收observation后，使用policy network去告诉agent下边需要采取哪种行动，这个函数的返回值包括行动和log probabilities"
      ]
    },
    {
      "cell_type": "code",
      "metadata": {
        "id": "zZo-IxJx286z"
      },
      "source": [
        "from torch.optim.lr_scheduler import StepLR\n",
        "class PolicyGradientAgent():\n",
        "    \n",
        "    def __init__(self, network):\n",
        "        self.network = network\n",
        "        self.optimizer = optim.SGD(self.network.parameters(), lr=0.001)\n",
        "        #优化算法：SGD\n",
        "        \n",
        "    def forward(self, state):\n",
        "        return self.network(state)\n",
        "    def learn(self, log_probs, rewards):\n",
        "        loss = (-log_probs * rewards).sum() \n",
        "\n",
        "        # You don't need to revise this to pass simple baseline (but you can)\n",
        "        #你无需修改loss算法就可以通过simple baseline，但是你可以改\n",
        "\n",
        "        self.optimizer.zero_grad()\n",
        "        loss.backward()\n",
        "        self.optimizer.step()\n",
        "        \n",
        "    def sample(self, state):\n",
        "        action_prob = self.network(torch.FloatTensor(state))\n",
        "        action_dist = Categorical(action_prob)\n",
        "        action = action_dist.sample()\n",
        "        log_prob = action_dist.log_prob(action)\n",
        "        return action.item(), log_prob\n",
        "        #返回action种类，和log probability"
      ],
      "execution_count": null,
      "outputs": []
    },
    {
      "cell_type": "markdown",
      "metadata": {
        "id": "ehPlnTKyRZf9"
      },
      "source": [
        "Lastly, build a network and agent to start training.  \n",
        "最后，创建（实例化）一个network和agent，然后开始训练！"
      ]
    },
    {
      "cell_type": "code",
      "metadata": {
        "id": "GfJIvML-RYjL",
        "colab": {
          "base_uri": "https://localhost:8080/"
        },
        "outputId": "034dae36-3a62-493f-9311-6416897af1a3"
      },
      "source": [
        "network = PolicyGradientNetwork()\n",
        "agent = PolicyGradientAgent(network)"
      ],
      "execution_count": 47,
      "outputs": [
        {
          "output_type": "stream",
          "name": "stderr",
          "text": [
            "/usr/local/lib/python3.10/dist-packages/ipykernel/ipkernel.py:283: DeprecationWarning: `should_run_async` will not call `transform_cell` automatically in the future. Please pass the result to `transformed_cell` argument and any exception that happen during thetransform in `preprocessing_exc_tuple` in IPython 7.17 and above.\n",
            "  and should_run_async(code)\n"
          ]
        }
      ]
    },
    {
      "cell_type": "markdown",
      "metadata": {
        "id": "ouv23glgf5Qt"
      },
      "source": [
        "## Training Agent\n",
        "\n",
        "Now let's start to train our agent.\n",
        "Through taking all the interactions between agent and environment as training data, the policy network can learn from all these attempts,  \n",
        "  \n",
        "下边我们开始训练agent了 \n",
        "通过把agent和环境间的所有互动当作训练数据，policy network可以从所有的attempts中学习\n"
      ]
    },
    {
      "cell_type": "code",
      "metadata": {
        "id": "vg5rxBBaf38_",
        "colab": {
          "base_uri": "https://localhost:8080/",
          "height": 138,
          "referenced_widgets": [
            "4305fd562871458dbc476ac4844409fd",
            "97649df1e2f046e39ae1f2c7d9cb5285",
            "46d4784b10164f41b89dda35c044f4b7",
            "a996bf0f9fd74232832fd1297acdfb11",
            "92726fa1035447d88d2318703eacc1f6",
            "5943c686282846e0ae8844eb1b815ecc",
            "bc624ee6a3504d4e9fa65e1a5069fb94",
            "6c37f23648084ab1814607be0d8bd8b3",
            "f9362edaa84c450d9139f2b0a2adf859",
            "1dff8b85b5d74f63a9ec3f1721f797df",
            "9a6f0169fe1a46b6b9dbb77028ee81b6"
          ]
        },
        "outputId": "cddf9a1c-389e-4108-fc54-051528e46b76"
      },
      "source": [
        "agent.network.train()  \n",
        "# Switch network into training mode \n",
        "# 转换为train模式 \n",
        "EPISODE_PER_BATCH = 5  \n",
        "# update the  agent every 5 episode\n",
        "# 每5个episode更新一次agent\n",
        "\n",
        "NUM_BATCH = 500        \n",
        "# totally update the agent for 400 time（？）\n",
        "# 一共更新400次\n",
        "\n",
        "avg_total_rewards, avg_final_rewards = [], []\n",
        "\n",
        "prg_bar = tqdm(range(NUM_BATCH))\n",
        "\n",
        "flag_print = 0\n",
        "#控制显示的条数，放在浏览器卡死\n",
        "\n",
        "for batch in prg_bar:\n",
        "\n",
        "    log_probs, rewards = [], []\n",
        "    total_rewards, final_rewards = [], []\n",
        "\n",
        "    # collect trajectory\n",
        "    for episode in range(EPISODE_PER_BATCH):\n",
        "        \n",
        "        state = env.reset()\n",
        "        total_reward, total_step = 0, 0\n",
        "        seq_rewards = []\n",
        "        while True:\n",
        "\n",
        "            action, log_prob = agent.sample(state) # at, log(at|st)\n",
        "            next_state, reward, done, _ = env.step(action)\n",
        "\n",
        "            log_probs.append(log_prob) # [log(a1|s1), log(a2|s2), ...., log(at|st)]\n",
        "            # seq_rewards.append(reward)\n",
        "            state = next_state\n",
        "            total_reward += reward\n",
        "            total_step += 1\n",
        "            rewards.append(reward) # change here\n",
        "            # ! IMPORTANT !\n",
        "            # Current reward implementation: immediate reward,  given action_list : a1, a2, a3 ......\n",
        "            #                                                         rewards :     r1, r2 ,r3 ......\n",
        "            # medium：change \"rewards\" to accumulative decaying reward, given action_list : a1,                           a2,                           a3, ......\n",
        "            #                                                           rewards :           r1+0.99*r2+0.99^2*r3+......, r2+0.99*r3+0.99^2*r4+...... ,  r3+0.99*r4+0.99^2*r5+ ......\n",
        "            # boss : implement Actor-Critic\n",
        "            if done:\n",
        "                final_rewards.append(reward)\n",
        "                total_rewards.append(total_reward)\n",
        "                \n",
        "                break\n",
        "    if flag_print%100==0:\n",
        "      print(f\"rewards looks like \", np.shape(rewards))\n",
        "    #log_probs_shape = np.array(log_probs).detach().shape\n",
        "    #AttributeError: 'list' object has no attribute 'shape'\n",
        "    #RuntimeError: Can't call numpy() on Tensor that requires grad. Use tensor.detach().numpy() instead.\n",
        "    #print(f\"log_probs looks like \", np.shape(log_probs)) \n",
        "      print(f\"log_probs looks like \", log_probs) \n",
        "\n",
        "    # record training process\n",
        "    avg_total_reward = sum(total_rewards) / len(total_rewards)\n",
        "    avg_final_reward = sum(final_rewards) / len(final_rewards)\n",
        "    avg_total_rewards.append(avg_total_reward)\n",
        "    avg_final_rewards.append(avg_final_reward)\n",
        "    prg_bar.set_description(f\"Total: {avg_total_reward: 4.1f}, Final: {avg_final_reward: 4.1f}\")\n",
        "\n",
        "    # update agent\n",
        "    # rewards = np.concatenate(rewards, axis=0)\n",
        "    rewards = (rewards - np.mean(rewards)) / (np.std(rewards) + 1e-9)  # normalize the reward \n",
        "    agent.learn(torch.stack(log_probs), torch.from_numpy(rewards))\n",
        "    if flag_print%100==0:\n",
        "      print(\"logs prob looks like \", torch.stack(log_probs).size())\n",
        "      print(\"torch.from_numpy(rewards) looks like \", torch.from_numpy(rewards).size())\n",
        "      flag_print+=1\n",
        "\n",
        "\n"
      ],
      "execution_count": 48,
      "outputs": [
        {
          "output_type": "display_data",
          "data": {
            "text/plain": [
              "  0%|          | 0/500 [00:00<?, ?it/s]"
            ],
            "application/vnd.jupyter.widget-view+json": {
              "version_major": 2,
              "version_minor": 0,
              "model_id": "4305fd562871458dbc476ac4844409fd"
            }
          },
          "metadata": {}
        },
        {
          "output_type": "stream",
          "name": "stdout",
          "text": [
            "rewards looks like  (425,)\n",
            "log_probs looks like  [tensor(-1.3219, grad_fn=<SqueezeBackward1>), tensor(-1.5869, grad_fn=<SqueezeBackward1>), tensor(-1.3171, grad_fn=<SqueezeBackward1>), tensor(-1.4243, grad_fn=<SqueezeBackward1>), tensor(-1.3111, grad_fn=<SqueezeBackward1>), tensor(-1.2459, grad_fn=<SqueezeBackward1>), tensor(-1.2450, grad_fn=<SqueezeBackward1>), tensor(-1.2440, grad_fn=<SqueezeBackward1>), tensor(-1.2431, grad_fn=<SqueezeBackward1>), tensor(-1.2421, grad_fn=<SqueezeBackward1>), tensor(-1.2411, grad_fn=<SqueezeBackward1>), tensor(-1.4338, grad_fn=<SqueezeBackward1>), tensor(-1.2383, grad_fn=<SqueezeBackward1>), tensor(-1.4379, grad_fn=<SqueezeBackward1>), tensor(-1.2805, grad_fn=<SqueezeBackward1>), tensor(-1.4409, grad_fn=<SqueezeBackward1>), tensor(-1.2328, grad_fn=<SqueezeBackward1>), tensor(-1.6517, grad_fn=<SqueezeBackward1>), tensor(-1.2303, grad_fn=<SqueezeBackward1>), tensor(-1.2290, grad_fn=<SqueezeBackward1>), tensor(-1.6609, grad_fn=<SqueezeBackward1>), tensor(-1.6604, grad_fn=<SqueezeBackward1>), tensor(-1.2248, grad_fn=<SqueezeBackward1>), tensor(-1.2235, grad_fn=<SqueezeBackward1>), tensor(-1.6733, grad_fn=<SqueezeBackward1>), tensor(-1.2592, grad_fn=<SqueezeBackward1>), tensor(-1.6761, grad_fn=<SqueezeBackward1>), tensor(-1.6796, grad_fn=<SqueezeBackward1>), tensor(-1.4599, grad_fn=<SqueezeBackward1>), tensor(-1.2167, grad_fn=<SqueezeBackward1>), tensor(-1.2154, grad_fn=<SqueezeBackward1>), tensor(-1.2141, grad_fn=<SqueezeBackward1>), tensor(-1.2128, grad_fn=<SqueezeBackward1>), tensor(-1.2367, grad_fn=<SqueezeBackward1>), tensor(-1.2320, grad_fn=<SqueezeBackward1>), tensor(-1.2110, grad_fn=<SqueezeBackward1>), tensor(-1.2099, grad_fn=<SqueezeBackward1>), tensor(-1.2088, grad_fn=<SqueezeBackward1>), tensor(-1.2187, grad_fn=<SqueezeBackward1>), tensor(-1.4749, grad_fn=<SqueezeBackward1>), tensor(-1.7433, grad_fn=<SqueezeBackward1>), tensor(-1.2120, grad_fn=<SqueezeBackward1>), tensor(-1.4797, grad_fn=<SqueezeBackward1>), tensor(-1.4829, grad_fn=<SqueezeBackward1>), tensor(-1.1995, grad_fn=<SqueezeBackward1>), tensor(-1.2018, grad_fn=<SqueezeBackward1>), tensor(-1.7693, grad_fn=<SqueezeBackward1>), tensor(-1.1964, grad_fn=<SqueezeBackward1>), tensor(-1.4916, grad_fn=<SqueezeBackward1>), tensor(-1.7787, grad_fn=<SqueezeBackward1>), tensor(-1.1924, grad_fn=<SqueezeBackward1>), tensor(-1.1922, grad_fn=<SqueezeBackward1>), tensor(-1.7901, grad_fn=<SqueezeBackward1>), tensor(-1.1892, grad_fn=<SqueezeBackward1>), tensor(-1.5020, grad_fn=<SqueezeBackward1>), tensor(-1.1813, grad_fn=<SqueezeBackward1>), tensor(-1.1856, grad_fn=<SqueezeBackward1>), tensor(-1.5076, grad_fn=<SqueezeBackward1>), tensor(-1.7879, grad_fn=<SqueezeBackward1>), tensor(-1.4003, grad_fn=<SqueezeBackward1>), tensor(-1.2852, grad_fn=<SqueezeBackward1>), tensor(-1.2847, grad_fn=<SqueezeBackward1>), tensor(-1.3991, grad_fn=<SqueezeBackward1>), tensor(-1.4008, grad_fn=<SqueezeBackward1>), tensor(-1.4797, grad_fn=<SqueezeBackward1>), tensor(-1.4788, grad_fn=<SqueezeBackward1>), tensor(-1.3934, grad_fn=<SqueezeBackward1>), tensor(-1.4824, grad_fn=<SqueezeBackward1>), tensor(-1.3903, grad_fn=<SqueezeBackward1>), tensor(-1.4869, grad_fn=<SqueezeBackward1>), tensor(-1.4010, grad_fn=<SqueezeBackward1>), tensor(-1.2802, grad_fn=<SqueezeBackward1>), tensor(-1.4037, grad_fn=<SqueezeBackward1>), tensor(-1.2778, grad_fn=<SqueezeBackward1>), tensor(-1.2770, grad_fn=<SqueezeBackward1>), tensor(-1.2762, grad_fn=<SqueezeBackward1>), tensor(-1.3775, grad_fn=<SqueezeBackward1>), tensor(-1.2754, grad_fn=<SqueezeBackward1>), tensor(-1.4079, grad_fn=<SqueezeBackward1>), tensor(-1.3697, grad_fn=<SqueezeBackward1>), tensor(-1.3659, grad_fn=<SqueezeBackward1>), tensor(-1.3623, grad_fn=<SqueezeBackward1>), tensor(-1.3588, grad_fn=<SqueezeBackward1>), tensor(-1.5262, grad_fn=<SqueezeBackward1>), tensor(-1.5242, grad_fn=<SqueezeBackward1>), tensor(-1.4064, grad_fn=<SqueezeBackward1>), tensor(-1.3592, grad_fn=<SqueezeBackward1>), tensor(-1.3557, grad_fn=<SqueezeBackward1>), tensor(-1.2720, grad_fn=<SqueezeBackward1>), tensor(-1.5349, grad_fn=<SqueezeBackward1>), tensor(-1.5367, grad_fn=<SqueezeBackward1>), tensor(-1.4071, grad_fn=<SqueezeBackward1>), tensor(-1.2691, grad_fn=<SqueezeBackward1>), tensor(-1.5395, grad_fn=<SqueezeBackward1>), tensor(-1.3485, grad_fn=<SqueezeBackward1>), tensor(-1.5422, grad_fn=<SqueezeBackward1>), tensor(-1.3454, grad_fn=<SqueezeBackward1>), tensor(-1.5471, grad_fn=<SqueezeBackward1>), tensor(-1.4075, grad_fn=<SqueezeBackward1>), tensor(-1.5453, grad_fn=<SqueezeBackward1>), tensor(-1.2682, grad_fn=<SqueezeBackward1>), tensor(-1.2677, grad_fn=<SqueezeBackward1>), tensor(-1.3384, grad_fn=<SqueezeBackward1>), tensor(-1.3344, grad_fn=<SqueezeBackward1>), tensor(-1.5623, grad_fn=<SqueezeBackward1>), tensor(-1.3320, grad_fn=<SqueezeBackward1>), tensor(-1.4055, grad_fn=<SqueezeBackward1>), tensor(-1.2688, grad_fn=<SqueezeBackward1>), tensor(-1.2686, grad_fn=<SqueezeBackward1>), tensor(-1.4077, grad_fn=<SqueezeBackward1>), tensor(-1.3200, grad_fn=<SqueezeBackward1>), tensor(-1.2678, grad_fn=<SqueezeBackward1>), tensor(-1.2676, grad_fn=<SqueezeBackward1>), tensor(-1.2673, grad_fn=<SqueezeBackward1>), tensor(-1.3079, grad_fn=<SqueezeBackward1>), tensor(-1.2678, grad_fn=<SqueezeBackward1>), tensor(-1.4077, grad_fn=<SqueezeBackward1>), tensor(-1.2664, grad_fn=<SqueezeBackward1>), tensor(-1.6066, grad_fn=<SqueezeBackward1>), tensor(-1.4101, grad_fn=<SqueezeBackward1>), tensor(-1.4123, grad_fn=<SqueezeBackward1>), tensor(-1.2939, grad_fn=<SqueezeBackward1>), tensor(-1.2897, grad_fn=<SqueezeBackward1>), tensor(-1.4133, grad_fn=<SqueezeBackward1>), tensor(-1.2628, grad_fn=<SqueezeBackward1>), tensor(-1.4162, grad_fn=<SqueezeBackward1>), tensor(-1.2607, grad_fn=<SqueezeBackward1>), tensor(-1.4198, grad_fn=<SqueezeBackward1>), tensor(-1.6347, grad_fn=<SqueezeBackward1>), tensor(-1.4229, grad_fn=<SqueezeBackward1>), tensor(-1.2562, grad_fn=<SqueezeBackward1>), tensor(-1.2683, grad_fn=<SqueezeBackward1>), tensor(-1.4266, grad_fn=<SqueezeBackward1>), tensor(-1.6507, grad_fn=<SqueezeBackward1>), tensor(-1.2612, grad_fn=<SqueezeBackward1>), tensor(-1.6580, grad_fn=<SqueezeBackward1>), tensor(-1.6556, grad_fn=<SqueezeBackward1>), tensor(-1.6504, grad_fn=<SqueezeBackward1>), tensor(-1.6502, grad_fn=<SqueezeBackward1>), tensor(-1.2585, grad_fn=<SqueezeBackward1>), tensor(-1.6598, grad_fn=<SqueezeBackward1>), tensor(-1.2545, grad_fn=<SqueezeBackward1>), tensor(-1.6648, grad_fn=<SqueezeBackward1>), tensor(-1.2499, grad_fn=<SqueezeBackward1>), tensor(-1.6710, grad_fn=<SqueezeBackward1>), tensor(-1.2573, grad_fn=<SqueezeBackward1>), tensor(-1.2423, grad_fn=<SqueezeBackward1>), tensor(-1.2379, grad_fn=<SqueezeBackward1>), tensor(-1.2580, grad_fn=<SqueezeBackward1>), tensor(-1.2308, grad_fn=<SqueezeBackward1>), tensor(-1.2583, grad_fn=<SqueezeBackward1>), tensor(-1.7025, grad_fn=<SqueezeBackward1>), tensor(-1.4290, grad_fn=<SqueezeBackward1>), tensor(-1.2220, grad_fn=<SqueezeBackward1>), tensor(-1.2580, grad_fn=<SqueezeBackward1>), tensor(-1.7140, grad_fn=<SqueezeBackward1>), tensor(-1.4308, grad_fn=<SqueezeBackward1>), tensor(-1.2150, grad_fn=<SqueezeBackward1>), tensor(-1.2104, grad_fn=<SqueezeBackward1>), tensor(-1.2061, grad_fn=<SqueezeBackward1>), tensor(-1.2020, grad_fn=<SqueezeBackward1>), tensor(-1.4293, grad_fn=<SqueezeBackward1>), tensor(-1.2614, grad_fn=<SqueezeBackward1>), tensor(-1.2614, grad_fn=<SqueezeBackward1>), tensor(-1.1902, grad_fn=<SqueezeBackward1>), tensor(-1.4324, grad_fn=<SqueezeBackward1>), tensor(-1.2614, grad_fn=<SqueezeBackward1>), tensor(-1.2613, grad_fn=<SqueezeBackward1>), tensor(-1.2613, grad_fn=<SqueezeBackward1>), tensor(-1.1606, grad_fn=<SqueezeBackward1>), tensor(-1.7960, grad_fn=<SqueezeBackward1>), tensor(-1.5285, grad_fn=<SqueezeBackward1>), tensor(-1.5256, grad_fn=<SqueezeBackward1>), tensor(-1.3425, grad_fn=<SqueezeBackward1>), tensor(-1.5302, grad_fn=<SqueezeBackward1>), tensor(-1.3426, grad_fn=<SqueezeBackward1>), tensor(-1.3386, grad_fn=<SqueezeBackward1>), tensor(-1.5351, grad_fn=<SqueezeBackward1>), tensor(-1.5343, grad_fn=<SqueezeBackward1>), tensor(-1.3030, grad_fn=<SqueezeBackward1>), tensor(-1.3356, grad_fn=<SqueezeBackward1>), tensor(-1.3319, grad_fn=<SqueezeBackward1>), tensor(-1.3046, grad_fn=<SqueezeBackward1>), tensor(-1.3258, grad_fn=<SqueezeBackward1>), tensor(-1.3058, grad_fn=<SqueezeBackward1>), tensor(-1.3195, grad_fn=<SqueezeBackward1>), tensor(-1.5650, grad_fn=<SqueezeBackward1>), tensor(-1.3087, grad_fn=<SqueezeBackward1>), tensor(-1.3136, grad_fn=<SqueezeBackward1>), tensor(-1.3101, grad_fn=<SqueezeBackward1>), tensor(-1.3745, grad_fn=<SqueezeBackward1>), tensor(-1.3099, grad_fn=<SqueezeBackward1>), tensor(-1.5799, grad_fn=<SqueezeBackward1>), tensor(-1.3118, grad_fn=<SqueezeBackward1>), tensor(-1.3120, grad_fn=<SqueezeBackward1>), tensor(-1.3122, grad_fn=<SqueezeBackward1>), tensor(-1.3124, grad_fn=<SqueezeBackward1>), tensor(-1.2942, grad_fn=<SqueezeBackward1>), tensor(-1.5983, grad_fn=<SqueezeBackward1>), tensor(-1.3165, grad_fn=<SqueezeBackward1>), tensor(-1.3691, grad_fn=<SqueezeBackward1>), tensor(-1.3165, grad_fn=<SqueezeBackward1>), tensor(-1.2860, grad_fn=<SqueezeBackward1>), tensor(-1.2820, grad_fn=<SqueezeBackward1>), tensor(-1.3668, grad_fn=<SqueezeBackward1>), tensor(-1.2771, grad_fn=<SqueezeBackward1>), tensor(-1.3672, grad_fn=<SqueezeBackward1>), tensor(-1.6200, grad_fn=<SqueezeBackward1>), tensor(-1.6123, grad_fn=<SqueezeBackward1>), tensor(-1.3262, grad_fn=<SqueezeBackward1>), tensor(-1.3656, grad_fn=<SqueezeBackward1>), tensor(-1.6121, grad_fn=<SqueezeBackward1>), tensor(-1.3669, grad_fn=<SqueezeBackward1>), tensor(-1.6118, grad_fn=<SqueezeBackward1>), tensor(-1.2721, grad_fn=<SqueezeBackward1>), tensor(-1.3659, grad_fn=<SqueezeBackward1>), tensor(-1.6153, grad_fn=<SqueezeBackward1>), tensor(-1.2682, grad_fn=<SqueezeBackward1>), tensor(-1.2640, grad_fn=<SqueezeBackward1>), tensor(-1.3637, grad_fn=<SqueezeBackward1>), tensor(-1.3338, grad_fn=<SqueezeBackward1>), tensor(-1.2542, grad_fn=<SqueezeBackward1>), tensor(-1.6368, grad_fn=<SqueezeBackward1>), tensor(-1.6319, grad_fn=<SqueezeBackward1>), tensor(-1.2505, grad_fn=<SqueezeBackward1>), tensor(-1.2460, grad_fn=<SqueezeBackward1>), tensor(-1.2417, grad_fn=<SqueezeBackward1>), tensor(-1.2373, grad_fn=<SqueezeBackward1>), tensor(-1.3560, grad_fn=<SqueezeBackward1>), tensor(-1.3427, grad_fn=<SqueezeBackward1>), tensor(-1.3430, grad_fn=<SqueezeBackward1>), tensor(-1.6676, grad_fn=<SqueezeBackward1>), tensor(-1.2265, grad_fn=<SqueezeBackward1>), tensor(-1.3567, grad_fn=<SqueezeBackward1>), tensor(-1.3468, grad_fn=<SqueezeBackward1>), tensor(-1.3590, grad_fn=<SqueezeBackward1>), tensor(-1.3609, grad_fn=<SqueezeBackward1>), tensor(-1.3464, grad_fn=<SqueezeBackward1>), tensor(-1.2115, grad_fn=<SqueezeBackward1>), tensor(-1.2073, grad_fn=<SqueezeBackward1>), tensor(-1.3470, grad_fn=<SqueezeBackward1>), tensor(-1.3541, grad_fn=<SqueezeBackward1>), tensor(-1.2531, grad_fn=<SqueezeBackward1>), tensor(-1.2497, grad_fn=<SqueezeBackward1>), tensor(-1.8163, grad_fn=<SqueezeBackward1>), tensor(-1.3753, grad_fn=<SqueezeBackward1>), tensor(-1.4587, grad_fn=<SqueezeBackward1>), tensor(-1.3760, grad_fn=<SqueezeBackward1>), tensor(-1.3901, grad_fn=<SqueezeBackward1>), tensor(-1.3239, grad_fn=<SqueezeBackward1>), tensor(-1.4661, grad_fn=<SqueezeBackward1>), tensor(-1.3242, grad_fn=<SqueezeBackward1>), tensor(-1.3840, grad_fn=<SqueezeBackward1>), tensor(-1.4728, grad_fn=<SqueezeBackward1>), tensor(-1.4712, grad_fn=<SqueezeBackward1>), tensor(-1.3871, grad_fn=<SqueezeBackward1>), tensor(-1.3285, grad_fn=<SqueezeBackward1>), tensor(-1.4727, grad_fn=<SqueezeBackward1>), tensor(-1.3663, grad_fn=<SqueezeBackward1>), tensor(-1.3299, grad_fn=<SqueezeBackward1>), tensor(-1.3672, grad_fn=<SqueezeBackward1>), tensor(-1.3812, grad_fn=<SqueezeBackward1>), tensor(-1.3777, grad_fn=<SqueezeBackward1>), tensor(-1.3746, grad_fn=<SqueezeBackward1>), tensor(-1.3631, grad_fn=<SqueezeBackward1>), tensor(-1.3647, grad_fn=<SqueezeBackward1>), tensor(-1.3660, grad_fn=<SqueezeBackward1>), tensor(-1.3293, grad_fn=<SqueezeBackward1>), tensor(-1.4899, grad_fn=<SqueezeBackward1>), tensor(-1.3668, grad_fn=<SqueezeBackward1>), tensor(-1.3692, grad_fn=<SqueezeBackward1>), tensor(-1.3710, grad_fn=<SqueezeBackward1>), tensor(-1.3731, grad_fn=<SqueezeBackward1>), tensor(-1.3755, grad_fn=<SqueezeBackward1>), tensor(-1.4909, grad_fn=<SqueezeBackward1>), tensor(-1.3634, grad_fn=<SqueezeBackward1>), tensor(-1.3255, grad_fn=<SqueezeBackward1>), tensor(-1.3777, grad_fn=<SqueezeBackward1>), tensor(-1.3549, grad_fn=<SqueezeBackward1>), tensor(-1.3236, grad_fn=<SqueezeBackward1>), tensor(-1.3229, grad_fn=<SqueezeBackward1>), tensor(-1.5085, grad_fn=<SqueezeBackward1>), tensor(-1.5017, grad_fn=<SqueezeBackward1>), tensor(-1.3256, grad_fn=<SqueezeBackward1>), tensor(-1.5002, grad_fn=<SqueezeBackward1>), tensor(-1.3258, grad_fn=<SqueezeBackward1>), tensor(-1.3480, grad_fn=<SqueezeBackward1>), tensor(-1.3802, grad_fn=<SqueezeBackward1>), tensor(-1.3423, grad_fn=<SqueezeBackward1>), tensor(-1.3820, grad_fn=<SqueezeBackward1>), tensor(-1.3360, grad_fn=<SqueezeBackward1>), tensor(-1.5196, grad_fn=<SqueezeBackward1>), tensor(-1.3339, grad_fn=<SqueezeBackward1>), tensor(-1.3294, grad_fn=<SqueezeBackward1>), tensor(-1.3252, grad_fn=<SqueezeBackward1>), tensor(-1.3792, grad_fn=<SqueezeBackward1>), tensor(-1.3816, grad_fn=<SqueezeBackward1>), tensor(-1.5372, grad_fn=<SqueezeBackward1>), tensor(-1.3171, grad_fn=<SqueezeBackward1>), tensor(-1.3831, grad_fn=<SqueezeBackward1>), tensor(-1.3205, grad_fn=<SqueezeBackward1>), tensor(-1.5492, grad_fn=<SqueezeBackward1>), tensor(-1.3067, grad_fn=<SqueezeBackward1>), tensor(-1.3198, grad_fn=<SqueezeBackward1>), tensor(-1.3192, grad_fn=<SqueezeBackward1>), tensor(-1.3874, grad_fn=<SqueezeBackward1>), tensor(-1.3898, grad_fn=<SqueezeBackward1>), tensor(-1.3154, grad_fn=<SqueezeBackward1>), tensor(-1.3144, grad_fn=<SqueezeBackward1>), tensor(-1.2848, grad_fn=<SqueezeBackward1>), tensor(-1.3948, grad_fn=<SqueezeBackward1>), tensor(-1.3112, grad_fn=<SqueezeBackward1>), tensor(-1.3101, grad_fn=<SqueezeBackward1>), tensor(-1.5948, grad_fn=<SqueezeBackward1>), tensor(-1.2697, grad_fn=<SqueezeBackward1>), tensor(-1.4008, grad_fn=<SqueezeBackward1>), tensor(-1.3069, grad_fn=<SqueezeBackward1>), tensor(-1.6116, grad_fn=<SqueezeBackward1>), tensor(-1.3065, grad_fn=<SqueezeBackward1>), tensor(-1.6136, grad_fn=<SqueezeBackward1>), tensor(-1.2549, grad_fn=<SqueezeBackward1>), tensor(-1.3049, grad_fn=<SqueezeBackward1>), tensor(-1.4077, grad_fn=<SqueezeBackward1>), tensor(-1.6295, grad_fn=<SqueezeBackward1>), tensor(-1.3009, grad_fn=<SqueezeBackward1>), tensor(-1.4133, grad_fn=<SqueezeBackward1>), tensor(-1.4164, grad_fn=<SqueezeBackward1>), tensor(-1.4197, grad_fn=<SqueezeBackward1>), tensor(-1.2935, grad_fn=<SqueezeBackward1>), tensor(-1.6529, grad_fn=<SqueezeBackward1>), tensor(-1.2919, grad_fn=<SqueezeBackward1>), tensor(-1.4283, grad_fn=<SqueezeBackward1>), tensor(-1.2875, grad_fn=<SqueezeBackward1>), tensor(-1.2857, grad_fn=<SqueezeBackward1>), tensor(-1.2120, grad_fn=<SqueezeBackward1>), tensor(-1.4377, grad_fn=<SqueezeBackward1>), tensor(-1.2803, grad_fn=<SqueezeBackward1>), tensor(-1.2008, grad_fn=<SqueezeBackward1>), tensor(-1.1961, grad_fn=<SqueezeBackward1>), tensor(-1.1913, grad_fn=<SqueezeBackward1>), tensor(-1.4458, grad_fn=<SqueezeBackward1>), tensor(-1.2736, grad_fn=<SqueezeBackward1>), tensor(-1.1809, grad_fn=<SqueezeBackward1>), tensor(-1.2713, grad_fn=<SqueezeBackward1>), tensor(-1.2699, grad_fn=<SqueezeBackward1>), tensor(-1.1695, grad_fn=<SqueezeBackward1>), tensor(-1.1653, grad_fn=<SqueezeBackward1>), tensor(-1.2647, grad_fn=<SqueezeBackward1>), tensor(-1.7538, grad_fn=<SqueezeBackward1>), tensor(-1.3570, grad_fn=<SqueezeBackward1>), tensor(-1.3910, grad_fn=<SqueezeBackward1>), tensor(-1.2980, grad_fn=<SqueezeBackward1>), tensor(-1.3491, grad_fn=<SqueezeBackward1>), tensor(-1.5246, grad_fn=<SqueezeBackward1>), tensor(-1.3910, grad_fn=<SqueezeBackward1>), tensor(-1.2975, grad_fn=<SqueezeBackward1>), tensor(-1.2971, grad_fn=<SqueezeBackward1>), tensor(-1.5316, grad_fn=<SqueezeBackward1>), tensor(-1.3406, grad_fn=<SqueezeBackward1>), tensor(-1.3368, grad_fn=<SqueezeBackward1>), tensor(-1.2984, grad_fn=<SqueezeBackward1>), tensor(-1.2982, grad_fn=<SqueezeBackward1>), tensor(-1.3909, grad_fn=<SqueezeBackward1>), tensor(-1.2969, grad_fn=<SqueezeBackward1>), tensor(-1.3929, grad_fn=<SqueezeBackward1>), tensor(-1.5531, grad_fn=<SqueezeBackward1>), tensor(-1.5493, grad_fn=<SqueezeBackward1>), tensor(-1.3256, grad_fn=<SqueezeBackward1>), tensor(-1.2981, grad_fn=<SqueezeBackward1>), tensor(-1.3938, grad_fn=<SqueezeBackward1>), tensor(-1.3961, grad_fn=<SqueezeBackward1>), tensor(-1.3149, grad_fn=<SqueezeBackward1>), tensor(-1.2951, grad_fn=<SqueezeBackward1>), tensor(-1.3979, grad_fn=<SqueezeBackward1>), tensor(-1.3051, grad_fn=<SqueezeBackward1>), tensor(-1.2936, grad_fn=<SqueezeBackward1>), tensor(-1.5822, grad_fn=<SqueezeBackward1>), tensor(-1.2939, grad_fn=<SqueezeBackward1>), tensor(-1.3995, grad_fn=<SqueezeBackward1>), tensor(-1.2944, grad_fn=<SqueezeBackward1>), tensor(-1.4006, grad_fn=<SqueezeBackward1>), tensor(-1.5933, grad_fn=<SqueezeBackward1>), tensor(-1.2917, grad_fn=<SqueezeBackward1>), tensor(-1.4041, grad_fn=<SqueezeBackward1>), tensor(-1.4069, grad_fn=<SqueezeBackward1>), tensor(-1.4101, grad_fn=<SqueezeBackward1>), tensor(-1.2852, grad_fn=<SqueezeBackward1>), tensor(-1.4146, grad_fn=<SqueezeBackward1>), tensor(-1.2820, grad_fn=<SqueezeBackward1>), tensor(-1.4192, grad_fn=<SqueezeBackward1>), tensor(-1.2781, grad_fn=<SqueezeBackward1>), tensor(-1.4248, grad_fn=<SqueezeBackward1>), tensor(-1.2740, grad_fn=<SqueezeBackward1>), tensor(-1.2579, grad_fn=<SqueezeBackward1>), tensor(-1.6356, grad_fn=<SqueezeBackward1>), tensor(-1.6356, grad_fn=<SqueezeBackward1>), tensor(-1.6296, grad_fn=<SqueezeBackward1>), tensor(-1.2705, grad_fn=<SqueezeBackward1>), tensor(-1.4369, grad_fn=<SqueezeBackward1>), tensor(-1.2659, grad_fn=<SqueezeBackward1>), tensor(-1.2641, grad_fn=<SqueezeBackward1>), tensor(-1.2408, grad_fn=<SqueezeBackward1>), tensor(-1.2612, grad_fn=<SqueezeBackward1>), tensor(-1.2322, grad_fn=<SqueezeBackward1>), tensor(-1.2588, grad_fn=<SqueezeBackward1>), tensor(-1.6777, grad_fn=<SqueezeBackward1>), tensor(-1.2213, grad_fn=<SqueezeBackward1>), tensor(-1.6907, grad_fn=<SqueezeBackward1>), tensor(-1.2153, grad_fn=<SqueezeBackward1>), tensor(-1.2542, grad_fn=<SqueezeBackward1>), tensor(-1.7050, grad_fn=<SqueezeBackward1>), tensor(-1.2082, grad_fn=<SqueezeBackward1>), tensor(-1.7099, grad_fn=<SqueezeBackward1>), tensor(-1.2018, grad_fn=<SqueezeBackward1>), tensor(-1.7199, grad_fn=<SqueezeBackward1>), tensor(-1.1965, grad_fn=<SqueezeBackward1>), tensor(-1.1923, grad_fn=<SqueezeBackward1>), tensor(-1.2514, grad_fn=<SqueezeBackward1>), tensor(-1.4599, grad_fn=<SqueezeBackward1>), tensor(-1.4634, grad_fn=<SqueezeBackward1>), tensor(-1.4666, grad_fn=<SqueezeBackward1>), tensor(-1.4697, grad_fn=<SqueezeBackward1>), tensor(-1.2413, grad_fn=<SqueezeBackward1>), tensor(-1.2399, grad_fn=<SqueezeBackward1>), tensor(-1.7399, grad_fn=<SqueezeBackward1>)]\n",
            "logs prob looks like  torch.Size([425])\n",
            "torch.from_numpy(rewards) looks like  torch.Size([425])\n"
          ]
        }
      ]
    },
    {
      "cell_type": "markdown",
      "metadata": {
        "id": "vNb_tuFYhKVK"
      },
      "source": [
        "### Training Result\n",
        "During the training process, we recorded `avg_total_reward`, which represents the average total reward of episodes before updating the policy network.\n",
        "\n",
        "Theoretically, if the agent becomes better, the `avg_total_reward` will increase.\n",
        "The visualization of the training process is shown below:  \n",
        "  \n",
        "\n",
        "###训练结果  \n",
        "通过训练过程，我们记录了“avg_total_reward”,它表示在更新policy network之前的平均的total reward  \n",
        "理论上，如果agent变好了，那么avg_total_reward也会增加。  \n",
        "训练过程的可视化见下"
      ]
    },
    {
      "cell_type": "code",
      "metadata": {
        "id": "wZYOI8H10SHN",
        "colab": {
          "base_uri": "https://localhost:8080/",
          "height": 452
        },
        "outputId": "4f31b6a0-dded-42d3-a5d0-18546268835e"
      },
      "source": [
        "plt.plot(avg_total_rewards)\n",
        "plt.title(\"Total Rewards\")\n",
        "plt.show()"
      ],
      "execution_count": 49,
      "outputs": [
        {
          "output_type": "display_data",
          "data": {
            "text/plain": [
              "<Figure size 640x480 with 1 Axes>"
            ],
            "image/png": "[encoded data removed]"
          },
          "metadata": {}
        }
      ]
    },
    {
      "cell_type": "markdown",
      "metadata": {
        "id": "mV5jj4dThz0Y"
      },
      "source": [
        "In addition, `avg_final_reward` represents average final rewards of episodes. To be specific, final rewards is the last reward received in one episode, indicating whether the craft lands successfully or not.  \n",
        "  \n",
        "另外，avg_final_reward代表了每个episode的平均final reward  \n",
        "特别的，final reward是一个episode中最后一次获得的reward，表明飞行器是否成功着陆\n"
      ]
    },
    {
      "cell_type": "code",
      "metadata": {
        "id": "txDZ5vlGWz5w",
        "colab": {
          "base_uri": "https://localhost:8080/",
          "height": 452
        },
        "outputId": "46974654-83f4-4330-e7b7-42306b5e02bc"
      },
      "source": [
        "plt.plot(avg_final_rewards)\n",
        "plt.title(\"Final Rewards\")\n",
        "plt.show()"
      ],
      "execution_count": 50,
      "outputs": [
        {
          "output_type": "display_data",
          "data": {
            "text/plain": [
              "<Figure size 640x480 with 1 Axes>"
            ],
            "image/png": "[encoded data removed]"
          },
          "metadata": {}
        }
      ]
    },
    {
      "cell_type": "markdown",
      "metadata": {
        "id": "u2HaGRVEYGQS"
      },
      "source": [
        "## Testing\n",
        "The testing result will be the average reward of 5 testing  \n",
        "测试结果是五次测试的reward的平均值"
      ]
    },
    {
      "cell_type": "code",
      "metadata": {
        "id": "5yFuUKKRYH73",
        "colab": {
          "base_uri": "https://localhost:8080/",
          "height": 413
        },
        "outputId": "7616eb37-0f27-48fb-bc6c-8f334954cd24"
      },
      "source": [
        "fix(env, seed)\n",
        "agent.network.eval()  # set the network into evaluation mode\n",
        "NUM_OF_TEST = 5 # Do not revise this !!!\n",
        "test_total_reward = []\n",
        "action_list = []\n",
        "for i in range(NUM_OF_TEST):\n",
        "  actions = []\n",
        "  state = env.reset()\n",
        "\n",
        "  img = plt.imshow(env.render(mode='rgb_array'))\n",
        "\n",
        "  total_reward = 0\n",
        "\n",
        "  done = False\n",
        "  while not done:\n",
        "      action, _ = agent.sample(state)\n",
        "      actions.append(action)\n",
        "      state, reward, done, _ = env.step(action)\n",
        "\n",
        "      total_reward += reward\n",
        "\n",
        "      img.set_data(env.render(mode='rgb_array'))\n",
        "      display.display(plt.gcf())\n",
        "      display.clear_output(wait=True)\n",
        "      \n",
        "  print(total_reward)\n",
        "  test_total_reward.append(total_reward)\n",
        "\n",
        "  action_list.append(actions) # save the result of testing \n"
      ],
      "execution_count": 51,
      "outputs": [
        {
          "output_type": "stream",
          "name": "stdout",
          "text": [
            "-161.36059018372526\n"
          ]
        },
        {
          "output_type": "display_data",
          "data": {
            "text/plain": [
              "<Figure size 640x480 with 1 Axes>"
            ],
            "image/png": "[encoded data removed]"
          },
          "metadata": {}
        }
      ]
    },
    {
      "cell_type": "code",
      "metadata": {
        "id": "Aex7mcKr0J01",
        "colab": {
          "base_uri": "https://localhost:8080/"
        },
        "outputId": "5396d99f-2264-4765-e82d-6e9e122abbca"
      },
      "source": [
        "print(np.mean(test_total_reward))"
      ],
      "execution_count": 52,
      "outputs": [
        {
          "output_type": "stream",
          "name": "stdout",
          "text": [
            "-99.41970199600892\n"
          ]
        }
      ]
    },
    {
      "cell_type": "markdown",
      "metadata": {
        "id": "leyebGYRpqsF"
      },
      "source": [
        "Action list  \n",
        "动作列表"
      ]
    },
    {
      "cell_type": "code",
      "metadata": {
        "id": "hGAH4YWDpp4u",
        "colab": {
          "base_uri": "https://localhost:8080/"
        },
        "outputId": "6798956f-2346-44d6-a0b6-dd9420b51109"
      },
      "source": [
        "print(\"Action list looks like \", action_list)\n",
        "print(\"Action list's shape looks like \", np.shape(action_list))"
      ],
      "execution_count": 53,
      "outputs": [
        {
          "output_type": "stream",
          "name": "stdout",
          "text": [
            "Action list looks like  [[2, 2, 2, 2, 2, 2, 2, 2, 2, 2, 2, 2, 2, 2, 2, 2, 2, 2, 2, 2, 2, 2, 2, 2, 2, 2, 2, 2, 3, 2, 3, 2, 3, 2, 3, 2, 3, 3, 2, 2, 3, 2, 3, 2, 3, 2, 2, 2, 0, 2, 0, 2, 2, 0, 2, 2, 1, 1, 2, 2, 1, 1, 2, 2, 2, 1, 1, 1, 2, 1, 1, 2, 1, 1, 2, 2, 1, 1, 2, 2, 2, 2, 2, 1, 2, 2, 1, 1, 2, 1, 2, 2, 2, 1, 1, 2, 2, 1, 2, 2, 1, 2, 2, 1, 2, 2, 2, 2, 2, 2, 2, 2, 3, 2, 0, 2, 2, 3, 3, 2, 3, 2, 3, 2, 3, 3, 3, 3, 3, 3, 3, 2, 3, 3, 3, 3, 3, 3, 3, 3, 2, 3, 3, 3, 2, 3, 3, 3, 2, 3, 3, 2, 3, 2, 3, 3, 2, 2, 2, 2, 2, 2, 2, 2, 2, 2, 2, 2, 2, 2, 2, 2, 2, 2, 2, 2, 2, 2, 2, 2, 2, 2, 2, 2, 2, 2, 2, 2, 1, 2, 1, 2, 1, 1, 1, 1, 1, 1, 1, 2, 1, 1, 1, 1, 1, 1, 1, 1, 2, 1, 1, 1, 1, 1, 1, 2, 1, 2, 2, 1, 2, 1, 1, 1, 2, 2, 2, 2, 1, 2, 2, 2, 2, 2, 1, 2, 2, 2, 2, 1, 2, 2, 2, 2, 2, 2, 2, 2, 2, 2, 2, 2, 2, 2, 2, 2, 2, 2, 2, 2, 2, 1, 1, 2, 2, 0, 2, 2, 2, 2, 2, 0, 1, 2, 2, 1, 1, 2, 1, 1, 1, 2, 1, 1, 2, 1, 1, 1, 2, 1, 1, 1, 1, 1, 2, 2, 1, 1, 1, 1, 1], [2, 2, 2, 2, 2, 2, 2, 2, 2, 2, 2, 2, 2, 2, 2, 2, 2, 2, 0, 2, 1, 2, 1, 2, 0, 2, 0, 2, 0, 2, 2, 0, 2, 0, 2, 2, 0, 0, 2, 2, 0, 2, 0, 3, 2, 0, 2, 2, 0, 2, 2, 0, 2, 0, 2, 0, 2, 3, 2, 2, 2, 0, 2, 2, 0, 2, 2, 0, 3, 2, 0, 2, 2, 2, 0, 2, 0, 2, 0, 2, 2, 0, 2, 0, 2, 0, 2, 2, 2, 0, 1, 2, 2, 1, 2, 2, 1, 2, 0, 2, 1, 1, 2, 1, 2, 1, 0, 2, 2, 2, 2, 0, 0, 2, 2, 0, 2, 2, 0, 1, 2, 1, 2, 2, 2, 0, 0, 2, 3, 2, 2, 3, 0, 2, 3, 2, 2, 3, 3, 2, 2, 3, 3, 3, 2, 3, 2, 3, 2, 3, 3, 2, 2, 3, 2, 2, 3, 2, 3, 2, 2, 2, 3, 2, 3, 2, 2, 0, 3, 2, 2, 2, 2, 2, 0, 0, 2, 2, 1, 2, 1, 1, 2, 1, 1, 2, 1, 1, 2, 1, 2, 1, 1, 2, 1, 2, 1, 1, 2, 1, 1, 2, 1, 2, 1, 2, 1, 2, 2, 1, 1, 1, 2, 2, 2, 2, 2, 2, 2, 1, 2, 1, 2, 2, 2, 1, 2, 2, 2, 2, 2, 2, 0, 2, 2, 2, 2, 3, 3, 2, 3, 3, 3, 2, 2, 3, 3, 3, 3, 3, 3, 2, 2, 3, 2, 3, 3, 3, 2, 3, 3, 2, 3, 3, 2, 2, 3, 3, 2, 3, 2, 2, 3, 3, 2, 2, 2, 3, 2, 3, 3, 2, 2, 2, 2, 2, 2, 2, 2, 2, 2, 3, 2, 2, 2, 3, 2, 2, 2, 2, 2, 2, 2, 2, 1, 2, 1, 1, 1, 1, 1, 2, 1, 1, 2, 1, 1, 1, 2, 1, 1, 1, 1, 1, 1, 1, 2, 1, 1, 1, 2, 1, 1, 1, 2, 2, 2, 1, 2, 2, 1, 1, 2, 2, 2, 1, 1, 1, 2, 2, 1, 1, 2, 2, 2, 2, 2, 2, 2, 2, 2, 2, 2, 2, 2, 2, 2, 2, 2, 2, 2, 2, 2, 2, 2, 2, 2, 2, 2, 2, 3, 2, 2, 3, 3, 3, 3, 3, 3, 3, 3, 3, 3, 3, 2, 3, 2, 3, 3, 3, 3, 3, 3, 3, 2, 3, 3, 3, 3, 3, 3, 2, 3, 2, 3, 3, 2, 2, 2, 2, 2, 2, 2, 2, 2, 2, 2, 2, 2, 3, 3, 3, 2, 2, 2, 2], [2, 2, 2, 2, 2, 2, 2, 2, 2, 2, 2, 2, 2, 2, 2, 2, 2, 2, 2, 2, 2, 2, 1, 1, 2, 1, 2, 1, 2, 1, 1, 2, 2, 2, 1, 2, 2, 2, 1, 2, 0, 2, 0, 2, 0, 2, 0, 2, 2, 0, 2, 3, 2, 0, 2, 2, 3, 2, 2, 2, 3, 3, 2, 3, 3, 2, 3, 2, 3, 3, 3, 2, 3, 3, 2, 3, 2, 2, 3, 2, 3, 3, 2, 2, 2, 3, 3, 2, 2, 3, 2, 2, 3, 2, 2, 3, 2, 2, 3, 2, 2, 2, 0, 0, 1, 2, 2, 2, 1, 1, 2, 1, 2, 1, 1, 1, 1, 1, 2, 1, 2, 1, 1, 1, 1, 1, 2, 1, 1, 2, 1, 1, 1, 1, 2, 2, 2, 1, 2, 2, 2, 2, 1, 1, 2, 1, 2, 2, 1, 2, 1, 2, 1, 2, 2, 2, 2, 1, 2, 1, 2, 2, 2, 2, 2, 2, 2, 2, 2, 2, 2, 1, 2, 1, 2, 2, 2, 2, 2, 1, 2, 2, 2, 2, 2, 2, 2, 3, 3, 2, 3, 3, 3, 2, 3, 3, 3, 3, 3, 2, 3, 3, 3, 3, 3, 3, 3, 3, 3, 3, 2, 3, 3, 3, 3, 3, 2, 2, 2, 3, 2, 3, 3, 2, 2, 3, 3, 3, 2, 2, 2, 2, 2, 2, 3, 2, 2, 2, 2, 2, 2, 2, 2, 2, 2, 2, 2, 2, 2, 2, 2, 2, 2, 2, 2, 2, 2, 2, 2, 2, 1, 1, 1, 1, 2, 1, 1, 1, 1, 2, 2, 1, 1, 1, 1, 1, 1, 1, 1, 1, 1, 1, 1, 1, 2, 1, 1, 1, 2, 1, 1, 2, 1, 1, 2, 1, 2, 2, 1, 1, 2, 2, 1, 1, 1, 2, 1, 1, 2, 2, 2], [1, 1, 1, 0, 1, 1, 1, 1, 1, 1, 1, 1, 1, 1, 1, 1, 1, 2, 1, 2, 2, 2, 2, 2, 1, 2, 2, 2, 2, 2, 2, 2, 2, 2, 2, 2, 3, 3, 2, 3, 3, 3, 3, 3, 2, 2, 3, 3, 3, 3, 2, 3, 3, 3, 2, 3, 3, 3, 3, 2, 3, 3, 3, 2, 2, 3, 2, 3, 2, 3, 2, 3, 3, 2, 2, 2, 2, 2, 2, 2, 3, 2, 2, 2, 2, 2, 2, 2, 2, 2, 2, 2, 2, 2, 2, 2, 2, 2, 2, 2, 1, 1, 2, 1, 1, 2, 1, 1, 1, 1, 1, 2, 1, 1, 2, 1, 1, 1, 1, 1, 1, 1, 1, 1, 2, 1, 1, 2, 1, 1, 1, 2, 1, 1, 1, 2, 1, 1, 2, 2, 2, 2, 1, 2, 2, 1, 1, 2, 2, 2, 2, 1, 2, 2, 2, 1, 2, 1, 2, 2, 2, 2, 2, 2, 2, 2, 2, 2, 2, 2, 2, 2, 2, 2, 2, 2, 2, 2, 2, 2, 2, 2, 2, 2, 2, 2, 2, 2, 3, 3, 3, 3, 3, 3, 3, 3, 3, 3, 3, 3, 3, 3, 3, 3, 3, 3, 3, 3, 3, 3, 3, 3, 3, 3, 3, 3, 3, 3, 3, 3, 3, 3, 3, 3, 3, 3, 3], [3, 3, 3, 3, 3, 3, 3, 3, 3, 3, 3, 3, 3, 3, 3, 3, 3, 2, 2, 2, 3, 3, 2, 2, 2, 2, 2, 2, 2, 2, 2, 2, 2, 1, 2, 1, 1, 1, 1, 2, 2, 1, 1, 1, 1, 1, 1, 1, 2, 1, 1, 1, 1, 1, 1, 1, 2, 1, 1, 2, 1, 2, 1, 1, 1, 2, 2, 2, 1, 1, 2, 2, 2, 1, 2, 2, 1, 2, 1, 2, 1, 2, 2, 1, 2, 2, 2, 2, 2, 2, 2, 2, 2, 2, 2, 2, 2, 2, 2, 2, 2, 2, 2, 2, 2, 2, 2, 2, 2, 2, 2, 2, 2, 2, 2, 2, 2, 3, 3, 2, 2, 3, 3, 3, 3, 3, 3, 3, 3, 3, 3, 3, 3, 3, 3, 3, 3, 3, 3, 3, 2, 3, 3, 3, 3, 2, 3, 2, 3, 2, 3, 2, 2, 2, 2, 2, 3, 2, 2, 3, 2, 2, 2, 2, 3, 2, 2, 2, 2, 2, 2, 2, 2, 2, 2, 2, 2, 2, 2, 2, 2, 2, 2, 2, 2, 2, 2, 2, 1, 1, 1, 1, 1, 1, 1, 1, 1, 1, 1, 1, 1, 1, 2, 1, 1, 1, 1, 1, 1, 1, 1, 1, 1, 1, 1, 1, 1, 1, 1, 1]]\n",
            "Action list's shape looks like  (5,)\n"
          ]
        },
        {
          "output_type": "stream",
          "name": "stderr",
          "text": [
            "/usr/local/lib/python3.10/dist-packages/numpy/core/fromnumeric.py:2007: VisibleDeprecationWarning: Creating an ndarray from ragged nested sequences (which is a list-or-tuple of lists-or-tuples-or ndarrays with different lengths or shapes) is deprecated. If you meant to do this, you must specify 'dtype=object' when creating the ndarray.\n",
            "  result = asarray(a).shape\n"
          ]
        }
      ]
    },
    {
      "cell_type": "markdown",
      "metadata": {
        "id": "fNkmwucrHMen"
      },
      "source": [
        "Analysis of actions taken by agent  \n",
        "agent的动作分析"
      ]
    },
    {
      "cell_type": "code",
      "metadata": {
        "id": "WHdAItjj1nxw",
        "colab": {
          "base_uri": "https://localhost:8080/"
        },
        "outputId": "1af393b9-dcf5-4514-fa83-4580c3f7cb48"
      },
      "source": [
        "distribution = {}\n",
        "for actions in action_list:\n",
        "  for action in actions:\n",
        "    if action not in distribution.keys():\n",
        "      distribution[action] = 1\n",
        "    else:\n",
        "      distribution[action] += 1\n",
        "print(distribution)"
      ],
      "execution_count": 54,
      "outputs": [
        {
          "output_type": "stream",
          "name": "stdout",
          "text": [
            "{2: 812, 3: 292, 0: 54, 1: 337}\n"
          ]
        }
      ]
    },
    {
      "cell_type": "markdown",
      "metadata": {
        "id": "ricE0schY75M"
      },
      "source": [
        "Saving the result of Model Testing  \n",
        "保存测试的结果\n"
      ]
    },
    {
      "cell_type": "code",
      "metadata": {
        "id": "GZsMkGmIY42b",
        "colab": {
          "base_uri": "https://localhost:8080/"
        },
        "outputId": "a2261f01-deef-43c5-e8e8-6c2e6be93417"
      },
      "source": [
        "PATH = \"Action_List.npy\" # Can be modified into the name or path you want\n",
        "np.save(PATH ,np.array(action_list)) "
      ],
      "execution_count": 55,
      "outputs": [
        {
          "output_type": "stream",
          "name": "stderr",
          "text": [
            "<ipython-input-55-fd322f3df017>:2: VisibleDeprecationWarning: Creating an ndarray from ragged nested sequences (which is a list-or-tuple of lists-or-tuples-or ndarrays with different lengths or shapes) is deprecated. If you meant to do this, you must specify 'dtype=object' when creating the ndarray.\n",
            "  np.save(PATH ,np.array(action_list))\n"
          ]
        }
      ]
    },
    {
      "cell_type": "markdown",
      "metadata": {
        "id": "asK7WfbkaLjt"
      },
      "source": [
        "### This is the file you need to submit !!!\n",
        "Download the testing result to your device  \n",
        "需要提交的文件\n",
        "\n"
      ]
    },
    {
      "cell_type": "code",
      "metadata": {
        "id": "c-CqyhHzaWAL",
        "colab": {
          "base_uri": "https://localhost:8080/",
          "height": 17
        },
        "outputId": "3dfc0cac-d683-46dc-a313-6a5af6ed4b8c"
      },
      "source": [
        "from google.colab import files\n",
        "files.download(PATH)"
      ],
      "execution_count": 56,
      "outputs": [
        {
          "output_type": "display_data",
          "data": {
            "text/plain": [
              "<IPython.core.display.Javascript object>"
            ],
            "application/javascript": [
              "\n",
              "    async function download(id, filename, size) {\n",
              "      if (!google.colab.kernel.accessAllowed) {\n",
              "        return;\n",
              "      }\n",
              "      const div = document.createElement('div');\n",
              "      const label = document.createElement('label');\n",
              "      label.textContent = `Downloading \"${filename}\": `;\n",
              "      div.appendChild(label);\n",
              "      const progress = document.createElement('progress');\n",
              "      progress.max = size;\n",
              "      div.appendChild(progress);\n",
              "      document.body.appendChild(div);\n",
              "\n",
              "      const buffers = [];\n",
              "      let downloaded = 0;\n",
              "\n",
              "      const channel = await google.colab.kernel.comms.open(id);\n",
              "      // Send a message to notify the kernel that we're ready.\n",
              "      channel.send({})\n",
              "\n",
              "      for await (const message of channel.messages) {\n",
              "        // Send a message to notify the kernel that we're ready.\n",
              "        channel.send({})\n",
              "        if (message.buffers) {\n",
              "          for (const buffer of message.buffers) {\n",
              "            buffers.push(buffer);\n",
              "            downloaded += buffer.byteLength;\n",
              "            progress.value = downloaded;\n",
              "          }\n",
              "        }\n",
              "      }\n",
              "      const blob = new Blob(buffers, {type: 'application/binary'});\n",
              "      const a = document.createElement('a');\n",
              "      a.href = window.URL.createObjectURL(blob);\n",
              "      a.download = filename;\n",
              "      div.appendChild(a);\n",
              "      a.click();\n",
              "      div.remove();\n",
              "    }\n",
              "  "
            ]
          },
          "metadata": {}
        },
        {
          "output_type": "display_data",
          "data": {
            "text/plain": [
              "<IPython.core.display.Javascript object>"
            ],
            "application/javascript": [
              "download(\"download_3460e393-4570-4033-a810-a626a89b5863\", \"Action_List.npy\", 3297)"
            ]
          },
          "metadata": {}
        }
      ]
    },
    {
      "cell_type": "markdown",
      "metadata": {
        "id": "seT4NUmWmAZ1"
      },
      "source": [
        "# Server \n",
        "The code below simulate the environment on the judge server. Can be used for testing.\n",
        "  \n",
        "下边的代码模拟了judge系统上的环境，可以用来测试"
      ]
    },
    {
      "cell_type": "code",
      "metadata": {
        "id": "U69c-YTxaw6b",
        "colab": {
          "base_uri": "https://localhost:8080/",
          "height": 483
        },
        "outputId": "02442507-00ae-44c0-a8e0-2e0be26f6c46"
      },
      "source": [
        "action_list = np.load(PATH,allow_pickle=True) # The action list you upload\n",
        "seed = 543 # Do not revise this\n",
        "fix(env, seed)\n",
        "\n",
        "agent.network.eval()  # set network to evaluation mode\n",
        "\n",
        "test_total_reward = []\n",
        "if len(action_list) != 5:\n",
        "  print(\"Wrong format of file !!!\")\n",
        "  exit(0)\n",
        "for actions in action_list:\n",
        "  state = env.reset()\n",
        "  img = plt.imshow(env.render(mode='rgb_array'))\n",
        "\n",
        "  total_reward = 0\n",
        "\n",
        "  done = False\n",
        "\n",
        "  for action in actions:\n",
        "  \n",
        "      state, reward, done, _ = env.step(action)\n",
        "      total_reward += reward\n",
        "      if done:\n",
        "        break\n",
        "\n",
        "  print(f\"Your reward is : %.2f\"%total_reward)\n",
        "  test_total_reward.append(total_reward)"
      ],
      "execution_count": 57,
      "outputs": [
        {
          "output_type": "stream",
          "name": "stdout",
          "text": [
            "Your reward is : -7.42\n",
            "Your reward is : -73.38\n",
            "Your reward is : -31.73\n",
            "Your reward is : -223.21\n",
            "Your reward is : -161.36\n"
          ]
        },
        {
          "output_type": "display_data",
          "data": {
            "text/plain": [
              "<Figure size 640x480 with 1 Axes>"
            ],
            "image/png": "[encoded data removed]"
          },
          "metadata": {}
        }
      ]
    },
    {
      "cell_type": "markdown",
      "metadata": {
        "id": "TjFBWwQP1hVe"
      },
      "source": [
        "# Your score"
      ]
    },
    {
      "cell_type": "code",
      "metadata": {
        "id": "GpJpZz3Wbm0X",
        "colab": {
          "base_uri": "https://localhost:8080/"
        },
        "outputId": "24f095e5-550a-4cc0-eb83-7c0dd9b28e35"
      },
      "source": [
        "print(f\"Your final reward is : %.2f\"%np.mean(test_total_reward))"
      ],
      "execution_count": 58,
      "outputs": [
        {
          "output_type": "stream",
          "name": "stdout",
          "text": [
            "Your final reward is : -99.42\n"
          ]
        }
      ]
    },
    {
      "cell_type": "markdown",
      "metadata": {
        "id": "wUBtYXG2eaqf"
      },
      "source": [
        "## Reference\n",
        "\n",
        "Below are some useful tips for you to get high score.\n",
        "\n",
        "- [DRL Lecture 1: Policy Gradient (Review)](https://youtu.be/z95ZYgPgXOY)\n",
        "- [ML Lecture 23-3: Reinforcement Learning (including Q-learning) start at 30:00](https://youtu.be/2-JNBzCq77c?t=1800)\n",
        "- [Lecture 7: Policy Gradient, David Silver](http://www0.cs.ucl.ac.uk/staff/d.silver/web/Teaching_files/pg.pdf)\n"
      ]
    }
  ]
}