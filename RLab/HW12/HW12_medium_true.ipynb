{
  "cells": [
    {
      "cell_type": "markdown",
      "metadata": {
        "id": "Fp30SB4bxeQb"
      },
      "source": [
        "# **Homework 12 - Reinforcement Learning**\n",
        "\n",
        "\n"
      ]
    },
    {
      "cell_type": "markdown",
      "metadata": {
        "id": "yXsnCWPtWSNk"
      },
      "source": [
        "## Preliminary work\n",
        "## 准备工作\n",
        "\n",
        "First, we need to install all necessary packages.\n",
        "One of them, gym, builded by OpenAI, is a toolkit for developing Reinforcement Learning algorithm. Other packages are for visualization in colab.  \n",
        "  \n",
        "首先，我们需要安装一堆包。其中gym包是用来实现RL的算法的，其他都是用来可视化的。\n"
      ]
    },
    {
      "cell_type": "code",
      "execution_count": null,
      "metadata": {
        "colab": {
          "base_uri": "https://localhost:8080/"
        },
        "id": "5e2bScpnkVbv",
        "outputId": "9eb4375c-7c25-4e27-cdfb-cc35f9a7478f"
      },
      "outputs": [
        {
          "name": "stdout",
          "output_type": "stream",
          "text": [
            "\u001b[33m\r0% [Working]\u001b[0m\r            \rGet:1 https://cloud.r-project.org/bin/linux/ubuntu focal-cran40/ InRelease [3,622 B]\n",
            "\u001b[33m\r0% [Connecting to archive.ubuntu.com (185.125.190.39)] [Connecting to security.\u001b[0m\u001b[33m\r0% [Connecting to archive.ubuntu.com (185.125.190.39)] [Connecting to security.\u001b[0m\r                                                                               \rHit:2 https://developer.download.nvidia.com/compute/cuda/repos/ubuntu2004/x86_64  InRelease\n",
            "\u001b[33m\r0% [Waiting for headers] [Connecting to security.ubuntu.com (185.125.190.39)] [\u001b[0m\r                                                                               \rGet:3 http://ppa.launchpad.net/c2d4u.team/c2d4u4.0+/ubuntu focal InRelease [18.1 kB]\n",
            "\u001b[33m\r0% [Waiting for headers] [Waiting for headers] [3 InRelease 14.2 kB/18.1 kB 78%\u001b[0m\r                                                                               \rHit:4 http://archive.ubuntu.com/ubuntu focal InRelease\n",
            "\u001b[33m\r0% [Waiting for headers] [Waiting for headers] [3 InRelease 14.2 kB/18.1 kB 78%\u001b[0m\r                                                                               \rGet:5 http://security.ubuntu.com/ubuntu focal-security InRelease [114 kB]\n",
            "Get:6 http://archive.ubuntu.com/ubuntu focal-updates InRelease [114 kB]\n",
            "Hit:7 http://ppa.launchpad.net/cran/libgit2/ubuntu focal InRelease\n",
            "Hit:8 http://ppa.launchpad.net/deadsnakes/ppa/ubuntu focal InRelease\n",
            "Get:9 http://archive.ubuntu.com/ubuntu focal-backports InRelease [108 kB]\n",
            "Hit:10 http://ppa.launchpad.net/graphics-drivers/ppa/ubuntu focal InRelease\n",
            "Hit:11 http://ppa.launchpad.net/ubuntugis/ppa/ubuntu focal InRelease\n",
            "Get:12 http://ppa.launchpad.net/c2d4u.team/c2d4u4.0+/ubuntu focal/main Sources [2,573 kB]\n",
            "Get:13 http://security.ubuntu.com/ubuntu focal-security/main amd64 Packages [2,681 kB]\n",
            "Get:14 http://archive.ubuntu.com/ubuntu focal-updates/main amd64 Packages [3,158 kB]\n",
            "Get:15 http://security.ubuntu.com/ubuntu focal-security/universe amd64 Packages [1,046 kB]\n",
            "Get:16 http://archive.ubuntu.com/ubuntu focal-updates/universe amd64 Packages [1,343 kB]\n",
            "Get:17 http://ppa.launchpad.net/c2d4u.team/c2d4u4.0+/ubuntu focal/main amd64 Packages [1,213 kB]\n",
            "Fetched 12.4 MB in 2s (4,965 kB/s)\n",
            "Reading package lists... Done\n",
            "Building dependency tree       \n",
            "Reading state information... Done\n",
            "38 packages can be upgraded. Run 'apt list --upgradable' to see them.\n",
            "Looking in indexes: https://pypi.org/simple, https://us-python.pkg.dev/colab-wheels/public/simple/\n",
            "Collecting swig\n",
            "  Downloading swig-4.1.1-py2.py3-none-manylinux_2_5_x86_64.manylinux1_x86_64.whl (1.8 MB)\n",
            "\u001b[2K     \u001b[90m━━━━━━━━━━━━━━━━━━━━━━━━━━━━━━━━━━━━━━━━\u001b[0m \u001b[32m1.8/1.8 MB\u001b[0m \u001b[31m68.6 MB/s\u001b[0m eta \u001b[36m0:00:00\u001b[0m\n",
            "\u001b[?25hInstalling collected packages: swig\n",
            "Successfully installed swig-4.1.1\n",
            "Reading package lists... Done\n",
            "Building dependency tree       \n",
            "Reading state information... Done\n",
            "The following additional packages will be installed:\n",
            "  freeglut3 libfontenc1 libpython2-stdlib libxfont2 libxkbfile1 python2\n",
            "  python2-minimal x11-xkb-utils xfonts-base xfonts-encodings xfonts-utils\n",
            "  xserver-common\n",
            "Suggested packages:\n",
            "  python-tk python-numpy libgle3 python2-doc\n",
            "The following NEW packages will be installed:\n",
            "  freeglut3 libfontenc1 libpython2-stdlib libxfont2 libxkbfile1 python-opengl\n",
            "  python2 python2-minimal x11-xkb-utils xfonts-base xfonts-encodings\n",
            "  xfonts-utils xserver-common xvfb\n",
            "0 upgraded, 14 newly installed, 0 to remove and 38 not upgraded.\n",
            "Need to get 8,318 kB of archives.\n",
            "After this operation, 18.0 MB of additional disk space will be used.\n",
            "Get:1 http://archive.ubuntu.com/ubuntu focal/universe amd64 python2-minimal amd64 2.7.17-2ubuntu4 [27.5 kB]\n",
            "Get:2 http://archive.ubuntu.com/ubuntu focal/universe amd64 libpython2-stdlib amd64 2.7.17-2ubuntu4 [7,072 B]\n",
            "Get:3 http://archive.ubuntu.com/ubuntu focal/universe amd64 python2 amd64 2.7.17-2ubuntu4 [26.5 kB]\n",
            "Get:4 http://archive.ubuntu.com/ubuntu focal/universe amd64 freeglut3 amd64 2.8.1-3 [73.6 kB]\n",
            "Get:5 http://archive.ubuntu.com/ubuntu focal/main amd64 libfontenc1 amd64 1:1.1.4-0ubuntu1 [14.0 kB]\n",
            "Get:6 http://archive.ubuntu.com/ubuntu focal/main amd64 libxfont2 amd64 1:2.0.3-1 [91.7 kB]\n",
            "Get:7 http://archive.ubuntu.com/ubuntu focal/main amd64 libxkbfile1 amd64 1:1.1.0-1 [65.3 kB]\n",
            "Get:8 http://archive.ubuntu.com/ubuntu focal/universe amd64 python-opengl all 3.1.0+dfsg-2build1 [486 kB]\n",
            "Get:9 http://archive.ubuntu.com/ubuntu focal/main amd64 x11-xkb-utils amd64 7.7+5 [158 kB]\n",
            "Get:10 http://archive.ubuntu.com/ubuntu focal/main amd64 xfonts-encodings all 1:1.0.5-0ubuntu1 [573 kB]\n",
            "Get:11 http://archive.ubuntu.com/ubuntu focal/main amd64 xfonts-utils amd64 1:7.7+6 [91.5 kB]\n",
            "Get:12 http://archive.ubuntu.com/ubuntu focal/main amd64 xfonts-base all 1:1.0.5 [5,896 kB]\n",
            "Get:13 http://archive.ubuntu.com/ubuntu focal-updates/main amd64 xserver-common all 2:1.20.13-1ubuntu1~20.04.8 [27.2 kB]\n",
            "Get:14 http://archive.ubuntu.com/ubuntu focal-updates/universe amd64 xvfb amd64 2:1.20.13-1ubuntu1~20.04.8 [780 kB]\n",
            "Fetched 8,318 kB in 2s (4,787 kB/s)\n",
            "Selecting previously unselected package python2-minimal.\n",
            "(Reading database ... 122518 files and directories currently installed.)\n",
            "Preparing to unpack .../python2-minimal_2.7.17-2ubuntu4_amd64.deb ...\n",
            "Unpacking python2-minimal (2.7.17-2ubuntu4) ...\n",
            "Selecting previously unselected package libpython2-stdlib:amd64.\n",
            "Preparing to unpack .../libpython2-stdlib_2.7.17-2ubuntu4_amd64.deb ...\n",
            "Unpacking libpython2-stdlib:amd64 (2.7.17-2ubuntu4) ...\n",
            "Setting up python2-minimal (2.7.17-2ubuntu4) ...\n",
            "Selecting previously unselected package python2.\n",
            "(Reading database ... 122547 files and directories currently installed.)\n",
            "Preparing to unpack .../00-python2_2.7.17-2ubuntu4_amd64.deb ...\n",
            "Unpacking python2 (2.7.17-2ubuntu4) ...\n",
            "Selecting previously unselected package freeglut3:amd64.\n",
            "Preparing to unpack .../01-freeglut3_2.8.1-3_amd64.deb ...\n",
            "Unpacking freeglut3:amd64 (2.8.1-3) ...\n",
            "Selecting previously unselected package libfontenc1:amd64.\n",
            "Preparing to unpack .../02-libfontenc1_1%3a1.1.4-0ubuntu1_amd64.deb ...\n",
            "Unpacking libfontenc1:amd64 (1:1.1.4-0ubuntu1) ...\n",
            "Selecting previously unselected package libxfont2:amd64.\n",
            "Preparing to unpack .../03-libxfont2_1%3a2.0.3-1_amd64.deb ...\n",
            "Unpacking libxfont2:amd64 (1:2.0.3-1) ...\n",
            "Selecting previously unselected package libxkbfile1:amd64.\n",
            "Preparing to unpack .../04-libxkbfile1_1%3a1.1.0-1_amd64.deb ...\n",
            "Unpacking libxkbfile1:amd64 (1:1.1.0-1) ...\n",
            "Selecting previously unselected package python-opengl.\n",
            "Preparing to unpack .../05-python-opengl_3.1.0+dfsg-2build1_all.deb ...\n",
            "Unpacking python-opengl (3.1.0+dfsg-2build1) ...\n",
            "Selecting previously unselected package x11-xkb-utils.\n",
            "Preparing to unpack .../06-x11-xkb-utils_7.7+5_amd64.deb ...\n",
            "Unpacking x11-xkb-utils (7.7+5) ...\n",
            "Selecting previously unselected package xfonts-encodings.\n",
            "Preparing to unpack .../07-xfonts-encodings_1%3a1.0.5-0ubuntu1_all.deb ...\n",
            "Unpacking xfonts-encodings (1:1.0.5-0ubuntu1) ...\n",
            "Selecting previously unselected package xfonts-utils.\n",
            "Preparing to unpack .../08-xfonts-utils_1%3a7.7+6_amd64.deb ...\n",
            "Unpacking xfonts-utils (1:7.7+6) ...\n",
            "Selecting previously unselected package xfonts-base.\n",
            "Preparing to unpack .../09-xfonts-base_1%3a1.0.5_all.deb ...\n",
            "Unpacking xfonts-base (1:1.0.5) ...\n",
            "Selecting previously unselected package xserver-common.\n",
            "Preparing to unpack .../10-xserver-common_2%3a1.20.13-1ubuntu1~20.04.8_all.deb ...\n",
            "Unpacking xserver-common (2:1.20.13-1ubuntu1~20.04.8) ...\n",
            "Selecting previously unselected package xvfb.\n",
            "Preparing to unpack .../11-xvfb_2%3a1.20.13-1ubuntu1~20.04.8_amd64.deb ...\n",
            "Unpacking xvfb (2:1.20.13-1ubuntu1~20.04.8) ...\n",
            "Setting up freeglut3:amd64 (2.8.1-3) ...\n",
            "Setting up libpython2-stdlib:amd64 (2.7.17-2ubuntu4) ...\n",
            "Setting up python2 (2.7.17-2ubuntu4) ...\n",
            "Setting up libfontenc1:amd64 (1:1.1.4-0ubuntu1) ...\n",
            "Setting up xfonts-encodings (1:1.0.5-0ubuntu1) ...\n",
            "Setting up libxkbfile1:amd64 (1:1.1.0-1) ...\n",
            "Setting up libxfont2:amd64 (1:2.0.3-1) ...\n",
            "Setting up python-opengl (3.1.0+dfsg-2build1) ...\n",
            "Setting up x11-xkb-utils (7.7+5) ...\n",
            "Setting up xfonts-utils (1:7.7+6) ...\n",
            "Setting up xfonts-base (1:1.0.5) ...\n",
            "Setting up xserver-common (2:1.20.13-1ubuntu1~20.04.8) ...\n",
            "Setting up xvfb (2:1.20.13-1ubuntu1~20.04.8) ...\n",
            "Processing triggers for man-db (2.9.1-1) ...\n",
            "Processing triggers for fontconfig (2.13.1-2ubuntu3) ...\n",
            "Processing triggers for libc-bin (2.31-0ubuntu9.9) ...\n",
            "Looking in indexes: https://pypi.org/simple, https://us-python.pkg.dev/colab-wheels/public/simple/\n",
            "Collecting pyvirtualdisplay\n",
            "  Downloading PyVirtualDisplay-3.0-py3-none-any.whl (15 kB)\n",
            "Installing collected packages: pyvirtualdisplay\n",
            "Successfully installed pyvirtualdisplay-3.0\n",
            "Looking in indexes: https://pypi.org/simple, https://us-python.pkg.dev/colab-wheels/public/simple/\n",
            "Requirement already satisfied: gym[box2d] in /usr/local/lib/python3.10/dist-packages (0.25.2)\n",
            "Requirement already satisfied: numpy>=1.18.0 in /usr/local/lib/python3.10/dist-packages (from gym[box2d]) (1.22.4)\n",
            "Requirement already satisfied: cloudpickle>=1.2.0 in /usr/local/lib/python3.10/dist-packages (from gym[box2d]) (2.2.1)\n",
            "Requirement already satisfied: gym-notices>=0.0.4 in /usr/local/lib/python3.10/dist-packages (from gym[box2d]) (0.0.8)\n",
            "Collecting box2d-py==2.3.5 (from gym[box2d])\n",
            "  Downloading box2d-py-2.3.5.tar.gz (374 kB)\n",
            "\u001b[2K     \u001b[90m━━━━━━━━━━━━━━━━━━━━━━━━━━━━━━━━━━━━━━\u001b[0m \u001b[32m374.4/374.4 kB\u001b[0m \u001b[31m22.1 MB/s\u001b[0m eta \u001b[36m0:00:00\u001b[0m\n",
            "\u001b[?25h  Preparing metadata (setup.py) ... \u001b[?25l\u001b[?25hdone\n",
            "Collecting pygame==2.1.0 (from gym[box2d])\n",
            "  Downloading pygame-2.1.0-cp310-cp310-manylinux_2_17_x86_64.manylinux2014_x86_64.whl (18.3 MB)\n",
            "\u001b[2K     \u001b[90m━━━━━━━━━━━━━━━━━━━━━━━━━━━━━━━━━━━━━━━━\u001b[0m \u001b[32m18.3/18.3 MB\u001b[0m \u001b[31m94.2 MB/s\u001b[0m eta \u001b[36m0:00:00\u001b[0m\n",
            "\u001b[?25hRequirement already satisfied: swig==4.* in /usr/local/lib/python3.10/dist-packages (from gym[box2d]) (4.1.1)\n",
            "Building wheels for collected packages: box2d-py\n",
            "  Building wheel for box2d-py (setup.py) ... \u001b[?25l\u001b[?25hdone\n",
            "  Created wheel for box2d-py: filename=box2d_py-2.3.5-cp310-cp310-linux_x86_64.whl size=2812506 sha256=cbeb6092366f935a96679f1a60c8471337492633727eac002a98d99ca5234b6a\n",
            "  Stored in directory: /root/.cache/pip/wheels/db/8f/6a/eaaadf056fba10a98d986f6dce954e6201ba3126926fc5ad9e\n",
            "Successfully built box2d-py\n",
            "Installing collected packages: box2d-py, pygame\n",
            "  Attempting uninstall: pygame\n",
            "    Found existing installation: pygame 2.3.0\n",
            "    Uninstalling pygame-2.3.0:\n",
            "      Successfully uninstalled pygame-2.3.0\n",
            "Successfully installed box2d-py-2.3.5 pygame-2.1.0\n"
          ]
        }
      ],
      "source": [
        "\n",
        "!apt update\n",
        "!pip install swig\n",
        "#某个包的前置包\n",
        "!apt install python-opengl xvfb -y\n",
        "!pip install pyvirtualdisplay \n",
        "!pip install gym[box2d]\n",
        "\n",
        "#!pip install gym\n",
        "\n",
        "#tqdm numpy==1.19.5 torch==1.8.1\n"
      ]
    },
    {
      "cell_type": "markdown",
      "metadata": {
        "id": "M_-i3cdoYsks"
      },
      "source": [
        "\n",
        "Next, set up virtual display，and import all necessaary packages.\n",
        "  \n",
        "import一堆包，并设置可视化页面"
      ]
    },
    {
      "cell_type": "code",
      "execution_count": null,
      "metadata": {
        "id": "nl2nREINDLiw"
      },
      "outputs": [],
      "source": [
        "%%capture\n",
        "from pyvirtualdisplay import Display\n",
        "virtual_display = Display(visible=0, size=(1400, 900))\n",
        "virtual_display.start()\n",
        "\n",
        "%matplotlib inline\n",
        "import matplotlib.pyplot as plt\n",
        "\n",
        "from IPython import display\n",
        "\n",
        "import numpy as np\n",
        "import torch\n",
        "import torch.nn as nn\n",
        "import torch.optim as optim\n",
        "import torch.nn.functional as F\n",
        "from torch.distributions import Categorical\n",
        "from tqdm.notebook import tqdm\n",
        "\n",
        "%%capture\n",
        "import gym\n",
        "import random\n",
        "\n",
        "\n",
        "#https://www.gymlibrary.dev/content/basic_usage/  gym库"
      ]
    },
    {
      "cell_type": "markdown",
      "metadata": {
        "id": "CaEJ8BUCpN9P"
      },
      "source": [
        "# Warning ! Do not revise random seed !!!\n",
        "# Your submission on JudgeBoi will not reproduce your result !!!\n",
        "Make your HW result to be reproducible.\n",
        "\n",
        "  \n",
        "助教不允许我们用随机种子\n"
      ]
    },
    {
      "cell_type": "code",
      "execution_count": null,
      "metadata": {
        "id": "fV9i8i2YkRbO"
      },
      "outputs": [],
      "source": [
        "#固定种子\n",
        "\n",
        "seed = 543 # Do not change this\n",
        "def fix(env, seed):\n",
        "  env.seed(seed)\n",
        "  env.action_space.seed(seed)\n",
        "  torch.manual_seed(seed)\n",
        "  torch.cuda.manual_seed(seed)\n",
        "  torch.cuda.manual_seed_all(seed)\n",
        "  np.random.seed(seed)\n",
        "  random.seed(seed)\n",
        "  #torch.set_deterministic(True)\n",
        "  #这行不知道为什么运行不了，可能和pytorch版本有关\n",
        "  torch.use_deterministic_algorithms(True)\n",
        "  #应改成这句 \n",
        "\n",
        "  torch.backends.cudnn.benchmark = False\n",
        "  torch.backends.cudnn.deterministic = True"
      ]
    },
    {
      "cell_type": "markdown",
      "metadata": {
        "id": "He0XDx6bzjgC"
      },
      "source": [
        "Last, call gym and build an [Lunar Lander](https://gym.openai.com/envs/LunarLander-v2/) environment.\n",
        "  \n",
        "使用gym，建立“Lunar Lander”环境"
      ]
    },
    {
      "cell_type": "code",
      "execution_count": null,
      "metadata": {
        "id": "N_4-xJcbBt09"
      },
      "outputs": [],
      "source": [
        "%%capture\n",
        "import gym\n",
        "import random\n",
        "env = gym.make('LunarLander-v2')\n",
        "fix(env, seed) # fix the environment Do not revise this !!!\n",
        "\n",
        "# 建立一个环境"
      ]
    },
    {
      "cell_type": "markdown",
      "metadata": {
        "id": "NrkVvTrvWZ5H"
      },
      "source": [
        "## What Lunar Lander？\n",
        "\n",
        "“LunarLander-v2”is to simulate the situation when the craft lands on the surface of the moon.  \n",
        "\n",
        "\n",
        "This task is to enable the craft to land \"safely\" at the pad between the two yellow flags.\n",
        "> Landing pad is always at coordinates (0,0).\n",
        "> Coordinates are the first two numbers in state vector.\n",
        "\n",
        "![](https://gym.openai.com/assets/docs/aeloop-138c89d44114492fd02822303e6b4b07213010bb14ca5856d2d49d6b62d88e53.svg)\n",
        "\n",
        "\"LunarLander-v2\" actually includes \"Agent\" and \"Environment\". \n",
        "\n",
        "In this homework, we will utilize the function `step()` to control the action of \"Agent\". \n",
        "\n",
        "Then `step()` will return the observation/state and reward given by the \"Environment\".  \n",
        "\n",
        "\n",
        "  \n",
        "这玩意是用来模拟飞行器降落在月球表面的情况的东西。  \n",
        "其目标是让飞行器安全地在两个黄旗子之间的垫子上着陆\n",
        "> 着陆垫始终在坐标（0，0）处  \n",
        "> 坐标是state vector（状态向量）的前两个数字？\n",
        "  \n",
        "  \n",
        "\"LunarLander-v2\"已经集成了“Agent”和“Environment”  \n",
        "在本次作业中，我们要使用step（）函数去控制“Agent”的行动  \n",
        "然后step（）会返回observation和环境的reward。\n",
        "\n"
      ]
    },
    {
      "cell_type": "markdown",
      "metadata": {
        "id": "f9sRvDdL4mln"
      },
      "source": [
        "# 官方文档中的信息\n",
        "[文档](https://www.gymlibrary.dev/environments/box2d/lunar_lander/)\n",
        "\n",
        "##Actions：\n",
        "四种\n",
        "- 0代表agent啥也不做   \n",
        "- 1、2、3代表左边、向下、右边引擎开火（喷射）\n",
        "  \n",
        "##Observation space: \n",
        "八维向量，例如[1.5 1.5 5. 5. 3.14 5. 1. 1. ]  \n",
        "分别代表[坐标x，坐标y，x方向分速度，y方向分速度，角度，角速度，bool，bool]  \n",
        "两个bool表示飞行器的两只脚是否着陆。\n",
        "\n",
        "##Reward:\n",
        "登陆垫始终在（0，0）。坐标是状态向量（那个八维向量）的前两维。 从屏幕顶端到达登陆垫并保持速度为0的reward是大概100-140pt。如果登陆器从登陆垫上移动出去了，reward就没了。当登陆器被摧毁了（-100pt）或者成功着陆并休息后（+100pt），一个episode结束。登陆器的每条腿接触地面会+10pt。 主引擎点火为每帧-3分。 解决了加200分\n",
        "\n",
        "-在黄旗之间着陆    +100-140pt\n",
        "-着陆但移动出去了  上边的pt没了\n",
        "-坠毁           -100pt\n",
        "-主引擎点火(向下喷射) 每帧-0.3pt\n",
        "-左右引擎点火.    每帧-0.03pt\n",
        "-登陆器最终静止(rest)  再+100pt\n",
        "-每条腿接触地面.      +10pt\n",
        "\n",
        "-解决了（solved）（？）  +200pt\n",
        "\n",
        "  \n",
        "## Starting State\n",
        "The lander starts at the top center of the viewport with a random initial force applied to its center of mass.  \n",
        "着陆器\n",
        "\n",
        "## Episode Termination\n",
        "  \n",
        "\n"
      ]
    },
    {
      "cell_type": "markdown",
      "metadata": {
        "id": "bIbp82sljvAt"
      },
      "source": [
        "# Observation / State\n",
        "\n",
        "First, we can take a look at what an Observation / State looks like.  \n",
        "Observation长下边这样"
      ]
    },
    {
      "cell_type": "code",
      "execution_count": null,
      "metadata": {
        "colab": {
          "base_uri": "https://localhost:8080/"
        },
        "id": "rsXZra3N9R5T",
        "outputId": "70721048-adbc-423a-971f-5fb45f497e5f"
      },
      "outputs": [
        {
          "name": "stdout",
          "output_type": "stream",
          "text": [
            "Box([-1.5       -1.5       -5.        -5.        -3.1415927 -5.\n",
            " -0.        -0.       ], [1.5       1.5       5.        5.        3.1415927 5.        1.\n",
            " 1.       ], (8,), float32)\n"
          ]
        },
        {
          "name": "stderr",
          "output_type": "stream",
          "text": [
            "/usr/local/lib/python3.10/dist-packages/ipykernel/ipkernel.py:283: DeprecationWarning: `should_run_async` will not call `transform_cell` automatically in the future. Please pass the result to `transformed_cell` argument and any exception that happen during thetransform in `preprocessing_exc_tuple` in IPython 7.17 and above.\n",
            "  and should_run_async(code)\n"
          ]
        }
      ],
      "source": [
        "print(env.observation_space)"
      ]
    },
    {
      "cell_type": "markdown",
      "metadata": {
        "id": "ezdfoThbAQ49"
      },
      "source": [
        "\n",
        "`Box(8,)`means that observation is an 8-dim vector\n",
        "### Action\n",
        "\n",
        "Actions can be taken by looks like  \n",
        "Action长下边这样"
      ]
    },
    {
      "cell_type": "code",
      "execution_count": null,
      "metadata": {
        "colab": {
          "base_uri": "https://localhost:8080/"
        },
        "id": "p1k4dIrBAaKi",
        "outputId": "364c0b19-2ef3-4697-b4f8-b4737a8aefc5"
      },
      "outputs": [
        {
          "name": "stdout",
          "output_type": "stream",
          "text": [
            "Discrete(4)\n"
          ]
        }
      ],
      "source": [
        "print(env.action_space)"
      ]
    },
    {
      "cell_type": "markdown",
      "metadata": {
        "id": "dejXT6PHBrPn"
      },
      "source": [
        "`Discrete(4)` implies that there are four kinds of actions can be taken by agent.\n",
        "- 0 implies the agent will not take any actions\n",
        "- 2 implies the agent will accelerate downward\n",
        "- 1, 3 implies the agent will accelerate left and right\n",
        "\n",
        "Next, we will try to make the agent interact with the environment. \n",
        "Before taking any actions, we recommend to call `reset()` function to reset the environment. Also, this function will return the initial state of the environment.\n",
        "  \n",
        "这表明一共有四种行动。  \n",
        "- 0代表agent啥也不做  \n",
        "- 2代表它向下加速  \n",
        "- 1、3代表它左移和右移  \n",
        "  \n",
        "下边我们将会尝试让agent与环境互动  \n",
        "在agent采取行动之前，我们推荐用reset（）去reset环境，这个函数也会返回环境的初始状态"
      ]
    },
    {
      "cell_type": "code",
      "execution_count": null,
      "metadata": {
        "colab": {
          "base_uri": "https://localhost:8080/"
        },
        "id": "pi4OmrmZgnWA",
        "outputId": "1f60cb05-9da8-4aae-8774-0314e3322c98"
      },
      "outputs": [
        {
          "name": "stdout",
          "output_type": "stream",
          "text": [
            "[-1.2619973e-03  1.3984586e+00 -1.2784091e-01 -5.5384123e-01\n",
            "  1.4691149e-03  2.8957864e-02  0.0000000e+00  0.0000000e+00]\n"
          ]
        }
      ],
      "source": [
        "initial_state = env.reset()\n",
        "print(initial_state)\n",
        "\n",
        "#初始环境长下边这样，和Box一样，也是八维向量"
      ]
    },
    {
      "cell_type": "markdown",
      "metadata": {
        "id": "uBx0mEqqgxJ9"
      },
      "source": [
        "Then, we try to get a random action from the agent's action space.  \n",
        "然后，我们将试着随机得到一种行动"
      ]
    },
    {
      "cell_type": "code",
      "execution_count": null,
      "metadata": {
        "colab": {
          "base_uri": "https://localhost:8080/"
        },
        "id": "vxkOEXRKgizt",
        "outputId": "c5f976cb-c3b0-4e0f-8b57-a254a85cf8a3"
      },
      "outputs": [
        {
          "name": "stdout",
          "output_type": "stream",
          "text": [
            "3\n"
          ]
        }
      ],
      "source": [
        "random_action = env.action_space.sample()\n",
        "print(random_action)"
      ]
    },
    {
      "cell_type": "markdown",
      "metadata": {
        "id": "mns-bO01g0-J"
      },
      "source": [
        "More, we can utilize `step()` to make agent act according to the randomly-selected `random_action`.\n",
        "The `step()` function will return four values:\n",
        "- observation / state\n",
        "- reward\n",
        "- done (True/ False)\n",
        "- Other information  \n",
        "\n",
        "下边，我们可以用step（）去使agent按照上边随机抽取的random_action进行行动  \n",
        "step（）将会返回四个值：  \n",
        "- observation / state\n",
        "- reward\n",
        "- done (True/ False)\n",
        "- Other information  "
      ]
    },
    {
      "cell_type": "code",
      "execution_count": null,
      "metadata": {
        "id": "E_WViSxGgIk9"
      },
      "outputs": [],
      "source": [
        "observation, reward, done, info = env.step(random_action)"
      ]
    },
    {
      "cell_type": "code",
      "execution_count": null,
      "metadata": {
        "colab": {
          "base_uri": "https://localhost:8080/"
        },
        "id": "yK7r126kuCNp",
        "outputId": "8c0d0495-6afb-4d07-e77d-09668499f787"
      },
      "outputs": [
        {
          "name": "stdout",
          "output_type": "stream",
          "text": [
            "[-2.4652481e-03  1.3854232e+00 -1.2026372e-01 -5.7935303e-01\n",
            "  1.4148270e-03 -1.0852187e-03  0.0000000e+00  0.0000000e+00] -1.0511407416545058 False {}\n",
            "<class 'numpy.ndarray'> <class 'numpy.float64'> <class 'bool'> <class 'dict'>\n"
          ]
        }
      ],
      "source": [
        "print(observation, reward, done, info)\n",
        "print(type(observation), type(reward),type( done), type(info))\n",
        "#[-2.4652481e-03  1.3854232e+00 -1.2026372e-01 -5.7935303e-01,1.4148270e-03 -1.0852187e-03  0.0000000e+00  0.0000000e+00] \n",
        "# -1.0511407416545058 False {}\n",
        "\n",
        "# <class 'numpy.ndarray'> <class 'numpy.float64'> <class 'bool'> <class 'dict'>"
      ]
    },
    {
      "cell_type": "markdown",
      "metadata": {
        "id": "GKdS8vOihxhc"
      },
      "source": [
        "### Reward\n",
        "\n",
        "\n",
        "> Landing pad is always at coordinates (0,0). Coordinates are the first two numbers in state vector. Reward for moving from the top of the screen to landing pad and zero speed is about 100..140 points. If lander moves away from landing pad it loses reward back. Episode finishes if the lander crashes or comes to rest, receiving additional -100 or +100 points. Each leg ground contact is +10. Firing main engine is -0.3 points each frame. Solved is 200 points.   \n",
        "\n",
        "登陆垫始终在（0，0）。坐标是状态向量（那个八维向量）的前两维。 从屏幕顶端到达登陆垫并保持速度为0的reward是大概100-140pt。如果登陆器从登陆垫上移动出去了，reward就没了。当登陆器被摧毁了（-100pt）或者成功着陆并休息后（+100pt），一个episode结束。登陆器的每条腿接触地面会+10pt。 主引擎点火为每帧-3分。 解决了（？）加200分"
      ]
    },
    {
      "cell_type": "code",
      "execution_count": null,
      "metadata": {
        "colab": {
          "base_uri": "https://localhost:8080/"
        },
        "id": "vxQNs77hi0_7",
        "outputId": "47ce9ec7-107c-49f6-e1f0-11978cc65e53"
      },
      "outputs": [
        {
          "name": "stdout",
          "output_type": "stream",
          "text": [
            "-1.0511407416545058\n"
          ]
        }
      ],
      "source": [
        "print(reward)"
      ]
    },
    {
      "cell_type": "markdown",
      "metadata": {
        "id": "Mhqp6D-XgHpe"
      },
      "source": [
        "# Random Agent\n",
        "In the end, before we start training, we can see whether a random agent can successfully land the moon or not.  \n",
        "在开始训练之前，我们可以看看一个随机生成的agent是否能够成功地着陆"
      ]
    },
    {
      "cell_type": "code",
      "execution_count": null,
      "metadata": {
        "colab": {
          "base_uri": "https://localhost:8080/",
          "height": 70
        },
        "id": "Y3G0bxoccelv",
        "outputId": "f750242e-314e-414a-fddf-e260505f99c8"
      },
      "outputs": [
        {
          "data": {
            "application/vnd.google.colaboratory.intrinsic+json": {
              "type": "string"
            },
            "text/plain": [
              "\"\\nenv.reset()\\n\\nimg = plt.imshow(env.render(mode='rgb_array'))\\n\\ndone = False\\nwhile not done:\\n  action = env.action_space.sample()\\n  #Randomly sample an element of this space.\\n  #随机抽取动作空间里的一个元素\\n  observation, reward, done, _ = env.step(action)\\n  img.set_data(env.render(mode='rgb_array'))\\n  display.display(plt.gcf())\\n  display.clear_output(wait=True)\\n  #一帧一帧的渲染下边的图像，直到完成一轮为止\\n\""
            ]
          },
          "execution_count": 12,
          "metadata": {},
          "output_type": "execute_result"
        }
      ],
      "source": [
        "\"\"\"\n",
        "env.reset()\n",
        "\n",
        "img = plt.imshow(env.render(mode='rgb_array'))\n",
        "\n",
        "done = False\n",
        "while not done:\n",
        "  action = env.action_space.sample()\n",
        "  #Randomly sample an element of this space.\n",
        "  #随机抽取动作空间里的一个元素\n",
        "  observation, reward, done, _ = env.step(action)\n",
        "  img.set_data(env.render(mode='rgb_array'))\n",
        "  display.display(plt.gcf())\n",
        "  display.clear_output(wait=True)\n",
        "  #一帧一帧的渲染下边的图像，直到完成一轮为止\n",
        "\"\"\"\n",
        "\n",
        "\n",
        "\n",
        "    "
      ]
    },
    {
      "cell_type": "markdown",
      "metadata": {
        "id": "F5paWqo7tWL2"
      },
      "source": [
        "## Policy Gradient\n",
        "Now, we can build a simple policy network. The network will return one of action in the action space.  \n",
        "现在，我们将创建一个简单的policy network，它将返回一项动作。"
      ]
    },
    {
      "cell_type": "code",
      "execution_count": null,
      "metadata": {
        "id": "J8tdmeD-tZew"
      },
      "outputs": [],
      "source": [
        "class PolicyGradientNetwork(nn.Module):\n",
        "\n",
        "    def __init__(self):\n",
        "        super().__init__()\n",
        "        self.fc1 = nn.Linear(8, 16)\n",
        "        self.fc2 = nn.Linear(16, 16)\n",
        "        self.fc3 = nn.Linear(16, 4)\n",
        "\n",
        "        #三层线性层 8=>16=>16=>4\n",
        "        #输入是八维的状态向量（state），输出是四维，代表四个动作\n",
        "\n",
        "    def forward(self, state):\n",
        "        hid = torch.tanh(self.fc1(state))\n",
        "        hid = torch.tanh(self.fc2(hid))\n",
        "        return F.softmax(self.fc3(hid), dim=-1)\n",
        "\n",
        "        #两次tanh一次softmax\n",
        "        #8=>16=>tanh=>16=>tanh=>4=>softmax=>output\n",
        "        "
      ]
    },
    {
      "cell_type": "markdown",
      "metadata": {
        "id": "ZNgu-yzCy4Rt"
      },
      "source": [
        "## Softmax中的dim:\n",
        "-  dim=0 对第一个坐标轴的所有元素进行softmax运算，并使得每一列所有元素和为1\n",
        "-  dim=1 对第二个坐标轴的所有元素进行softmax运算，并使得每一行所有元素和为1\n",
        "-  dim=2 对第三个坐标轴的所有元素进行softmax运算，并使得每一行所有元素和为1\n",
        "  \n",
        "  以此类推\n",
        "-  dim=-1 对第倒数第一个坐标轴的所有元素进行softmax运算，并使得每一行所有元素和为1\n"
      ]
    },
    {
      "cell_type": "code",
      "execution_count": null,
      "metadata": {
        "colab": {
          "base_uri": "https://localhost:8080/"
        },
        "id": "X27zD4qUzSei",
        "outputId": "347ae5ab-258e-4401-fcd1-0d33f127d6c6"
      },
      "outputs": [
        {
          "name": "stdout",
          "output_type": "stream",
          "text": [
            "tensor([[-1.9000,  1.0630],\n",
            "        [ 0.1354, -0.3442]])\n",
            "dim=0 tensor([[0.1155, 0.8033],\n",
            "        [0.8845, 0.1967]])\n",
            "dim=1 tensor([[0.0491, 0.9509],\n",
            "        [0.6176, 0.3824]])\n",
            "dim=-1 tensor([[0.0491, 0.9509],\n",
            "        [0.6176, 0.3824]])\n"
          ]
        }
      ],
      "source": [
        "import torch\n",
        "import torch.nn.functional as F\n",
        "input = torch.randn(2,2)\n",
        "print(input)\n",
        "m = F.softmax(input,dim=0)\n",
        "print(\"dim=0\",m)\n",
        "m = F.softmax(input,dim=1)\n",
        "print(\"dim=1\",m)\n",
        "#m = F.softmax(input,dim=2)\n",
        "#print(\"dim=2\",m)\n",
        "m = F.softmax(input,dim=-1)\n",
        "print(\"dim=-1\",m)"
      ]
    },
    {
      "cell_type": "markdown",
      "metadata": {
        "id": "ynbqJrhIFTC3"
      },
      "source": [
        "## Agent\n",
        "Then, we need to build a simple agent. The agent will acts according to the output of the policy network above. There are a few things can be done by agent:\n",
        "- `learn()`：update the policy network from log probabilities and rewards.\n",
        "- `sample()`：After receiving observation from the environment, utilize policy network to tell which action to take. The return values of this function includes action and log probabilities.  \n",
        "  \n",
        "下边，我们需要创建一个简单的agent。它能够做以下事情：  \n",
        "- learn（）：使用log probabilities and rewards来更新policy network  \n",
        "- sample（）：在接收observation后，使用policy network去告诉agent下边需要采取哪种行动，这个函数的返回值包括行动和log probabilities"
      ]
    },
    {
      "cell_type": "code",
      "execution_count": null,
      "metadata": {
        "id": "zZo-IxJx286z"
      },
      "outputs": [],
      "source": [
        "from torch.optim.lr_scheduler import StepLR\n",
        "class AgentCritic(nn.Module):\n",
        "    \n",
        "    def __init__(self, network):\n",
        "        #self.network = network\n",
        "        super().__init__()\n",
        "        self.fc = nn.Sequential(\n",
        "            nn.Linear(8, 16),\n",
        "            nn.Tanh(),\n",
        "            nn.Linear(16, 16),\n",
        "            nn.Tanh()\n",
        "        )\n",
        "        #共用部分\n",
        "        self.actor = nn.Linear(16, 4)\n",
        "        self.critic = nn.Linear(16, 1)\n",
        "        #非共用部分：两个不同的线性层\n",
        "\n",
        "        self.values = []\n",
        "        #存储V^θ(state)\n",
        "\n",
        "\n",
        "        #self.optimizer = optim.SGD(self.network.parameters(), lr=0.001)\n",
        "        self.optimizer = optim.SGD(self.parameters(), lr=0.001)\n",
        "        #优化算法：SGD\n",
        "        \n",
        "    def forward(self, state):\n",
        "        #return self.network(state)\n",
        "\n",
        "        hid = self.fc(state)\n",
        "        hid_critic = self.critic(hid)\n",
        "\n",
        "        #print(\"type(hid_critic) is: \",type(hid_critic))\n",
        "        #print(\"hid_critic is: \",hid_critic)\n",
        "\n",
        "        #type(hid_critic) is:  <class 'torch.Tensor'>\n",
        "        #hid_critic is:  tensor([0.0773], grad_fn=<AddBackward0>)\n",
        "\n",
        "        self.values.append(hid_critic.squeeze(-1))\n",
        "\n",
        "        #print(hid_critic.squeeze(-1))\n",
        "        #print(type(hid_critic.squeeze(-1)))\n",
        "        #<class 'torch.Tensor'>\n",
        "        #tensor(0.1598, grad_fn=<SqueezeBackward1>)\n",
        "\n",
        "        return F.softmax(self.actor(hid), dim=-1)\n",
        "\n",
        "    def learn(self, log_probs, rewards):\n",
        "        values = torch.stack(self.values)\n",
        "        #rewards = rewards - values.detach()\n",
        "\n",
        "        loss = (-log_probs * rewards).sum() #+ F.smooth_l1_loss(values, rewards)\n",
        "\n",
        "        # F.smooth_l1_loss(values, rewards) 没看明白\n",
        "\n",
        "        # You don't need to revise this to pass simple baseline (but you can)\n",
        "        #你无需修改loss算法就可以通过simple baseline，但是你可以改\n",
        "\n",
        "        self.optimizer.zero_grad()\n",
        "        loss.backward()\n",
        "        self.optimizer.step()\n",
        "\n",
        "        #values = torch.stack(self.values)\n",
        "        #loss = (-log_probs * (rewards - values.detach())).sum() + F.smooth_l1_loss(values, rewards)      \n",
        "        \n",
        "        self.values = []\n",
        "\n",
        "        #每一个batch之后，重新收集资料来学习/重新计算values\n",
        "        \n",
        "    def sample(self, state):\n",
        "        action_prob = self(torch.FloatTensor(state))\n",
        "        #把state传给network，并接受动作的概率\n",
        "        action_dist = Categorical(action_prob)\n",
        "        #Categorical类\n",
        "        action = action_dist.sample()\n",
        "        #按照概率随机抽取一个动作\n",
        "        #比如[0.1,0.3,0.2,0.4],会按照这个概率表在0-3之间抽取一个动作\n",
        "        log_prob = action_dist.log_prob(action)\n",
        "        #取log的概率\n",
        "        return action.item(), log_prob\n",
        "        #返回action种类，和log probability"
      ]
    },
    {
      "cell_type": "markdown",
      "metadata": {
        "id": "RMvr6QYx2K-x"
      },
      "source": [
        "## Categorical\n",
        "CLASS   \n",
        "torch.distributions.categorical.Categorical(probs=None, logits=None, validate_args=None)  \n"
      ]
    },
    {
      "cell_type": "code",
      "execution_count": null,
      "metadata": {
        "colab": {
          "base_uri": "https://localhost:8080/"
        },
        "id": "HbISlAnU2-cR",
        "outputId": "d3027eff-274a-4ac3-fe04-36d1c9105a36"
      },
      "outputs": [
        {
          "name": "stdout",
          "output_type": "stream",
          "text": [
            "Categorical(probs: torch.Size([4]), logits: torch.Size([4]))\n",
            "tensor(3)\n",
            "<class 'torch.Tensor'>\n",
            "tensor(-0.9163)\n",
            "tensor([0.1000, 0.3000, 0.2000, 0.4000])\n",
            "#########################\n"
          ]
        },
        {
          "data": {
            "application/vnd.google.colaboratory.intrinsic+json": {
              "type": "string"
            },
            "text/plain": [
              "'\\n一次输出\\n[0.1,0.3,0.2,0.4]\\nCategorical(probs: torch.Size([4]), logits: torch.Size([4]))\\ntensor(3)\\ntensor(-0.9163)\\nlog(0.2)=\\n'"
            ]
          },
          "execution_count": 16,
          "metadata": {},
          "output_type": "execute_result"
        }
      ],
      "source": [
        "import torch\n",
        "from torch.distributions.categorical import Categorical\n",
        "\n",
        "\n",
        "\n",
        "\n",
        "def printf(sample_prob):\n",
        "  sample_prob=torch.FloatTensor(sample_prob)\n",
        "  #AttributeError: 'list' object has no attribute 'dim'\n",
        "  sample_dist = Categorical(sample_prob)\n",
        "  sample_action = sample_dist.sample()\n",
        "  sample_log_prob = sample_dist.log_prob(sample_action)\n",
        "  sample_prob_cate = sample_dist.probs\n",
        "  print(sample_dist)\n",
        "  print(sample_action)\n",
        "  print(type(sample_action))\n",
        "  print(sample_log_prob)\n",
        "  print(sample_prob_cate)\n",
        "  print(\"#########################\")\n",
        "\n",
        "\n",
        "\n",
        "\n",
        "\n",
        "printf([0.1,0.3,0.2,0.4]) \n",
        "# sum=1 log=[-2.3,-1.2,-1.6,-0.9]\n",
        "#printf([0.1,0.3,0.2,0.3]) # sum=0.9\n",
        "\n",
        "\n",
        "\n",
        "'''\n",
        "一次输出\n",
        "[0.1,0.3,0.2,0.4]\n",
        "Categorical(probs: torch.Size([4]), logits: torch.Size([4]))\n",
        "tensor(3)\n",
        "tensor(-0.9163)\n",
        "log(0.2)=\n",
        "'''"
      ]
    },
    {
      "cell_type": "code",
      "execution_count": null,
      "metadata": {
        "colab": {
          "base_uri": "https://localhost:8080/"
        },
        "id": "Nn0Wt3BVKKiB",
        "outputId": "d5138e14-b757-4202-9588-d5319a2df918"
      },
      "outputs": [
        {
          "name": "stdout",
          "output_type": "stream",
          "text": [
            "[0, 1, 0, 0]\n"
          ]
        }
      ],
      "source": [
        "import torch\n",
        "from torch.distributions.categorical import Categorical\n",
        "l_tongji = [0,0,0,0]\n",
        "\n",
        "sample_prob=torch.FloatTensor([0.1,0.3,0.2,0.4])\n",
        "sample_dist = Categorical(sample_prob)\n",
        "for x in range(1):\n",
        "  sample_action = sample_dist.sample()\n",
        "  if sample_action == torch.Tensor([0]):\n",
        "    l_tongji[0]+=1\n",
        "  if sample_action == torch.Tensor([1]):\n",
        "    l_tongji[1]+=1\n",
        "  if sample_action == torch.Tensor([2]):\n",
        "    l_tongji[2]+=1\n",
        "  if sample_action == torch.Tensor([3]):\n",
        "    l_tongji[3]+=1\n",
        "print(l_tongji)\n",
        "\n",
        "# [10098, 30215, 20053, 39634]"
      ]
    },
    {
      "cell_type": "markdown",
      "metadata": {
        "id": "ehPlnTKyRZf9"
      },
      "source": [
        "## 实例化\n",
        "Lastly, build a network and agent to start training.  \n",
        "最后，创建（实例化）一个network和agent，然后开始训练！"
      ]
    },
    {
      "cell_type": "code",
      "execution_count": null,
      "metadata": {
        "id": "GfJIvML-RYjL"
      },
      "outputs": [],
      "source": [
        "network = PolicyGradientNetwork()\n",
        "agent = AgentCritic(network)"
      ]
    },
    {
      "cell_type": "markdown",
      "metadata": {
        "id": "ouv23glgf5Qt"
      },
      "source": [
        "## Training Agent\n",
        "\n",
        "Now let's start to train our agent.\n",
        "Through taking all the interactions between agent and environment as training data, the policy network can learn from all these attempts,  \n",
        "  \n",
        "下边我们开始训练agent了 \n",
        "通过把agent和环境间的所有互动当作训练数据，policy network可以从所有的attempts中学习\n"
      ]
    },
    {
      "cell_type": "code",
      "execution_count": null,
      "metadata": {
        "colab": {
          "background_save": true,
          "base_uri": "https://localhost:8080/",
          "height": 138,
          "referenced_widgets": [
            "625d38a50a6d4ab1b93c1b7423a69d17",
            "b12fdcb7841544d4b3c194cd33e33ffe",
            "6a8cad3d3d8a4b3b9992510f525c3598",
            "25ca935052a14bdea590ed54856df37b",
            "e282a8d3f6854018ae27f803961c60e1",
            "c03d0ecc65c04b34ad7061917326d9bd",
            "a51e24fc97fa42b797ee585d8f296ac2",
            "1a6db8b96ee543ceb330dd20a29a4e4a",
            "6b378beabd36488bb94fc4d12bc1e634",
            "a00cc600e46d4d699a81387596270930",
            "a49ce0988aef483bac65e41cc2cc1938"
          ]
        },
        "id": "vg5rxBBaf38_",
        "outputId": "43dc6c88-9edd-4d09-9731-dfee331f60b2"
      },
      "outputs": [
        {
          "data": {
            "application/vnd.jupyter.widget-view+json": {
              "model_id": "625d38a50a6d4ab1b93c1b7423a69d17",
              "version_major": 2,
              "version_minor": 0
            },
            "text/plain": [
              "  0%|          | 0/500 [00:00<?, ?it/s]"
            ]
          },
          "metadata": {},
          "output_type": "display_data"
        },
        {
          "name": "stdout",
          "output_type": "stream",
          "text": [
            "rewards looks like  (426,)\n",
            "log_probs looks like  [tensor(-1.1871, grad_fn=<SqueezeBackward1>), tensor(-1.1860, grad_fn=<SqueezeBackward1>), tensor(-1.5322, grad_fn=<SqueezeBackward1>), tensor(-1.1838, grad_fn=<SqueezeBackward1>), tensor(-1.5344, grad_fn=<SqueezeBackward1>), tensor(-1.1818, grad_fn=<SqueezeBackward1>), tensor(-1.5363, grad_fn=<SqueezeBackward1>), tensor(-1.5389, grad_fn=<SqueezeBackward1>), tensor(-1.4498, grad_fn=<SqueezeBackward1>), tensor(-1.5387, grad_fn=<SqueezeBackward1>), tensor(-1.1788, grad_fn=<SqueezeBackward1>), tensor(-1.4525, grad_fn=<SqueezeBackward1>), tensor(-1.4528, grad_fn=<SqueezeBackward1>), tensor(-1.1791, grad_fn=<SqueezeBackward1>), tensor(-1.1782, grad_fn=<SqueezeBackward1>), tensor(-1.4109, grad_fn=<SqueezeBackward1>), tensor(-1.4564, grad_fn=<SqueezeBackward1>), tensor(-1.4552, grad_fn=<SqueezeBackward1>), tensor(-1.4549, grad_fn=<SqueezeBackward1>), tensor(-1.4536, grad_fn=<SqueezeBackward1>), tensor(-1.5299, grad_fn=<SqueezeBackward1>), tensor(-1.1827, grad_fn=<SqueezeBackward1>), tensor(-1.4106, grad_fn=<SqueezeBackward1>), tensor(-1.5318, grad_fn=<SqueezeBackward1>), tensor(-1.1805, grad_fn=<SqueezeBackward1>), tensor(-1.1797, grad_fn=<SqueezeBackward1>), tensor(-1.4626, grad_fn=<SqueezeBackward1>), tensor(-1.4075, grad_fn=<SqueezeBackward1>), tensor(-1.4063, grad_fn=<SqueezeBackward1>), tensor(-1.4051, grad_fn=<SqueezeBackward1>), tensor(-1.5296, grad_fn=<SqueezeBackward1>), tensor(-1.1813, grad_fn=<SqueezeBackward1>), tensor(-1.5306, grad_fn=<SqueezeBackward1>), tensor(-1.3971, grad_fn=<SqueezeBackward1>), tensor(-1.1798, grad_fn=<SqueezeBackward1>), tensor(-1.3966, grad_fn=<SqueezeBackward1>), tensor(-1.4761, grad_fn=<SqueezeBackward1>), tensor(-1.5290, grad_fn=<SqueezeBackward1>), tensor(-1.5304, grad_fn=<SqueezeBackward1>), tensor(-1.4814, grad_fn=<SqueezeBackward1>), tensor(-1.1860, grad_fn=<SqueezeBackward1>), tensor(-1.4811, grad_fn=<SqueezeBackward1>), tensor(-1.3889, grad_fn=<SqueezeBackward1>), tensor(-1.4813, grad_fn=<SqueezeBackward1>), tensor(-1.3853, grad_fn=<SqueezeBackward1>), tensor(-1.1905, grad_fn=<SqueezeBackward1>), tensor(-1.4847, grad_fn=<SqueezeBackward1>), tensor(-1.4827, grad_fn=<SqueezeBackward1>), tensor(-1.1981, grad_fn=<SqueezeBackward1>), tensor(-1.3882, grad_fn=<SqueezeBackward1>), tensor(-1.4835, grad_fn=<SqueezeBackward1>), tensor(-1.3874, grad_fn=<SqueezeBackward1>), tensor(-1.4834, grad_fn=<SqueezeBackward1>), tensor(-1.4987, grad_fn=<SqueezeBackward1>), tensor(-1.4858, grad_fn=<SqueezeBackward1>), tensor(-1.4850, grad_fn=<SqueezeBackward1>), tensor(-1.3862, grad_fn=<SqueezeBackward1>), tensor(-1.3848, grad_fn=<SqueezeBackward1>), tensor(-1.2120, grad_fn=<SqueezeBackward1>), tensor(-1.4885, grad_fn=<SqueezeBackward1>), tensor(-1.3795, grad_fn=<SqueezeBackward1>), tensor(-1.3779, grad_fn=<SqueezeBackward1>), tensor(-1.4891, grad_fn=<SqueezeBackward1>), tensor(-1.4901, grad_fn=<SqueezeBackward1>), tensor(-1.4913, grad_fn=<SqueezeBackward1>), tensor(-1.4926, grad_fn=<SqueezeBackward1>), tensor(-1.3588, grad_fn=<SqueezeBackward1>), tensor(-1.3564, grad_fn=<SqueezeBackward1>), tensor(-1.3540, grad_fn=<SqueezeBackward1>), tensor(-1.2138, grad_fn=<SqueezeBackward1>), tensor(-1.4945, grad_fn=<SqueezeBackward1>), tensor(-1.4955, grad_fn=<SqueezeBackward1>), tensor(-1.2146, grad_fn=<SqueezeBackward1>), tensor(-1.3416, grad_fn=<SqueezeBackward1>), tensor(-1.2143, grad_fn=<SqueezeBackward1>), tensor(-1.5290, grad_fn=<SqueezeBackward1>), tensor(-1.5297, grad_fn=<SqueezeBackward1>), tensor(-1.2202, grad_fn=<SqueezeBackward1>), tensor(-1.2201, grad_fn=<SqueezeBackward1>), tensor(-1.2202, grad_fn=<SqueezeBackward1>), tensor(-1.6263, grad_fn=<SqueezeBackward1>), tensor(-1.4963, grad_fn=<SqueezeBackward1>), tensor(-1.2476, grad_fn=<SqueezeBackward1>), tensor(-1.2928, grad_fn=<SqueezeBackward1>), tensor(-1.1756, grad_fn=<SqueezeBackward1>), tensor(-1.5095, grad_fn=<SqueezeBackward1>), tensor(-1.5138, grad_fn=<SqueezeBackward1>), tensor(-1.5179, grad_fn=<SqueezeBackward1>), tensor(-1.4364, grad_fn=<SqueezeBackward1>), tensor(-1.5216, grad_fn=<SqueezeBackward1>), tensor(-1.5261, grad_fn=<SqueezeBackward1>), tensor(-1.1652, grad_fn=<SqueezeBackward1>), tensor(-1.4382, grad_fn=<SqueezeBackward1>), tensor(-1.4540, grad_fn=<SqueezeBackward1>), tensor(-1.4529, grad_fn=<SqueezeBackward1>), tensor(-1.4390, grad_fn=<SqueezeBackward1>), tensor(-1.4522, grad_fn=<SqueezeBackward1>), tensor(-1.1557, grad_fn=<SqueezeBackward1>), tensor(-1.4528, grad_fn=<SqueezeBackward1>), tensor(-1.4392, grad_fn=<SqueezeBackward1>), tensor(-1.4391, grad_fn=<SqueezeBackward1>), tensor(-1.4549, grad_fn=<SqueezeBackward1>), tensor(-1.5532, grad_fn=<SqueezeBackward1>), tensor(-1.1456, grad_fn=<SqueezeBackward1>), tensor(-1.1434, grad_fn=<SqueezeBackward1>), tensor(-1.4529, grad_fn=<SqueezeBackward1>), tensor(-1.5631, grad_fn=<SqueezeBackward1>), tensor(-1.4487, grad_fn=<SqueezeBackward1>), tensor(-1.1373, grad_fn=<SqueezeBackward1>), tensor(-1.5705, grad_fn=<SqueezeBackward1>), tensor(-1.4456, grad_fn=<SqueezeBackward1>), tensor(-1.1330, grad_fn=<SqueezeBackward1>), tensor(-1.4472, grad_fn=<SqueezeBackward1>), tensor(-1.5759, grad_fn=<SqueezeBackward1>), tensor(-1.4448, grad_fn=<SqueezeBackward1>), tensor(-1.1292, grad_fn=<SqueezeBackward1>), tensor(-1.4446, grad_fn=<SqueezeBackward1>), tensor(-1.4436, grad_fn=<SqueezeBackward1>), tensor(-1.1249, grad_fn=<SqueezeBackward1>), tensor(-1.4436, grad_fn=<SqueezeBackward1>), tensor(-1.1221, grad_fn=<SqueezeBackward1>), tensor(-1.4529, grad_fn=<SqueezeBackward1>), tensor(-1.4438, grad_fn=<SqueezeBackward1>), tensor(-1.4538, grad_fn=<SqueezeBackward1>), tensor(-1.1189, grad_fn=<SqueezeBackward1>), tensor(-1.5889, grad_fn=<SqueezeBackward1>), tensor(-1.4462, grad_fn=<SqueezeBackward1>), tensor(-1.4453, grad_fn=<SqueezeBackward1>), tensor(-1.5937, grad_fn=<SqueezeBackward1>), tensor(-1.4413, grad_fn=<SqueezeBackward1>), tensor(-1.1136, grad_fn=<SqueezeBackward1>), tensor(-1.4602, grad_fn=<SqueezeBackward1>), tensor(-1.4595, grad_fn=<SqueezeBackward1>), tensor(-1.5953, grad_fn=<SqueezeBackward1>), tensor(-1.4414, grad_fn=<SqueezeBackward1>), tensor(-1.5986, grad_fn=<SqueezeBackward1>), tensor(-1.1106, grad_fn=<SqueezeBackward1>), tensor(-1.6015, grad_fn=<SqueezeBackward1>), tensor(-1.4332, grad_fn=<SqueezeBackward1>), tensor(-1.1083, grad_fn=<SqueezeBackward1>), tensor(-1.4328, grad_fn=<SqueezeBackward1>), tensor(-1.4317, grad_fn=<SqueezeBackward1>), tensor(-1.1052, grad_fn=<SqueezeBackward1>), tensor(-1.1035, grad_fn=<SqueezeBackward1>), tensor(-1.1019, grad_fn=<SqueezeBackward1>), tensor(-1.1005, grad_fn=<SqueezeBackward1>), tensor(-1.0993, grad_fn=<SqueezeBackward1>), tensor(-1.0982, grad_fn=<SqueezeBackward1>), tensor(-1.4767, grad_fn=<SqueezeBackward1>), tensor(-1.0970, grad_fn=<SqueezeBackward1>), tensor(-1.0960, grad_fn=<SqueezeBackward1>), tensor(-1.0950, grad_fn=<SqueezeBackward1>), tensor(-1.0944, grad_fn=<SqueezeBackward1>), tensor(-1.5954, grad_fn=<SqueezeBackward1>), tensor(-1.0942, grad_fn=<SqueezeBackward1>), tensor(-1.4521, grad_fn=<SqueezeBackward1>), tensor(-1.4521, grad_fn=<SqueezeBackward1>), tensor(-1.4811, grad_fn=<SqueezeBackward1>), tensor(-1.4804, grad_fn=<SqueezeBackward1>), tensor(-1.4789, grad_fn=<SqueezeBackward1>), tensor(-1.4616, grad_fn=<SqueezeBackward1>), tensor(-1.4791, grad_fn=<SqueezeBackward1>), tensor(-1.5748, grad_fn=<SqueezeBackward1>), tensor(-1.4630, grad_fn=<SqueezeBackward1>), tensor(-1.0979, grad_fn=<SqueezeBackward1>), tensor(-1.4801, grad_fn=<SqueezeBackward1>), tensor(-1.4684, grad_fn=<SqueezeBackward1>), tensor(-1.4793, grad_fn=<SqueezeBackward1>), tensor(-1.1014, grad_fn=<SqueezeBackward1>), tensor(-1.5593, grad_fn=<SqueezeBackward1>), tensor(-1.4712, grad_fn=<SqueezeBackward1>), tensor(-1.4796, grad_fn=<SqueezeBackward1>), tensor(-1.4782, grad_fn=<SqueezeBackward1>), tensor(-1.1074, grad_fn=<SqueezeBackward1>), tensor(-1.1072, grad_fn=<SqueezeBackward1>), tensor(-1.1073, grad_fn=<SqueezeBackward1>), tensor(-1.1072, grad_fn=<SqueezeBackward1>), tensor(-1.5402, grad_fn=<SqueezeBackward1>), tensor(-1.1089, grad_fn=<SqueezeBackward1>), tensor(-1.1090, grad_fn=<SqueezeBackward1>), tensor(-1.4882, grad_fn=<SqueezeBackward1>), tensor(-1.1105, grad_fn=<SqueezeBackward1>), tensor(-1.4919, grad_fn=<SqueezeBackward1>), tensor(-1.4924, grad_fn=<SqueezeBackward1>), tensor(-1.1136, grad_fn=<SqueezeBackward1>), tensor(-1.1144, grad_fn=<SqueezeBackward1>), tensor(-1.5152, grad_fn=<SqueezeBackward1>), tensor(-1.1558, grad_fn=<SqueezeBackward1>), tensor(-1.4183, grad_fn=<SqueezeBackward1>), tensor(-1.5606, grad_fn=<SqueezeBackward1>), tensor(-1.1531, grad_fn=<SqueezeBackward1>), tensor(-1.1519, grad_fn=<SqueezeBackward1>), tensor(-1.5632, grad_fn=<SqueezeBackward1>), tensor(-1.4115, grad_fn=<SqueezeBackward1>), tensor(-1.1494, grad_fn=<SqueezeBackward1>), tensor(-1.1484, grad_fn=<SqueezeBackward1>), tensor(-1.5658, grad_fn=<SqueezeBackward1>), tensor(-1.4721, grad_fn=<SqueezeBackward1>), tensor(-1.1490, grad_fn=<SqueezeBackward1>), tensor(-1.4097, grad_fn=<SqueezeBackward1>), tensor(-1.5652, grad_fn=<SqueezeBackward1>), tensor(-1.5666, grad_fn=<SqueezeBackward1>), tensor(-1.1471, grad_fn=<SqueezeBackward1>), tensor(-1.4795, grad_fn=<SqueezeBackward1>), tensor(-1.4788, grad_fn=<SqueezeBackward1>), tensor(-1.5642, grad_fn=<SqueezeBackward1>), tensor(-1.3981, grad_fn=<SqueezeBackward1>), tensor(-1.4836, grad_fn=<SqueezeBackward1>), tensor(-1.1503, grad_fn=<SqueezeBackward1>), tensor(-1.4846, grad_fn=<SqueezeBackward1>), tensor(-1.3980, grad_fn=<SqueezeBackward1>), tensor(-1.4855, grad_fn=<SqueezeBackward1>), tensor(-1.5591, grad_fn=<SqueezeBackward1>), tensor(-1.1525, grad_fn=<SqueezeBackward1>), tensor(-1.1516, grad_fn=<SqueezeBackward1>), tensor(-1.3951, grad_fn=<SqueezeBackward1>), tensor(-1.1505, grad_fn=<SqueezeBackward1>), tensor(-1.1499, grad_fn=<SqueezeBackward1>), tensor(-1.1495, grad_fn=<SqueezeBackward1>), tensor(-1.3956, grad_fn=<SqueezeBackward1>), tensor(-1.3946, grad_fn=<SqueezeBackward1>), tensor(-1.1490, grad_fn=<SqueezeBackward1>), tensor(-1.1488, grad_fn=<SqueezeBackward1>), tensor(-1.1487, grad_fn=<SqueezeBackward1>), tensor(-1.1487, grad_fn=<SqueezeBackward1>), tensor(-1.5481, grad_fn=<SqueezeBackward1>), tensor(-1.3961, grad_fn=<SqueezeBackward1>), tensor(-1.3953, grad_fn=<SqueezeBackward1>), tensor(-1.1506, grad_fn=<SqueezeBackward1>), tensor(-1.5435, grad_fn=<SqueezeBackward1>), tensor(-1.5058, grad_fn=<SqueezeBackward1>), tensor(-1.5053, grad_fn=<SqueezeBackward1>), tensor(-1.3930, grad_fn=<SqueezeBackward1>), tensor(-1.5340, grad_fn=<SqueezeBackward1>), tensor(-1.5083, grad_fn=<SqueezeBackward1>), tensor(-1.5075, grad_fn=<SqueezeBackward1>), tensor(-1.1673, grad_fn=<SqueezeBackward1>), tensor(-1.5216, grad_fn=<SqueezeBackward1>), tensor(-1.3883, grad_fn=<SqueezeBackward1>), tensor(-1.5199, grad_fn=<SqueezeBackward1>), tensor(-1.5125, grad_fn=<SqueezeBackward1>), tensor(-1.5120, grad_fn=<SqueezeBackward1>), tensor(-1.1804, grad_fn=<SqueezeBackward1>), tensor(-1.1807, grad_fn=<SqueezeBackward1>), tensor(-1.5121, grad_fn=<SqueezeBackward1>), tensor(-1.3834, grad_fn=<SqueezeBackward1>), tensor(-1.5011, grad_fn=<SqueezeBackward1>), tensor(-1.5160, grad_fn=<SqueezeBackward1>), tensor(-1.5156, grad_fn=<SqueezeBackward1>), tensor(-1.4782, grad_fn=<SqueezeBackward1>), tensor(-1.2579, grad_fn=<SqueezeBackward1>), tensor(-1.4075, grad_fn=<SqueezeBackward1>), tensor(-1.4639, grad_fn=<SqueezeBackward1>), tensor(-1.1587, grad_fn=<SqueezeBackward1>), tensor(-1.4633, grad_fn=<SqueezeBackward1>), tensor(-1.5619, grad_fn=<SqueezeBackward1>), tensor(-1.4658, grad_fn=<SqueezeBackward1>), tensor(-1.4036, grad_fn=<SqueezeBackward1>), tensor(-1.5619, grad_fn=<SqueezeBackward1>), tensor(-1.5645, grad_fn=<SqueezeBackward1>), tensor(-1.4714, grad_fn=<SqueezeBackward1>), tensor(-1.5666, grad_fn=<SqueezeBackward1>), tensor(-1.1588, grad_fn=<SqueezeBackward1>), tensor(-1.3891, grad_fn=<SqueezeBackward1>), tensor(-1.1568, grad_fn=<SqueezeBackward1>), tensor(-1.3872, grad_fn=<SqueezeBackward1>), tensor(-1.4821, grad_fn=<SqueezeBackward1>), tensor(-1.4812, grad_fn=<SqueezeBackward1>), tensor(-1.5664, grad_fn=<SqueezeBackward1>), tensor(-1.4831, grad_fn=<SqueezeBackward1>), tensor(-1.5675, grad_fn=<SqueezeBackward1>), tensor(-1.1573, grad_fn=<SqueezeBackward1>), tensor(-1.1563, grad_fn=<SqueezeBackward1>), tensor(-1.4892, grad_fn=<SqueezeBackward1>), tensor(-1.3802, grad_fn=<SqueezeBackward1>), tensor(-1.4904, grad_fn=<SqueezeBackward1>), tensor(-1.1586, grad_fn=<SqueezeBackward1>), tensor(-1.1576, grad_fn=<SqueezeBackward1>), tensor(-1.1567, grad_fn=<SqueezeBackward1>), tensor(-1.5656, grad_fn=<SqueezeBackward1>), tensor(-1.5674, grad_fn=<SqueezeBackward1>), tensor(-1.5690, grad_fn=<SqueezeBackward1>), tensor(-1.1554, grad_fn=<SqueezeBackward1>), tensor(-1.1546, grad_fn=<SqueezeBackward1>), tensor(-1.3684, grad_fn=<SqueezeBackward1>), tensor(-1.1535, grad_fn=<SqueezeBackward1>), tensor(-1.5697, grad_fn=<SqueezeBackward1>), tensor(-1.5109, grad_fn=<SqueezeBackward1>), tensor(-1.5101, grad_fn=<SqueezeBackward1>), tensor(-1.1564, grad_fn=<SqueezeBackward1>), tensor(-1.5120, grad_fn=<SqueezeBackward1>), tensor(-1.1564, grad_fn=<SqueezeBackward1>), tensor(-1.3656, grad_fn=<SqueezeBackward1>), tensor(-1.5150, grad_fn=<SqueezeBackward1>), tensor(-1.5138, grad_fn=<SqueezeBackward1>), tensor(-1.1610, grad_fn=<SqueezeBackward1>), tensor(-1.5533, grad_fn=<SqueezeBackward1>), tensor(-1.1610, grad_fn=<SqueezeBackward1>), tensor(-1.1607, grad_fn=<SqueezeBackward1>), tensor(-1.3626, grad_fn=<SqueezeBackward1>), tensor(-1.1607, grad_fn=<SqueezeBackward1>), tensor(-1.5496, grad_fn=<SqueezeBackward1>), tensor(-1.3591, grad_fn=<SqueezeBackward1>), tensor(-1.5261, grad_fn=<SqueezeBackward1>), tensor(-1.3592, grad_fn=<SqueezeBackward1>), tensor(-1.1633, grad_fn=<SqueezeBackward1>), tensor(-1.1634, grad_fn=<SqueezeBackward1>), tensor(-1.1637, grad_fn=<SqueezeBackward1>), tensor(-1.1642, grad_fn=<SqueezeBackward1>), tensor(-1.5358, grad_fn=<SqueezeBackward1>), tensor(-1.5317, grad_fn=<SqueezeBackward1>), tensor(-1.3600, grad_fn=<SqueezeBackward1>), tensor(-1.5289, grad_fn=<SqueezeBackward1>), tensor(-1.1716, grad_fn=<SqueezeBackward1>), tensor(-1.5258, grad_fn=<SqueezeBackward1>), tensor(-1.5251, grad_fn=<SqueezeBackward1>), tensor(-1.6313, grad_fn=<SqueezeBackward1>), tensor(-1.3096, grad_fn=<SqueezeBackward1>), tensor(-1.4179, grad_fn=<SqueezeBackward1>), tensor(-1.4167, grad_fn=<SqueezeBackward1>), tensor(-1.4518, grad_fn=<SqueezeBackward1>), tensor(-1.4985, grad_fn=<SqueezeBackward1>), tensor(-1.5030, grad_fn=<SqueezeBackward1>), tensor(-1.5075, grad_fn=<SqueezeBackward1>), tensor(-1.4386, grad_fn=<SqueezeBackward1>), tensor(-1.1971, grad_fn=<SqueezeBackward1>), tensor(-1.1950, grad_fn=<SqueezeBackward1>), tensor(-1.1931, grad_fn=<SqueezeBackward1>), tensor(-1.4260, grad_fn=<SqueezeBackward1>), tensor(-1.4399, grad_fn=<SqueezeBackward1>), tensor(-1.4387, grad_fn=<SqueezeBackward1>), tensor(-1.1881, grad_fn=<SqueezeBackward1>), tensor(-1.1866, grad_fn=<SqueezeBackward1>), tensor(-1.1851, grad_fn=<SqueezeBackward1>), tensor(-1.4416, grad_fn=<SqueezeBackward1>), tensor(-1.5267, grad_fn=<SqueezeBackward1>), tensor(-1.5295, grad_fn=<SqueezeBackward1>), tensor(-1.1798, grad_fn=<SqueezeBackward1>), tensor(-1.5332, grad_fn=<SqueezeBackward1>), tensor(-1.4358, grad_fn=<SqueezeBackward1>), tensor(-1.1785, grad_fn=<SqueezeBackward1>), tensor(-1.4326, grad_fn=<SqueezeBackward1>), tensor(-1.1760, grad_fn=<SqueezeBackward1>), tensor(-1.1747, grad_fn=<SqueezeBackward1>), tensor(-1.4338, grad_fn=<SqueezeBackward1>), tensor(-1.4329, grad_fn=<SqueezeBackward1>), tensor(-1.5400, grad_fn=<SqueezeBackward1>), tensor(-1.4420, grad_fn=<SqueezeBackward1>), tensor(-1.4280, grad_fn=<SqueezeBackward1>), tensor(-1.1708, grad_fn=<SqueezeBackward1>), tensor(-1.4282, grad_fn=<SqueezeBackward1>), tensor(-1.5438, grad_fn=<SqueezeBackward1>), tensor(-1.4244, grad_fn=<SqueezeBackward1>), tensor(-1.4233, grad_fn=<SqueezeBackward1>), tensor(-1.4500, grad_fn=<SqueezeBackward1>), tensor(-1.4227, grad_fn=<SqueezeBackward1>), tensor(-1.4216, grad_fn=<SqueezeBackward1>), tensor(-1.4529, grad_fn=<SqueezeBackward1>), tensor(-1.1670, grad_fn=<SqueezeBackward1>), tensor(-1.1662, grad_fn=<SqueezeBackward1>), tensor(-1.1654, grad_fn=<SqueezeBackward1>), tensor(-1.5429, grad_fn=<SqueezeBackward1>), tensor(-1.4549, grad_fn=<SqueezeBackward1>), tensor(-1.1662, grad_fn=<SqueezeBackward1>), tensor(-1.1655, grad_fn=<SqueezeBackward1>), tensor(-1.4558, grad_fn=<SqueezeBackward1>), tensor(-1.4542, grad_fn=<SqueezeBackward1>), tensor(-1.4268, grad_fn=<SqueezeBackward1>), tensor(-1.4540, grad_fn=<SqueezeBackward1>), tensor(-1.4278, grad_fn=<SqueezeBackward1>), tensor(-1.5293, grad_fn=<SqueezeBackward1>), tensor(-1.4553, grad_fn=<SqueezeBackward1>), tensor(-1.4270, grad_fn=<SqueezeBackward1>), tensor(-1.5259, grad_fn=<SqueezeBackward1>), tensor(-1.4236, grad_fn=<SqueezeBackward1>), tensor(-1.4577, grad_fn=<SqueezeBackward1>), tensor(-1.4218, grad_fn=<SqueezeBackward1>), tensor(-1.4207, grad_fn=<SqueezeBackward1>), tensor(-1.4196, grad_fn=<SqueezeBackward1>), tensor(-1.1763, grad_fn=<SqueezeBackward1>), tensor(-1.4200, grad_fn=<SqueezeBackward1>), tensor(-1.4190, grad_fn=<SqueezeBackward1>), tensor(-1.1752, grad_fn=<SqueezeBackward1>), tensor(-1.4652, grad_fn=<SqueezeBackward1>), tensor(-1.1792, grad_fn=<SqueezeBackward1>), tensor(-1.4191, grad_fn=<SqueezeBackward1>), tensor(-1.4182, grad_fn=<SqueezeBackward1>), tensor(-1.4173, grad_fn=<SqueezeBackward1>), tensor(-1.4164, grad_fn=<SqueezeBackward1>), tensor(-1.4702, grad_fn=<SqueezeBackward1>), tensor(-1.1825, grad_fn=<SqueezeBackward1>), tensor(-1.4695, grad_fn=<SqueezeBackward1>), tensor(-1.5050, grad_fn=<SqueezeBackward1>), tensor(-1.4131, grad_fn=<SqueezeBackward1>), tensor(-1.4720, grad_fn=<SqueezeBackward1>), tensor(-1.4107, grad_fn=<SqueezeBackward1>), tensor(-1.4096, grad_fn=<SqueezeBackward1>), tensor(-1.1909, grad_fn=<SqueezeBackward1>), tensor(-1.4995, grad_fn=<SqueezeBackward1>), tensor(-1.1916, grad_fn=<SqueezeBackward1>), tensor(-1.4796, grad_fn=<SqueezeBackward1>), tensor(-1.1972, grad_fn=<SqueezeBackward1>), tensor(-1.4896, grad_fn=<SqueezeBackward1>), tensor(-1.4807, grad_fn=<SqueezeBackward1>), tensor(-1.2024, grad_fn=<SqueezeBackward1>), tensor(-1.4808, grad_fn=<SqueezeBackward1>), tensor(-1.4792, grad_fn=<SqueezeBackward1>), tensor(-1.2068, grad_fn=<SqueezeBackward1>), tensor(-1.4766, grad_fn=<SqueezeBackward1>), tensor(-1.4860, grad_fn=<SqueezeBackward1>), tensor(-1.2140, grad_fn=<SqueezeBackward1>), tensor(-1.4680, grad_fn=<SqueezeBackward1>), tensor(-1.4879, grad_fn=<SqueezeBackward1>), tensor(-1.3958, grad_fn=<SqueezeBackward1>), tensor(-1.4883, grad_fn=<SqueezeBackward1>), tensor(-1.4579, grad_fn=<SqueezeBackward1>), tensor(-1.2285, grad_fn=<SqueezeBackward1>), tensor(-1.2287, grad_fn=<SqueezeBackward1>), tensor(-1.3901, grad_fn=<SqueezeBackward1>), tensor(-1.3886, grad_fn=<SqueezeBackward1>), tensor(-1.4973, grad_fn=<SqueezeBackward1>), tensor(-1.4958, grad_fn=<SqueezeBackward1>), tensor(-1.2442, grad_fn=<SqueezeBackward1>), tensor(-1.2591, grad_fn=<SqueezeBackward1>), tensor(-1.4139, grad_fn=<SqueezeBackward1>), tensor(-1.5171, grad_fn=<SqueezeBackward1>)]\n",
            "logs prob looks like  torch.Size([426])\n",
            "torch.from_numpy(rewards) looks like  torch.Size([426])\n"
          ]
        }
      ],
      "source": [
        "agent.train()  \n",
        "# Switch network into training mode \n",
        "# 转换为train模式 \n",
        "EPISODE_PER_BATCH = 5  \n",
        "# update the  agent every 5 episode\n",
        "# 每5个episode更新一次agent\n",
        "\n",
        "NUM_BATCH = 500      \n",
        "# totally update the agent for 400 time（？）\n",
        "# 一共更新500次\n",
        "\n",
        "avg_total_rewards, avg_final_rewards = [], []\n",
        "\n",
        "prg_bar = tqdm(range(NUM_BATCH))\n",
        "\n",
        "flag_print = 0\n",
        "#控制显示的条数，防止浏览器卡死\n",
        "\n",
        "#Medium: accumulative decaying reward\n",
        "def accu_decay_reward(rewards):\n",
        "  accu_reward = 0\n",
        "  decay = 0.99 #衰减因子\n",
        "  rewards_len = len(rewards)\n",
        "  accu_rewards = [0]*(rewards_len + 1)\n",
        "\n",
        "  for x in range(rewards_len):\n",
        "    accu_rewards[rewards_len-1-x] = decay*accu_rewards[rewards_len-x] + rewards[rewards_len-1-x]\n",
        "  del(accu_rewards[-1])\n",
        "  #print(accu_rewards)\n",
        "  return accu_rewards\n",
        "  \n",
        "    \n",
        "\n",
        "\n",
        "\n",
        "for batch in prg_bar:\n",
        "# 500个batch\n",
        "\n",
        "    log_probs, rewards = [], []\n",
        "    total_rewards, final_rewards = [], []\n",
        "\n",
        "    # collect trajectory\n",
        "    for episode in range(EPISODE_PER_BATCH):\n",
        "      #每个batch有5个episode\n",
        "        \n",
        "        state = env.reset()\n",
        "        total_reward, total_step = 0, 0\n",
        "        seq_rewards = []\n",
        "        while True:\n",
        "\n",
        "            action, log_prob = agent.sample(state) \n",
        "            # at, log(at|st)\n",
        "            #动作种类和这一动作的log概率\n",
        "            next_state, reward, done, _ = env.step(action)\n",
        "            log_probs.append(log_prob) # [log(a1|s1), log(a2|s2), ...., log(at|st)]\n",
        "            #存储log_prob\n",
        "\n",
        "            # seq_rewards.append(reward)\n",
        "            state = next_state   #不太能理解为啥要有 state和next_state之分\n",
        "            total_reward += reward\n",
        "            total_step += 1\n",
        "            #更新参数\n",
        "\n",
        "            rewards.append(reward) # change here\n",
        "            #TODO：需要改变的部分\n",
        "            \n",
        "            # ! IMPORTANT !\n",
        "            # Current reward implementation: immediate reward,  \n",
        "            # given action_list : a1, a2, a3 ......\n",
        "            #  rewards :     r1, r2 ,r3 ......\n",
        "            # medium：change \"rewards\" to accumulative decaying reward, \n",
        "            # given action_list : a1,a2,a3, ......\n",
        "            # rewards :   r1+0.99*r2+0.99^2*r3+......, r2+0.99*r3+0.99^2*r4+...... ,  r3+0.99*r4+0.99^2*r5+ ......\n",
        "            # boss : implement Actor-Critic\n",
        "\n",
        "            #目前的：只存储当前的reward\n",
        "            #medium：积累延迟reward\n",
        "            #boss：采用Actor-Critic\n",
        "\n",
        "            if done:\n",
        "                final_rewards.append(reward)\n",
        "                total_rewards.append(total_reward)\n",
        "                break\n",
        "            #一个episode完成后，记录final reward和total reward\n",
        "\n",
        "\n",
        "    if flag_print%100==0:\n",
        "      print(f\"rewards looks like \", np.shape(rewards))\n",
        "    #log_probs_shape = np.array(log_probs).detach().shape\n",
        "    #AttributeError: 'list' object has no attribute 'shape'\n",
        "    #RuntimeError: Can't call numpy() on Tensor that requires grad. Use tensor.detach().numpy() instead.\n",
        "    #print(f\"log_probs looks like \", np.shape(log_probs)) \n",
        "      print(f\"log_probs looks like \", log_probs) \n",
        "    \n",
        "    #源代码每完成一个batch就要显示一大堆信息，容易卡死，这里让它只显示一次\n",
        "\n",
        "\n",
        "    # record training process\n",
        "    avg_total_reward = sum(total_rewards) / len(total_rewards)\n",
        "    avg_final_reward = sum(final_rewards) / len(final_rewards)\n",
        "    avg_total_rewards.append(avg_total_reward)\n",
        "    avg_final_rewards.append(avg_final_reward)\n",
        "    prg_bar.set_description(f\"Total: {avg_total_reward: 4.1f}, Final: {avg_final_reward: 4.1f}\")\n",
        "    #计算平均的total和final reward，并显示这俩\n",
        "\n",
        "    # update agent 更新agent\n",
        "    # rewards = np.concatenate(rewards, axis=0)\n",
        "    rewards=accu_decay_reward(rewards)\n",
        "    rewards = (rewards - np.mean(rewards)) / (np.std(rewards) + 1e-9)  \n",
        "    # normalize the reward  标准化reward\n",
        "    # std：标准差\n",
        "\n",
        "    \n",
        "\n",
        "    #agent.learn(torch.stack(log_probs), torch.from_numpy(rewards))\n",
        "\n",
        "    agent.learn(torch.stack(log_probs), torch.tensor(rewards))\n",
        "    #调用learn()更新agent\n",
        "    #torch.from_numpy()把numpy中的向量转化为torch中的张量，共享内存空间\n",
        "    #torch.stack()拼接张量，不太清楚这里是怎么拼接的\n",
        "\n",
        "\n",
        "\n",
        "    if flag_print%100==0:\n",
        "      print(\"logs prob looks like \", torch.stack(log_probs).size())\n",
        "      print(\"torch.from_numpy(rewards) looks like \", torch.from_numpy(rewards).size())\n",
        "      flag_print+=1\n",
        "    #显示信息x2\n",
        "\n",
        "\n"
      ]
    },
    {
      "cell_type": "code",
      "execution_count": null,
      "metadata": {
        "colab": {
          "background_save": true
        },
        "id": "9Wcuqa0dOZiw"
      },
      "outputs": [],
      "source": [
        "#rewards = [1,1,1,1,1,1,1,1,1,1]\n",
        "def accu_decay_reward(rewards):\n",
        "  accu_reward = 0\n",
        "  decay = 0.99 #衰减因子\n",
        "  rewards_len = len(rewards)\n",
        "  accu_rewards = [0]*(rewards_len + 1)\n",
        "\n",
        "  for x in range(rewards_len):\n",
        "    accu_rewards[rewards_len-1-x] = decay*accu_rewards[rewards_len-x] + rewards[rewards_len-1-x]\n",
        "  del(accu_rewards[-1])\n",
        "  print(accu_rewards)\n",
        "  return accu_rewards\n",
        "#print(accu_decay_reward(rewards))"
      ]
    },
    {
      "cell_type": "markdown",
      "metadata": {
        "id": "vNb_tuFYhKVK"
      },
      "source": [
        "### Training Result\n",
        "During the training process, we recorded `avg_total_reward`, which represents the average total reward of episodes before updating the policy network.\n",
        "\n",
        "Theoretically, if the agent becomes better, the `avg_total_reward` will increase.\n",
        "The visualization of the training process is shown below:  \n",
        "  \n",
        "\n",
        "###训练结果  \n",
        "通过训练过程，我们记录了“avg_total_reward”,它表示在更新policy network之前的平均的total reward  \n",
        "理论上，如果agent变好了，那么avg_total_reward也会增加。  \n",
        "训练过程的可视化图像见下"
      ]
    },
    {
      "cell_type": "code",
      "execution_count": null,
      "metadata": {
        "colab": {
          "background_save": true
        },
        "id": "wZYOI8H10SHN",
        "outputId": "c8d26f14-da20-44ea-dd16-16e5794f7e29"
      },
      "outputs": [
        {
          "data": {
            "image/png": "[encoded data removed]",
            "text/plain": [
              "<Figure size 640x480 with 1 Axes>"
            ]
          },
          "metadata": {},
          "output_type": "display_data"
        }
      ],
      "source": [
        "plt.plot(avg_total_rewards)\n",
        "plt.title(\"Total Rewards\")\n",
        "plt.show()\n",
        "\n",
        "#横坐标为batch，纵坐标为avg_total_rewards"
      ]
    },
    {
      "cell_type": "markdown",
      "metadata": {
        "id": "mV5jj4dThz0Y"
      },
      "source": [
        "In addition, `avg_final_reward` represents average final rewards of episodes. To be specific, final rewards is the last reward received in one episode, indicating whether the craft lands successfully or not.  \n",
        "  \n",
        "另外，avg_final_reward代表了每个episode的平均final reward  \n",
        "特别的，final reward是一个episode中最后一次获得的reward，表明飞行器是否成功着陆\n"
      ]
    },
    {
      "cell_type": "code",
      "execution_count": null,
      "metadata": {
        "colab": {
          "background_save": true
        },
        "id": "txDZ5vlGWz5w",
        "outputId": "59f7284e-824e-4091-bc55-617470dabc75"
      },
      "outputs": [
        {
          "data": {
            "image/png": "[encoded data removed]",
            "text/plain": [
              "<Figure size 640x480 with 1 Axes>"
            ]
          },
          "metadata": {},
          "output_type": "display_data"
        }
      ],
      "source": [
        "plt.plot(avg_final_rewards)\n",
        "plt.title(\"Final Rewards\")\n",
        "plt.show()\n",
        "\n",
        "#横坐标为batch，纵坐标为avg_final_rewards"
      ]
    },
    {
      "cell_type": "markdown",
      "metadata": {
        "id": "u2HaGRVEYGQS"
      },
      "source": [
        "## Testing\n",
        "The testing result will be the average reward of 5 testing  \n",
        "测试结果是五次测试(5个episode，1个batch)的reward的平均值"
      ]
    },
    {
      "cell_type": "code",
      "execution_count": null,
      "metadata": {
        "colab": {
          "background_save": true
        },
        "id": "5yFuUKKRYH73",
        "outputId": "f1907c79-68a9-435e-e0b4-034077eec603"
      },
      "outputs": [
        {
          "name": "stderr",
          "output_type": "stream",
          "text": [
            "/usr/local/lib/python3.10/dist-packages/gym/core.py:43: DeprecationWarning: \u001b[33mWARN: The argument mode in render method is deprecated; use render_mode during environment initialization instead.\n",
            "See here for more information: https://www.gymlibrary.ml/content/api/\u001b[0m\n",
            "  deprecation(\n"
          ]
        },
        {
          "name": "stdout",
          "output_type": "stream",
          "text": [
            "155.72179148541017\n",
            "155.72179148541017\n",
            "-4.930312628114407\n",
            "75.39573942864789\n",
            "134.45019024038697\n",
            "95.08055636589425\n",
            "-53.41870419181353\n",
            "57.9557412264673\n",
            "1.0175395279663348\n",
            "46.56810088676711\n"
          ]
        },
        {
          "data": {
            "image/png": "[encoded data removed]",
            "text/plain": [
              "<Figure size 640x480 with 1 Axes>"
            ]
          },
          "metadata": {},
          "output_type": "display_data"
        }
      ],
      "source": [
        "#测试部分和训练部分基本一样\n",
        "\n",
        "fix(env, seed)\n",
        "agent.eval()  # set the network into evaluation mode  改成evaluation mode\n",
        "NUM_OF_TEST = 5 # Do not revise this !!!  不要更改！！！\n",
        "test_total_reward = []\n",
        "action_list = []\n",
        "for i in range(NUM_OF_TEST):\n",
        "  actions = []\n",
        "  state = env.reset()\n",
        "\n",
        "  img = plt.imshow(env.render(mode='rgb_array'))\n",
        "\n",
        "  total_reward = 0\n",
        "\n",
        "  done = False\n",
        "  while not done:\n",
        "      action, _ = agent.sample(state)\n",
        "      actions.append(action)\n",
        "      state, reward, done, _ = env.step(action)\n",
        "\n",
        "      total_reward += reward\n",
        "\n",
        "      #img.set_data(env.render(mode='rgb_array'))\n",
        "      #display.display(plt.gcf())\n",
        "      #display.clear_output(wait=True)\n",
        "      \n",
        "  print(total_reward)\n",
        "  test_total_reward.append(total_reward)\n",
        "\n",
        "  action_list.append(actions) # save the result of testing \n",
        "  print(np.mean(test_total_reward))\n"
      ]
    },
    {
      "cell_type": "markdown",
      "metadata": {
        "id": "leyebGYRpqsF"
      },
      "source": [
        "## 示例部分\n",
        "Action list  \n",
        "动作列表"
      ]
    },
    {
      "cell_type": "code",
      "execution_count": null,
      "metadata": {
        "colab": {
          "background_save": true
        },
        "id": "hGAH4YWDpp4u",
        "outputId": "4e4c556c-0137-4463-ed8b-b4e1ab4f9af1"
      },
      "outputs": [
        {
          "name": "stdout",
          "output_type": "stream",
          "text": [
            "Action list looks like  [[0, 2, 2, 2, 2, 1, 1, 1, 2, 2, 2, 2, 3, 2, 3, 2, 0, 2, 2, 2, 3, 2, 2, 2, 2, 3, 2, 2, 2, 0, 3, 2, 1, 2, 2, 3, 2, 3, 3, 1, 2, 2, 3, 1, 2, 2, 3, 2, 2, 2, 2, 3, 3, 3, 2, 2, 3, 2, 2, 1, 1, 2, 2, 2, 2, 2, 2, 3, 2, 2, 2, 2, 1, 2, 3, 2, 2, 1, 2, 2, 3, 2, 3, 3, 2, 2, 1, 2, 2, 2, 3, 2, 2, 3, 1, 2, 2, 3, 1, 2, 2, 2, 2, 1, 0, 2, 2, 1, 2, 2, 1, 2, 3, 2, 0, 2, 2, 3, 3, 2, 1, 2, 2, 2, 2, 3, 2, 2, 2, 3, 3, 2, 2, 2, 2, 2, 2, 3, 3, 2, 2, 2, 3, 2, 2, 3, 0, 3, 3, 3, 3, 3, 3, 3, 3, 3, 3, 3, 3, 0, 1, 3, 3, 1, 3, 3, 3, 2, 3, 3, 0, 0, 3, 3, 3, 1, 3, 3, 3, 3, 3, 3, 3, 3, 0, 3, 3, 0, 1, 3, 3, 3, 3, 3, 3, 3, 3, 1, 3, 3, 3, 3, 0, 3, 3, 3, 3, 3, 3, 3, 3, 3, 3, 3, 1, 3, 0, 3, 3, 1, 3, 3, 0, 3, 3, 3, 0, 3, 3, 1, 3, 3, 3, 0, 0, 3, 3, 3, 3, 3, 3, 3, 3, 3, 0, 3, 1, 3, 3, 3, 1, 3, 3, 0, 3, 3, 3, 3, 0, 2, 3, 1, 3, 3, 3, 3, 3, 3, 3, 0, 3, 3, 3, 3, 3, 3, 3, 3, 3, 0, 1, 0, 0, 3, 3, 1, 3, 3, 3, 3, 1, 3, 3, 3, 3, 3, 3, 0, 0, 3, 3, 0, 3, 3, 3, 3, 1, 3, 3, 0, 2, 3, 3, 0, 3, 3, 1, 3, 3, 3, 3, 3, 3, 3, 3, 3, 0, 3, 1, 0, 3, 0, 1, 3, 3, 3, 3, 3, 0, 1, 3, 3, 1, 3, 3, 3, 3, 1, 0, 3, 3, 3, 1, 3, 1, 0, 3, 0, 3, 3, 0, 3, 0, 0, 3, 3, 3, 3, 0, 3, 3, 3, 3, 2, 3, 3, 3, 0, 3, 3, 3, 3, 3, 3, 3, 0, 0, 3, 3, 3, 3, 3, 1, 3, 1, 3, 2, 3, 3, 0, 3, 3, 3, 3, 3, 3, 3, 0, 3, 3, 1, 3, 3, 3, 0, 3, 0, 3, 3, 1, 1, 2, 3, 0, 3, 3, 3, 0, 3, 1, 3, 2, 3, 0, 1, 3, 3, 3, 3, 3, 0, 2, 3, 0, 0, 1, 3, 3, 1, 1, 0, 3, 1, 3, 0, 1, 3, 0, 2, 3, 0, 3, 2, 3, 1, 3, 3, 3, 0, 3, 3, 3, 0, 0, 3, 3, 3, 3, 3, 1, 3, 3, 1, 3, 3, 1, 3, 3, 3, 0, 3, 3, 0, 1, 3, 3, 3, 1, 3, 0, 3, 3, 3, 3, 3, 0, 2, 3, 3, 3, 3, 3, 1, 1, 3, 3, 0, 3, 3, 0, 3, 3, 3, 3, 0, 0, 3, 3, 3, 2, 3, 2, 2, 3, 1, 2, 3, 2, 1, 1, 1, 1, 3, 3, 3, 3, 3, 3, 3, 0, 3, 3, 3, 1, 1, 0, 0, 3, 3, 3, 3, 3, 3, 3, 3, 1, 0, 0, 3, 1, 3, 0, 3, 0, 3, 0, 3, 1, 3, 3, 3, 3, 3, 1, 3, 0, 3, 0, 0, 3, 3, 3, 3, 3, 3, 0, 3, 3, 3, 3, 3, 3, 3, 3, 3, 3, 3, 0, 0, 0, 3, 3, 3, 3, 1, 3, 3, 1, 0, 3, 3, 3, 0, 3, 0, 1, 1, 3, 3, 3, 1, 0, 3, 0, 3, 3, 3, 3, 1, 3, 3, 0, 3, 0, 3, 3, 1, 3, 3, 2, 3, 3, 3, 0, 3, 2, 0, 0, 3, 0, 3, 1, 1, 0, 3, 0, 3, 3, 3, 3, 3, 3, 3, 3, 3, 0, 3, 3, 0, 3, 3, 3, 3, 1, 3, 3, 3, 1, 0, 0, 3, 3, 1, 3, 0, 0, 0, 2, 3, 0, 3, 3, 0, 0, 3, 0, 3, 3, 3, 3, 0, 3, 0, 3, 0, 3, 3, 0, 3, 3, 3, 3, 3, 3, 3, 3, 1, 3, 3, 3, 3, 0, 3, 3, 3, 3, 3, 0, 3, 3, 3, 3, 3, 3, 3, 3, 1, 3, 3, 3, 1, 0, 3, 1, 3, 1, 3, 1, 3, 1, 0, 3, 1, 3, 3, 0, 3, 3, 3, 3, 3, 3, 3, 1, 3, 3, 3, 3, 3, 3, 1, 3, 3, 0, 1, 3, 3, 3, 3, 3, 0, 3, 0, 3, 0, 3, 3, 0, 3, 0, 3, 3, 3, 3, 1, 3, 3, 3, 3, 3, 3, 3, 3, 3, 2, 3, 1, 3, 3, 0, 1, 1, 0, 3, 1, 1, 3, 3, 3, 3, 1, 3, 3, 1, 0, 3, 3, 3, 3, 3, 3, 1, 3, 3, 3, 1, 3, 3, 0, 3, 3, 3, 0, 3, 0, 3, 3, 0, 3, 3, 3, 3, 3, 3, 3, 3, 3, 3, 3, 3, 1, 0, 3, 1, 1, 3, 0, 0, 3, 0, 1, 1, 3, 3, 3, 3, 0, 3, 3, 3, 3, 3, 0, 3, 0, 3, 1, 3, 3, 3, 3, 0, 3, 3, 3, 3, 3, 0, 3, 3, 3, 3, 0, 3, 0, 0, 3, 3, 3, 1, 3, 0, 3, 3, 3, 3, 1, 3, 0, 3, 1, 3, 3, 3, 1, 3, 2, 3, 1, 1, 3, 1, 3, 3, 3, 3, 0, 3, 3, 0, 1, 3, 3, 3, 1, 1, 0, 0, 3, 3, 3, 3, 0, 3, 3, 3, 1, 3, 3, 1, 0, 3, 0, 3, 3, 3, 3, 0, 3, 3, 3, 3, 1, 0, 3, 0, 0, 3, 3, 3, 3, 1, 1, 0, 3, 1, 1, 3, 3, 3], [3, 3, 3, 3, 3, 2, 2, 2, 1, 3, 3, 2, 3, 2, 2, 3, 3, 2, 3, 2, 1, 2, 3, 2, 1, 3, 1, 3, 2, 1, 1, 2, 1, 2, 2, 1, 2, 2, 2, 2, 1, 2, 2, 1, 1, 2, 2, 2, 3, 2, 2, 0, 1, 1, 3, 1, 3, 2, 2, 2, 2, 2, 2, 1, 1, 3, 2, 1, 2, 2, 2, 2, 1, 2, 1, 2, 2, 1, 2, 3, 2, 3, 3, 2, 3, 3, 2, 2, 2, 2, 2, 0, 1, 2, 2, 2, 2, 2, 2, 2, 0, 2, 2, 2, 3, 0, 1, 2, 2, 2, 2, 2, 1, 1, 2, 1, 2, 2, 2, 1, 2, 2, 0, 3, 2, 2, 2, 2, 3, 2, 3, 2, 2, 2, 1, 2, 2, 1, 1, 2, 2, 1, 3, 2, 3, 3, 3, 3, 3, 3, 3, 3, 3, 3], [2, 1, 1, 1, 1, 1, 2, 1, 2, 1, 2, 2, 2, 2, 2, 1, 3, 1, 2, 3, 3, 3, 3, 2, 2, 2, 2, 3, 2, 1, 3, 1, 3, 3, 2, 2, 3, 2, 2, 1, 3, 3, 3, 2, 2, 2, 3, 2, 2, 2, 2, 0, 2, 3, 3, 2, 3, 1, 3, 2, 2, 2, 2, 2, 2, 1, 3, 2, 0, 2, 3, 2, 2, 2, 3, 2, 2, 1, 3, 2, 3, 2, 2, 2, 1, 2, 2, 3, 2, 2, 3, 1, 2, 2, 1, 2, 2, 2, 1, 2, 1, 2, 1, 1, 1, 1, 2, 2, 2, 3, 2, 3, 1, 1, 2, 2, 2, 1, 2, 2, 2, 2, 2, 2, 1, 2, 2, 3, 2, 2, 2, 2, 2, 2, 2, 2, 1, 2, 2, 1, 0, 1, 3, 1, 2, 1, 1, 1, 1, 1, 1, 1, 1, 1, 1, 1, 1, 1, 1, 1, 1, 0, 1, 1, 3, 1, 1, 1, 1, 1, 1, 0, 1, 1, 1, 0, 0, 1, 1, 3, 1, 1, 0, 1, 1, 0, 1, 3, 1, 0, 1, 1, 1, 0, 0, 1, 1, 1, 1, 1, 1, 1, 3, 1, 1, 1, 3, 3, 0, 1, 0, 3, 1, 0, 3, 0, 1, 0, 0, 0, 1, 0, 0, 1, 0, 1, 0, 0, 0, 0, 3, 1, 3, 3, 0, 3, 0, 0, 3, 3, 1, 2, 1, 3, 0, 1, 3, 3, 1, 3, 1, 1, 3, 0, 0, 3, 3, 1, 1, 0, 0, 3, 3, 1, 1, 3, 0, 1, 1, 1, 0, 3, 1, 1, 0, 3, 3, 0, 0, 0, 3, 1, 3, 1, 1, 3, 1, 0, 0, 0, 3, 1, 3, 3, 1, 2, 3, 2, 1, 1, 1, 1, 1, 0, 0, 0, 1, 1, 0, 1, 3, 3, 3, 1, 1, 3, 1, 3, 3, 1, 3, 3, 1, 0, 1, 1, 1, 1, 1, 3, 3, 0, 1, 3, 3, 1, 0, 0, 1, 3, 1, 3, 3, 3, 3, 0, 1, 0, 1, 3, 3, 1, 3, 1, 1, 1, 2, 3, 1, 3, 3, 3, 1, 3, 0, 0, 0, 3, 3, 1, 1, 3, 3, 0, 3, 0, 1, 3, 3, 1, 3, 3, 0, 3, 0, 0, 1, 3, 0, 2, 3, 1, 2, 0, 3, 0, 3, 0, 0, 3, 1, 0, 0, 3, 3, 3, 3, 3, 2, 3, 1, 0, 3, 0, 1, 1, 3, 0, 1, 1, 0, 3, 3, 3, 3, 1, 0, 3, 1, 3, 3, 1, 3, 2, 1, 0, 3, 3, 3, 3, 3, 3, 3, 1, 3, 3, 3, 1, 1, 0, 3, 3, 3, 3, 3, 1, 3, 3, 1, 0, 3, 1, 0, 3, 0, 3, 0, 3, 3, 1, 1, 3, 1, 3, 3, 0, 3, 3, 1, 3, 3, 3, 3, 3, 3, 3, 1, 3, 3, 3, 0, 3, 1, 0, 3, 3, 3, 3, 1, 3, 1, 3, 1, 0, 3, 3, 3, 3, 3, 1, 0, 0, 3, 0, 3, 3, 3, 3, 3, 3, 3, 0, 3, 3, 1, 0, 0, 3, 3, 3, 0, 3, 3, 1, 3, 2, 3, 1, 2, 3, 3, 3, 1, 3, 3, 3, 3, 3, 1, 3, 3, 3, 3, 3, 3, 3, 3, 0, 3, 1, 1, 3, 3, 1, 0, 3, 3, 3, 3, 1, 0, 0, 1, 3, 3, 1, 3, 3, 3, 0, 3, 0, 3, 3, 3, 1, 3, 1, 3, 1, 3, 3, 1, 3, 3, 3, 3, 0, 3, 3, 1, 3, 1, 3, 3, 0, 0, 3, 3, 3, 3, 3, 3, 0, 1, 3, 3, 0, 3, 1, 3, 3, 3, 3, 3, 3, 0, 1, 3, 3, 1, 2, 2, 1, 3, 1, 1, 1, 1, 1, 0, 3, 3, 3, 2, 3, 3, 3, 3, 3, 3, 3, 3, 3, 3, 3, 0, 3, 3, 3, 0, 3, 3, 0, 0, 1, 3, 3, 3, 0, 3, 3, 3, 0, 3, 3, 1, 3, 3, 3, 3, 0, 3, 1, 3, 3, 1, 1, 3, 3, 1, 0, 0, 3, 3, 3, 3, 3, 0, 3, 3, 3, 1, 0, 0, 3, 3, 3, 3, 3, 0, 3, 3, 0, 3, 3, 3, 3, 3, 3, 3, 3, 1, 3, 0, 1, 3, 3, 3, 3, 3, 0, 0, 0, 3, 3, 1, 0, 3, 3, 0, 3, 3, 3, 3, 0, 3, 3, 3, 3, 3, 1, 3, 3, 3, 0, 1, 3, 3, 3, 3, 3, 0, 3, 3, 3, 3, 0, 0, 0, 1, 3, 3, 3, 0, 3, 3, 3, 3, 3, 3, 3, 3, 0, 3, 3, 1, 3, 3, 3, 3, 0, 3, 0, 0, 1, 1, 0, 3, 0, 3, 1, 3, 0, 3, 3, 3, 3, 3, 3, 3, 3, 0, 3, 1, 3, 3, 1, 3, 3, 3, 1, 3, 1, 3, 3, 3, 3, 3, 3, 1, 3, 3, 1, 3, 3, 3, 0, 0, 3, 3, 0, 3, 3, 3, 0, 3, 3, 1, 0, 3, 3, 3, 3, 3, 3, 0, 3, 3, 3, 3, 3, 1, 3, 3, 3, 3, 3, 3, 0, 3, 3, 3, 3, 3, 1, 1, 0, 0, 3, 3, 3, 3, 3, 3, 3, 3, 3, 1, 0, 3, 1, 0, 0, 0, 3, 0, 3, 3, 0, 2, 0, 1, 1, 0, 0, 3, 3, 1, 0, 1, 1, 3, 3, 0, 3, 3, 2, 3, 3, 1, 0, 0, 3, 1, 3, 3, 3, 3, 2, 0, 1, 3, 0, 0, 3, 1, 3, 1, 3, 0, 3, 3, 2, 0, 3, 3, 3, 0, 3, 0, 3, 3, 1, 1, 0, 3, 0, 3, 3, 3, 3, 1, 1, 3, 2, 3, 3, 0, 3, 3, 3, 3, 0, 3, 3, 0, 0, 3, 3, 1, 3, 3, 0, 0, 0, 3, 3, 3, 0, 3, 0, 3, 3, 0, 3, 0, 3, 0, 3], [1, 1, 1, 1, 1, 1, 1, 1, 1, 1, 1, 0, 1, 0, 1, 3, 3, 0, 1, 1, 3, 1, 2, 3, 3, 2, 3, 3, 3, 1, 3, 3, 1, 0, 1, 2, 3, 2, 2, 3, 3, 2, 2, 3, 2, 2, 2, 3, 2, 3, 3, 2, 2, 2, 2, 3, 2, 2, 2, 2, 2, 1, 3, 2, 2, 2, 2, 2, 2, 2, 3, 2, 2, 2, 3, 3, 3, 2, 1, 3, 3, 2, 2, 0, 2, 3, 2, 3, 2, 2, 1, 3, 2, 2, 2, 2, 2, 2, 2, 1, 2, 2, 1, 1, 2, 0, 2, 1, 1, 2, 2, 1, 1, 2, 2, 1, 1, 2, 1, 1, 2, 2, 2, 1, 1, 2, 2, 2, 0, 2, 1, 2, 2, 2, 2, 2, 2, 1, 1, 2, 2, 2, 2, 0, 2, 3, 3, 3, 3, 3, 3, 3, 3, 2, 3, 3, 3, 3, 3, 3, 3], [1, 1, 1, 1, 2, 1, 2, 1, 1, 2, 2, 2, 2, 3, 2, 3, 1, 3, 2, 2, 3, 3, 2, 2, 2, 2, 2, 2, 2, 2, 3, 2, 3, 2, 3, 3, 1, 2, 1, 3, 2, 3, 2, 2, 3, 2, 1, 2, 2, 3, 2, 1, 2, 2, 3, 3, 2, 2, 2, 3, 0, 2, 2, 2, 3, 2, 3, 2, 3, 2, 3, 2, 2, 2, 2, 2, 1, 2, 3, 2, 2, 2, 2, 2, 2, 2, 1, 1, 1, 2, 1, 1, 2, 2, 1, 2, 2, 1, 2, 2, 1, 2, 2, 1, 1, 3, 2, 1, 2, 2, 2, 1, 2, 2, 2, 1, 2, 2, 2, 2, 2, 2, 3, 3, 3, 3, 3, 3, 3, 3, 3]]\n",
            "Action list's shape looks like  (5,)\n"
          ]
        },
        {
          "name": "stderr",
          "output_type": "stream",
          "text": [
            "/usr/local/lib/python3.10/dist-packages/numpy/core/fromnumeric.py:2007: VisibleDeprecationWarning: Creating an ndarray from ragged nested sequences (which is a list-or-tuple of lists-or-tuples-or ndarrays with different lengths or shapes) is deprecated. If you meant to do this, you must specify 'dtype=object' when creating the ndarray.\n",
            "  result = asarray(a).shape\n"
          ]
        }
      ],
      "source": [
        "print(\"Action list looks like \", action_list)\n",
        "print(\"Action list's shape looks like \", np.shape(action_list))\n",
        "\n",
        "# 5代表5次episode"
      ]
    },
    {
      "cell_type": "markdown",
      "metadata": {
        "id": "fNkmwucrHMen"
      },
      "source": [
        "Analysis of actions taken by agent  \n",
        "agent的动作分析\n",
        "\n",
        "就是统计了一下上边action list里边各种动作的数目"
      ]
    },
    {
      "cell_type": "code",
      "execution_count": null,
      "metadata": {
        "colab": {
          "background_save": true
        },
        "id": "WHdAItjj1nxw",
        "outputId": "92105e6c-528e-49fd-a8d2-94b7e7f90bb4"
      },
      "outputs": [
        {
          "name": "stdout",
          "output_type": "stream",
          "text": [
            "{0: 350, 2: 438, 1: 462, 3: 1196}\n"
          ]
        }
      ],
      "source": [
        "distribution = {}\n",
        "for actions in action_list:\n",
        "  for action in actions:\n",
        "    if action not in distribution.keys():\n",
        "      distribution[action] = 1\n",
        "    else:\n",
        "      distribution[action] += 1\n",
        "print(distribution)"
      ]
    },
    {
      "cell_type": "markdown",
      "metadata": {
        "id": "ricE0schY75M"
      },
      "source": [
        "Saving the result of Model Testing  \n",
        "保存测试的结果\n"
      ]
    },
    {
      "cell_type": "code",
      "execution_count": null,
      "metadata": {
        "colab": {
          "background_save": true
        },
        "id": "GZsMkGmIY42b",
        "outputId": "069ab8ee-1a81-4ee1-dea7-93ffa15e1b9c"
      },
      "outputs": [
        {
          "name": "stderr",
          "output_type": "stream",
          "text": [
            "<ipython-input-26-fd322f3df017>:2: VisibleDeprecationWarning: Creating an ndarray from ragged nested sequences (which is a list-or-tuple of lists-or-tuples-or ndarrays with different lengths or shapes) is deprecated. If you meant to do this, you must specify 'dtype=object' when creating the ndarray.\n",
            "  np.save(PATH ,np.array(action_list))\n"
          ]
        }
      ],
      "source": [
        "PATH = \"Action_List.npy\" # Can be modified into the name or path you want\n",
        "np.save(PATH ,np.array(action_list)) "
      ]
    },
    {
      "cell_type": "markdown",
      "metadata": {
        "id": "asK7WfbkaLjt"
      },
      "source": [
        "### This is the file you need to submit !!!\n",
        "Download the testing result to your device  \n",
        "需要提交的文件\n",
        "\n"
      ]
    },
    {
      "cell_type": "code",
      "execution_count": null,
      "metadata": {
        "colab": {
          "background_save": true
        },
        "id": "c-CqyhHzaWAL",
        "outputId": "7df13f12-0d23-4d19-d54a-933d6a9f6acc"
      },
      "outputs": [
        {
          "data": {
            "application/javascript": [
              "\n",
              "    async function download(id, filename, size) {\n",
              "      if (!google.colab.kernel.accessAllowed) {\n",
              "        return;\n",
              "      }\n",
              "      const div = document.createElement('div');\n",
              "      const label = document.createElement('label');\n",
              "      label.textContent = `Downloading \"${filename}\": `;\n",
              "      div.appendChild(label);\n",
              "      const progress = document.createElement('progress');\n",
              "      progress.max = size;\n",
              "      div.appendChild(progress);\n",
              "      document.body.appendChild(div);\n",
              "\n",
              "      const buffers = [];\n",
              "      let downloaded = 0;\n",
              "\n",
              "      const channel = await google.colab.kernel.comms.open(id);\n",
              "      // Send a message to notify the kernel that we're ready.\n",
              "      channel.send({})\n",
              "\n",
              "      for await (const message of channel.messages) {\n",
              "        // Send a message to notify the kernel that we're ready.\n",
              "        channel.send({})\n",
              "        if (message.buffers) {\n",
              "          for (const buffer of message.buffers) {\n",
              "            buffers.push(buffer);\n",
              "            downloaded += buffer.byteLength;\n",
              "            progress.value = downloaded;\n",
              "          }\n",
              "        }\n",
              "      }\n",
              "      const blob = new Blob(buffers, {type: 'application/binary'});\n",
              "      const a = document.createElement('a');\n",
              "      a.href = window.URL.createObjectURL(blob);\n",
              "      a.download = filename;\n",
              "      div.appendChild(a);\n",
              "      a.click();\n",
              "      div.remove();\n",
              "    }\n",
              "  "
            ],
            "text/plain": [
              "<IPython.core.display.Javascript object>"
            ]
          },
          "metadata": {},
          "output_type": "display_data"
        },
        {
          "data": {
            "application/javascript": [
              "download(\"download_8583e901-4f25-4d01-aa4e-c13f6decbe98\", \"Action_List.npy\", 5199)"
            ],
            "text/plain": [
              "<IPython.core.display.Javascript object>"
            ]
          },
          "metadata": {},
          "output_type": "display_data"
        }
      ],
      "source": [
        "from google.colab import files\n",
        "files.download(PATH)"
      ]
    },
    {
      "cell_type": "markdown",
      "metadata": {
        "id": "seT4NUmWmAZ1"
      },
      "source": [
        "# Server \n",
        "The code below simulate the environment on the judge server. Can be used for testing.\n",
        "  \n",
        "下边的代码模拟了judge系统上的环境，可以用来测试"
      ]
    },
    {
      "cell_type": "code",
      "execution_count": null,
      "metadata": {
        "colab": {
          "background_save": true
        },
        "id": "U69c-YTxaw6b",
        "outputId": "f547f68a-5cd5-4d8a-f9d1-e6c71bed2f38"
      },
      "outputs": [
        {
          "name": "stdout",
          "output_type": "stream",
          "text": [
            "Your reward is : 155.72\n",
            "Your reward is : -4.93\n",
            "Your reward is : 134.45\n",
            "Your reward is : -53.42\n",
            "Your reward is : 1.02\n"
          ]
        },
        {
          "data": {
            "image/png": "[encoded data removed]",
            "text/plain": [
              "<Figure size 640x480 with 1 Axes>"
            ]
          },
          "metadata": {},
          "output_type": "display_data"
        }
      ],
      "source": [
        "action_list = np.load(PATH,allow_pickle=True) # The action list you upload\n",
        "seed = 543 # Do not revise this\n",
        "fix(env, seed)\n",
        "\n",
        "agent.eval()  # set network to evaluation mode\n",
        "\n",
        "test_total_reward = []\n",
        "if len(action_list) != 5:\n",
        "  print(\"Wrong format of file !!!\")\n",
        "  exit(0)\n",
        "for actions in action_list:\n",
        "  state = env.reset()\n",
        "  img = plt.imshow(env.render(mode='rgb_array'))\n",
        "\n",
        "  total_reward = 0\n",
        "\n",
        "  done = False\n",
        "\n",
        "  for action in actions:\n",
        "  \n",
        "      state, reward, done, _ = env.step(action)\n",
        "      total_reward += reward\n",
        "      if done:\n",
        "        break\n",
        "\n",
        "  print(f\"Your reward is : %.2f\"%total_reward)\n",
        "  test_total_reward.append(total_reward)"
      ]
    },
    {
      "cell_type": "markdown",
      "metadata": {
        "id": "TjFBWwQP1hVe"
      },
      "source": [
        "# Your score"
      ]
    },
    {
      "cell_type": "code",
      "execution_count": null,
      "metadata": {
        "colab": {
          "background_save": true
        },
        "id": "GpJpZz3Wbm0X",
        "outputId": "8cbdfab7-687c-469d-d4ea-2dda7f618bef"
      },
      "outputs": [
        {
          "name": "stdout",
          "output_type": "stream",
          "text": [
            "Your final reward is : 46.57\n"
          ]
        }
      ],
      "source": [
        "print(f\"Your final reward is : %.2f\"%np.mean(test_total_reward))"
      ]
    },
    {
      "cell_type": "markdown",
      "metadata": {
        "id": "wUBtYXG2eaqf"
      },
      "source": [
        "## Reference\n",
        "\n",
        "Below are some useful tips for you to get high score.\n",
        "\n",
        "- [DRL Lecture 1: Policy Gradient (Review)](https://youtu.be/z95ZYgPgXOY)\n",
        "- [ML Lecture 23-3: Reinforcement Learning (including Q-learning) start at 30:00](https://youtu.be/2-JNBzCq77c?t=1800)\n",
        "- [Lecture 7: Policy Gradient, David Silver](http://www0.cs.ucl.ac.uk/staff/d.silver/web/Teaching_files/pg.pdf)\n"
      ]
    }
  ],
  "metadata": {
    "colab": {
      "collapsed_sections": [
        "ZNgu-yzCy4Rt",
        "RMvr6QYx2K-x"
      ],
      "provenance": []
    },
    "kernelspec": {
      "display_name": "Python 3",
      "name": "python3"
    },
    "widgets": {
      "application/vnd.jupyter.widget-state+json": {
        "1a6db8b96ee543ceb330dd20a29a4e4a": {
          "model_module": "@jupyter-widgets/base",
          "model_module_version": "1.2.0",
          "model_name": "LayoutModel",
          "state": {
            "_model_module": "@jupyter-widgets/base",
            "_model_module_version": "1.2.0",
            "_model_name": "LayoutModel",
            "_view_count": null,
            "_view_module": "@jupyter-widgets/base",
            "_view_module_version": "1.2.0",
            "_view_name": "LayoutView",
            "align_content": null,
            "align_items": null,
            "align_self": null,
            "border": null,
            "bottom": null,
            "display": null,
            "flex": null,
            "flex_flow": null,
            "grid_area": null,
            "grid_auto_columns": null,
            "grid_auto_flow": null,
            "grid_auto_rows": null,
            "grid_column": null,
            "grid_gap": null,
            "grid_row": null,
            "grid_template_areas": null,
            "grid_template_columns": null,
            "grid_template_rows": null,
            "height": null,
            "justify_content": null,
            "justify_items": null,
            "left": null,
            "margin": null,
            "max_height": null,
            "max_width": null,
            "min_height": null,
            "min_width": null,
            "object_fit": null,
            "object_position": null,
            "order": null,
            "overflow": null,
            "overflow_x": null,
            "overflow_y": null,
            "padding": null,
            "right": null,
            "top": null,
            "visibility": null,
            "width": null
          }
        },
        "25ca935052a14bdea590ed54856df37b": {
          "model_module": "@jupyter-widgets/controls",
          "model_module_version": "1.5.0",
          "model_name": "HTMLModel",
          "state": {
            "_dom_classes": [],
            "_model_module": "@jupyter-widgets/controls",
            "_model_module_version": "1.5.0",
            "_model_name": "HTMLModel",
            "_view_count": null,
            "_view_module": "@jupyter-widgets/controls",
            "_view_module_version": "1.5.0",
            "_view_name": "HTMLView",
            "description": "",
            "description_tooltip": null,
            "layout": "IPY_MODEL_a00cc600e46d4d699a81387596270930",
            "placeholder": "​",
            "style": "IPY_MODEL_a49ce0988aef483bac65e41cc2cc1938",
            "value": " 15/500 [00:06&lt;03:24,  2.37it/s]"
          }
        },
        "625d38a50a6d4ab1b93c1b7423a69d17": {
          "model_module": "@jupyter-widgets/controls",
          "model_module_version": "1.5.0",
          "model_name": "HBoxModel",
          "state": {
            "_dom_classes": [],
            "_model_module": "@jupyter-widgets/controls",
            "_model_module_version": "1.5.0",
            "_model_name": "HBoxModel",
            "_view_count": null,
            "_view_module": "@jupyter-widgets/controls",
            "_view_module_version": "1.5.0",
            "_view_name": "HBoxView",
            "box_style": "",
            "children": [
              "IPY_MODEL_b12fdcb7841544d4b3c194cd33e33ffe",
              "IPY_MODEL_6a8cad3d3d8a4b3b9992510f525c3598",
              "IPY_MODEL_25ca935052a14bdea590ed54856df37b"
            ],
            "layout": "IPY_MODEL_e282a8d3f6854018ae27f803961c60e1"
          }
        },
        "6a8cad3d3d8a4b3b9992510f525c3598": {
          "model_module": "@jupyter-widgets/controls",
          "model_module_version": "1.5.0",
          "model_name": "FloatProgressModel",
          "state": {
            "_dom_classes": [],
            "_model_module": "@jupyter-widgets/controls",
            "_model_module_version": "1.5.0",
            "_model_name": "FloatProgressModel",
            "_view_count": null,
            "_view_module": "@jupyter-widgets/controls",
            "_view_module_version": "1.5.0",
            "_view_name": "ProgressView",
            "bar_style": "",
            "description": "",
            "description_tooltip": null,
            "layout": "IPY_MODEL_1a6db8b96ee543ceb330dd20a29a4e4a",
            "max": 500,
            "min": 0,
            "orientation": "horizontal",
            "style": "IPY_MODEL_6b378beabd36488bb94fc4d12bc1e634",
            "value": 15
          }
        },
        "6b378beabd36488bb94fc4d12bc1e634": {
          "model_module": "@jupyter-widgets/controls",
          "model_module_version": "1.5.0",
          "model_name": "ProgressStyleModel",
          "state": {
            "_model_module": "@jupyter-widgets/controls",
            "_model_module_version": "1.5.0",
            "_model_name": "ProgressStyleModel",
            "_view_count": null,
            "_view_module": "@jupyter-widgets/base",
            "_view_module_version": "1.2.0",
            "_view_name": "StyleView",
            "bar_color": null,
            "description_width": ""
          }
        },
        "a00cc600e46d4d699a81387596270930": {
          "model_module": "@jupyter-widgets/base",
          "model_module_version": "1.2.0",
          "model_name": "LayoutModel",
          "state": {
            "_model_module": "@jupyter-widgets/base",
            "_model_module_version": "1.2.0",
            "_model_name": "LayoutModel",
            "_view_count": null,
            "_view_module": "@jupyter-widgets/base",
            "_view_module_version": "1.2.0",
            "_view_name": "LayoutView",
            "align_content": null,
            "align_items": null,
            "align_self": null,
            "border": null,
            "bottom": null,
            "display": null,
            "flex": null,
            "flex_flow": null,
            "grid_area": null,
            "grid_auto_columns": null,
            "grid_auto_flow": null,
            "grid_auto_rows": null,
            "grid_column": null,
            "grid_gap": null,
            "grid_row": null,
            "grid_template_areas": null,
            "grid_template_columns": null,
            "grid_template_rows": null,
            "height": null,
            "justify_content": null,
            "justify_items": null,
            "left": null,
            "margin": null,
            "max_height": null,
            "max_width": null,
            "min_height": null,
            "min_width": null,
            "object_fit": null,
            "object_position": null,
            "order": null,
            "overflow": null,
            "overflow_x": null,
            "overflow_y": null,
            "padding": null,
            "right": null,
            "top": null,
            "visibility": null,
            "width": null
          }
        },
        "a49ce0988aef483bac65e41cc2cc1938": {
          "model_module": "@jupyter-widgets/controls",
          "model_module_version": "1.5.0",
          "model_name": "DescriptionStyleModel",
          "state": {
            "_model_module": "@jupyter-widgets/controls",
            "_model_module_version": "1.5.0",
            "_model_name": "DescriptionStyleModel",
            "_view_count": null,
            "_view_module": "@jupyter-widgets/base",
            "_view_module_version": "1.2.0",
            "_view_name": "StyleView",
            "description_width": ""
          }
        },
        "a51e24fc97fa42b797ee585d8f296ac2": {
          "model_module": "@jupyter-widgets/controls",
          "model_module_version": "1.5.0",
          "model_name": "DescriptionStyleModel",
          "state": {
            "_model_module": "@jupyter-widgets/controls",
            "_model_module_version": "1.5.0",
            "_model_name": "DescriptionStyleModel",
            "_view_count": null,
            "_view_module": "@jupyter-widgets/base",
            "_view_module_version": "1.2.0",
            "_view_name": "StyleView",
            "description_width": ""
          }
        },
        "b12fdcb7841544d4b3c194cd33e33ffe": {
          "model_module": "@jupyter-widgets/controls",
          "model_module_version": "1.5.0",
          "model_name": "HTMLModel",
          "state": {
            "_dom_classes": [],
            "_model_module": "@jupyter-widgets/controls",
            "_model_module_version": "1.5.0",
            "_model_name": "HTMLModel",
            "_view_count": null,
            "_view_module": "@jupyter-widgets/controls",
            "_view_module_version": "1.5.0",
            "_view_name": "HTMLView",
            "description": "",
            "description_tooltip": null,
            "layout": "IPY_MODEL_c03d0ecc65c04b34ad7061917326d9bd",
            "placeholder": "​",
            "style": "IPY_MODEL_a51e24fc97fa42b797ee585d8f296ac2",
            "value": "Total: -268.7, Final: -100.0:   3%"
          }
        },
        "c03d0ecc65c04b34ad7061917326d9bd": {
          "model_module": "@jupyter-widgets/base",
          "model_module_version": "1.2.0",
          "model_name": "LayoutModel",
          "state": {
            "_model_module": "@jupyter-widgets/base",
            "_model_module_version": "1.2.0",
            "_model_name": "LayoutModel",
            "_view_count": null,
            "_view_module": "@jupyter-widgets/base",
            "_view_module_version": "1.2.0",
            "_view_name": "LayoutView",
            "align_content": null,
            "align_items": null,
            "align_self": null,
            "border": null,
            "bottom": null,
            "display": null,
            "flex": null,
            "flex_flow": null,
            "grid_area": null,
            "grid_auto_columns": null,
            "grid_auto_flow": null,
            "grid_auto_rows": null,
            "grid_column": null,
            "grid_gap": null,
            "grid_row": null,
            "grid_template_areas": null,
            "grid_template_columns": null,
            "grid_template_rows": null,
            "height": null,
            "justify_content": null,
            "justify_items": null,
            "left": null,
            "margin": null,
            "max_height": null,
            "max_width": null,
            "min_height": null,
            "min_width": null,
            "object_fit": null,
            "object_position": null,
            "order": null,
            "overflow": null,
            "overflow_x": null,
            "overflow_y": null,
            "padding": null,
            "right": null,
            "top": null,
            "visibility": null,
            "width": null
          }
        },
        "e282a8d3f6854018ae27f803961c60e1": {
          "model_module": "@jupyter-widgets/base",
          "model_module_version": "1.2.0",
          "model_name": "LayoutModel",
          "state": {
            "_model_module": "@jupyter-widgets/base",
            "_model_module_version": "1.2.0",
            "_model_name": "LayoutModel",
            "_view_count": null,
            "_view_module": "@jupyter-widgets/base",
            "_view_module_version": "1.2.0",
            "_view_name": "LayoutView",
            "align_content": null,
            "align_items": null,
            "align_self": null,
            "border": null,
            "bottom": null,
            "display": null,
            "flex": null,
            "flex_flow": null,
            "grid_area": null,
            "grid_auto_columns": null,
            "grid_auto_flow": null,
            "grid_auto_rows": null,
            "grid_column": null,
            "grid_gap": null,
            "grid_row": null,
            "grid_template_areas": null,
            "grid_template_columns": null,
            "grid_template_rows": null,
            "height": null,
            "justify_content": null,
            "justify_items": null,
            "left": null,
            "margin": null,
            "max_height": null,
            "max_width": null,
            "min_height": null,
            "min_width": null,
            "object_fit": null,
            "object_position": null,
            "order": null,
            "overflow": null,
            "overflow_x": null,
            "overflow_y": null,
            "padding": null,
            "right": null,
            "top": null,
            "visibility": null,
            "width": null
          }
        }
      }
    }
  },
  "nbformat": 4,
  "nbformat_minor": 0
}