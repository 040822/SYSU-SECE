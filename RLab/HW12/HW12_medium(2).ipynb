{
  "nbformat": 4,
  "nbformat_minor": 0,
  "metadata": {
    "colab": {
      "provenance": []
    },
    "kernelspec": {
      "display_name": "Python 3",
      "name": "python3"
    },
    "widgets": {
      "application/vnd.jupyter.widget-state+json": {
        "36d30068570e491a840a1e4660bbe486": {
          "model_module": "@jupyter-widgets/controls",
          "model_name": "HBoxModel",
          "model_module_version": "1.5.0",
          "state": {
            "_dom_classes": [],
            "_model_module": "@jupyter-widgets/controls",
            "_model_module_version": "1.5.0",
            "_model_name": "HBoxModel",
            "_view_count": null,
            "_view_module": "@jupyter-widgets/controls",
            "_view_module_version": "1.5.0",
            "_view_name": "HBoxView",
            "box_style": "",
            "children": [
              "IPY_MODEL_85e9da00e2b64cd084fa1bc6b5eeb366",
              "IPY_MODEL_bf0082f78952476d9a84c754cb0c285f",
              "IPY_MODEL_e60280b76b2548eea3c589fced1af749"
            ],
            "layout": "IPY_MODEL_03e54e1085f54b3cb6f6cc4c22e8e792"
          }
        },
        "85e9da00e2b64cd084fa1bc6b5eeb366": {
          "model_module": "@jupyter-widgets/controls",
          "model_name": "HTMLModel",
          "model_module_version": "1.5.0",
          "state": {
            "_dom_classes": [],
            "_model_module": "@jupyter-widgets/controls",
            "_model_module_version": "1.5.0",
            "_model_name": "HTMLModel",
            "_view_count": null,
            "_view_module": "@jupyter-widgets/controls",
            "_view_module_version": "1.5.0",
            "_view_name": "HTMLView",
            "description": "",
            "description_tooltip": null,
            "layout": "IPY_MODEL_6e658bde833349f0abf0d91d3b38eec8",
            "placeholder": "​",
            "style": "IPY_MODEL_3e42a355ac414bbda942ef0ed4a0d884",
            "value": "Total: -69.1, Final: -100.0: 100%"
          }
        },
        "bf0082f78952476d9a84c754cb0c285f": {
          "model_module": "@jupyter-widgets/controls",
          "model_name": "FloatProgressModel",
          "model_module_version": "1.5.0",
          "state": {
            "_dom_classes": [],
            "_model_module": "@jupyter-widgets/controls",
            "_model_module_version": "1.5.0",
            "_model_name": "FloatProgressModel",
            "_view_count": null,
            "_view_module": "@jupyter-widgets/controls",
            "_view_module_version": "1.5.0",
            "_view_name": "ProgressView",
            "bar_style": "success",
            "description": "",
            "description_tooltip": null,
            "layout": "IPY_MODEL_8a44e7f55db04c6fa686c8fad0117b5d",
            "max": 500,
            "min": 0,
            "orientation": "horizontal",
            "style": "IPY_MODEL_ae421f8fd77e4615af1e3c659e0ac75e",
            "value": 500
          }
        },
        "e60280b76b2548eea3c589fced1af749": {
          "model_module": "@jupyter-widgets/controls",
          "model_name": "HTMLModel",
          "model_module_version": "1.5.0",
          "state": {
            "_dom_classes": [],
            "_model_module": "@jupyter-widgets/controls",
            "_model_module_version": "1.5.0",
            "_model_name": "HTMLModel",
            "_view_count": null,
            "_view_module": "@jupyter-widgets/controls",
            "_view_module_version": "1.5.0",
            "_view_name": "HTMLView",
            "description": "",
            "description_tooltip": null,
            "layout": "IPY_MODEL_5b1f3df04f4047ac859e6f0a4ba2425f",
            "placeholder": "​",
            "style": "IPY_MODEL_cce051e0bfbe4a68a46a2177e4486f94",
            "value": " 500/500 [20:19&lt;00:00,  1.15s/it]"
          }
        },
        "03e54e1085f54b3cb6f6cc4c22e8e792": {
          "model_module": "@jupyter-widgets/base",
          "model_name": "LayoutModel",
          "model_module_version": "1.2.0",
          "state": {
            "_model_module": "@jupyter-widgets/base",
            "_model_module_version": "1.2.0",
            "_model_name": "LayoutModel",
            "_view_count": null,
            "_view_module": "@jupyter-widgets/base",
            "_view_module_version": "1.2.0",
            "_view_name": "LayoutView",
            "align_content": null,
            "align_items": null,
            "align_self": null,
            "border": null,
            "bottom": null,
            "display": null,
            "flex": null,
            "flex_flow": null,
            "grid_area": null,
            "grid_auto_columns": null,
            "grid_auto_flow": null,
            "grid_auto_rows": null,
            "grid_column": null,
            "grid_gap": null,
            "grid_row": null,
            "grid_template_areas": null,
            "grid_template_columns": null,
            "grid_template_rows": null,
            "height": null,
            "justify_content": null,
            "justify_items": null,
            "left": null,
            "margin": null,
            "max_height": null,
            "max_width": null,
            "min_height": null,
            "min_width": null,
            "object_fit": null,
            "object_position": null,
            "order": null,
            "overflow": null,
            "overflow_x": null,
            "overflow_y": null,
            "padding": null,
            "right": null,
            "top": null,
            "visibility": null,
            "width": null
          }
        },
        "6e658bde833349f0abf0d91d3b38eec8": {
          "model_module": "@jupyter-widgets/base",
          "model_name": "LayoutModel",
          "model_module_version": "1.2.0",
          "state": {
            "_model_module": "@jupyter-widgets/base",
            "_model_module_version": "1.2.0",
            "_model_name": "LayoutModel",
            "_view_count": null,
            "_view_module": "@jupyter-widgets/base",
            "_view_module_version": "1.2.0",
            "_view_name": "LayoutView",
            "align_content": null,
            "align_items": null,
            "align_self": null,
            "border": null,
            "bottom": null,
            "display": null,
            "flex": null,
            "flex_flow": null,
            "grid_area": null,
            "grid_auto_columns": null,
            "grid_auto_flow": null,
            "grid_auto_rows": null,
            "grid_column": null,
            "grid_gap": null,
            "grid_row": null,
            "grid_template_areas": null,
            "grid_template_columns": null,
            "grid_template_rows": null,
            "height": null,
            "justify_content": null,
            "justify_items": null,
            "left": null,
            "margin": null,
            "max_height": null,
            "max_width": null,
            "min_height": null,
            "min_width": null,
            "object_fit": null,
            "object_position": null,
            "order": null,
            "overflow": null,
            "overflow_x": null,
            "overflow_y": null,
            "padding": null,
            "right": null,
            "top": null,
            "visibility": null,
            "width": null
          }
        },
        "3e42a355ac414bbda942ef0ed4a0d884": {
          "model_module": "@jupyter-widgets/controls",
          "model_name": "DescriptionStyleModel",
          "model_module_version": "1.5.0",
          "state": {
            "_model_module": "@jupyter-widgets/controls",
            "_model_module_version": "1.5.0",
            "_model_name": "DescriptionStyleModel",
            "_view_count": null,
            "_view_module": "@jupyter-widgets/base",
            "_view_module_version": "1.2.0",
            "_view_name": "StyleView",
            "description_width": ""
          }
        },
        "8a44e7f55db04c6fa686c8fad0117b5d": {
          "model_module": "@jupyter-widgets/base",
          "model_name": "LayoutModel",
          "model_module_version": "1.2.0",
          "state": {
            "_model_module": "@jupyter-widgets/base",
            "_model_module_version": "1.2.0",
            "_model_name": "LayoutModel",
            "_view_count": null,
            "_view_module": "@jupyter-widgets/base",
            "_view_module_version": "1.2.0",
            "_view_name": "LayoutView",
            "align_content": null,
            "align_items": null,
            "align_self": null,
            "border": null,
            "bottom": null,
            "display": null,
            "flex": null,
            "flex_flow": null,
            "grid_area": null,
            "grid_auto_columns": null,
            "grid_auto_flow": null,
            "grid_auto_rows": null,
            "grid_column": null,
            "grid_gap": null,
            "grid_row": null,
            "grid_template_areas": null,
            "grid_template_columns": null,
            "grid_template_rows": null,
            "height": null,
            "justify_content": null,
            "justify_items": null,
            "left": null,
            "margin": null,
            "max_height": null,
            "max_width": null,
            "min_height": null,
            "min_width": null,
            "object_fit": null,
            "object_position": null,
            "order": null,
            "overflow": null,
            "overflow_x": null,
            "overflow_y": null,
            "padding": null,
            "right": null,
            "top": null,
            "visibility": null,
            "width": null
          }
        },
        "ae421f8fd77e4615af1e3c659e0ac75e": {
          "model_module": "@jupyter-widgets/controls",
          "model_name": "ProgressStyleModel",
          "model_module_version": "1.5.0",
          "state": {
            "_model_module": "@jupyter-widgets/controls",
            "_model_module_version": "1.5.0",
            "_model_name": "ProgressStyleModel",
            "_view_count": null,
            "_view_module": "@jupyter-widgets/base",
            "_view_module_version": "1.2.0",
            "_view_name": "StyleView",
            "bar_color": null,
            "description_width": ""
          }
        },
        "5b1f3df04f4047ac859e6f0a4ba2425f": {
          "model_module": "@jupyter-widgets/base",
          "model_name": "LayoutModel",
          "model_module_version": "1.2.0",
          "state": {
            "_model_module": "@jupyter-widgets/base",
            "_model_module_version": "1.2.0",
            "_model_name": "LayoutModel",
            "_view_count": null,
            "_view_module": "@jupyter-widgets/base",
            "_view_module_version": "1.2.0",
            "_view_name": "LayoutView",
            "align_content": null,
            "align_items": null,
            "align_self": null,
            "border": null,
            "bottom": null,
            "display": null,
            "flex": null,
            "flex_flow": null,
            "grid_area": null,
            "grid_auto_columns": null,
            "grid_auto_flow": null,
            "grid_auto_rows": null,
            "grid_column": null,
            "grid_gap": null,
            "grid_row": null,
            "grid_template_areas": null,
            "grid_template_columns": null,
            "grid_template_rows": null,
            "height": null,
            "justify_content": null,
            "justify_items": null,
            "left": null,
            "margin": null,
            "max_height": null,
            "max_width": null,
            "min_height": null,
            "min_width": null,
            "object_fit": null,
            "object_position": null,
            "order": null,
            "overflow": null,
            "overflow_x": null,
            "overflow_y": null,
            "padding": null,
            "right": null,
            "top": null,
            "visibility": null,
            "width": null
          }
        },
        "cce051e0bfbe4a68a46a2177e4486f94": {
          "model_module": "@jupyter-widgets/controls",
          "model_name": "DescriptionStyleModel",
          "model_module_version": "1.5.0",
          "state": {
            "_model_module": "@jupyter-widgets/controls",
            "_model_module_version": "1.5.0",
            "_model_name": "DescriptionStyleModel",
            "_view_count": null,
            "_view_module": "@jupyter-widgets/base",
            "_view_module_version": "1.2.0",
            "_view_name": "StyleView",
            "description_width": ""
          }
        }
      }
    }
  },
  "cells": [
    {
      "cell_type": "markdown",
      "metadata": {
        "id": "Fp30SB4bxeQb"
      },
      "source": [
        "# **Homework 12 - Reinforcement Learning**\n",
        "\n",
        "\n"
      ]
    },
    {
      "cell_type": "markdown",
      "metadata": {
        "id": "yXsnCWPtWSNk"
      },
      "source": [
        "## Preliminary work\n",
        "## 准备工作\n",
        "\n",
        "First, we need to install all necessary packages.\n",
        "One of them, gym, builded by OpenAI, is a toolkit for developing Reinforcement Learning algorithm. Other packages are for visualization in colab.  \n",
        "  \n",
        "首先，我们需要安装一堆包。其中gym包是用来实现RL的算法的，其他都是用来可视化的。\n"
      ]
    },
    {
      "cell_type": "code",
      "metadata": {
        "id": "5e2bScpnkVbv",
        "colab": {
          "base_uri": "https://localhost:8080/"
        },
        "outputId": "89593026-c690-4324-cb52-16f1603a826f"
      },
      "source": [
        "!apt update\n",
        "!pip install swig\n",
        "!apt install python-opengl xvfb -y\n",
        "!pip install pyvirtualdisplay \n",
        "!pip install gym[box2d]\n",
        "\n",
        "#!pip install gym\n",
        "\n",
        "#tqdm numpy==1.19.5 torch==1.8.1"
      ],
      "execution_count": 86,
      "outputs": [
        {
          "output_type": "stream",
          "name": "stdout",
          "text": [
            "\u001b[33m\r0% [Working]\u001b[0m\r            \rHit:1 https://cloud.r-project.org/bin/linux/ubuntu focal-cran40/ InRelease\n",
            "Hit:2 https://developer.download.nvidia.com/compute/cuda/repos/ubuntu2004/x86_64  InRelease\n",
            "Get:3 http://security.ubuntu.com/ubuntu focal-security InRelease [114 kB]\n",
            "Hit:4 http://archive.ubuntu.com/ubuntu focal InRelease\n",
            "Hit:5 http://ppa.launchpad.net/c2d4u.team/c2d4u4.0+/ubuntu focal InRelease\n",
            "Get:6 http://archive.ubuntu.com/ubuntu focal-updates InRelease [114 kB]\n",
            "Hit:7 http://ppa.launchpad.net/cran/libgit2/ubuntu focal InRelease\n",
            "Hit:8 http://ppa.launchpad.net/deadsnakes/ppa/ubuntu focal InRelease\n",
            "Get:9 http://archive.ubuntu.com/ubuntu focal-backports InRelease [108 kB]\n",
            "Hit:10 http://ppa.launchpad.net/graphics-drivers/ppa/ubuntu focal InRelease\n",
            "Hit:11 http://ppa.launchpad.net/ubuntugis/ppa/ubuntu focal InRelease\n",
            "Fetched 336 kB in 3s (119 kB/s)\n",
            "Reading package lists... Done\n",
            "Building dependency tree       \n",
            "Reading state information... Done\n",
            "40 packages can be upgraded. Run 'apt list --upgradable' to see them.\n",
            "Looking in indexes: https://pypi.org/simple, https://us-python.pkg.dev/colab-wheels/public/simple/\n",
            "Requirement already satisfied: swig in /usr/local/lib/python3.10/dist-packages (4.1.1)\n",
            "Reading package lists... Done\n",
            "Building dependency tree       \n",
            "Reading state information... Done\n",
            "python-opengl is already the newest version (3.1.0+dfsg-2build1).\n",
            "xvfb is already the newest version (2:1.20.13-1ubuntu1~20.04.8).\n",
            "0 upgraded, 0 newly installed, 0 to remove and 40 not upgraded.\n",
            "Looking in indexes: https://pypi.org/simple, https://us-python.pkg.dev/colab-wheels/public/simple/\n",
            "Requirement already satisfied: pyvirtualdisplay in /usr/local/lib/python3.10/dist-packages (3.0)\n",
            "Looking in indexes: https://pypi.org/simple, https://us-python.pkg.dev/colab-wheels/public/simple/\n",
            "Requirement already satisfied: gym[box2d] in /usr/local/lib/python3.10/dist-packages (0.25.2)\n",
            "Requirement already satisfied: numpy>=1.18.0 in /usr/local/lib/python3.10/dist-packages (from gym[box2d]) (1.22.4)\n",
            "Requirement already satisfied: cloudpickle>=1.2.0 in /usr/local/lib/python3.10/dist-packages (from gym[box2d]) (2.2.1)\n",
            "Requirement already satisfied: gym-notices>=0.0.4 in /usr/local/lib/python3.10/dist-packages (from gym[box2d]) (0.0.8)\n",
            "Requirement already satisfied: box2d-py==2.3.5 in /usr/local/lib/python3.10/dist-packages (from gym[box2d]) (2.3.5)\n",
            "Requirement already satisfied: pygame==2.1.0 in /usr/local/lib/python3.10/dist-packages (from gym[box2d]) (2.1.0)\n",
            "Requirement already satisfied: swig==4.* in /usr/local/lib/python3.10/dist-packages (from gym[box2d]) (4.1.1)\n"
          ]
        }
      ]
    },
    {
      "cell_type": "markdown",
      "metadata": {
        "id": "M_-i3cdoYsks"
      },
      "source": [
        "\n",
        "Next, set up virtual display，and import all necessaary packages.\n",
        "  \n",
        "import一堆包，并设置可视化页面"
      ]
    },
    {
      "cell_type": "code",
      "metadata": {
        "id": "nl2nREINDLiw"
      },
      "source": [
        "%%capture\n",
        "from pyvirtualdisplay import Display\n",
        "virtual_display = Display(visible=0, size=(1400, 900))\n",
        "virtual_display.start()\n",
        "\n",
        "%matplotlib inline\n",
        "import matplotlib.pyplot as plt\n",
        "\n",
        "from IPython import display\n",
        "\n",
        "import numpy as np\n",
        "import torch\n",
        "import torch.nn as nn\n",
        "import torch.optim as optim\n",
        "import torch.nn.functional as F\n",
        "from torch.distributions import Categorical\n",
        "from tqdm.notebook import tqdm\n",
        "\n",
        "%%capture\n",
        "import gym\n",
        "import random\n",
        "\n",
        "\n",
        "#https://www.gymlibrary.dev/content/basic_usage/  gym库"
      ],
      "execution_count": 87,
      "outputs": []
    },
    {
      "cell_type": "markdown",
      "metadata": {
        "id": "CaEJ8BUCpN9P"
      },
      "source": [
        "# Warning ! Do not revise random seed !!!\n",
        "# Your submission on JudgeBoi will not reproduce your result !!!\n",
        "Make your HW result to be reproducible.\n",
        "\n",
        "  \n",
        "助教不允许我们用随机种子\n"
      ]
    },
    {
      "cell_type": "code",
      "metadata": {
        "id": "fV9i8i2YkRbO",
        "colab": {
          "base_uri": "https://localhost:8080/"
        },
        "outputId": "198075a1-b735-482d-e2e3-4b83c0c467f9"
      },
      "source": [
        "#固定种子\n",
        "\n",
        "seed = 543 # Do not change this\n",
        "def fix(env, seed):\n",
        "  env.seed(seed)\n",
        "  env.action_space.seed(seed)\n",
        "  torch.manual_seed(seed)\n",
        "  torch.cuda.manual_seed(seed)\n",
        "  torch.cuda.manual_seed_all(seed)\n",
        "  np.random.seed(seed)\n",
        "  random.seed(seed)\n",
        "  #torch.set_deterministic(True)\n",
        "  #这行不知道为什么运行不了，可能和pytorch版本有关\n",
        "  torch.use_deterministic_algorithms(True)\n",
        "  #应改成这句 \n",
        "\n",
        "  torch.backends.cudnn.benchmark = False\n",
        "  torch.backends.cudnn.deterministic = True"
      ],
      "execution_count": 88,
      "outputs": [
        {
          "output_type": "stream",
          "name": "stderr",
          "text": [
            "/usr/local/lib/python3.10/dist-packages/ipykernel/ipkernel.py:283: DeprecationWarning: `should_run_async` will not call `transform_cell` automatically in the future. Please pass the result to `transformed_cell` argument and any exception that happen during thetransform in `preprocessing_exc_tuple` in IPython 7.17 and above.\n",
            "  and should_run_async(code)\n"
          ]
        }
      ]
    },
    {
      "cell_type": "markdown",
      "metadata": {
        "id": "He0XDx6bzjgC"
      },
      "source": [
        "Last, call gym and build an [Lunar Lander](https://gym.openai.com/envs/LunarLander-v2/) environment.\n",
        "  \n",
        "使用gym，建立“Lunar Lander”环境"
      ]
    },
    {
      "cell_type": "code",
      "metadata": {
        "id": "N_4-xJcbBt09"
      },
      "source": [
        "%%capture\n",
        "import gym\n",
        "import random\n",
        "env = gym.make('LunarLander-v2')\n",
        "fix(env, seed) # fix the environment Do not revise this !!!\n",
        "\n",
        "# 建立一个环境"
      ],
      "execution_count": 89,
      "outputs": []
    },
    {
      "cell_type": "markdown",
      "metadata": {
        "id": "NrkVvTrvWZ5H"
      },
      "source": [
        "## What Lunar Lander？\n",
        "\n",
        "“LunarLander-v2”is to simulate the situation when the craft lands on the surface of the moon.  \n",
        "\n",
        "\n",
        "This task is to enable the craft to land \"safely\" at the pad between the two yellow flags.\n",
        "> Landing pad is always at coordinates (0,0).\n",
        "> Coordinates are the first two numbers in state vector.\n",
        "\n",
        "![](https://gym.openai.com/assets/docs/aeloop-138c89d44114492fd02822303e6b4b07213010bb14ca5856d2d49d6b62d88e53.svg)\n",
        "\n",
        "\"LunarLander-v2\" actually includes \"Agent\" and \"Environment\". \n",
        "\n",
        "In this homework, we will utilize the function `step()` to control the action of \"Agent\". \n",
        "\n",
        "Then `step()` will return the observation/state and reward given by the \"Environment\".  \n",
        "\n",
        "\n",
        "  \n",
        "这玩意是用来模拟飞行器降落在月球表面的情况的东西。  \n",
        "其目标是让飞行器安全地在两个黄旗子之间的垫子上着陆\n",
        "> 着陆垫始终在坐标（0，0）处  \n",
        "> 坐标是state vector（状态向量）的前两个数字？\n",
        "  \n",
        "  \n",
        "\"LunarLander-v2\"已经集成了“Agent”和“Environment”  \n",
        "在本次作业中，我们要使用step（）函数去控制“Agent”的行动  \n",
        "然后step（）会返回observation和环境的reward。\n",
        "\n"
      ]
    },
    {
      "cell_type": "markdown",
      "source": [
        "# 官方文档中的信息\n",
        "[文档](https://www.gymlibrary.dev/environments/box2d/lunar_lander/)\n",
        "\n",
        "##Actions：\n",
        "四种\n",
        "- 0代表agent啥也不做   \n",
        "- 1、2、3代表左边、向下、右边引擎开火（喷射）\n",
        "  \n",
        "##Observation space: \n",
        "八维向量，例如[1.5 1.5 5. 5. 3.14 5. 1. 1. ]  \n",
        "分别代表[坐标x，坐标y，x方向分速度，y方向分速度，角度，角速度，bool，bool]  \n",
        "两个bool表示飞行器的两只脚是否着陆。\n",
        "\n",
        "##Reward:\n",
        "登陆垫始终在（0，0）。坐标是状态向量（那个八维向量）的前两维。 从屏幕顶端到达登陆垫并保持速度为0的reward是大概100-140pt。如果登陆器从登陆垫上移动出去了，reward就没了。当登陆器被摧毁了（-100pt）或者成功着陆并休息后（+100pt），一个episode结束。登陆器的每条腿接触地面会+10pt。 主引擎点火为每帧-3分。 解决了加200分\n",
        "\n",
        "-在黄旗之间着陆    +100-140pt\n",
        "-着陆但移动出去了  上边的pt没了\n",
        "-坠毁           -100pt\n",
        "-主引擎点火(向下喷射) 每帧-0.3pt\n",
        "-左右引擎点火.    每帧-0.03pt\n",
        "-登陆器最终静止(rest)  再+100pt\n",
        "-每条腿接触地面.      +10pt\n",
        "\n",
        "-解决了（solved）（？）  +200pt\n",
        "\n",
        "  \n",
        "## Starting State\n",
        "The lander starts at the top center of the viewport with a random initial force applied to its center of mass.  \n",
        "着陆器\n",
        "\n",
        "## Episode Termination\n",
        "  \n",
        "\n"
      ],
      "metadata": {
        "id": "f9sRvDdL4mln"
      }
    },
    {
      "cell_type": "markdown",
      "metadata": {
        "id": "bIbp82sljvAt"
      },
      "source": [
        "# Observation / State\n",
        "\n",
        "First, we can take a look at what an Observation / State looks like.  \n",
        "Observation长下边这样"
      ]
    },
    {
      "cell_type": "code",
      "metadata": {
        "colab": {
          "base_uri": "https://localhost:8080/"
        },
        "id": "rsXZra3N9R5T",
        "outputId": "70713f0f-f4e9-44eb-e63e-57a5beb17c0e"
      },
      "source": [
        "print(env.observation_space)"
      ],
      "execution_count": 90,
      "outputs": [
        {
          "output_type": "stream",
          "name": "stdout",
          "text": [
            "Box([-1.5       -1.5       -5.        -5.        -3.1415927 -5.\n",
            " -0.        -0.       ], [1.5       1.5       5.        5.        3.1415927 5.        1.\n",
            " 1.       ], (8,), float32)\n"
          ]
        }
      ]
    },
    {
      "cell_type": "markdown",
      "metadata": {
        "id": "ezdfoThbAQ49"
      },
      "source": [
        "\n",
        "`Box(8,)`means that observation is an 8-dim vector\n",
        "### Action\n",
        "\n",
        "Actions can be taken by looks like  \n",
        "Action长下边这样"
      ]
    },
    {
      "cell_type": "code",
      "metadata": {
        "id": "p1k4dIrBAaKi",
        "colab": {
          "base_uri": "https://localhost:8080/"
        },
        "outputId": "11e9733b-40c0-4b55-d358-b085102948cb"
      },
      "source": [
        "print(env.action_space)"
      ],
      "execution_count": 91,
      "outputs": [
        {
          "output_type": "stream",
          "name": "stdout",
          "text": [
            "Discrete(4)\n"
          ]
        }
      ]
    },
    {
      "cell_type": "markdown",
      "metadata": {
        "id": "dejXT6PHBrPn"
      },
      "source": [
        "`Discrete(4)` implies that there are four kinds of actions can be taken by agent.\n",
        "- 0 implies the agent will not take any actions\n",
        "- 2 implies the agent will accelerate downward\n",
        "- 1, 3 implies the agent will accelerate left and right\n",
        "\n",
        "Next, we will try to make the agent interact with the environment. \n",
        "Before taking any actions, we recommend to call `reset()` function to reset the environment. Also, this function will return the initial state of the environment.\n",
        "  \n",
        "这表明一共有四种行动。  \n",
        "- 0代表agent啥也不做  \n",
        "- 2代表它向下加速  \n",
        "- 1、3代表它左移和右移  \n",
        "  \n",
        "下边我们将会尝试让agent与环境互动  \n",
        "在agent采取行动之前，我们推荐用reset（）去reset环境，这个函数也会返回环境的初始状态"
      ]
    },
    {
      "cell_type": "code",
      "metadata": {
        "id": "pi4OmrmZgnWA",
        "colab": {
          "base_uri": "https://localhost:8080/"
        },
        "outputId": "4eafc961-a692-460b-80e4-ca52d8ca1088"
      },
      "source": [
        "initial_state = env.reset()\n",
        "print(initial_state)\n",
        "\n",
        "#初始环境长下边这样，和Box一样，也是八维向量"
      ],
      "execution_count": 92,
      "outputs": [
        {
          "output_type": "stream",
          "name": "stdout",
          "text": [
            "[-1.2619973e-03  1.3984586e+00 -1.2784091e-01 -5.5384123e-01\n",
            "  1.4691149e-03  2.8957864e-02  0.0000000e+00  0.0000000e+00]\n"
          ]
        }
      ]
    },
    {
      "cell_type": "markdown",
      "metadata": {
        "id": "uBx0mEqqgxJ9"
      },
      "source": [
        "Then, we try to get a random action from the agent's action space.  \n",
        "然后，我们将试着随机得到一种行动"
      ]
    },
    {
      "cell_type": "code",
      "metadata": {
        "id": "vxkOEXRKgizt",
        "colab": {
          "base_uri": "https://localhost:8080/"
        },
        "outputId": "c4e878e6-40e6-4d90-e5a7-514d379d1abf"
      },
      "source": [
        "random_action = env.action_space.sample()\n",
        "print(random_action)"
      ],
      "execution_count": 93,
      "outputs": [
        {
          "output_type": "stream",
          "name": "stdout",
          "text": [
            "3\n"
          ]
        }
      ]
    },
    {
      "cell_type": "markdown",
      "metadata": {
        "id": "mns-bO01g0-J"
      },
      "source": [
        "More, we can utilize `step()` to make agent act according to the randomly-selected `random_action`.\n",
        "The `step()` function will return four values:\n",
        "- observation / state\n",
        "- reward\n",
        "- done (True/ False)\n",
        "- Other information  \n",
        "\n",
        "下边，我们可以用step（）去使agent按照上边随机抽取的random_action进行行动  \n",
        "step（）将会返回四个值：  \n",
        "- observation / state\n",
        "- reward\n",
        "- done (True/ False)\n",
        "- Other information  "
      ]
    },
    {
      "cell_type": "code",
      "metadata": {
        "id": "E_WViSxGgIk9"
      },
      "source": [
        "observation, reward, done, info = env.step(random_action)"
      ],
      "execution_count": 94,
      "outputs": []
    },
    {
      "cell_type": "code",
      "metadata": {
        "id": "yK7r126kuCNp",
        "colab": {
          "base_uri": "https://localhost:8080/"
        },
        "outputId": "0b47016b-8368-48ee-b09b-5e5f82892936"
      },
      "source": [
        "print(observation, reward, done, info)\n",
        "print(type(observation), type(reward),type( done), type(info))\n",
        "#[-2.4652481e-03  1.3854232e+00 -1.2026372e-01 -5.7935303e-01,1.4148270e-03 -1.0852187e-03  0.0000000e+00  0.0000000e+00] \n",
        "# -1.0511407416545058 False {}\n",
        "\n",
        "# <class 'numpy.ndarray'> <class 'numpy.float64'> <class 'bool'> <class 'dict'>"
      ],
      "execution_count": 95,
      "outputs": [
        {
          "output_type": "stream",
          "name": "stdout",
          "text": [
            "[-2.4652481e-03  1.3854232e+00 -1.2026372e-01 -5.7935303e-01\n",
            "  1.4148270e-03 -1.0852187e-03  0.0000000e+00  0.0000000e+00] -1.0511407416545058 False {}\n",
            "<class 'numpy.ndarray'> <class 'numpy.float64'> <class 'bool'> <class 'dict'>\n"
          ]
        }
      ]
    },
    {
      "cell_type": "markdown",
      "metadata": {
        "id": "GKdS8vOihxhc"
      },
      "source": [
        "### Reward\n",
        "\n",
        "\n",
        "> Landing pad is always at coordinates (0,0). Coordinates are the first two numbers in state vector. Reward for moving from the top of the screen to landing pad and zero speed is about 100..140 points. If lander moves away from landing pad it loses reward back. Episode finishes if the lander crashes or comes to rest, receiving additional -100 or +100 points. Each leg ground contact is +10. Firing main engine is -0.3 points each frame. Solved is 200 points.   \n",
        "\n",
        "登陆垫始终在（0，0）。坐标是状态向量（那个八维向量）的前两维。 从屏幕顶端到达登陆垫并保持速度为0的reward是大概100-140pt。如果登陆器从登陆垫上移动出去了，reward就没了。当登陆器被摧毁了（-100pt）或者成功着陆并休息后（+100pt），一个episode结束。登陆器的每条腿接触地面会+10pt。 主引擎点火为每帧-3分。 解决了（？）加200分"
      ]
    },
    {
      "cell_type": "code",
      "metadata": {
        "id": "vxQNs77hi0_7",
        "colab": {
          "base_uri": "https://localhost:8080/"
        },
        "outputId": "8a056410-c1fe-4c7d-90f7-5087d9fa9264"
      },
      "source": [
        "print(reward)"
      ],
      "execution_count": 96,
      "outputs": [
        {
          "output_type": "stream",
          "name": "stdout",
          "text": [
            "-1.0511407416545058\n"
          ]
        }
      ]
    },
    {
      "cell_type": "markdown",
      "metadata": {
        "id": "Mhqp6D-XgHpe"
      },
      "source": [
        "# Random Agent\n",
        "In the end, before we start training, we can see whether a random agent can successfully land the moon or not.  \n",
        "在开始训练之前，我们可以看看一个随机生成的agent是否能够成功地着陆"
      ]
    },
    {
      "cell_type": "code",
      "metadata": {
        "id": "Y3G0bxoccelv",
        "colab": {
          "base_uri": "https://localhost:8080/",
          "height": 396
        },
        "outputId": "ee3b373e-6fa9-4278-9009-2ca37ea85949"
      },
      "source": [
        "env.reset()\n",
        "\n",
        "img = plt.imshow(env.render(mode='rgb_array'))\n",
        "\n",
        "done = False\n",
        "while not done:\n",
        "  action = env.action_space.sample()\n",
        "  #Randomly sample an element of this space.\n",
        "  #随机抽取动作空间里的一个元素\n",
        "  observation, reward, done, _ = env.step(action)\n",
        "  img.set_data(env.render(mode='rgb_array'))\n",
        "  display.display(plt.gcf())\n",
        "  display.clear_output(wait=True)\n",
        "  #一帧一帧的渲染下边的图像，直到完成一轮为止\n",
        "    \n",
        "\n",
        "\n",
        "\n",
        "    "
      ],
      "execution_count": 97,
      "outputs": [
        {
          "output_type": "display_data",
          "data": {
            "text/plain": [
              "<Figure size 640x480 with 1 Axes>"
            ],
            "image/png": "[encoded data removed]"
          },
          "metadata": {}
        }
      ]
    },
    {
      "cell_type": "markdown",
      "metadata": {
        "id": "F5paWqo7tWL2"
      },
      "source": [
        "## Policy Gradient\n",
        "Now, we can build a simple policy network. The network will return one of action in the action space.  \n",
        "现在，我们将创建一个简单的policy network，它将返回一项动作。"
      ]
    },
    {
      "cell_type": "code",
      "metadata": {
        "id": "J8tdmeD-tZew"
      },
      "source": [
        "class PolicyGradientNetwork(nn.Module):\n",
        "\n",
        "    def __init__(self):\n",
        "        super().__init__()\n",
        "        self.fc1 = nn.Linear(8, 16)\n",
        "        self.fc2 = nn.Linear(16, 16)\n",
        "        self.fc3 = nn.Linear(16, 4)\n",
        "\n",
        "        #三层线性层 8=>16=>16=>4\n",
        "        #输入是八维的状态向量（state），输出是四维，代表四个动作\n",
        "\n",
        "    def forward(self, state):\n",
        "        hid = torch.tanh(self.fc1(state))\n",
        "        hid = torch.tanh(self.fc2(hid))\n",
        "        return F.softmax(self.fc3(hid), dim=-1)\n",
        "\n",
        "        #两次tanh一次softmax\n",
        "        #8=>16=>tanh=>16=>tanh=>4=>softmax=>output\n",
        "        "
      ],
      "execution_count": 98,
      "outputs": []
    },
    {
      "cell_type": "markdown",
      "source": [
        "## Softmax中的dim:\n",
        "-  dim=0 对第一个坐标轴的所有元素进行softmax运算，并使得每一列所有元素和为1\n",
        "-  dim=1 对第二个坐标轴的所有元素进行softmax运算，并使得每一行所有元素和为1\n",
        "-  dim=2 对第三个坐标轴的所有元素进行softmax运算，并使得每一行所有元素和为1\n",
        "  \n",
        "  以此类推\n",
        "-  dim=-1 对第倒数第一个坐标轴的所有元素进行softmax运算，并使得每一行所有元素和为1\n"
      ],
      "metadata": {
        "id": "ZNgu-yzCy4Rt"
      }
    },
    {
      "cell_type": "code",
      "source": [
        "import torch\n",
        "import torch.nn.functional as F\n",
        "input = torch.randn(2,2)\n",
        "print(input)\n",
        "m = F.softmax(input,dim=0)\n",
        "print(\"dim=0\",m)\n",
        "m = F.softmax(input,dim=1)\n",
        "print(\"dim=1\",m)\n",
        "#m = F.softmax(input,dim=2)\n",
        "#print(\"dim=2\",m)\n",
        "m = F.softmax(input,dim=-1)\n",
        "print(\"dim=-1\",m)"
      ],
      "metadata": {
        "colab": {
          "base_uri": "https://localhost:8080/"
        },
        "id": "X27zD4qUzSei",
        "outputId": "b88c5f54-e676-4425-a561-bda744f95b73"
      },
      "execution_count": 99,
      "outputs": [
        {
          "output_type": "stream",
          "name": "stdout",
          "text": [
            "tensor([[-1.9000,  1.0630],\n",
            "        [ 0.1354, -0.3442]])\n",
            "dim=0 tensor([[0.1155, 0.8033],\n",
            "        [0.8845, 0.1967]])\n",
            "dim=1 tensor([[0.0491, 0.9509],\n",
            "        [0.6176, 0.3824]])\n",
            "dim=-1 tensor([[0.0491, 0.9509],\n",
            "        [0.6176, 0.3824]])\n"
          ]
        }
      ]
    },
    {
      "cell_type": "markdown",
      "metadata": {
        "id": "ynbqJrhIFTC3"
      },
      "source": [
        "## Agent\n",
        "Then, we need to build a simple agent. The agent will acts according to the output of the policy network above. There are a few things can be done by agent:\n",
        "- `learn()`：update the policy network from log probabilities and rewards.\n",
        "- `sample()`：After receiving observation from the environment, utilize policy network to tell which action to take. The return values of this function includes action and log probabilities.  \n",
        "  \n",
        "下边，我们需要创建一个简单的agent。它能够做以下事情：  \n",
        "- learn（）：使用log probabilities and rewards来更新policy network  \n",
        "- sample（）：在接收observation后，使用policy network去告诉agent下边需要采取哪种行动，这个函数的返回值包括行动和log probabilities"
      ]
    },
    {
      "cell_type": "code",
      "metadata": {
        "id": "zZo-IxJx286z"
      },
      "source": [
        "from torch.optim.lr_scheduler import StepLR\n",
        "class PolicyGradientAgent():\n",
        "    \n",
        "    def __init__(self, network):\n",
        "        self.network = network\n",
        "        self.optimizer = optim.SGD(self.network.parameters(), lr=0.001)\n",
        "        #优化算法：SGD\n",
        "        \n",
        "    def forward(self, state):\n",
        "        return self.network(state)\n",
        "    def learn(self, log_probs, rewards):\n",
        "        loss = (-log_probs * rewards).sum() \n",
        "\n",
        "        # You don't need to revise this to pass simple baseline (but you can)\n",
        "        #你无需修改loss算法就可以通过simple baseline，但是你可以改\n",
        "\n",
        "        self.optimizer.zero_grad()\n",
        "        loss.backward()\n",
        "        self.optimizer.step()\n",
        "        \n",
        "    def sample(self, state):\n",
        "        action_prob = self.network(torch.FloatTensor(state))\n",
        "        #把state传给network，并接受动作的概率\n",
        "        action_dist = Categorical(action_prob)\n",
        "        #Categorical类\n",
        "        action = action_dist.sample()\n",
        "        #按照概率随机抽取一个动作\n",
        "        #比如[0.1,0.3,0.2,0.4],会按照这个概率表在0-3之间抽取一个动作\n",
        "        log_prob = action_dist.log_prob(action)\n",
        "        #取log的概率\n",
        "        return action.item(), log_prob\n",
        "        #返回action种类，和log probability"
      ],
      "execution_count": 100,
      "outputs": []
    },
    {
      "cell_type": "markdown",
      "source": [
        "## Categorical\n",
        "CLASS   \n",
        "torch.distributions.categorical.Categorical(probs=None, logits=None, validate_args=None)  \n"
      ],
      "metadata": {
        "id": "RMvr6QYx2K-x"
      }
    },
    {
      "cell_type": "code",
      "source": [
        "import torch\n",
        "from torch.distributions.categorical import Categorical\n",
        "\n",
        "\n",
        "\n",
        "\n",
        "def printf(sample_prob):\n",
        "  sample_prob=torch.FloatTensor(sample_prob)\n",
        "  #AttributeError: 'list' object has no attribute 'dim'\n",
        "  sample_dist = Categorical(sample_prob)\n",
        "  sample_action = sample_dist.sample()\n",
        "  sample_log_prob = sample_dist.log_prob(sample_action)\n",
        "  sample_prob_cate = sample_dist.probs\n",
        "  print(sample_dist)\n",
        "  print(sample_action)\n",
        "  print(type(sample_action))\n",
        "  print(sample_log_prob)\n",
        "  print(sample_prob_cate)\n",
        "  print(\"#########################\")\n",
        "\n",
        "\n",
        "\n",
        "\n",
        "\n",
        "printf([0.1,0.3,0.2,0.4]) \n",
        "# sum=1 log=[-2.3,-1.2,-1.6,-0.9]\n",
        "#printf([0.1,0.3,0.2,0.3]) # sum=0.9\n",
        "\n",
        "\n",
        "\n",
        "'''\n",
        "一次输出\n",
        "[0.1,0.3,0.2,0.4]\n",
        "Categorical(probs: torch.Size([4]), logits: torch.Size([4]))\n",
        "tensor(3)\n",
        "tensor(-0.9163)\n",
        "log(0.2)=\n",
        "'''"
      ],
      "metadata": {
        "colab": {
          "base_uri": "https://localhost:8080/",
          "height": 0
        },
        "id": "HbISlAnU2-cR",
        "outputId": "90aa0d45-49b6-4d32-aa87-cd15e02a3b91"
      },
      "execution_count": 101,
      "outputs": [
        {
          "output_type": "stream",
          "name": "stdout",
          "text": [
            "Categorical(probs: torch.Size([4]), logits: torch.Size([4]))\n",
            "tensor(3)\n",
            "<class 'torch.Tensor'>\n",
            "tensor(-0.9163)\n",
            "tensor([0.1000, 0.3000, 0.2000, 0.4000])\n",
            "#########################\n"
          ]
        },
        {
          "output_type": "execute_result",
          "data": {
            "text/plain": [
              "'\\n一次输出\\n[0.1,0.3,0.2,0.4]\\nCategorical(probs: torch.Size([4]), logits: torch.Size([4]))\\ntensor(3)\\ntensor(-0.9163)\\nlog(0.2)=\\n'"
            ],
            "application/vnd.google.colaboratory.intrinsic+json": {
              "type": "string"
            }
          },
          "metadata": {},
          "execution_count": 101
        }
      ]
    },
    {
      "cell_type": "code",
      "source": [
        "import torch\n",
        "from torch.distributions.categorical import Categorical\n",
        "l_tongji = [0,0,0,0]\n",
        "\n",
        "sample_prob=torch.FloatTensor([0.1,0.3,0.2,0.4])\n",
        "sample_dist = Categorical(sample_prob)\n",
        "for x in range(100000):\n",
        "  sample_action = sample_dist.sample()\n",
        "  if sample_action == torch.Tensor([0]):\n",
        "    l_tongji[0]+=1\n",
        "  if sample_action == torch.Tensor([1]):\n",
        "    l_tongji[1]+=1\n",
        "  if sample_action == torch.Tensor([2]):\n",
        "    l_tongji[2]+=1\n",
        "  if sample_action == torch.Tensor([3]):\n",
        "    l_tongji[3]+=1\n",
        "print(l_tongji)\n",
        "\n",
        "# [10098, 30215, 20053, 39634]"
      ],
      "metadata": {
        "colab": {
          "base_uri": "https://localhost:8080/"
        },
        "id": "Nn0Wt3BVKKiB",
        "outputId": "ca5f1f9b-a640-4285-ff90-ddcdf1f7502e"
      },
      "execution_count": 102,
      "outputs": [
        {
          "output_type": "stream",
          "name": "stdout",
          "text": [
            "[10066, 29792, 20108, 40034]\n"
          ]
        }
      ]
    },
    {
      "cell_type": "markdown",
      "metadata": {
        "id": "ehPlnTKyRZf9"
      },
      "source": [
        "## 实例化\n",
        "Lastly, build a network and agent to start training.  \n",
        "最后，创建（实例化）一个network和agent，然后开始训练！"
      ]
    },
    {
      "cell_type": "code",
      "metadata": {
        "id": "GfJIvML-RYjL"
      },
      "source": [
        "network = PolicyGradientNetwork()\n",
        "agent = PolicyGradientAgent(network)"
      ],
      "execution_count": 103,
      "outputs": []
    },
    {
      "cell_type": "markdown",
      "metadata": {
        "id": "ouv23glgf5Qt"
      },
      "source": [
        "## Training Agent\n",
        "\n",
        "Now let's start to train our agent.\n",
        "Through taking all the interactions between agent and environment as training data, the policy network can learn from all these attempts,  \n",
        "  \n",
        "下边我们开始训练agent了 \n",
        "通过把agent和环境间的所有互动当作训练数据，policy network可以从所有的attempts中学习\n"
      ]
    },
    {
      "cell_type": "code",
      "metadata": {
        "id": "vg5rxBBaf38_",
        "colab": {
          "base_uri": "https://localhost:8080/",
          "height": 138,
          "referenced_widgets": [
            "36d30068570e491a840a1e4660bbe486",
            "85e9da00e2b64cd084fa1bc6b5eeb366",
            "bf0082f78952476d9a84c754cb0c285f",
            "e60280b76b2548eea3c589fced1af749",
            "03e54e1085f54b3cb6f6cc4c22e8e792",
            "6e658bde833349f0abf0d91d3b38eec8",
            "3e42a355ac414bbda942ef0ed4a0d884",
            "8a44e7f55db04c6fa686c8fad0117b5d",
            "ae421f8fd77e4615af1e3c659e0ac75e",
            "5b1f3df04f4047ac859e6f0a4ba2425f",
            "cce051e0bfbe4a68a46a2177e4486f94"
          ]
        },
        "outputId": "fd34e9e2-6823-400f-b2ba-0443ea54aa15"
      },
      "source": [
        "agent.network.train()  \n",
        "# Switch network into training mode \n",
        "# 转换为train模式 \n",
        "EPISODE_PER_BATCH = 5  \n",
        "# update the  agent every 5 episode\n",
        "# 每5个episode更新一次agent\n",
        "\n",
        "NUM_BATCH = 500        \n",
        "# totally update the agent for 400 time（？）\n",
        "# 一共更新500次\n",
        "\n",
        "avg_total_rewards, avg_final_rewards = [], []\n",
        "\n",
        "prg_bar = tqdm(range(NUM_BATCH))\n",
        "\n",
        "flag_print = 0\n",
        "#控制显示的条数，防止浏览器卡死\n",
        "\n",
        "#Medium: accumulative decaying reward\n",
        "def accu_decay_reward(rewards):\n",
        "  accu_reward = 0\n",
        "  decay = 0.9 #衰减因子\n",
        "  rewards_len = len(rewards)\n",
        "  accu_rewards = [0]*(rewards_len + 1)\n",
        "\n",
        "  for x in range(rewards_len):\n",
        "    accu_rewards[rewards_len-1-x] = decay*accu_rewards[rewards_len-x] + rewards[rewards_len-1-x]\n",
        "  del(accu_rewards[-1])\n",
        "  #print(accu_rewards)\n",
        "  return accu_rewards\n",
        "  \n",
        "    \n",
        "\n",
        "\n",
        "\n",
        "for batch in prg_bar:\n",
        "# 500个batch\n",
        "\n",
        "    log_probs, rewards = [], []\n",
        "    total_rewards, final_rewards = [], []\n",
        "\n",
        "    # collect trajectory\n",
        "    for episode in range(EPISODE_PER_BATCH):\n",
        "      #每个batch有5个episode\n",
        "        \n",
        "        state = env.reset()\n",
        "        total_reward, total_step = 0, 0\n",
        "        seq_rewards = []\n",
        "        while True:\n",
        "\n",
        "            action, log_prob = agent.sample(state) \n",
        "            # at, log(at|st)\n",
        "            #动作种类和这一动作的log概率\n",
        "            next_state, reward, done, _ = env.step(action)\n",
        "            log_probs.append(log_prob) # [log(a1|s1), log(a2|s2), ...., log(at|st)]\n",
        "            #存储log_prob\n",
        "\n",
        "            # seq_rewards.append(reward)\n",
        "            state = next_state\n",
        "            total_reward += reward\n",
        "            total_step += 1\n",
        "            #更新参数\n",
        "\n",
        "            rewards.append(reward) # change here\n",
        "            #TODO：需要改变的部分\n",
        "            \n",
        "            # ! IMPORTANT !\n",
        "            # Current reward implementation: immediate reward,  \n",
        "            # given action_list : a1, a2, a3 ......\n",
        "            #  rewards :     r1, r2 ,r3 ......\n",
        "            # medium：change \"rewards\" to accumulative decaying reward, \n",
        "            # given action_list : a1,a2,a3, ......\n",
        "            # rewards :   r1+0.99*r2+0.99^2*r3+......, r2+0.99*r3+0.99^2*r4+...... ,  r3+0.99*r4+0.99^2*r5+ ......\n",
        "            # boss : implement Actor-Critic\n",
        "\n",
        "            #目前的：只存储当前的reward\n",
        "            #medium：积累延迟reward\n",
        "            #boss：采用Actor-Critic\n",
        "\n",
        "            if done:\n",
        "                final_rewards.append(reward)\n",
        "                total_rewards.append(total_reward)\n",
        "                break\n",
        "            #一个episode完成后，记录final reward和total reward\n",
        "\n",
        "\n",
        "    if flag_print%100==0:\n",
        "      print(f\"rewards looks like \", np.shape(rewards))\n",
        "    #log_probs_shape = np.array(log_probs).detach().shape\n",
        "    #AttributeError: 'list' object has no attribute 'shape'\n",
        "    #RuntimeError: Can't call numpy() on Tensor that requires grad. Use tensor.detach().numpy() instead.\n",
        "    #print(f\"log_probs looks like \", np.shape(log_probs)) \n",
        "      print(f\"log_probs looks like \", log_probs) \n",
        "    \n",
        "    #源代码每完成一个batch就要显示一大堆信息，容易卡死，这里让它只显示一次\n",
        "\n",
        "\n",
        "    # record training process\n",
        "    avg_total_reward = sum(total_rewards) / len(total_rewards)\n",
        "    avg_final_reward = sum(final_rewards) / len(final_rewards)\n",
        "    avg_total_rewards.append(avg_total_reward)\n",
        "    avg_final_rewards.append(avg_final_reward)\n",
        "    prg_bar.set_description(f\"Total: {avg_total_reward: 4.1f}, Final: {avg_final_reward: 4.1f}\")\n",
        "    #计算平均的total和final reward，并显示这俩\n",
        "\n",
        "    # update agent 更新agent\n",
        "    # rewards = np.concatenate(rewards, axis=0)\n",
        "    rewards = (rewards - np.mean(rewards)) / (np.std(rewards) + 1e-9)  \n",
        "    # normalize the reward  标准化reward\n",
        "    # std：标准差\n",
        "\n",
        "    accu_rewards=accu_decay_reward(rewards)\n",
        "\n",
        "    #agent.learn(torch.stack(log_probs), torch.from_numpy(rewards))\n",
        "\n",
        "    agent.learn(torch.stack(log_probs), torch.tensor(accu_rewards))\n",
        "    #调用learn()更新agent\n",
        "    #torch.from_numpy()把numpy中的向量转化为torch中的张量，共享内存空间\n",
        "    #torch.stack()拼接张量，不太清楚这里是怎么拼接的\n",
        "\n",
        "\n",
        "\n",
        "    if flag_print%100==0:\n",
        "      print(\"logs prob looks like \", torch.stack(log_probs).size())\n",
        "      print(\"torch.from_numpy(rewards) looks like \", torch.from_numpy(rewards).size())\n",
        "      flag_print+=1\n",
        "    #显示信息x2\n",
        "\n",
        "\n"
      ],
      "execution_count": 104,
      "outputs": [
        {
          "data": {
            "application/vnd.jupyter.widget-view+json": {
              "model_id": "36d30068570e491a840a1e4660bbe486",
              "version_major": 2,
              "version_minor": 0
            },
            "text/plain": [
              "  0%|          | 0/500 [00:00<?, ?it/s]"
            ]
          },
          "metadata": {},
          "output_type": "display_data"
        },
        {
          "metadata": {
            "tags": null
          },
          "name": "stdout",
          "output_type": "stream",
          "text": [
            "rewards looks like  (497,)\n",
            "log_probs looks like  [tensor(-1.5980, grad_fn=<SqueezeBackward1>), tensor(-1.5968, grad_fn=<SqueezeBackward1>), tensor(-1.3206, grad_fn=<SqueezeBackward1>), tensor(-1.5973, grad_fn=<SqueezeBackward1>), tensor(-1.5960, grad_fn=<SqueezeBackward1>), tensor(-1.5948, grad_fn=<SqueezeBackward1>), tensor(-1.5333, grad_fn=<SqueezeBackward1>), tensor(-1.5884, grad_fn=<SqueezeBackward1>), tensor(-1.3194, grad_fn=<SqueezeBackward1>), tensor(-1.5340, grad_fn=<SqueezeBackward1>), tensor(-1.1654, grad_fn=<SqueezeBackward1>), tensor(-1.1631, grad_fn=<SqueezeBackward1>), tensor(-1.5891, grad_fn=<SqueezeBackward1>), tensor(-1.1629, grad_fn=<SqueezeBackward1>), tensor(-1.1612, grad_fn=<SqueezeBackward1>), tensor(-1.3203, grad_fn=<SqueezeBackward1>), tensor(-1.5942, grad_fn=<SqueezeBackward1>), tensor(-1.1614, grad_fn=<SqueezeBackward1>), tensor(-1.3199, grad_fn=<SqueezeBackward1>), tensor(-1.1575, grad_fn=<SqueezeBackward1>), tensor(-1.3205, grad_fn=<SqueezeBackward1>), tensor(-1.3206, grad_fn=<SqueezeBackward1>), tensor(-1.1543, grad_fn=<SqueezeBackward1>), tensor(-1.3209, grad_fn=<SqueezeBackward1>), tensor(-1.3215, grad_fn=<SqueezeBackward1>), tensor(-1.1486, grad_fn=<SqueezeBackward1>), tensor(-1.3223, grad_fn=<SqueezeBackward1>), tensor(-1.3223, grad_fn=<SqueezeBackward1>), tensor(-1.6163, grad_fn=<SqueezeBackward1>), tensor(-1.3219, grad_fn=<SqueezeBackward1>), tensor(-1.6183, grad_fn=<SqueezeBackward1>), tensor(-1.6172, grad_fn=<SqueezeBackward1>), tensor(-1.6161, grad_fn=<SqueezeBackward1>), tensor(-1.5288, grad_fn=<SqueezeBackward1>), tensor(-1.5293, grad_fn=<SqueezeBackward1>), tensor(-1.5297, grad_fn=<SqueezeBackward1>), tensor(-1.5302, grad_fn=<SqueezeBackward1>), tensor(-1.3191, grad_fn=<SqueezeBackward1>), tensor(-1.3183, grad_fn=<SqueezeBackward1>), tensor(-1.3177, grad_fn=<SqueezeBackward1>), tensor(-1.5266, grad_fn=<SqueezeBackward1>), tensor(-1.5964, grad_fn=<SqueezeBackward1>), tensor(-1.3175, grad_fn=<SqueezeBackward1>), tensor(-1.5978, grad_fn=<SqueezeBackward1>), tensor(-1.1656, grad_fn=<SqueezeBackward1>), tensor(-1.1638, grad_fn=<SqueezeBackward1>), tensor(-1.5237, grad_fn=<SqueezeBackward1>), tensor(-1.5975, grad_fn=<SqueezeBackward1>), tensor(-1.3165, grad_fn=<SqueezeBackward1>), tensor(-1.5224, grad_fn=<SqueezeBackward1>), tensor(-1.5944, grad_fn=<SqueezeBackward1>), tensor(-1.3155, grad_fn=<SqueezeBackward1>), tensor(-1.1690, grad_fn=<SqueezeBackward1>), tensor(-1.5218, grad_fn=<SqueezeBackward1>), tensor(-1.1709, grad_fn=<SqueezeBackward1>), tensor(-1.3156, grad_fn=<SqueezeBackward1>), tensor(-1.5988, grad_fn=<SqueezeBackward1>), tensor(-1.5210, grad_fn=<SqueezeBackward1>), tensor(-1.5212, grad_fn=<SqueezeBackward1>), tensor(-1.1757, grad_fn=<SqueezeBackward1>), tensor(-1.3145, grad_fn=<SqueezeBackward1>), tensor(-1.3137, grad_fn=<SqueezeBackward1>), tensor(-1.3138, grad_fn=<SqueezeBackward1>), tensor(-1.5161, grad_fn=<SqueezeBackward1>), tensor(-1.5902, grad_fn=<SqueezeBackward1>), tensor(-1.5890, grad_fn=<SqueezeBackward1>), tensor(-1.3121, grad_fn=<SqueezeBackward1>), tensor(-1.5894, grad_fn=<SqueezeBackward1>), tensor(-1.1830, grad_fn=<SqueezeBackward1>), tensor(-1.1814, grad_fn=<SqueezeBackward1>), tensor(-1.5133, grad_fn=<SqueezeBackward1>), tensor(-1.3114, grad_fn=<SqueezeBackward1>), tensor(-1.1827, grad_fn=<SqueezeBackward1>), tensor(-1.3111, grad_fn=<SqueezeBackward1>), tensor(-1.1802, grad_fn=<SqueezeBackward1>), tensor(-1.5081, grad_fn=<SqueezeBackward1>), tensor(-1.3109, grad_fn=<SqueezeBackward1>), tensor(-1.3101, grad_fn=<SqueezeBackward1>), tensor(-1.3093, grad_fn=<SqueezeBackward1>), tensor(-1.4988, grad_fn=<SqueezeBackward1>), tensor(-1.4991, grad_fn=<SqueezeBackward1>), tensor(-1.3070, grad_fn=<SqueezeBackward1>), tensor(-1.3067, grad_fn=<SqueezeBackward1>), tensor(-1.1891, grad_fn=<SqueezeBackward1>), tensor(-1.4948, grad_fn=<SqueezeBackward1>), tensor(-1.4949, grad_fn=<SqueezeBackward1>), tensor(-1.1951, grad_fn=<SqueezeBackward1>), tensor(-1.4944, grad_fn=<SqueezeBackward1>), tensor(-1.1968, grad_fn=<SqueezeBackward1>), tensor(-1.5991, grad_fn=<SqueezeBackward1>), tensor(-1.3055, grad_fn=<SqueezeBackward1>), tensor(-1.6016, grad_fn=<SqueezeBackward1>), tensor(-1.6005, grad_fn=<SqueezeBackward1>), tensor(-1.5995, grad_fn=<SqueezeBackward1>), tensor(-1.5985, grad_fn=<SqueezeBackward1>), tensor(-1.5975, grad_fn=<SqueezeBackward1>), tensor(-1.3043, grad_fn=<SqueezeBackward1>), tensor(-1.5995, grad_fn=<SqueezeBackward1>), tensor(-1.5985, grad_fn=<SqueezeBackward1>), tensor(-1.3027, grad_fn=<SqueezeBackward1>), tensor(-1.2070, grad_fn=<SqueezeBackward1>), tensor(-1.2061, grad_fn=<SqueezeBackward1>), tensor(-1.2044, grad_fn=<SqueezeBackward1>), tensor(-1.6096, grad_fn=<SqueezeBackward1>), tensor(-1.3028, grad_fn=<SqueezeBackward1>), tensor(-1.2057, grad_fn=<SqueezeBackward1>), tensor(-1.4723, grad_fn=<SqueezeBackward1>), tensor(-1.2076, grad_fn=<SqueezeBackward1>), tensor(-1.2060, grad_fn=<SqueezeBackward1>), tensor(-1.6179, grad_fn=<SqueezeBackward1>), tensor(-1.2055, grad_fn=<SqueezeBackward1>), tensor(-1.2035, grad_fn=<SqueezeBackward1>), tensor(-1.4684, grad_fn=<SqueezeBackward1>), tensor(-1.6179, grad_fn=<SqueezeBackward1>), tensor(-1.3017, grad_fn=<SqueezeBackward1>), tensor(-1.3003, grad_fn=<SqueezeBackward1>), tensor(-1.2103, grad_fn=<SqueezeBackward1>), tensor(-1.4582, grad_fn=<SqueezeBackward1>), tensor(-1.4578, grad_fn=<SqueezeBackward1>), tensor(-1.2984, grad_fn=<SqueezeBackward1>), tensor(-1.6243, grad_fn=<SqueezeBackward1>), tensor(-1.2974, grad_fn=<SqueezeBackward1>), tensor(-1.6258, grad_fn=<SqueezeBackward1>), tensor(-1.4494, grad_fn=<SqueezeBackward1>), tensor(-1.2541, grad_fn=<SqueezeBackward1>), tensor(-1.5942, grad_fn=<SqueezeBackward1>), tensor(-1.3330, grad_fn=<SqueezeBackward1>), tensor(-1.3332, grad_fn=<SqueezeBackward1>), tensor(-1.5289, grad_fn=<SqueezeBackward1>), tensor(-1.1519, grad_fn=<SqueezeBackward1>), tensor(-1.5288, grad_fn=<SqueezeBackward1>), tensor(-1.1519, grad_fn=<SqueezeBackward1>), tensor(-1.5935, grad_fn=<SqueezeBackward1>), tensor(-1.5226, grad_fn=<SqueezeBackward1>), tensor(-1.1565, grad_fn=<SqueezeBackward1>), tensor(-1.5233, grad_fn=<SqueezeBackward1>), tensor(-1.1560, grad_fn=<SqueezeBackward1>), tensor(-1.3329, grad_fn=<SqueezeBackward1>), tensor(-1.1521, grad_fn=<SqueezeBackward1>), tensor(-1.5259, grad_fn=<SqueezeBackward1>), tensor(-1.1524, grad_fn=<SqueezeBackward1>), tensor(-1.5956, grad_fn=<SqueezeBackward1>), tensor(-1.1561, grad_fn=<SqueezeBackward1>), tensor(-1.1552, grad_fn=<SqueezeBackward1>), tensor(-1.1533, grad_fn=<SqueezeBackward1>), tensor(-1.5259, grad_fn=<SqueezeBackward1>), tensor(-1.3329, grad_fn=<SqueezeBackward1>), tensor(-1.3325, grad_fn=<SqueezeBackward1>), tensor(-1.5250, grad_fn=<SqueezeBackward1>), tensor(-1.5234, grad_fn=<SqueezeBackward1>), tensor(-1.1536, grad_fn=<SqueezeBackward1>), tensor(-1.1522, grad_fn=<SqueezeBackward1>), tensor(-1.3329, grad_fn=<SqueezeBackward1>), tensor(-1.1491, grad_fn=<SqueezeBackward1>), tensor(-1.5978, grad_fn=<SqueezeBackward1>), tensor(-1.1513, grad_fn=<SqueezeBackward1>), tensor(-1.3326, grad_fn=<SqueezeBackward1>), tensor(-1.5986, grad_fn=<SqueezeBackward1>), tensor(-1.1531, grad_fn=<SqueezeBackward1>), tensor(-1.1518, grad_fn=<SqueezeBackward1>), tensor(-1.1497, grad_fn=<SqueezeBackward1>), tensor(-1.1475, grad_fn=<SqueezeBackward1>), tensor(-1.5983, grad_fn=<SqueezeBackward1>), tensor(-1.1508, grad_fn=<SqueezeBackward1>), tensor(-1.1492, grad_fn=<SqueezeBackward1>), tensor(-1.5310, grad_fn=<SqueezeBackward1>), tensor(-1.3316, grad_fn=<SqueezeBackward1>), tensor(-1.1487, grad_fn=<SqueezeBackward1>), tensor(-1.1469, grad_fn=<SqueezeBackward1>), tensor(-1.1458, grad_fn=<SqueezeBackward1>), tensor(-1.1435, grad_fn=<SqueezeBackward1>), tensor(-1.1417, grad_fn=<SqueezeBackward1>), tensor(-1.1406, grad_fn=<SqueezeBackward1>), tensor(-1.5967, grad_fn=<SqueezeBackward1>), tensor(-1.5391, grad_fn=<SqueezeBackward1>), tensor(-1.1448, grad_fn=<SqueezeBackward1>), tensor(-1.1438, grad_fn=<SqueezeBackward1>), tensor(-1.5970, grad_fn=<SqueezeBackward1>), tensor(-1.5367, grad_fn=<SqueezeBackward1>), tensor(-1.3290, grad_fn=<SqueezeBackward1>), tensor(-1.1490, grad_fn=<SqueezeBackward1>), tensor(-1.5942, grad_fn=<SqueezeBackward1>), tensor(-1.5341, grad_fn=<SqueezeBackward1>), tensor(-1.5944, grad_fn=<SqueezeBackward1>), tensor(-1.5280, grad_fn=<SqueezeBackward1>), tensor(-1.5946, grad_fn=<SqueezeBackward1>), tensor(-1.5947, grad_fn=<SqueezeBackward1>), tensor(-1.1693, grad_fn=<SqueezeBackward1>), tensor(-1.5176, grad_fn=<SqueezeBackward1>), tensor(-1.1696, grad_fn=<SqueezeBackward1>), tensor(-1.5175, grad_fn=<SqueezeBackward1>), tensor(-1.5160, grad_fn=<SqueezeBackward1>), tensor(-1.1724, grad_fn=<SqueezeBackward1>), tensor(-1.5933, grad_fn=<SqueezeBackward1>), tensor(-1.1755, grad_fn=<SqueezeBackward1>), tensor(-1.1742, grad_fn=<SqueezeBackward1>), tensor(-1.5173, grad_fn=<SqueezeBackward1>), tensor(-1.3176, grad_fn=<SqueezeBackward1>), tensor(-1.3164, grad_fn=<SqueezeBackward1>), tensor(-1.5235, grad_fn=<SqueezeBackward1>), tensor(-1.5222, grad_fn=<SqueezeBackward1>), tensor(-1.1816, grad_fn=<SqueezeBackward1>), tensor(-1.3129, grad_fn=<SqueezeBackward1>), tensor(-1.5285, grad_fn=<SqueezeBackward1>), tensor(-1.1846, grad_fn=<SqueezeBackward1>), tensor(-1.3101, grad_fn=<SqueezeBackward1>), tensor(-1.3069, grad_fn=<SqueezeBackward1>), tensor(-1.1893, grad_fn=<SqueezeBackward1>), tensor(-1.5413, grad_fn=<SqueezeBackward1>), tensor(-1.3041, grad_fn=<SqueezeBackward1>), tensor(-1.5451, grad_fn=<SqueezeBackward1>), tensor(-1.5442, grad_fn=<SqueezeBackward1>), tensor(-1.1986, grad_fn=<SqueezeBackward1>), tensor(-1.5466, grad_fn=<SqueezeBackward1>), tensor(-1.2992, grad_fn=<SqueezeBackward1>), tensor(-1.2037, grad_fn=<SqueezeBackward1>), tensor(-1.2033, grad_fn=<SqueezeBackward1>), tensor(-1.2027, grad_fn=<SqueezeBackward1>), tensor(-1.2964, grad_fn=<SqueezeBackward1>), tensor(-1.5601, grad_fn=<SqueezeBackward1>), tensor(-1.5246, grad_fn=<SqueezeBackward1>), tensor(-1.5232, grad_fn=<SqueezeBackward1>), tensor(-1.1690, grad_fn=<SqueezeBackward1>), tensor(-1.3297, grad_fn=<SqueezeBackward1>), tensor(-1.3299, grad_fn=<SqueezeBackward1>), tensor(-1.5254, grad_fn=<SqueezeBackward1>), tensor(-1.5238, grad_fn=<SqueezeBackward1>), tensor(-1.5795, grad_fn=<SqueezeBackward1>), tensor(-1.5800, grad_fn=<SqueezeBackward1>), tensor(-1.3284, grad_fn=<SqueezeBackward1>), tensor(-1.1762, grad_fn=<SqueezeBackward1>), tensor(-1.1752, grad_fn=<SqueezeBackward1>), tensor(-1.3281, grad_fn=<SqueezeBackward1>), tensor(-1.1745, grad_fn=<SqueezeBackward1>), tensor(-1.3278, grad_fn=<SqueezeBackward1>), tensor(-1.1720, grad_fn=<SqueezeBackward1>), tensor(-1.3281, grad_fn=<SqueezeBackward1>), tensor(-1.5801, grad_fn=<SqueezeBackward1>), tensor(-1.5131, grad_fn=<SqueezeBackward1>), tensor(-1.1765, grad_fn=<SqueezeBackward1>), tensor(-1.5132, grad_fn=<SqueezeBackward1>), tensor(-1.5116, grad_fn=<SqueezeBackward1>), tensor(-1.1782, grad_fn=<SqueezeBackward1>), tensor(-1.1766, grad_fn=<SqueezeBackward1>), tensor(-1.1754, grad_fn=<SqueezeBackward1>), tensor(-1.1743, grad_fn=<SqueezeBackward1>), tensor(-1.3272, grad_fn=<SqueezeBackward1>), tensor(-1.3269, grad_fn=<SqueezeBackward1>), tensor(-1.1711, grad_fn=<SqueezeBackward1>), tensor(-1.5796, grad_fn=<SqueezeBackward1>), tensor(-1.3268, grad_fn=<SqueezeBackward1>), tensor(-1.3273, grad_fn=<SqueezeBackward1>), tensor(-1.1705, grad_fn=<SqueezeBackward1>), tensor(-1.5818, grad_fn=<SqueezeBackward1>), tensor(-1.5158, grad_fn=<SqueezeBackward1>), tensor(-1.3266, grad_fn=<SqueezeBackward1>), tensor(-1.5151, grad_fn=<SqueezeBackward1>), tensor(-1.3262, grad_fn=<SqueezeBackward1>), tensor(-1.1747, grad_fn=<SqueezeBackward1>), tensor(-1.5814, grad_fn=<SqueezeBackward1>), tensor(-1.1763, grad_fn=<SqueezeBackward1>), tensor(-1.5814, grad_fn=<SqueezeBackward1>), tensor(-1.3246, grad_fn=<SqueezeBackward1>), tensor(-1.5807, grad_fn=<SqueezeBackward1>), tensor(-1.3230, grad_fn=<SqueezeBackward1>), tensor(-1.5799, grad_fn=<SqueezeBackward1>), tensor(-1.3215, grad_fn=<SqueezeBackward1>), tensor(-1.3214, grad_fn=<SqueezeBackward1>), tensor(-1.1901, grad_fn=<SqueezeBackward1>), tensor(-1.5013, grad_fn=<SqueezeBackward1>), tensor(-1.4997, grad_fn=<SqueezeBackward1>), tensor(-1.4981, grad_fn=<SqueezeBackward1>), tensor(-1.5808, grad_fn=<SqueezeBackward1>), tensor(-1.3203, grad_fn=<SqueezeBackward1>), tensor(-1.1976, grad_fn=<SqueezeBackward1>), tensor(-1.4952, grad_fn=<SqueezeBackward1>), tensor(-1.1976, grad_fn=<SqueezeBackward1>), tensor(-1.1959, grad_fn=<SqueezeBackward1>), tensor(-1.4986, grad_fn=<SqueezeBackward1>), tensor(-1.3193, grad_fn=<SqueezeBackward1>), tensor(-1.1942, grad_fn=<SqueezeBackward1>), tensor(-1.5000, grad_fn=<SqueezeBackward1>), tensor(-1.1951, grad_fn=<SqueezeBackward1>), tensor(-1.3193, grad_fn=<SqueezeBackward1>), tensor(-1.1954, grad_fn=<SqueezeBackward1>), tensor(-1.5736, grad_fn=<SqueezeBackward1>), tensor(-1.1983, grad_fn=<SqueezeBackward1>), tensor(-1.5733, grad_fn=<SqueezeBackward1>), tensor(-1.2017, grad_fn=<SqueezeBackward1>), tensor(-1.3167, grad_fn=<SqueezeBackward1>), tensor(-1.5007, grad_fn=<SqueezeBackward1>), tensor(-1.3155, grad_fn=<SqueezeBackward1>), tensor(-1.2033, grad_fn=<SqueezeBackward1>), tensor(-1.2023, grad_fn=<SqueezeBackward1>), tensor(-1.2006, grad_fn=<SqueezeBackward1>), tensor(-1.3151, grad_fn=<SqueezeBackward1>), tensor(-1.5655, grad_fn=<SqueezeBackward1>), tensor(-1.2048, grad_fn=<SqueezeBackward1>), tensor(-1.3136, grad_fn=<SqueezeBackward1>), tensor(-1.2049, grad_fn=<SqueezeBackward1>), tensor(-1.5594, grad_fn=<SqueezeBackward1>), tensor(-1.3108, grad_fn=<SqueezeBackward1>), tensor(-1.3096, grad_fn=<SqueezeBackward1>), tensor(-1.5101, grad_fn=<SqueezeBackward1>), tensor(-1.5549, grad_fn=<SqueezeBackward1>), tensor(-1.2179, grad_fn=<SqueezeBackward1>), tensor(-1.2170, grad_fn=<SqueezeBackward1>), tensor(-1.5079, grad_fn=<SqueezeBackward1>), tensor(-1.2182, grad_fn=<SqueezeBackward1>), tensor(-1.2168, grad_fn=<SqueezeBackward1>), tensor(-1.3061, grad_fn=<SqueezeBackward1>), tensor(-1.5130, grad_fn=<SqueezeBackward1>), tensor(-1.3031, grad_fn=<SqueezeBackward1>), tensor(-1.3021, grad_fn=<SqueezeBackward1>), tensor(-1.5239, grad_fn=<SqueezeBackward1>), tensor(-1.3283, grad_fn=<SqueezeBackward1>), tensor(-1.1722, grad_fn=<SqueezeBackward1>), tensor(-1.5731, grad_fn=<SqueezeBackward1>), tensor(-1.3279, grad_fn=<SqueezeBackward1>), tensor(-1.5201, grad_fn=<SqueezeBackward1>), tensor(-1.1752, grad_fn=<SqueezeBackward1>), tensor(-1.5216, grad_fn=<SqueezeBackward1>), tensor(-1.3278, grad_fn=<SqueezeBackward1>), tensor(-1.3282, grad_fn=<SqueezeBackward1>), tensor(-1.1716, grad_fn=<SqueezeBackward1>), tensor(-1.3287, grad_fn=<SqueezeBackward1>), tensor(-1.5776, grad_fn=<SqueezeBackward1>), tensor(-1.5162, grad_fn=<SqueezeBackward1>), tensor(-1.3281, grad_fn=<SqueezeBackward1>), tensor(-1.3285, grad_fn=<SqueezeBackward1>), tensor(-1.5798, grad_fn=<SqueezeBackward1>), tensor(-1.3279, grad_fn=<SqueezeBackward1>), tensor(-1.5805, grad_fn=<SqueezeBackward1>), tensor(-1.3273, grad_fn=<SqueezeBackward1>), tensor(-1.1795, grad_fn=<SqueezeBackward1>), tensor(-1.1787, grad_fn=<SqueezeBackward1>), tensor(-1.5811, grad_fn=<SqueezeBackward1>), tensor(-1.5814, grad_fn=<SqueezeBackward1>), tensor(-1.3263, grad_fn=<SqueezeBackward1>), tensor(-1.3258, grad_fn=<SqueezeBackward1>), tensor(-1.1868, grad_fn=<SqueezeBackward1>), tensor(-1.4995, grad_fn=<SqueezeBackward1>), tensor(-1.3254, grad_fn=<SqueezeBackward1>), tensor(-1.3258, grad_fn=<SqueezeBackward1>), tensor(-1.5830, grad_fn=<SqueezeBackward1>), tensor(-1.1915, grad_fn=<SqueezeBackward1>), tensor(-1.5828, grad_fn=<SqueezeBackward1>), tensor(-1.3243, grad_fn=<SqueezeBackward1>), tensor(-1.1955, grad_fn=<SqueezeBackward1>), tensor(-1.1940, grad_fn=<SqueezeBackward1>), tensor(-1.5821, grad_fn=<SqueezeBackward1>), tensor(-1.5823, grad_fn=<SqueezeBackward1>), tensor(-1.5826, grad_fn=<SqueezeBackward1>), tensor(-1.5827, grad_fn=<SqueezeBackward1>), tensor(-1.2112, grad_fn=<SqueezeBackward1>), tensor(-1.3216, grad_fn=<SqueezeBackward1>), tensor(-1.4716, grad_fn=<SqueezeBackward1>), tensor(-1.2125, grad_fn=<SqueezeBackward1>), tensor(-1.5809, grad_fn=<SqueezeBackward1>), tensor(-1.2160, grad_fn=<SqueezeBackward1>), tensor(-1.2151, grad_fn=<SqueezeBackward1>), tensor(-1.3198, grad_fn=<SqueezeBackward1>), tensor(-1.2146, grad_fn=<SqueezeBackward1>), tensor(-1.4704, grad_fn=<SqueezeBackward1>), tensor(-1.2159, grad_fn=<SqueezeBackward1>), tensor(-1.5793, grad_fn=<SqueezeBackward1>), tensor(-1.2199, grad_fn=<SqueezeBackward1>), tensor(-1.2185, grad_fn=<SqueezeBackward1>), tensor(-1.3184, grad_fn=<SqueezeBackward1>), tensor(-1.3183, grad_fn=<SqueezeBackward1>), tensor(-1.3187, grad_fn=<SqueezeBackward1>), tensor(-1.4677, grad_fn=<SqueezeBackward1>), tensor(-1.4661, grad_fn=<SqueezeBackward1>), tensor(-1.4644, grad_fn=<SqueezeBackward1>), tensor(-1.3176, grad_fn=<SqueezeBackward1>), tensor(-1.4620, grad_fn=<SqueezeBackward1>), tensor(-1.5815, grad_fn=<SqueezeBackward1>), tensor(-1.3162, grad_fn=<SqueezeBackward1>), tensor(-1.4534, grad_fn=<SqueezeBackward1>), tensor(-1.5825, grad_fn=<SqueezeBackward1>), tensor(-1.3152, grad_fn=<SqueezeBackward1>), tensor(-1.4466, grad_fn=<SqueezeBackward1>), tensor(-1.2376, grad_fn=<SqueezeBackward1>), tensor(-1.3141, grad_fn=<SqueezeBackward1>), tensor(-1.3133, grad_fn=<SqueezeBackward1>), tensor(-1.3137, grad_fn=<SqueezeBackward1>), tensor(-1.5828, grad_fn=<SqueezeBackward1>), tensor(-1.2436, grad_fn=<SqueezeBackward1>), tensor(-1.4417, grad_fn=<SqueezeBackward1>), tensor(-1.5814, grad_fn=<SqueezeBackward1>), tensor(-1.3103, grad_fn=<SqueezeBackward1>), tensor(-1.4333, grad_fn=<SqueezeBackward1>), tensor(-1.4317, grad_fn=<SqueezeBackward1>), tensor(-1.3088, grad_fn=<SqueezeBackward1>), tensor(-1.4290, grad_fn=<SqueezeBackward1>), tensor(-1.4274, grad_fn=<SqueezeBackward1>), tensor(-1.5802, grad_fn=<SqueezeBackward1>), tensor(-1.3060, grad_fn=<SqueezeBackward1>), tensor(-1.3062, grad_fn=<SqueezeBackward1>), tensor(-1.4193, grad_fn=<SqueezeBackward1>), tensor(-1.3053, grad_fn=<SqueezeBackward1>), tensor(-1.2713, grad_fn=<SqueezeBackward1>), tensor(-1.5279, grad_fn=<SqueezeBackward1>), tensor(-1.1627, grad_fn=<SqueezeBackward1>), tensor(-1.3244, grad_fn=<SqueezeBackward1>), tensor(-1.5527, grad_fn=<SqueezeBackward1>), tensor(-1.3234, grad_fn=<SqueezeBackward1>), tensor(-1.5581, grad_fn=<SqueezeBackward1>), tensor(-1.5537, grad_fn=<SqueezeBackward1>), tensor(-1.5515, grad_fn=<SqueezeBackward1>), tensor(-1.1713, grad_fn=<SqueezeBackward1>), tensor(-1.5521, grad_fn=<SqueezeBackward1>), tensor(-1.5507, grad_fn=<SqueezeBackward1>), tensor(-1.5535, grad_fn=<SqueezeBackward1>), tensor(-1.5434, grad_fn=<SqueezeBackward1>), tensor(-1.3218, grad_fn=<SqueezeBackward1>), tensor(-1.1765, grad_fn=<SqueezeBackward1>), tensor(-1.3222, grad_fn=<SqueezeBackward1>), tensor(-1.5443, grad_fn=<SqueezeBackward1>), tensor(-1.5535, grad_fn=<SqueezeBackward1>), tensor(-1.5537, grad_fn=<SqueezeBackward1>), tensor(-1.3205, grad_fn=<SqueezeBackward1>), tensor(-1.3205, grad_fn=<SqueezeBackward1>), tensor(-1.5318, grad_fn=<SqueezeBackward1>), tensor(-1.5304, grad_fn=<SqueezeBackward1>), tensor(-1.5290, grad_fn=<SqueezeBackward1>), tensor(-1.3206, grad_fn=<SqueezeBackward1>), tensor(-1.5273, grad_fn=<SqueezeBackward1>), tensor(-1.1903, grad_fn=<SqueezeBackward1>), tensor(-1.3200, grad_fn=<SqueezeBackward1>), tensor(-1.5555, grad_fn=<SqueezeBackward1>), tensor(-1.3199, grad_fn=<SqueezeBackward1>), tensor(-1.1906, grad_fn=<SqueezeBackward1>), tensor(-1.3204, grad_fn=<SqueezeBackward1>), tensor(-1.3205, grad_fn=<SqueezeBackward1>), tensor(-1.5593, grad_fn=<SqueezeBackward1>), tensor(-1.1911, grad_fn=<SqueezeBackward1>), tensor(-1.5590, grad_fn=<SqueezeBackward1>), tensor(-1.5153, grad_fn=<SqueezeBackward1>), tensor(-1.3197, grad_fn=<SqueezeBackward1>), tensor(-1.1964, grad_fn=<SqueezeBackward1>), tensor(-1.1943, grad_fn=<SqueezeBackward1>), tensor(-1.1929, grad_fn=<SqueezeBackward1>), tensor(-1.1915, grad_fn=<SqueezeBackward1>), tensor(-1.5570, grad_fn=<SqueezeBackward1>), tensor(-1.3193, grad_fn=<SqueezeBackward1>), tensor(-1.5170, grad_fn=<SqueezeBackward1>), tensor(-1.3189, grad_fn=<SqueezeBackward1>), tensor(-1.5588, grad_fn=<SqueezeBackward1>), tensor(-1.2011, grad_fn=<SqueezeBackward1>), tensor(-1.1992, grad_fn=<SqueezeBackward1>), tensor(-1.5146, grad_fn=<SqueezeBackward1>), tensor(-1.5573, grad_fn=<SqueezeBackward1>), tensor(-1.5574, grad_fn=<SqueezeBackward1>), tensor(-1.2073, grad_fn=<SqueezeBackward1>), tensor(-1.2065, grad_fn=<SqueezeBackward1>), tensor(-1.2056, grad_fn=<SqueezeBackward1>), tensor(-1.5096, grad_fn=<SqueezeBackward1>), tensor(-1.2052, grad_fn=<SqueezeBackward1>), tensor(-1.3172, grad_fn=<SqueezeBackward1>), tensor(-1.3178, grad_fn=<SqueezeBackward1>), tensor(-1.2011, grad_fn=<SqueezeBackward1>), tensor(-1.5586, grad_fn=<SqueezeBackward1>), tensor(-1.2049, grad_fn=<SqueezeBackward1>), tensor(-1.2030, grad_fn=<SqueezeBackward1>), tensor(-1.5093, grad_fn=<SqueezeBackward1>), tensor(-1.2034, grad_fn=<SqueezeBackward1>), tensor(-1.2019, grad_fn=<SqueezeBackward1>), tensor(-1.5135, grad_fn=<SqueezeBackward1>), tensor(-1.3178, grad_fn=<SqueezeBackward1>), tensor(-1.2005, grad_fn=<SqueezeBackward1>), tensor(-1.1988, grad_fn=<SqueezeBackward1>), tensor(-1.5559, grad_fn=<SqueezeBackward1>), tensor(-1.2021, grad_fn=<SqueezeBackward1>), tensor(-1.3178, grad_fn=<SqueezeBackward1>), tensor(-1.2007, grad_fn=<SqueezeBackward1>), tensor(-1.5553, grad_fn=<SqueezeBackward1>), tensor(-1.5556, grad_fn=<SqueezeBackward1>), tensor(-1.5041, grad_fn=<SqueezeBackward1>), tensor(-1.3161, grad_fn=<SqueezeBackward1>), tensor(-1.2091, grad_fn=<SqueezeBackward1>), tensor(-1.2074, grad_fn=<SqueezeBackward1>), tensor(-1.2059, grad_fn=<SqueezeBackward1>), tensor(-1.5535, grad_fn=<SqueezeBackward1>), tensor(-1.5537, grad_fn=<SqueezeBackward1>), tensor(-1.5006, grad_fn=<SqueezeBackward1>), tensor(-1.2156, grad_fn=<SqueezeBackward1>), tensor(-1.2143, grad_fn=<SqueezeBackward1>), tensor(-1.5035, grad_fn=<SqueezeBackward1>), tensor(-1.3139, grad_fn=<SqueezeBackward1>), tensor(-1.3139, grad_fn=<SqueezeBackward1>), tensor(-1.3133, grad_fn=<SqueezeBackward1>), tensor(-1.2171, grad_fn=<SqueezeBackward1>), tensor(-1.3121, grad_fn=<SqueezeBackward1>), tensor(-1.5443, grad_fn=<SqueezeBackward1>), tensor(-1.4871, grad_fn=<SqueezeBackward1>), tensor(-1.2628, grad_fn=<SqueezeBackward1>)]\n",
            "logs prob looks like  torch.Size([497])\n",
            "torch.from_numpy(rewards) looks like  torch.Size([497])\n"
          ]
        }
      ]
    },
    {
      "cell_type": "code",
      "source": [
        "rewards = [1,1,1,1,1,1,1,1,1,1]\n",
        "def accu_decay_reward(rewards):\n",
        "  accu_reward = 0\n",
        "  decay = 0.99 #衰减因子\n",
        "  rewards_len = len(rewards)\n",
        "  accu_rewards = [0]*(rewards_len + 1)\n",
        "\n",
        "  for x in range(rewards_len):\n",
        "    accu_rewards[rewards_len-1-x] = decay*accu_rewards[rewards_len-x] + rewards[rewards_len-1-x]\n",
        "  del(accu_rewards[-1])\n",
        "  print(accu_rewards)\n",
        "  return accu_rewards\n",
        "print(accu_decay_reward(rewards))"
      ],
      "metadata": {
        "colab": {
          "base_uri": "https://localhost:8080/"
        },
        "id": "9Wcuqa0dOZiw",
        "outputId": "879ce17e-4064-4a20-ccd2-e562657b9a82"
      },
      "execution_count": 105,
      "outputs": [
        {
          "output_type": "stream",
          "name": "stdout",
          "text": [
            "[9.561792499119552, 8.64827525163591, 7.72553055720799, 6.793465209301, 5.8519850599, 4.90099501, 3.9403989999999998, 2.9701, 1.99, 1.0]\n",
            "[9.561792499119552, 8.64827525163591, 7.72553055720799, 6.793465209301, 5.8519850599, 4.90099501, 3.9403989999999998, 2.9701, 1.99, 1.0]\n"
          ]
        }
      ]
    },
    {
      "cell_type": "markdown",
      "metadata": {
        "id": "vNb_tuFYhKVK"
      },
      "source": [
        "### Training Result\n",
        "During the training process, we recorded `avg_total_reward`, which represents the average total reward of episodes before updating the policy network.\n",
        "\n",
        "Theoretically, if the agent becomes better, the `avg_total_reward` will increase.\n",
        "The visualization of the training process is shown below:  \n",
        "  \n",
        "\n",
        "###训练结果  \n",
        "通过训练过程，我们记录了“avg_total_reward”,它表示在更新policy network之前的平均的total reward  \n",
        "理论上，如果agent变好了，那么avg_total_reward也会增加。  \n",
        "训练过程的可视化图像见下"
      ]
    },
    {
      "cell_type": "code",
      "metadata": {
        "id": "wZYOI8H10SHN",
        "colab": {
          "base_uri": "https://localhost:8080/",
          "height": 452
        },
        "outputId": "fb6bf5ef-6145-4809-a008-c07ad4aa5d04"
      },
      "source": [
        "plt.plot(avg_total_rewards)\n",
        "plt.title(\"Total Rewards\")\n",
        "plt.show()\n",
        "\n",
        "#横坐标为batch，纵坐标为avg_total_rewards"
      ],
      "execution_count": 106,
      "outputs": [
        {
          "output_type": "display_data",
          "data": {
            "text/plain": [
              "<Figure size 640x480 with 1 Axes>"
            ],
            "image/png": "[encoded data removed]"
          },
          "metadata": {}
        }
      ]
    },
    {
      "cell_type": "markdown",
      "metadata": {
        "id": "mV5jj4dThz0Y"
      },
      "source": [
        "In addition, `avg_final_reward` represents average final rewards of episodes. To be specific, final rewards is the last reward received in one episode, indicating whether the craft lands successfully or not.  \n",
        "  \n",
        "另外，avg_final_reward代表了每个episode的平均final reward  \n",
        "特别的，final reward是一个episode中最后一次获得的reward，表明飞行器是否成功着陆\n"
      ]
    },
    {
      "cell_type": "code",
      "metadata": {
        "id": "txDZ5vlGWz5w",
        "colab": {
          "base_uri": "https://localhost:8080/",
          "height": 452
        },
        "outputId": "f1a570b5-c707-4c21-886a-06b3a88a5a54"
      },
      "source": [
        "plt.plot(avg_final_rewards)\n",
        "plt.title(\"Final Rewards\")\n",
        "plt.show()\n",
        "\n",
        "#横坐标为batch，纵坐标为avg_final_rewards"
      ],
      "execution_count": 107,
      "outputs": [
        {
          "output_type": "display_data",
          "data": {
            "text/plain": [
              "<Figure size 640x480 with 1 Axes>"
            ],
            "image/png": "[encoded data removed]"
          },
          "metadata": {}
        }
      ]
    },
    {
      "cell_type": "markdown",
      "metadata": {
        "id": "u2HaGRVEYGQS"
      },
      "source": [
        "## Testing\n",
        "The testing result will be the average reward of 5 testing  \n",
        "测试结果是五次测试(5个episode，1个batch)的reward的平均值"
      ]
    },
    {
      "cell_type": "code",
      "metadata": {
        "id": "5yFuUKKRYH73",
        "colab": {
          "base_uri": "https://localhost:8080/",
          "height": 431
        },
        "outputId": "a67d5e23-5098-4bbb-80f0-bc75143617cc"
      },
      "source": [
        "#测试部分和训练部分基本一样\n",
        "\n",
        "fix(env, seed)\n",
        "agent.network.eval()  # set the network into evaluation mode  改成evaluation mode\n",
        "NUM_OF_TEST = 5 # Do not revise this !!!  不要更改！！！\n",
        "test_total_reward = []\n",
        "action_list = []\n",
        "for i in range(NUM_OF_TEST):\n",
        "  actions = []\n",
        "  state = env.reset()\n",
        "\n",
        "  img = plt.imshow(env.render(mode='rgb_array'))\n",
        "\n",
        "  total_reward = 0\n",
        "\n",
        "  done = False\n",
        "  while not done:\n",
        "      action, _ = agent.sample(state)\n",
        "      actions.append(action)\n",
        "      state, reward, done, _ = env.step(action)\n",
        "\n",
        "      total_reward += reward\n",
        "\n",
        "      img.set_data(env.render(mode='rgb_array'))\n",
        "      display.display(plt.gcf())\n",
        "      display.clear_output(wait=True)\n",
        "      \n",
        "  print(total_reward)\n",
        "  test_total_reward.append(total_reward)\n",
        "\n",
        "  action_list.append(actions) # save the result of testing \n",
        "  print(np.mean(test_total_reward))\n"
      ],
      "execution_count": 108,
      "outputs": [
        {
          "output_type": "stream",
          "name": "stdout",
          "text": [
            "-127.25467280735538\n",
            "-70.67571782679548\n"
          ]
        },
        {
          "output_type": "display_data",
          "data": {
            "text/plain": [
              "<Figure size 640x480 with 1 Axes>"
            ],
            "image/png": "[encoded data removed]"
          },
          "metadata": {}
        }
      ]
    },
    {
      "cell_type": "markdown",
      "metadata": {
        "id": "leyebGYRpqsF"
      },
      "source": [
        "## 示例部分\n",
        "Action list  \n",
        "动作列表"
      ]
    },
    {
      "cell_type": "code",
      "metadata": {
        "id": "hGAH4YWDpp4u"
      },
      "source": [
        "print(\"Action list looks like \", action_list)\n",
        "print(\"Action list's shape looks like \", np.shape(action_list))\n",
        "\n",
        "# 5代表5次episode"
      ],
      "execution_count": null,
      "outputs": []
    },
    {
      "cell_type": "markdown",
      "metadata": {
        "id": "fNkmwucrHMen"
      },
      "source": [
        "Analysis of actions taken by agent  \n",
        "agent的动作分析\n",
        "\n",
        "就是统计了一下上边action list里边各种动作的数目"
      ]
    },
    {
      "cell_type": "code",
      "metadata": {
        "id": "WHdAItjj1nxw"
      },
      "source": [
        "distribution = {}\n",
        "for actions in action_list:\n",
        "  for action in actions:\n",
        "    if action not in distribution.keys():\n",
        "      distribution[action] = 1\n",
        "    else:\n",
        "      distribution[action] += 1\n",
        "print(distribution)"
      ],
      "execution_count": null,
      "outputs": []
    },
    {
      "cell_type": "markdown",
      "metadata": {
        "id": "ricE0schY75M"
      },
      "source": [
        "Saving the result of Model Testing  \n",
        "保存测试的结果\n"
      ]
    },
    {
      "cell_type": "code",
      "metadata": {
        "id": "GZsMkGmIY42b"
      },
      "source": [
        "PATH = \"Action_List.npy\" # Can be modified into the name or path you want\n",
        "np.save(PATH ,np.array(action_list)) "
      ],
      "execution_count": null,
      "outputs": []
    },
    {
      "cell_type": "markdown",
      "metadata": {
        "id": "asK7WfbkaLjt"
      },
      "source": [
        "### This is the file you need to submit !!!\n",
        "Download the testing result to your device  \n",
        "需要提交的文件\n",
        "\n"
      ]
    },
    {
      "cell_type": "code",
      "metadata": {
        "id": "c-CqyhHzaWAL"
      },
      "source": [
        "from google.colab import files\n",
        "files.download(PATH)"
      ],
      "execution_count": null,
      "outputs": []
    },
    {
      "cell_type": "markdown",
      "metadata": {
        "id": "seT4NUmWmAZ1"
      },
      "source": [
        "# Server \n",
        "The code below simulate the environment on the judge server. Can be used for testing.\n",
        "  \n",
        "下边的代码模拟了judge系统上的环境，可以用来测试"
      ]
    },
    {
      "cell_type": "code",
      "metadata": {
        "id": "U69c-YTxaw6b",
        "colab": {
          "base_uri": "https://localhost:8080/",
          "height": 483
        },
        "outputId": "139f2389-1821-4ff7-e9bd-ba6579fa0cae"
      },
      "source": [
        "action_list = np.load(PATH,allow_pickle=True) # The action list you upload\n",
        "seed = 543 # Do not revise this\n",
        "fix(env, seed)\n",
        "\n",
        "agent.network.eval()  # set network to evaluation mode\n",
        "\n",
        "test_total_reward = []\n",
        "if len(action_list) != 5:\n",
        "  print(\"Wrong format of file !!!\")\n",
        "  exit(0)\n",
        "for actions in action_list:\n",
        "  state = env.reset()\n",
        "  img = plt.imshow(env.render(mode='rgb_array'))\n",
        "\n",
        "  total_reward = 0\n",
        "\n",
        "  done = False\n",
        "\n",
        "  for action in actions:\n",
        "  \n",
        "      state, reward, done, _ = env.step(action)\n",
        "      total_reward += reward\n",
        "      if done:\n",
        "        break\n",
        "\n",
        "  print(f\"Your reward is : %.2f\"%total_reward)\n",
        "  test_total_reward.append(total_reward)"
      ],
      "execution_count": 113,
      "outputs": [
        {
          "output_type": "stream",
          "name": "stdout",
          "text": [
            "Your reward is : -34.73\n",
            "Your reward is : -116.21\n",
            "Your reward is : -9.48\n",
            "Your reward is : -65.71\n",
            "Your reward is : -127.25\n"
          ]
        },
        {
          "output_type": "display_data",
          "data": {
            "text/plain": [
              "<Figure size 640x480 with 1 Axes>"
            ],
            "image/png": "[encoded data removed]"
          },
          "metadata": {}
        }
      ]
    },
    {
      "cell_type": "markdown",
      "metadata": {
        "id": "TjFBWwQP1hVe"
      },
      "source": [
        "# Your score"
      ]
    },
    {
      "cell_type": "code",
      "metadata": {
        "id": "GpJpZz3Wbm0X",
        "colab": {
          "base_uri": "https://localhost:8080/"
        },
        "outputId": "3732fd29-d95f-4c7a-d527-932ff5a10b62"
      },
      "source": [
        "print(f\"Your final reward is : %.2f\"%np.mean(test_total_reward))"
      ],
      "execution_count": 114,
      "outputs": [
        {
          "output_type": "stream",
          "name": "stdout",
          "text": [
            "Your final reward is : -70.68\n",
            "Your final reward is : -70.68\n"
          ]
        }
      ]
    },
    {
      "cell_type": "markdown",
      "metadata": {
        "id": "wUBtYXG2eaqf"
      },
      "source": [
        "## Reference\n",
        "\n",
        "Below are some useful tips for you to get high score.\n",
        "\n",
        "- [DRL Lecture 1: Policy Gradient (Review)](https://youtu.be/z95ZYgPgXOY)\n",
        "- [ML Lecture 23-3: Reinforcement Learning (including Q-learning) start at 30:00](https://youtu.be/2-JNBzCq77c?t=1800)\n",
        "- [Lecture 7: Policy Gradient, David Silver](http://www0.cs.ucl.ac.uk/staff/d.silver/web/Teaching_files/pg.pdf)\n"
      ]
    }
  ]
}