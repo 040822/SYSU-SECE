{
  "cells": [
    {
      "cell_type": "markdown",
      "metadata": {
        "id": "Fp30SB4bxeQb"
      },
      "source": [
        "# **Homework 12 - Reinforcement Learning**\n",
        "\n",
        "\n"
      ]
    },
    {
      "cell_type": "markdown",
      "metadata": {
        "id": "yXsnCWPtWSNk"
      },
      "source": [
        "## Preliminary work\n",
        "## 准备工作\n",
        "\n",
        "First, we need to install all necessary packages.\n",
        "One of them, gym, builded by OpenAI, is a toolkit for developing Reinforcement Learning algorithm. Other packages are for visualization in colab.  \n",
        "  \n",
        "首先，我们需要安装一堆包。其中gym包是用来实现RL的算法的，其他都是用来可视化的。\n"
      ]
    },
    {
      "cell_type": "code",
      "execution_count": 1,
      "metadata": {
        "colab": {
          "base_uri": "https://localhost:8080/"
        },
        "id": "5e2bScpnkVbv",
        "outputId": "00cf3925-5b89-4b15-a90b-e51b122e1660"
      },
      "outputs": [
        {
          "output_type": "stream",
          "name": "stdout",
          "text": [
            "Get:1 http://security.ubuntu.com/ubuntu focal-security InRelease [114 kB]\n",
            "Hit:2 https://developer.download.nvidia.com/compute/cuda/repos/ubuntu2004/x86_64  InRelease\n",
            "Hit:3 http://archive.ubuntu.com/ubuntu focal InRelease\n",
            "Get:4 https://cloud.r-project.org/bin/linux/ubuntu focal-cran40/ InRelease [3,622 B]\n",
            "Get:5 http://ppa.launchpad.net/c2d4u.team/c2d4u4.0+/ubuntu focal InRelease [18.1 kB]\n",
            "Get:6 http://archive.ubuntu.com/ubuntu focal-updates InRelease [114 kB]\n",
            "Hit:7 http://ppa.launchpad.net/cran/libgit2/ubuntu focal InRelease\n",
            "Hit:8 http://ppa.launchpad.net/deadsnakes/ppa/ubuntu focal InRelease\n",
            "Get:9 http://archive.ubuntu.com/ubuntu focal-backports InRelease [108 kB]\n",
            "Hit:10 http://ppa.launchpad.net/graphics-drivers/ppa/ubuntu focal InRelease\n",
            "Get:11 http://security.ubuntu.com/ubuntu focal-security/main amd64 Packages [2,681 kB]\n",
            "Hit:12 http://ppa.launchpad.net/ubuntugis/ppa/ubuntu focal InRelease\n",
            "Get:13 http://security.ubuntu.com/ubuntu focal-security/universe amd64 Packages [1,046 kB]\n",
            "Get:14 http://ppa.launchpad.net/c2d4u.team/c2d4u4.0+/ubuntu focal/main Sources [2,573 kB]\n",
            "Get:15 http://archive.ubuntu.com/ubuntu focal-updates/main amd64 Packages [3,158 kB]\n",
            "Get:16 http://ppa.launchpad.net/c2d4u.team/c2d4u4.0+/ubuntu focal/main amd64 Packages [1,213 kB]\n",
            "Get:17 http://archive.ubuntu.com/ubuntu focal-updates/universe amd64 Packages [1,343 kB]\n",
            "Fetched 12.4 MB in 4s (3,295 kB/s)\n",
            "Reading package lists... Done\n",
            "Building dependency tree       \n",
            "Reading state information... Done\n",
            "38 packages can be upgraded. Run 'apt list --upgradable' to see them.\n",
            "Looking in indexes: https://pypi.org/simple, https://us-python.pkg.dev/colab-wheels/public/simple/\n",
            "Collecting swig\n",
            "  Downloading swig-4.1.1-py2.py3-none-manylinux_2_5_x86_64.manylinux1_x86_64.whl (1.8 MB)\n",
            "\u001b[2K     \u001b[90m━━━━━━━━━━━━━━━━━━━━━━━━━━━━━━━━━━━━━━━━\u001b[0m \u001b[32m1.8/1.8 MB\u001b[0m \u001b[31m13.1 MB/s\u001b[0m eta \u001b[36m0:00:00\u001b[0m\n",
            "\u001b[?25hInstalling collected packages: swig\n",
            "Successfully installed swig-4.1.1\n",
            "Reading package lists... Done\n",
            "Building dependency tree       \n",
            "Reading state information... Done\n",
            "The following additional packages will be installed:\n",
            "  freeglut3 libfontenc1 libpython2-stdlib libxfont2 libxkbfile1 python2\n",
            "  python2-minimal x11-xkb-utils xfonts-base xfonts-encodings xfonts-utils\n",
            "  xserver-common\n",
            "Suggested packages:\n",
            "  python-tk python-numpy libgle3 python2-doc\n",
            "The following NEW packages will be installed:\n",
            "  freeglut3 libfontenc1 libpython2-stdlib libxfont2 libxkbfile1 python-opengl\n",
            "  python2 python2-minimal x11-xkb-utils xfonts-base xfonts-encodings\n",
            "  xfonts-utils xserver-common xvfb\n",
            "0 upgraded, 14 newly installed, 0 to remove and 38 not upgraded.\n",
            "Need to get 8,318 kB of archives.\n",
            "After this operation, 18.0 MB of additional disk space will be used.\n",
            "Get:1 http://archive.ubuntu.com/ubuntu focal/universe amd64 python2-minimal amd64 2.7.17-2ubuntu4 [27.5 kB]\n",
            "Get:2 http://archive.ubuntu.com/ubuntu focal/universe amd64 libpython2-stdlib amd64 2.7.17-2ubuntu4 [7,072 B]\n",
            "Get:3 http://archive.ubuntu.com/ubuntu focal/universe amd64 python2 amd64 2.7.17-2ubuntu4 [26.5 kB]\n",
            "Get:4 http://archive.ubuntu.com/ubuntu focal/universe amd64 freeglut3 amd64 2.8.1-3 [73.6 kB]\n",
            "Get:5 http://archive.ubuntu.com/ubuntu focal/main amd64 libfontenc1 amd64 1:1.1.4-0ubuntu1 [14.0 kB]\n",
            "Get:6 http://archive.ubuntu.com/ubuntu focal/main amd64 libxfont2 amd64 1:2.0.3-1 [91.7 kB]\n",
            "Get:7 http://archive.ubuntu.com/ubuntu focal/main amd64 libxkbfile1 amd64 1:1.1.0-1 [65.3 kB]\n",
            "Get:8 http://archive.ubuntu.com/ubuntu focal/universe amd64 python-opengl all 3.1.0+dfsg-2build1 [486 kB]\n",
            "Get:9 http://archive.ubuntu.com/ubuntu focal/main amd64 x11-xkb-utils amd64 7.7+5 [158 kB]\n",
            "Get:10 http://archive.ubuntu.com/ubuntu focal/main amd64 xfonts-encodings all 1:1.0.5-0ubuntu1 [573 kB]\n",
            "Get:11 http://archive.ubuntu.com/ubuntu focal/main amd64 xfonts-utils amd64 1:7.7+6 [91.5 kB]\n",
            "Get:12 http://archive.ubuntu.com/ubuntu focal/main amd64 xfonts-base all 1:1.0.5 [5,896 kB]\n",
            "Get:13 http://archive.ubuntu.com/ubuntu focal-updates/main amd64 xserver-common all 2:1.20.13-1ubuntu1~20.04.8 [27.2 kB]\n",
            "Get:14 http://archive.ubuntu.com/ubuntu focal-updates/universe amd64 xvfb amd64 2:1.20.13-1ubuntu1~20.04.8 [780 kB]\n",
            "Fetched 8,318 kB in 2s (3,984 kB/s)\n",
            "Selecting previously unselected package python2-minimal.\n",
            "(Reading database ... 122518 files and directories currently installed.)\n",
            "Preparing to unpack .../python2-minimal_2.7.17-2ubuntu4_amd64.deb ...\n",
            "Unpacking python2-minimal (2.7.17-2ubuntu4) ...\n",
            "Selecting previously unselected package libpython2-stdlib:amd64.\n",
            "Preparing to unpack .../libpython2-stdlib_2.7.17-2ubuntu4_amd64.deb ...\n",
            "Unpacking libpython2-stdlib:amd64 (2.7.17-2ubuntu4) ...\n",
            "Setting up python2-minimal (2.7.17-2ubuntu4) ...\n",
            "Selecting previously unselected package python2.\n",
            "(Reading database ... 122547 files and directories currently installed.)\n",
            "Preparing to unpack .../00-python2_2.7.17-2ubuntu4_amd64.deb ...\n",
            "Unpacking python2 (2.7.17-2ubuntu4) ...\n",
            "Selecting previously unselected package freeglut3:amd64.\n",
            "Preparing to unpack .../01-freeglut3_2.8.1-3_amd64.deb ...\n",
            "Unpacking freeglut3:amd64 (2.8.1-3) ...\n",
            "Selecting previously unselected package libfontenc1:amd64.\n",
            "Preparing to unpack .../02-libfontenc1_1%3a1.1.4-0ubuntu1_amd64.deb ...\n",
            "Unpacking libfontenc1:amd64 (1:1.1.4-0ubuntu1) ...\n",
            "Selecting previously unselected package libxfont2:amd64.\n",
            "Preparing to unpack .../03-libxfont2_1%3a2.0.3-1_amd64.deb ...\n",
            "Unpacking libxfont2:amd64 (1:2.0.3-1) ...\n",
            "Selecting previously unselected package libxkbfile1:amd64.\n",
            "Preparing to unpack .../04-libxkbfile1_1%3a1.1.0-1_amd64.deb ...\n",
            "Unpacking libxkbfile1:amd64 (1:1.1.0-1) ...\n",
            "Selecting previously unselected package python-opengl.\n",
            "Preparing to unpack .../05-python-opengl_3.1.0+dfsg-2build1_all.deb ...\n",
            "Unpacking python-opengl (3.1.0+dfsg-2build1) ...\n",
            "Selecting previously unselected package x11-xkb-utils.\n",
            "Preparing to unpack .../06-x11-xkb-utils_7.7+5_amd64.deb ...\n",
            "Unpacking x11-xkb-utils (7.7+5) ...\n",
            "Selecting previously unselected package xfonts-encodings.\n",
            "Preparing to unpack .../07-xfonts-encodings_1%3a1.0.5-0ubuntu1_all.deb ...\n",
            "Unpacking xfonts-encodings (1:1.0.5-0ubuntu1) ...\n",
            "Selecting previously unselected package xfonts-utils.\n",
            "Preparing to unpack .../08-xfonts-utils_1%3a7.7+6_amd64.deb ...\n",
            "Unpacking xfonts-utils (1:7.7+6) ...\n",
            "Selecting previously unselected package xfonts-base.\n",
            "Preparing to unpack .../09-xfonts-base_1%3a1.0.5_all.deb ...\n",
            "Unpacking xfonts-base (1:1.0.5) ...\n",
            "Selecting previously unselected package xserver-common.\n",
            "Preparing to unpack .../10-xserver-common_2%3a1.20.13-1ubuntu1~20.04.8_all.deb ...\n",
            "Unpacking xserver-common (2:1.20.13-1ubuntu1~20.04.8) ...\n",
            "Selecting previously unselected package xvfb.\n",
            "Preparing to unpack .../11-xvfb_2%3a1.20.13-1ubuntu1~20.04.8_amd64.deb ...\n",
            "Unpacking xvfb (2:1.20.13-1ubuntu1~20.04.8) ...\n",
            "Setting up freeglut3:amd64 (2.8.1-3) ...\n",
            "Setting up libpython2-stdlib:amd64 (2.7.17-2ubuntu4) ...\n",
            "Setting up python2 (2.7.17-2ubuntu4) ...\n",
            "Setting up libfontenc1:amd64 (1:1.1.4-0ubuntu1) ...\n",
            "Setting up xfonts-encodings (1:1.0.5-0ubuntu1) ...\n",
            "Setting up libxkbfile1:amd64 (1:1.1.0-1) ...\n",
            "Setting up libxfont2:amd64 (1:2.0.3-1) ...\n",
            "Setting up python-opengl (3.1.0+dfsg-2build1) ...\n",
            "Setting up x11-xkb-utils (7.7+5) ...\n",
            "Setting up xfonts-utils (1:7.7+6) ...\n",
            "Setting up xfonts-base (1:1.0.5) ...\n",
            "Setting up xserver-common (2:1.20.13-1ubuntu1~20.04.8) ...\n",
            "Setting up xvfb (2:1.20.13-1ubuntu1~20.04.8) ...\n",
            "Processing triggers for man-db (2.9.1-1) ...\n",
            "Processing triggers for fontconfig (2.13.1-2ubuntu3) ...\n",
            "Processing triggers for libc-bin (2.31-0ubuntu9.9) ...\n",
            "Looking in indexes: https://pypi.org/simple, https://us-python.pkg.dev/colab-wheels/public/simple/\n",
            "Collecting pyvirtualdisplay\n",
            "  Downloading PyVirtualDisplay-3.0-py3-none-any.whl (15 kB)\n",
            "Installing collected packages: pyvirtualdisplay\n",
            "Successfully installed pyvirtualdisplay-3.0\n",
            "Looking in indexes: https://pypi.org/simple, https://us-python.pkg.dev/colab-wheels/public/simple/\n",
            "Requirement already satisfied: gym[box2d] in /usr/local/lib/python3.10/dist-packages (0.25.2)\n",
            "Requirement already satisfied: numpy>=1.18.0 in /usr/local/lib/python3.10/dist-packages (from gym[box2d]) (1.22.4)\n",
            "Requirement already satisfied: cloudpickle>=1.2.0 in /usr/local/lib/python3.10/dist-packages (from gym[box2d]) (2.2.1)\n",
            "Requirement already satisfied: gym-notices>=0.0.4 in /usr/local/lib/python3.10/dist-packages (from gym[box2d]) (0.0.8)\n",
            "Collecting box2d-py==2.3.5 (from gym[box2d])\n",
            "  Downloading box2d-py-2.3.5.tar.gz (374 kB)\n",
            "\u001b[2K     \u001b[90m━━━━━━━━━━━━━━━━━━━━━━━━━━━━━━━━━━━━━━━\u001b[0m \u001b[32m374.4/374.4 kB\u001b[0m \u001b[31m7.3 MB/s\u001b[0m eta \u001b[36m0:00:00\u001b[0m\n",
            "\u001b[?25h  Preparing metadata (setup.py) ... \u001b[?25l\u001b[?25hdone\n",
            "Collecting pygame==2.1.0 (from gym[box2d])\n",
            "  Downloading pygame-2.1.0-cp310-cp310-manylinux_2_17_x86_64.manylinux2014_x86_64.whl (18.3 MB)\n",
            "\u001b[2K     \u001b[90m━━━━━━━━━━━━━━━━━━━━━━━━━━━━━━━━━━━━━━━━\u001b[0m \u001b[32m18.3/18.3 MB\u001b[0m \u001b[31m44.0 MB/s\u001b[0m eta \u001b[36m0:00:00\u001b[0m\n",
            "\u001b[?25hRequirement already satisfied: swig==4.* in /usr/local/lib/python3.10/dist-packages (from gym[box2d]) (4.1.1)\n",
            "Building wheels for collected packages: box2d-py\n",
            "  Building wheel for box2d-py (setup.py) ... \u001b[?25l\u001b[?25hdone\n",
            "  Created wheel for box2d-py: filename=box2d_py-2.3.5-cp310-cp310-linux_x86_64.whl size=2812261 sha256=78c5022ef2519a06c821a251872242e931aff6f9e1dc0f2755567331e99dcdcd\n",
            "  Stored in directory: /root/.cache/pip/wheels/db/8f/6a/eaaadf056fba10a98d986f6dce954e6201ba3126926fc5ad9e\n",
            "Successfully built box2d-py\n",
            "Installing collected packages: box2d-py, pygame\n",
            "  Attempting uninstall: pygame\n",
            "    Found existing installation: pygame 2.3.0\n",
            "    Uninstalling pygame-2.3.0:\n",
            "      Successfully uninstalled pygame-2.3.0\n",
            "Successfully installed box2d-py-2.3.5 pygame-2.1.0\n"
          ]
        }
      ],
      "source": [
        "\n",
        "!apt update\n",
        "!pip install swig\n",
        "#某个包的前置包\n",
        "!apt install python-opengl xvfb -y\n",
        "!pip install pyvirtualdisplay \n",
        "!pip install gym[box2d]\n",
        "\n",
        "#!pip install gym\n",
        "\n",
        "#tqdm numpy==1.19.5 torch==1.8.1\n"
      ]
    },
    {
      "cell_type": "markdown",
      "metadata": {
        "id": "M_-i3cdoYsks"
      },
      "source": [
        "\n",
        "Next, set up virtual display，and import all necessaary packages.\n",
        "  \n",
        "import一堆包，并设置可视化页面"
      ]
    },
    {
      "cell_type": "code",
      "execution_count": 2,
      "metadata": {
        "id": "nl2nREINDLiw"
      },
      "outputs": [],
      "source": [
        "%%capture\n",
        "from pyvirtualdisplay import Display\n",
        "virtual_display = Display(visible=0, size=(1400, 900))\n",
        "virtual_display.start()\n",
        "\n",
        "%matplotlib inline\n",
        "import matplotlib.pyplot as plt\n",
        "\n",
        "from IPython import display\n",
        "\n",
        "import numpy as np\n",
        "import torch\n",
        "import torch.nn as nn\n",
        "import torch.optim as optim\n",
        "import torch.nn.functional as F\n",
        "from torch.distributions import Categorical\n",
        "from tqdm.notebook import tqdm\n",
        "\n",
        "%%capture\n",
        "import gym\n",
        "import random\n",
        "\n",
        "\n",
        "#https://www.gymlibrary.dev/content/basic_usage/  gym库"
      ]
    },
    {
      "cell_type": "markdown",
      "metadata": {
        "id": "CaEJ8BUCpN9P"
      },
      "source": [
        "# Warning ! Do not revise random seed !!!\n",
        "# Your submission on JudgeBoi will not reproduce your result !!!\n",
        "Make your HW result to be reproducible.\n",
        "\n",
        "  \n",
        "助教不允许我们用随机种子\n"
      ]
    },
    {
      "cell_type": "code",
      "execution_count": 3,
      "metadata": {
        "id": "fV9i8i2YkRbO"
      },
      "outputs": [],
      "source": [
        "#固定种子\n",
        "\n",
        "seed = 543 # Do not change this\n",
        "def fix(env, seed):\n",
        "  env.seed(seed)\n",
        "  env.action_space.seed(seed)\n",
        "  torch.manual_seed(seed)\n",
        "  torch.cuda.manual_seed(seed)\n",
        "  torch.cuda.manual_seed_all(seed)\n",
        "  np.random.seed(seed)\n",
        "  random.seed(seed)\n",
        "  #torch.set_deterministic(True)\n",
        "  #这行不知道为什么运行不了，可能和pytorch版本有关\n",
        "  torch.use_deterministic_algorithms(True)\n",
        "  #应改成这句 \n",
        "\n",
        "  torch.backends.cudnn.benchmark = False\n",
        "  torch.backends.cudnn.deterministic = True"
      ]
    },
    {
      "cell_type": "markdown",
      "metadata": {
        "id": "He0XDx6bzjgC"
      },
      "source": [
        "Last, call gym and build an [Lunar Lander](https://gym.openai.com/envs/LunarLander-v2/) environment.\n",
        "  \n",
        "使用gym，建立“Lunar Lander”环境"
      ]
    },
    {
      "cell_type": "code",
      "execution_count": 4,
      "metadata": {
        "id": "N_4-xJcbBt09"
      },
      "outputs": [],
      "source": [
        "%%capture\n",
        "import gym\n",
        "import random\n",
        "env = gym.make('LunarLander-v2')\n",
        "fix(env, seed) # fix the environment Do not revise this !!!\n",
        "\n",
        "# 建立一个环境"
      ]
    },
    {
      "cell_type": "markdown",
      "metadata": {
        "id": "NrkVvTrvWZ5H"
      },
      "source": [
        "## What Lunar Lander？\n",
        "\n",
        "“LunarLander-v2”is to simulate the situation when the craft lands on the surface of the moon.  \n",
        "\n",
        "\n",
        "This task is to enable the craft to land \"safely\" at the pad between the two yellow flags.\n",
        "> Landing pad is always at coordinates (0,0).\n",
        "> Coordinates are the first two numbers in state vector.\n",
        "\n",
        "![](https://gym.openai.com/assets/docs/aeloop-138c89d44114492fd02822303e6b4b07213010bb14ca5856d2d49d6b62d88e53.svg)\n",
        "\n",
        "\"LunarLander-v2\" actually includes \"Agent\" and \"Environment\". \n",
        "\n",
        "In this homework, we will utilize the function `step()` to control the action of \"Agent\". \n",
        "\n",
        "Then `step()` will return the observation/state and reward given by the \"Environment\".  \n",
        "\n",
        "\n",
        "  \n",
        "这玩意是用来模拟飞行器降落在月球表面的情况的东西。  \n",
        "其目标是让飞行器安全地在两个黄旗子之间的垫子上着陆\n",
        "> 着陆垫始终在坐标（0，0）处  \n",
        "> 坐标是state vector（状态向量）的前两个数字？\n",
        "  \n",
        "  \n",
        "\"LunarLander-v2\"已经集成了“Agent”和“Environment”  \n",
        "在本次作业中，我们要使用step（）函数去控制“Agent”的行动  \n",
        "然后step（）会返回observation和环境的reward。\n",
        "\n"
      ]
    },
    {
      "cell_type": "markdown",
      "metadata": {
        "id": "f9sRvDdL4mln"
      },
      "source": [
        "# 官方文档中的信息\n",
        "[文档](https://www.gymlibrary.dev/environments/box2d/lunar_lander/)\n",
        "\n",
        "##Actions：\n",
        "四种\n",
        "- 0代表agent啥也不做   \n",
        "- 1、2、3代表左边、向下、右边引擎开火（喷射）\n",
        "  \n",
        "##Observation space: \n",
        "八维向量，例如[1.5 1.5 5. 5. 3.14 5. 1. 1. ]  \n",
        "分别代表[坐标x，坐标y，x方向分速度，y方向分速度，角度，角速度，bool，bool]  \n",
        "两个bool表示飞行器的两只脚是否着陆。\n",
        "\n",
        "##Reward:\n",
        "登陆垫始终在（0，0）。坐标是状态向量（那个八维向量）的前两维。 从屏幕顶端到达登陆垫并保持速度为0的reward是大概100-140pt。如果登陆器从登陆垫上移动出去了，reward就没了。当登陆器被摧毁了（-100pt）或者成功着陆并休息后（+100pt），一个episode结束。登陆器的每条腿接触地面会+10pt。 主引擎点火为每帧-3分。 解决了加200分\n",
        "\n",
        "-在黄旗之间着陆    +100-140pt\n",
        "-着陆但移动出去了  上边的pt没了\n",
        "-坠毁           -100pt\n",
        "-主引擎点火(向下喷射) 每帧-0.3pt\n",
        "-左右引擎点火.    每帧-0.03pt\n",
        "-登陆器最终静止(rest)  再+100pt\n",
        "-每条腿接触地面.      +10pt\n",
        "\n",
        "-解决了（solved）（？）  +200pt\n",
        "\n",
        "  \n",
        "## Starting State\n",
        "The lander starts at the top center of the viewport with a random initial force applied to its center of mass.  \n",
        "着陆器\n",
        "\n",
        "## Episode Termination\n",
        "  \n",
        "\n"
      ]
    },
    {
      "cell_type": "markdown",
      "metadata": {
        "id": "bIbp82sljvAt"
      },
      "source": [
        "# Observation / State\n",
        "\n",
        "First, we can take a look at what an Observation / State looks like.  \n",
        "Observation长下边这样"
      ]
    },
    {
      "cell_type": "code",
      "execution_count": 5,
      "metadata": {
        "colab": {
          "base_uri": "https://localhost:8080/"
        },
        "id": "rsXZra3N9R5T",
        "outputId": "607c88e4-54ae-4a59-da46-b3816ab4e4bb"
      },
      "outputs": [
        {
          "output_type": "stream",
          "name": "stdout",
          "text": [
            "Box([-1.5       -1.5       -5.        -5.        -3.1415927 -5.\n",
            " -0.        -0.       ], [1.5       1.5       5.        5.        3.1415927 5.        1.\n",
            " 1.       ], (8,), float32)\n"
          ]
        },
        {
          "output_type": "stream",
          "name": "stderr",
          "text": [
            "/usr/local/lib/python3.10/dist-packages/ipykernel/ipkernel.py:283: DeprecationWarning: `should_run_async` will not call `transform_cell` automatically in the future. Please pass the result to `transformed_cell` argument and any exception that happen during thetransform in `preprocessing_exc_tuple` in IPython 7.17 and above.\n",
            "  and should_run_async(code)\n"
          ]
        }
      ],
      "source": [
        "print(env.observation_space)"
      ]
    },
    {
      "cell_type": "markdown",
      "metadata": {
        "id": "ezdfoThbAQ49"
      },
      "source": [
        "\n",
        "`Box(8,)`means that observation is an 8-dim vector\n",
        "### Action\n",
        "\n",
        "Actions can be taken by looks like  \n",
        "Action长下边这样"
      ]
    },
    {
      "cell_type": "code",
      "execution_count": 6,
      "metadata": {
        "colab": {
          "base_uri": "https://localhost:8080/"
        },
        "id": "p1k4dIrBAaKi",
        "outputId": "e9ecd1ca-3278-4c6f-ca7e-c8cc8b7ac962"
      },
      "outputs": [
        {
          "output_type": "stream",
          "name": "stdout",
          "text": [
            "Discrete(4)\n"
          ]
        }
      ],
      "source": [
        "print(env.action_space)"
      ]
    },
    {
      "cell_type": "markdown",
      "metadata": {
        "id": "dejXT6PHBrPn"
      },
      "source": [
        "`Discrete(4)` implies that there are four kinds of actions can be taken by agent.\n",
        "- 0 implies the agent will not take any actions\n",
        "- 2 implies the agent will accelerate downward\n",
        "- 1, 3 implies the agent will accelerate left and right\n",
        "\n",
        "Next, we will try to make the agent interact with the environment. \n",
        "Before taking any actions, we recommend to call `reset()` function to reset the environment. Also, this function will return the initial state of the environment.\n",
        "  \n",
        "这表明一共有四种行动。  \n",
        "- 0代表agent啥也不做  \n",
        "- 2代表它向下加速  \n",
        "- 1、3代表它左移和右移  \n",
        "  \n",
        "下边我们将会尝试让agent与环境互动  \n",
        "在agent采取行动之前，我们推荐用reset（）去reset环境，这个函数也会返回环境的初始状态"
      ]
    },
    {
      "cell_type": "code",
      "execution_count": 7,
      "metadata": {
        "colab": {
          "base_uri": "https://localhost:8080/"
        },
        "id": "pi4OmrmZgnWA",
        "outputId": "05b9545f-eb74-4270-a975-13ef0ae84fe6"
      },
      "outputs": [
        {
          "output_type": "stream",
          "name": "stdout",
          "text": [
            "[-1.2619973e-03  1.3984586e+00 -1.2784091e-01 -5.5384123e-01\n",
            "  1.4691149e-03  2.8957864e-02  0.0000000e+00  0.0000000e+00]\n"
          ]
        }
      ],
      "source": [
        "initial_state = env.reset()\n",
        "print(initial_state)\n",
        "\n",
        "#初始环境长下边这样，和Box一样，也是八维向量"
      ]
    },
    {
      "cell_type": "markdown",
      "metadata": {
        "id": "uBx0mEqqgxJ9"
      },
      "source": [
        "Then, we try to get a random action from the agent's action space.  \n",
        "然后，我们将试着随机得到一种行动"
      ]
    },
    {
      "cell_type": "code",
      "execution_count": 8,
      "metadata": {
        "colab": {
          "base_uri": "https://localhost:8080/"
        },
        "id": "vxkOEXRKgizt",
        "outputId": "4a19335d-fb66-4470-9a95-edfad487d0e7"
      },
      "outputs": [
        {
          "output_type": "stream",
          "name": "stdout",
          "text": [
            "3\n"
          ]
        }
      ],
      "source": [
        "random_action = env.action_space.sample()\n",
        "print(random_action)"
      ]
    },
    {
      "cell_type": "markdown",
      "metadata": {
        "id": "mns-bO01g0-J"
      },
      "source": [
        "More, we can utilize `step()` to make agent act according to the randomly-selected `random_action`.\n",
        "The `step()` function will return four values:\n",
        "- observation / state\n",
        "- reward\n",
        "- done (True/ False)\n",
        "- Other information  \n",
        "\n",
        "下边，我们可以用step（）去使agent按照上边随机抽取的random_action进行行动  \n",
        "step（）将会返回四个值：  \n",
        "- observation / state\n",
        "- reward\n",
        "- done (True/ False)\n",
        "- Other information  "
      ]
    },
    {
      "cell_type": "code",
      "execution_count": 9,
      "metadata": {
        "id": "E_WViSxGgIk9"
      },
      "outputs": [],
      "source": [
        "observation, reward, done, info = env.step(random_action)"
      ]
    },
    {
      "cell_type": "code",
      "execution_count": 10,
      "metadata": {
        "colab": {
          "base_uri": "https://localhost:8080/"
        },
        "id": "yK7r126kuCNp",
        "outputId": "14237989-f20f-42eb-b697-ee03e4bb4372"
      },
      "outputs": [
        {
          "output_type": "stream",
          "name": "stdout",
          "text": [
            "[-2.4652481e-03  1.3854232e+00 -1.2026372e-01 -5.7935303e-01\n",
            "  1.4148270e-03 -1.0852187e-03  0.0000000e+00  0.0000000e+00] -1.0511407416545058 False {}\n",
            "<class 'numpy.ndarray'> <class 'numpy.float64'> <class 'bool'> <class 'dict'>\n"
          ]
        }
      ],
      "source": [
        "print(observation, reward, done, info)\n",
        "print(type(observation), type(reward),type( done), type(info))\n",
        "#[-2.4652481e-03  1.3854232e+00 -1.2026372e-01 -5.7935303e-01,1.4148270e-03 -1.0852187e-03  0.0000000e+00  0.0000000e+00] \n",
        "# -1.0511407416545058 False {}\n",
        "\n",
        "# <class 'numpy.ndarray'> <class 'numpy.float64'> <class 'bool'> <class 'dict'>"
      ]
    },
    {
      "cell_type": "markdown",
      "metadata": {
        "id": "GKdS8vOihxhc"
      },
      "source": [
        "### Reward\n",
        "\n",
        "\n",
        "> Landing pad is always at coordinates (0,0). Coordinates are the first two numbers in state vector. Reward for moving from the top of the screen to landing pad and zero speed is about 100..140 points. If lander moves away from landing pad it loses reward back. Episode finishes if the lander crashes or comes to rest, receiving additional -100 or +100 points. Each leg ground contact is +10. Firing main engine is -0.3 points each frame. Solved is 200 points.   \n",
        "\n",
        "登陆垫始终在（0，0）。坐标是状态向量（那个八维向量）的前两维。 从屏幕顶端到达登陆垫并保持速度为0的reward是大概100-140pt。如果登陆器从登陆垫上移动出去了，reward就没了。当登陆器被摧毁了（-100pt）或者成功着陆并休息后（+100pt），一个episode结束。登陆器的每条腿接触地面会+10pt。 主引擎点火为每帧-3分。 解决了（？）加200分"
      ]
    },
    {
      "cell_type": "code",
      "execution_count": 11,
      "metadata": {
        "colab": {
          "base_uri": "https://localhost:8080/"
        },
        "id": "vxQNs77hi0_7",
        "outputId": "7e1f27ad-3be5-4506-9f81-e414a9d98168"
      },
      "outputs": [
        {
          "output_type": "stream",
          "name": "stdout",
          "text": [
            "-1.0511407416545058\n"
          ]
        }
      ],
      "source": [
        "print(reward)"
      ]
    },
    {
      "cell_type": "markdown",
      "metadata": {
        "id": "Mhqp6D-XgHpe"
      },
      "source": [
        "# Random Agent\n",
        "In the end, before we start training, we can see whether a random agent can successfully land the moon or not.  \n",
        "在开始训练之前，我们可以看看一个随机生成的agent是否能够成功地着陆"
      ]
    },
    {
      "cell_type": "code",
      "execution_count": 12,
      "metadata": {
        "colab": {
          "base_uri": "https://localhost:8080/",
          "height": 70
        },
        "id": "Y3G0bxoccelv",
        "outputId": "aa39251c-45e7-45fe-fb24-be03f52fa45b"
      },
      "outputs": [
        {
          "output_type": "execute_result",
          "data": {
            "text/plain": [
              "\"\\nenv.reset()\\n\\nimg = plt.imshow(env.render(mode='rgb_array'))\\n\\ndone = False\\nwhile not done:\\n  action = env.action_space.sample()\\n  #Randomly sample an element of this space.\\n  #随机抽取动作空间里的一个元素\\n  observation, reward, done, _ = env.step(action)\\n  img.set_data(env.render(mode='rgb_array'))\\n  display.display(plt.gcf())\\n  display.clear_output(wait=True)\\n  #一帧一帧的渲染下边的图像，直到完成一轮为止\\n\""
            ],
            "application/vnd.google.colaboratory.intrinsic+json": {
              "type": "string"
            }
          },
          "metadata": {},
          "execution_count": 12
        }
      ],
      "source": [
        "\"\"\"\n",
        "env.reset()\n",
        "\n",
        "img = plt.imshow(env.render(mode='rgb_array'))\n",
        "\n",
        "done = False\n",
        "while not done:\n",
        "  action = env.action_space.sample()\n",
        "  #Randomly sample an element of this space.\n",
        "  #随机抽取动作空间里的一个元素\n",
        "  observation, reward, done, _ = env.step(action)\n",
        "  img.set_data(env.render(mode='rgb_array'))\n",
        "  display.display(plt.gcf())\n",
        "  display.clear_output(wait=True)\n",
        "  #一帧一帧的渲染下边的图像，直到完成一轮为止\n",
        "\"\"\"\n",
        "\n",
        "\n",
        "\n",
        "    "
      ]
    },
    {
      "cell_type": "markdown",
      "metadata": {
        "id": "F5paWqo7tWL2"
      },
      "source": [
        "## Policy Gradient\n",
        "Now, we can build a simple policy network. The network will return one of action in the action space.  \n",
        "现在，我们将创建一个简单的policy network，它将返回一项动作。"
      ]
    },
    {
      "cell_type": "code",
      "execution_count": 13,
      "metadata": {
        "id": "J8tdmeD-tZew"
      },
      "outputs": [],
      "source": [
        "class PolicyGradientNetwork(nn.Module):\n",
        "\n",
        "    def __init__(self):\n",
        "        super().__init__()\n",
        "        self.fc1 = nn.Linear(8, 16)\n",
        "        self.fc2 = nn.Linear(16, 16)\n",
        "        self.fc3 = nn.Linear(16, 4)\n",
        "\n",
        "        #三层线性层 8=>16=>16=>4\n",
        "        #输入是八维的状态向量（state），输出是四维，代表四个动作\n",
        "\n",
        "    def forward(self, state):\n",
        "        hid = torch.tanh(self.fc1(state))\n",
        "        hid = torch.tanh(self.fc2(hid))\n",
        "        return F.softmax(self.fc3(hid), dim=-1)\n",
        "\n",
        "        #两次tanh一次softmax\n",
        "        #8=>16=>tanh=>16=>tanh=>4=>softmax=>output\n",
        "        "
      ]
    },
    {
      "cell_type": "markdown",
      "metadata": {
        "id": "ZNgu-yzCy4Rt"
      },
      "source": [
        "## Softmax中的dim:\n",
        "-  dim=0 对第一个坐标轴的所有元素进行softmax运算，并使得每一列所有元素和为1\n",
        "-  dim=1 对第二个坐标轴的所有元素进行softmax运算，并使得每一行所有元素和为1\n",
        "-  dim=2 对第三个坐标轴的所有元素进行softmax运算，并使得每一行所有元素和为1\n",
        "  \n",
        "  以此类推\n",
        "-  dim=-1 对第倒数第一个坐标轴的所有元素进行softmax运算，并使得每一行所有元素和为1\n"
      ]
    },
    {
      "cell_type": "code",
      "execution_count": 14,
      "metadata": {
        "colab": {
          "base_uri": "https://localhost:8080/"
        },
        "id": "X27zD4qUzSei",
        "outputId": "b7d490c8-c680-4453-fbe8-a07bed45a5a1"
      },
      "outputs": [
        {
          "output_type": "stream",
          "name": "stdout",
          "text": [
            "tensor([[-1.9000,  1.0630],\n",
            "        [ 0.1354, -0.3442]])\n",
            "dim=0 tensor([[0.1155, 0.8033],\n",
            "        [0.8845, 0.1967]])\n",
            "dim=1 tensor([[0.0491, 0.9509],\n",
            "        [0.6176, 0.3824]])\n",
            "dim=-1 tensor([[0.0491, 0.9509],\n",
            "        [0.6176, 0.3824]])\n"
          ]
        }
      ],
      "source": [
        "import torch\n",
        "import torch.nn.functional as F\n",
        "input = torch.randn(2,2)\n",
        "print(input)\n",
        "m = F.softmax(input,dim=0)\n",
        "print(\"dim=0\",m)\n",
        "m = F.softmax(input,dim=1)\n",
        "print(\"dim=1\",m)\n",
        "#m = F.softmax(input,dim=2)\n",
        "#print(\"dim=2\",m)\n",
        "m = F.softmax(input,dim=-1)\n",
        "print(\"dim=-1\",m)"
      ]
    },
    {
      "cell_type": "markdown",
      "metadata": {
        "id": "ynbqJrhIFTC3"
      },
      "source": [
        "## Agent\n",
        "Then, we need to build a simple agent. The agent will acts according to the output of the policy network above. There are a few things can be done by agent:\n",
        "- `learn()`：update the policy network from log probabilities and rewards.\n",
        "- `sample()`：After receiving observation from the environment, utilize policy network to tell which action to take. The return values of this function includes action and log probabilities.  \n",
        "  \n",
        "下边，我们需要创建一个简单的agent。它能够做以下事情：  \n",
        "- learn（）：使用log probabilities and rewards来更新policy network  \n",
        "- sample（）：在接收observation后，使用policy network去告诉agent下边需要采取哪种行动，这个函数的返回值包括行动和log probabilities"
      ]
    },
    {
      "cell_type": "code",
      "execution_count": 15,
      "metadata": {
        "id": "zZo-IxJx286z"
      },
      "outputs": [],
      "source": [
        "from torch.optim.lr_scheduler import StepLR\n",
        "class AgentCritic(nn.Module):\n",
        "    \n",
        "    def __init__(self, network):\n",
        "        #self.network = network\n",
        "        super().__init__()\n",
        "        self.fc = nn.Sequential(\n",
        "            nn.Linear(8, 16),\n",
        "            nn.Tanh(),\n",
        "            nn.Linear(16, 16),\n",
        "            nn.Tanh()\n",
        "        )\n",
        "        #共用部分\n",
        "        self.actor = nn.Linear(16, 4)\n",
        "        self.critic = nn.Linear(16, 1)\n",
        "        #非共用部分：两个不同的线性层\n",
        "\n",
        "        self.values = []\n",
        "        #存储V^θ(state)\n",
        "\n",
        "\n",
        "        #self.optimizer = optim.SGD(self.network.parameters(), lr=0.001)\n",
        "        self.optimizer = optim.SGD(self.parameters(), lr=0.001)\n",
        "        #优化算法：SGD\n",
        "        \n",
        "    def forward(self, state):\n",
        "        #return self.network(state)\n",
        "\n",
        "        hid = self.fc(state)\n",
        "        hid_critic = self.critic(hid)\n",
        "\n",
        "        #print(\"type(hid_critic) is: \",type(hid_critic))\n",
        "        #print(\"hid_critic is: \",hid_critic)\n",
        "\n",
        "        #type(hid_critic) is:  <class 'torch.Tensor'>\n",
        "        #hid_critic is:  tensor([0.0773], grad_fn=<AddBackward0>)\n",
        "\n",
        "        self.values.append(hid_critic.squeeze(-1))\n",
        "\n",
        "        #print(hid_critic.squeeze(-1))\n",
        "        #print(type(hid_critic.squeeze(-1)))\n",
        "        #<class 'torch.Tensor'>\n",
        "        #tensor(0.1598, grad_fn=<SqueezeBackward1>)\n",
        "\n",
        "        return F.softmax(self.actor(hid), dim=-1)\n",
        "\n",
        "    def learn(self, log_probs, rewards):\n",
        "        rewards = rewards - torch.stack(self.values).detach()\n",
        "\n",
        "        loss = (-log_probs * rewards).sum() \n",
        "\n",
        "        # You don't need to revise this to pass simple baseline (but you can)\n",
        "        #你无需修改loss算法就可以通过simple baseline，但是你可以改\n",
        "\n",
        "        self.optimizer.zero_grad()\n",
        "        loss.backward()\n",
        "        self.optimizer.step()\n",
        "\n",
        "        #values = torch.stack(self.values)\n",
        "        #loss = (-log_probs * (rewards - values.detach())).sum() + F.smooth_l1_loss(values, rewards)      \n",
        "        \n",
        "        self.values = []\n",
        "\n",
        "        #每一个batch之后，重新收集资料来学习/重新计算values\n",
        "        \n",
        "    def sample(self, state):\n",
        "        action_prob = self(torch.FloatTensor(state))\n",
        "        #把state传给network，并接受动作的概率\n",
        "        action_dist = Categorical(action_prob)\n",
        "        #Categorical类\n",
        "        action = action_dist.sample()\n",
        "        #按照概率随机抽取一个动作\n",
        "        #比如[0.1,0.3,0.2,0.4],会按照这个概率表在0-3之间抽取一个动作\n",
        "        log_prob = action_dist.log_prob(action)\n",
        "        #取log的概率\n",
        "        return action.item(), log_prob\n",
        "        #返回action种类，和log probability"
      ]
    },
    {
      "cell_type": "markdown",
      "metadata": {
        "id": "RMvr6QYx2K-x"
      },
      "source": [
        "## Categorical\n",
        "CLASS   \n",
        "torch.distributions.categorical.Categorical(probs=None, logits=None, validate_args=None)  \n"
      ]
    },
    {
      "cell_type": "code",
      "execution_count": 16,
      "metadata": {
        "colab": {
          "base_uri": "https://localhost:8080/",
          "height": 0
        },
        "id": "HbISlAnU2-cR",
        "outputId": "f3e82e77-294f-4331-bf26-5b770ef2d199"
      },
      "outputs": [
        {
          "output_type": "stream",
          "name": "stdout",
          "text": [
            "Categorical(probs: torch.Size([4]), logits: torch.Size([4]))\n",
            "tensor(3)\n",
            "<class 'torch.Tensor'>\n",
            "tensor(-0.9163)\n",
            "tensor([0.1000, 0.3000, 0.2000, 0.4000])\n",
            "#########################\n"
          ]
        },
        {
          "output_type": "execute_result",
          "data": {
            "text/plain": [
              "'\\n一次输出\\n[0.1,0.3,0.2,0.4]\\nCategorical(probs: torch.Size([4]), logits: torch.Size([4]))\\ntensor(3)\\ntensor(-0.9163)\\nlog(0.2)=\\n'"
            ],
            "application/vnd.google.colaboratory.intrinsic+json": {
              "type": "string"
            }
          },
          "metadata": {},
          "execution_count": 16
        }
      ],
      "source": [
        "import torch\n",
        "from torch.distributions.categorical import Categorical\n",
        "\n",
        "\n",
        "\n",
        "\n",
        "def printf(sample_prob):\n",
        "  sample_prob=torch.FloatTensor(sample_prob)\n",
        "  #AttributeError: 'list' object has no attribute 'dim'\n",
        "  sample_dist = Categorical(sample_prob)\n",
        "  sample_action = sample_dist.sample()\n",
        "  sample_log_prob = sample_dist.log_prob(sample_action)\n",
        "  sample_prob_cate = sample_dist.probs\n",
        "  print(sample_dist)\n",
        "  print(sample_action)\n",
        "  print(type(sample_action))\n",
        "  print(sample_log_prob)\n",
        "  print(sample_prob_cate)\n",
        "  print(\"#########################\")\n",
        "\n",
        "\n",
        "\n",
        "\n",
        "\n",
        "printf([0.1,0.3,0.2,0.4]) \n",
        "# sum=1 log=[-2.3,-1.2,-1.6,-0.9]\n",
        "#printf([0.1,0.3,0.2,0.3]) # sum=0.9\n",
        "\n",
        "\n",
        "\n",
        "'''\n",
        "一次输出\n",
        "[0.1,0.3,0.2,0.4]\n",
        "Categorical(probs: torch.Size([4]), logits: torch.Size([4]))\n",
        "tensor(3)\n",
        "tensor(-0.9163)\n",
        "log(0.2)=\n",
        "'''"
      ]
    },
    {
      "cell_type": "code",
      "execution_count": 17,
      "metadata": {
        "colab": {
          "base_uri": "https://localhost:8080/"
        },
        "id": "Nn0Wt3BVKKiB",
        "outputId": "afde5824-803b-41c1-ece8-dd224e82e694"
      },
      "outputs": [
        {
          "output_type": "stream",
          "name": "stdout",
          "text": [
            "[10066, 29792, 20108, 40034]\n"
          ]
        }
      ],
      "source": [
        "import torch\n",
        "from torch.distributions.categorical import Categorical\n",
        "l_tongji = [0,0,0,0]\n",
        "\n",
        "sample_prob=torch.FloatTensor([0.1,0.3,0.2,0.4])\n",
        "sample_dist = Categorical(sample_prob)\n",
        "for x in range(100000):\n",
        "  sample_action = sample_dist.sample()\n",
        "  if sample_action == torch.Tensor([0]):\n",
        "    l_tongji[0]+=1\n",
        "  if sample_action == torch.Tensor([1]):\n",
        "    l_tongji[1]+=1\n",
        "  if sample_action == torch.Tensor([2]):\n",
        "    l_tongji[2]+=1\n",
        "  if sample_action == torch.Tensor([3]):\n",
        "    l_tongji[3]+=1\n",
        "print(l_tongji)\n",
        "\n",
        "# [10098, 30215, 20053, 39634]"
      ]
    },
    {
      "cell_type": "markdown",
      "metadata": {
        "id": "ehPlnTKyRZf9"
      },
      "source": [
        "## 实例化\n",
        "Lastly, build a network and agent to start training.  \n",
        "最后，创建（实例化）一个network和agent，然后开始训练！"
      ]
    },
    {
      "cell_type": "code",
      "execution_count": 18,
      "metadata": {
        "id": "GfJIvML-RYjL"
      },
      "outputs": [],
      "source": [
        "network = PolicyGradientNetwork()\n",
        "agent = AgentCritic(network)"
      ]
    },
    {
      "cell_type": "markdown",
      "metadata": {
        "id": "ouv23glgf5Qt"
      },
      "source": [
        "## Training Agent\n",
        "\n",
        "Now let's start to train our agent.\n",
        "Through taking all the interactions between agent and environment as training data, the policy network can learn from all these attempts,  \n",
        "  \n",
        "下边我们开始训练agent了 \n",
        "通过把agent和环境间的所有互动当作训练数据，policy network可以从所有的attempts中学习\n"
      ]
    },
    {
      "cell_type": "code",
      "execution_count": 19,
      "metadata": {
        "colab": {
          "base_uri": "https://localhost:8080/",
          "height": 138,
          "referenced_widgets": [
            "743141e563054d8ca913b591760f70c9",
            "7103c2ac2ccb49618ce924211b87dcd3",
            "17e9b078823f49b8af7c52d5d9d90d58",
            "804473c4018e4bb79cb7f972f269b75b",
            "16ee487e1949449f8f7f24e3e18303a1",
            "156ef56eeee44f44a19abee03c12ccac",
            "2f3cb510999a40bbbe0f8583c4332e43",
            "97c90d34b72449648d72fde6062fe94f",
            "83a5e6aa0ecf4415a61e85eb834f87ad",
            "cd4f976cf322414083adedded9e25579",
            "55ffb776baaa4ca183f750fe45b2e263"
          ]
        },
        "id": "vg5rxBBaf38_",
        "outputId": "6a1b14dc-c3a8-4529-bfd9-5b5cae41d1a7"
      },
      "outputs": [
        {
          "output_type": "display_data",
          "data": {
            "text/plain": [
              "  0%|          | 0/500 [00:00<?, ?it/s]"
            ],
            "application/vnd.jupyter.widget-view+json": {
              "version_major": 2,
              "version_minor": 0,
              "model_id": "743141e563054d8ca913b591760f70c9"
            }
          },
          "metadata": {}
        },
        {
          "output_type": "stream",
          "name": "stdout",
          "text": [
            "rewards looks like  (555,)\n",
            "log_probs looks like  [tensor(-1.7045, grad_fn=<SqueezeBackward1>), tensor(-1.3349, grad_fn=<SqueezeBackward1>), tensor(-1.3348, grad_fn=<SqueezeBackward1>), tensor(-1.2523, grad_fn=<SqueezeBackward1>), tensor(-1.3357, grad_fn=<SqueezeBackward1>), tensor(-1.3139, grad_fn=<SqueezeBackward1>), tensor(-1.2516, grad_fn=<SqueezeBackward1>), tensor(-1.2501, grad_fn=<SqueezeBackward1>), tensor(-1.3169, grad_fn=<SqueezeBackward1>), tensor(-1.2483, grad_fn=<SqueezeBackward1>), tensor(-1.2482, grad_fn=<SqueezeBackward1>), tensor(-1.3192, grad_fn=<SqueezeBackward1>), tensor(-1.3208, grad_fn=<SqueezeBackward1>), tensor(-1.3221, grad_fn=<SqueezeBackward1>), tensor(-1.2500, grad_fn=<SqueezeBackward1>), tensor(-1.3354, grad_fn=<SqueezeBackward1>), tensor(-1.3347, grad_fn=<SqueezeBackward1>), tensor(-1.2543, grad_fn=<SqueezeBackward1>), tensor(-1.2555, grad_fn=<SqueezeBackward1>), tensor(-1.3231, grad_fn=<SqueezeBackward1>), tensor(-1.3320, grad_fn=<SqueezeBackward1>), tensor(-1.3239, grad_fn=<SqueezeBackward1>), tensor(-1.3305, grad_fn=<SqueezeBackward1>), tensor(-1.6813, grad_fn=<SqueezeBackward1>), tensor(-1.3231, grad_fn=<SqueezeBackward1>), tensor(-1.6792, grad_fn=<SqueezeBackward1>), tensor(-1.3263, grad_fn=<SqueezeBackward1>), tensor(-1.2680, grad_fn=<SqueezeBackward1>), tensor(-1.2662, grad_fn=<SqueezeBackward1>), tensor(-1.2660, grad_fn=<SqueezeBackward1>), tensor(-1.3251, grad_fn=<SqueezeBackward1>), tensor(-1.3240, grad_fn=<SqueezeBackward1>), tensor(-1.3230, grad_fn=<SqueezeBackward1>), tensor(-1.3238, grad_fn=<SqueezeBackward1>), tensor(-1.3251, grad_fn=<SqueezeBackward1>), tensor(-1.3200, grad_fn=<SqueezeBackward1>), tensor(-1.3258, grad_fn=<SqueezeBackward1>), tensor(-1.3270, grad_fn=<SqueezeBackward1>), tensor(-1.3161, grad_fn=<SqueezeBackward1>), tensor(-1.3278, grad_fn=<SqueezeBackward1>), tensor(-1.3129, grad_fn=<SqueezeBackward1>), tensor(-1.3111, grad_fn=<SqueezeBackward1>), tensor(-1.2896, grad_fn=<SqueezeBackward1>), tensor(-1.3283, grad_fn=<SqueezeBackward1>), tensor(-1.3293, grad_fn=<SqueezeBackward1>), tensor(-1.3044, grad_fn=<SqueezeBackward1>), tensor(-1.3023, grad_fn=<SqueezeBackward1>), tensor(-1.3294, grad_fn=<SqueezeBackward1>), tensor(-1.6526, grad_fn=<SqueezeBackward1>), tensor(-1.3090, grad_fn=<SqueezeBackward1>), tensor(-1.3130, grad_fn=<SqueezeBackward1>), tensor(-1.3156, grad_fn=<SqueezeBackward1>), tensor(-1.6484, grad_fn=<SqueezeBackward1>), tensor(-1.2859, grad_fn=<SqueezeBackward1>), tensor(-1.3251, grad_fn=<SqueezeBackward1>), tensor(-1.6453, grad_fn=<SqueezeBackward1>), tensor(-1.3281, grad_fn=<SqueezeBackward1>), tensor(-1.6424, grad_fn=<SqueezeBackward1>), tensor(-1.3395, grad_fn=<SqueezeBackward1>), tensor(-1.3289, grad_fn=<SqueezeBackward1>), tensor(-1.3468, grad_fn=<SqueezeBackward1>), tensor(-1.3321, grad_fn=<SqueezeBackward1>), tensor(-1.3339, grad_fn=<SqueezeBackward1>), tensor(-1.3356, grad_fn=<SqueezeBackward1>), tensor(-1.6224, grad_fn=<SqueezeBackward1>), tensor(-1.3644, grad_fn=<SqueezeBackward1>), tensor(-1.3365, grad_fn=<SqueezeBackward1>), tensor(-1.3379, grad_fn=<SqueezeBackward1>), tensor(-1.6144, grad_fn=<SqueezeBackward1>), tensor(-1.2477, grad_fn=<SqueezeBackward1>), tensor(-1.6142, grad_fn=<SqueezeBackward1>), tensor(-1.3356, grad_fn=<SqueezeBackward1>), tensor(-1.3372, grad_fn=<SqueezeBackward1>), tensor(-1.2369, grad_fn=<SqueezeBackward1>), tensor(-1.3386, grad_fn=<SqueezeBackward1>), tensor(-1.4057, grad_fn=<SqueezeBackward1>), tensor(-1.4123, grad_fn=<SqueezeBackward1>), tensor(-1.3419, grad_fn=<SqueezeBackward1>), tensor(-1.4236, grad_fn=<SqueezeBackward1>), tensor(-1.2177, grad_fn=<SqueezeBackward1>), tensor(-1.4349, grad_fn=<SqueezeBackward1>), tensor(-1.5859, grad_fn=<SqueezeBackward1>), tensor(-1.5866, grad_fn=<SqueezeBackward1>), tensor(-1.6392, grad_fn=<SqueezeBackward1>), tensor(-1.2166, grad_fn=<SqueezeBackward1>), tensor(-1.5978, grad_fn=<SqueezeBackward1>), tensor(-1.3339, grad_fn=<SqueezeBackward1>), tensor(-1.2433, grad_fn=<SqueezeBackward1>), tensor(-1.6948, grad_fn=<SqueezeBackward1>), tensor(-1.6968, grad_fn=<SqueezeBackward1>), tensor(-1.3264, grad_fn=<SqueezeBackward1>), tensor(-1.2428, grad_fn=<SqueezeBackward1>), tensor(-1.2415, grad_fn=<SqueezeBackward1>), tensor(-1.2418, grad_fn=<SqueezeBackward1>), tensor(-1.6974, grad_fn=<SqueezeBackward1>), tensor(-1.3375, grad_fn=<SqueezeBackward1>), tensor(-1.2417, grad_fn=<SqueezeBackward1>), tensor(-1.2411, grad_fn=<SqueezeBackward1>), tensor(-1.3393, grad_fn=<SqueezeBackward1>), tensor(-1.3247, grad_fn=<SqueezeBackward1>), tensor(-1.3261, grad_fn=<SqueezeBackward1>), tensor(-1.3401, grad_fn=<SqueezeBackward1>), tensor(-1.6938, grad_fn=<SqueezeBackward1>), tensor(-1.3396, grad_fn=<SqueezeBackward1>), tensor(-1.3395, grad_fn=<SqueezeBackward1>), tensor(-1.2439, grad_fn=<SqueezeBackward1>), tensor(-1.3396, grad_fn=<SqueezeBackward1>), tensor(-1.6953, grad_fn=<SqueezeBackward1>), tensor(-1.6968, grad_fn=<SqueezeBackward1>), tensor(-1.3388, grad_fn=<SqueezeBackward1>), tensor(-1.3189, grad_fn=<SqueezeBackward1>), tensor(-1.3390, grad_fn=<SqueezeBackward1>), tensor(-1.2478, grad_fn=<SqueezeBackward1>), tensor(-1.3210, grad_fn=<SqueezeBackward1>), tensor(-1.2463, grad_fn=<SqueezeBackward1>), tensor(-1.6945, grad_fn=<SqueezeBackward1>), tensor(-1.2451, grad_fn=<SqueezeBackward1>), tensor(-1.3416, grad_fn=<SqueezeBackward1>), tensor(-1.6967, grad_fn=<SqueezeBackward1>), tensor(-1.3410, grad_fn=<SqueezeBackward1>), tensor(-1.3188, grad_fn=<SqueezeBackward1>), tensor(-1.3409, grad_fn=<SqueezeBackward1>), tensor(-1.6939, grad_fn=<SqueezeBackward1>), tensor(-1.3185, grad_fn=<SqueezeBackward1>), tensor(-1.2486, grad_fn=<SqueezeBackward1>), tensor(-1.2466, grad_fn=<SqueezeBackward1>), tensor(-1.2454, grad_fn=<SqueezeBackward1>), tensor(-1.2440, grad_fn=<SqueezeBackward1>), tensor(-1.2442, grad_fn=<SqueezeBackward1>), tensor(-1.3418, grad_fn=<SqueezeBackward1>), tensor(-1.3217, grad_fn=<SqueezeBackward1>), tensor(-1.3234, grad_fn=<SqueezeBackward1>), tensor(-1.3242, grad_fn=<SqueezeBackward1>), tensor(-1.3408, grad_fn=<SqueezeBackward1>), tensor(-1.2475, grad_fn=<SqueezeBackward1>), tensor(-1.3398, grad_fn=<SqueezeBackward1>), tensor(-1.6867, grad_fn=<SqueezeBackward1>), tensor(-1.3381, grad_fn=<SqueezeBackward1>), tensor(-1.2516, grad_fn=<SqueezeBackward1>), tensor(-1.2504, grad_fn=<SqueezeBackward1>), tensor(-1.6885, grad_fn=<SqueezeBackward1>), tensor(-1.2527, grad_fn=<SqueezeBackward1>), tensor(-1.3358, grad_fn=<SqueezeBackward1>), tensor(-1.2534, grad_fn=<SqueezeBackward1>), tensor(-1.3215, grad_fn=<SqueezeBackward1>), tensor(-1.3226, grad_fn=<SqueezeBackward1>), tensor(-1.3238, grad_fn=<SqueezeBackward1>), tensor(-1.2545, grad_fn=<SqueezeBackward1>), tensor(-1.3337, grad_fn=<SqueezeBackward1>), tensor(-1.3328, grad_fn=<SqueezeBackward1>), tensor(-1.2584, grad_fn=<SqueezeBackward1>), tensor(-1.6837, grad_fn=<SqueezeBackward1>), tensor(-1.3303, grad_fn=<SqueezeBackward1>), tensor(-1.3293, grad_fn=<SqueezeBackward1>), tensor(-1.3284, grad_fn=<SqueezeBackward1>), tensor(-1.2651, grad_fn=<SqueezeBackward1>), tensor(-1.2664, grad_fn=<SqueezeBackward1>), tensor(-1.3259, grad_fn=<SqueezeBackward1>), tensor(-1.6825, grad_fn=<SqueezeBackward1>), tensor(-1.3192, grad_fn=<SqueezeBackward1>), tensor(-1.2715, grad_fn=<SqueezeBackward1>), tensor(-1.2731, grad_fn=<SqueezeBackward1>), tensor(-1.6793, grad_fn=<SqueezeBackward1>), tensor(-1.3191, grad_fn=<SqueezeBackward1>), tensor(-1.3197, grad_fn=<SqueezeBackward1>), tensor(-1.3175, grad_fn=<SqueezeBackward1>), tensor(-1.3164, grad_fn=<SqueezeBackward1>), tensor(-1.3209, grad_fn=<SqueezeBackward1>), tensor(-1.3223, grad_fn=<SqueezeBackward1>), tensor(-1.3133, grad_fn=<SqueezeBackward1>), tensor(-1.6673, grad_fn=<SqueezeBackward1>), tensor(-1.2909, grad_fn=<SqueezeBackward1>), tensor(-1.3095, grad_fn=<SqueezeBackward1>), tensor(-1.3224, grad_fn=<SqueezeBackward1>), tensor(-1.6631, grad_fn=<SqueezeBackward1>), tensor(-1.3053, grad_fn=<SqueezeBackward1>), tensor(-1.3005, grad_fn=<SqueezeBackward1>), tensor(-1.3018, grad_fn=<SqueezeBackward1>), tensor(-1.6591, grad_fn=<SqueezeBackward1>), tensor(-1.3228, grad_fn=<SqueezeBackward1>), tensor(-1.6569, grad_fn=<SqueezeBackward1>), tensor(-1.3119, grad_fn=<SqueezeBackward1>), tensor(-1.3240, grad_fn=<SqueezeBackward1>), tensor(-1.6523, grad_fn=<SqueezeBackward1>), tensor(-1.6533, grad_fn=<SqueezeBackward1>), tensor(-1.3207, grad_fn=<SqueezeBackward1>), tensor(-1.2883, grad_fn=<SqueezeBackward1>), tensor(-1.2869, grad_fn=<SqueezeBackward1>), tensor(-1.6480, grad_fn=<SqueezeBackward1>), tensor(-1.6484, grad_fn=<SqueezeBackward1>), tensor(-1.6483, grad_fn=<SqueezeBackward1>), tensor(-1.6482, grad_fn=<SqueezeBackward1>), tensor(-1.3376, grad_fn=<SqueezeBackward1>), tensor(-1.3222, grad_fn=<SqueezeBackward1>), tensor(-1.6416, grad_fn=<SqueezeBackward1>), tensor(-1.3425, grad_fn=<SqueezeBackward1>), tensor(-1.3448, grad_fn=<SqueezeBackward1>), tensor(-1.3281, grad_fn=<SqueezeBackward1>), tensor(-1.3308, grad_fn=<SqueezeBackward1>), tensor(-1.3335, grad_fn=<SqueezeBackward1>), tensor(-1.3522, grad_fn=<SqueezeBackward1>), tensor(-1.3545, grad_fn=<SqueezeBackward1>), tensor(-1.3392, grad_fn=<SqueezeBackward1>), tensor(-1.3411, grad_fn=<SqueezeBackward1>), tensor(-1.3436, grad_fn=<SqueezeBackward1>), tensor(-1.3632, grad_fn=<SqueezeBackward1>), tensor(-1.6023, grad_fn=<SqueezeBackward1>), tensor(-1.3463, grad_fn=<SqueezeBackward1>), tensor(-1.2578, grad_fn=<SqueezeBackward1>), tensor(-1.3746, grad_fn=<SqueezeBackward1>), tensor(-1.2532, grad_fn=<SqueezeBackward1>), tensor(-1.3816, grad_fn=<SqueezeBackward1>), tensor(-1.3534, grad_fn=<SqueezeBackward1>), tensor(-1.2476, grad_fn=<SqueezeBackward1>), tensor(-1.3904, grad_fn=<SqueezeBackward1>), tensor(-1.2437, grad_fn=<SqueezeBackward1>), tensor(-1.2416, grad_fn=<SqueezeBackward1>), tensor(-1.5762, grad_fn=<SqueezeBackward1>), tensor(-1.4030, grad_fn=<SqueezeBackward1>), tensor(-1.3601, grad_fn=<SqueezeBackward1>), tensor(-1.2327, grad_fn=<SqueezeBackward1>), tensor(-1.3480, grad_fn=<SqueezeBackward1>), tensor(-1.3419, grad_fn=<SqueezeBackward1>), tensor(-1.3341, grad_fn=<SqueezeBackward1>), tensor(-1.7585, grad_fn=<SqueezeBackward1>), tensor(-1.2118, grad_fn=<SqueezeBackward1>), tensor(-1.2979, grad_fn=<SqueezeBackward1>), tensor(-1.2086, grad_fn=<SqueezeBackward1>), tensor(-1.2060, grad_fn=<SqueezeBackward1>), tensor(-1.3006, grad_fn=<SqueezeBackward1>), tensor(-1.3653, grad_fn=<SqueezeBackward1>), tensor(-1.3021, grad_fn=<SqueezeBackward1>), tensor(-1.2038, grad_fn=<SqueezeBackward1>), tensor(-1.3038, grad_fn=<SqueezeBackward1>), tensor(-1.3680, grad_fn=<SqueezeBackward1>), tensor(-1.2027, grad_fn=<SqueezeBackward1>), tensor(-1.3055, grad_fn=<SqueezeBackward1>), tensor(-1.3702, grad_fn=<SqueezeBackward1>), tensor(-1.7474, grad_fn=<SqueezeBackward1>), tensor(-1.2016, grad_fn=<SqueezeBackward1>), tensor(-1.1992, grad_fn=<SqueezeBackward1>), tensor(-1.3053, grad_fn=<SqueezeBackward1>), tensor(-1.1960, grad_fn=<SqueezeBackward1>), tensor(-1.1938, grad_fn=<SqueezeBackward1>), tensor(-1.3071, grad_fn=<SqueezeBackward1>), tensor(-1.7486, grad_fn=<SqueezeBackward1>), tensor(-1.7500, grad_fn=<SqueezeBackward1>), tensor(-1.1952, grad_fn=<SqueezeBackward1>), tensor(-1.3053, grad_fn=<SqueezeBackward1>), tensor(-1.1924, grad_fn=<SqueezeBackward1>), tensor(-1.3802, grad_fn=<SqueezeBackward1>), tensor(-1.3068, grad_fn=<SqueezeBackward1>), tensor(-1.7507, grad_fn=<SqueezeBackward1>), tensor(-1.7523, grad_fn=<SqueezeBackward1>), tensor(-1.7542, grad_fn=<SqueezeBackward1>), tensor(-1.3796, grad_fn=<SqueezeBackward1>), tensor(-1.7543, grad_fn=<SqueezeBackward1>), tensor(-1.3016, grad_fn=<SqueezeBackward1>), tensor(-1.1924, grad_fn=<SqueezeBackward1>), tensor(-1.7548, grad_fn=<SqueezeBackward1>), tensor(-1.1895, grad_fn=<SqueezeBackward1>), tensor(-1.3025, grad_fn=<SqueezeBackward1>), tensor(-1.3866, grad_fn=<SqueezeBackward1>), tensor(-1.1843, grad_fn=<SqueezeBackward1>), tensor(-1.3048, grad_fn=<SqueezeBackward1>), tensor(-1.3069, grad_fn=<SqueezeBackward1>), tensor(-1.1808, grad_fn=<SqueezeBackward1>), tensor(-1.3092, grad_fn=<SqueezeBackward1>), tensor(-1.3909, grad_fn=<SqueezeBackward1>), tensor(-1.1794, grad_fn=<SqueezeBackward1>), tensor(-1.1778, grad_fn=<SqueezeBackward1>), tensor(-1.3932, grad_fn=<SqueezeBackward1>), tensor(-1.1757, grad_fn=<SqueezeBackward1>), tensor(-1.3948, grad_fn=<SqueezeBackward1>), tensor(-1.1733, grad_fn=<SqueezeBackward1>), tensor(-1.3963, grad_fn=<SqueezeBackward1>), tensor(-1.3107, grad_fn=<SqueezeBackward1>), tensor(-1.1708, grad_fn=<SqueezeBackward1>), tensor(-1.3975, grad_fn=<SqueezeBackward1>), tensor(-1.7535, grad_fn=<SqueezeBackward1>), tensor(-1.3966, grad_fn=<SqueezeBackward1>), tensor(-1.7535, grad_fn=<SqueezeBackward1>), tensor(-1.1738, grad_fn=<SqueezeBackward1>), tensor(-1.1708, grad_fn=<SqueezeBackward1>), tensor(-1.3091, grad_fn=<SqueezeBackward1>), tensor(-1.3112, grad_fn=<SqueezeBackward1>), tensor(-1.7533, grad_fn=<SqueezeBackward1>), tensor(-1.1694, grad_fn=<SqueezeBackward1>), tensor(-1.4004, grad_fn=<SqueezeBackward1>), tensor(-1.1673, grad_fn=<SqueezeBackward1>), tensor(-1.3113, grad_fn=<SqueezeBackward1>), tensor(-1.1644, grad_fn=<SqueezeBackward1>), tensor(-1.7574, grad_fn=<SqueezeBackward1>), tensor(-1.3112, grad_fn=<SqueezeBackward1>), tensor(-1.4027, grad_fn=<SqueezeBackward1>), tensor(-1.1647, grad_fn=<SqueezeBackward1>), tensor(-1.3128, grad_fn=<SqueezeBackward1>), tensor(-1.1606, grad_fn=<SqueezeBackward1>), tensor(-1.3144, grad_fn=<SqueezeBackward1>), tensor(-1.1574, grad_fn=<SqueezeBackward1>), tensor(-1.7581, grad_fn=<SqueezeBackward1>), tensor(-1.7597, grad_fn=<SqueezeBackward1>), tensor(-1.7607, grad_fn=<SqueezeBackward1>), tensor(-1.3098, grad_fn=<SqueezeBackward1>), tensor(-1.7586, grad_fn=<SqueezeBackward1>), tensor(-1.7591, grad_fn=<SqueezeBackward1>), tensor(-1.4018, grad_fn=<SqueezeBackward1>), tensor(-1.1664, grad_fn=<SqueezeBackward1>), tensor(-1.1633, grad_fn=<SqueezeBackward1>), tensor(-1.7646, grad_fn=<SqueezeBackward1>), tensor(-1.7656, grad_fn=<SqueezeBackward1>), tensor(-1.3066, grad_fn=<SqueezeBackward1>), tensor(-1.1629, grad_fn=<SqueezeBackward1>), tensor(-1.3095, grad_fn=<SqueezeBackward1>), tensor(-1.4043, grad_fn=<SqueezeBackward1>), tensor(-1.1627, grad_fn=<SqueezeBackward1>), tensor(-1.4053, grad_fn=<SqueezeBackward1>), tensor(-1.4050, grad_fn=<SqueezeBackward1>), tensor(-1.4047, grad_fn=<SqueezeBackward1>), tensor(-1.3132, grad_fn=<SqueezeBackward1>), tensor(-1.1624, grad_fn=<SqueezeBackward1>), tensor(-1.3149, grad_fn=<SqueezeBackward1>), tensor(-1.1608, grad_fn=<SqueezeBackward1>), tensor(-1.7533, grad_fn=<SqueezeBackward1>), tensor(-1.1605, grad_fn=<SqueezeBackward1>), tensor(-1.3153, grad_fn=<SqueezeBackward1>), tensor(-1.3327, grad_fn=<SqueezeBackward1>), tensor(-1.6887, grad_fn=<SqueezeBackward1>), tensor(-1.2456, grad_fn=<SqueezeBackward1>), tensor(-1.2446, grad_fn=<SqueezeBackward1>), tensor(-1.3310, grad_fn=<SqueezeBackward1>), tensor(-1.3323, grad_fn=<SqueezeBackward1>), tensor(-1.2461, grad_fn=<SqueezeBackward1>), tensor(-1.3342, grad_fn=<SqueezeBackward1>), tensor(-1.6876, grad_fn=<SqueezeBackward1>), tensor(-1.3294, grad_fn=<SqueezeBackward1>), tensor(-1.3338, grad_fn=<SqueezeBackward1>), tensor(-1.6876, grad_fn=<SqueezeBackward1>), tensor(-1.2497, grad_fn=<SqueezeBackward1>), tensor(-1.3335, grad_fn=<SqueezeBackward1>), tensor(-1.6899, grad_fn=<SqueezeBackward1>), tensor(-1.3329, grad_fn=<SqueezeBackward1>), tensor(-1.2521, grad_fn=<SqueezeBackward1>), tensor(-1.2507, grad_fn=<SqueezeBackward1>), tensor(-1.2488, grad_fn=<SqueezeBackward1>), tensor(-1.3255, grad_fn=<SqueezeBackward1>), tensor(-1.6910, grad_fn=<SqueezeBackward1>), tensor(-1.3343, grad_fn=<SqueezeBackward1>), tensor(-1.6927, grad_fn=<SqueezeBackward1>), tensor(-1.3222, grad_fn=<SqueezeBackward1>), tensor(-1.3237, grad_fn=<SqueezeBackward1>), tensor(-1.3337, grad_fn=<SqueezeBackward1>), tensor(-1.6890, grad_fn=<SqueezeBackward1>), tensor(-1.6907, grad_fn=<SqueezeBackward1>), tensor(-1.6924, grad_fn=<SqueezeBackward1>), tensor(-1.2570, grad_fn=<SqueezeBackward1>), tensor(-1.3181, grad_fn=<SqueezeBackward1>), tensor(-1.2563, grad_fn=<SqueezeBackward1>), tensor(-1.2557, grad_fn=<SqueezeBackward1>), tensor(-1.3204, grad_fn=<SqueezeBackward1>), tensor(-1.3328, grad_fn=<SqueezeBackward1>), tensor(-1.3210, grad_fn=<SqueezeBackward1>), tensor(-1.3220, grad_fn=<SqueezeBackward1>), tensor(-1.3233, grad_fn=<SqueezeBackward1>), tensor(-1.3243, grad_fn=<SqueezeBackward1>), tensor(-1.2603, grad_fn=<SqueezeBackward1>), tensor(-1.3254, grad_fn=<SqueezeBackward1>), tensor(-1.6779, grad_fn=<SqueezeBackward1>), tensor(-1.3240, grad_fn=<SqueezeBackward1>), tensor(-1.2655, grad_fn=<SqueezeBackward1>), tensor(-1.2676, grad_fn=<SqueezeBackward1>), tensor(-1.3251, grad_fn=<SqueezeBackward1>), tensor(-1.2689, grad_fn=<SqueezeBackward1>), tensor(-1.6755, grad_fn=<SqueezeBackward1>), tensor(-1.3215, grad_fn=<SqueezeBackward1>), tensor(-1.3231, grad_fn=<SqueezeBackward1>), tensor(-1.3192, grad_fn=<SqueezeBackward1>), tensor(-1.2779, grad_fn=<SqueezeBackward1>), tensor(-1.3160, grad_fn=<SqueezeBackward1>), tensor(-1.3232, grad_fn=<SqueezeBackward1>), tensor(-1.6705, grad_fn=<SqueezeBackward1>), tensor(-1.2864, grad_fn=<SqueezeBackward1>), tensor(-1.3107, grad_fn=<SqueezeBackward1>), tensor(-1.3093, grad_fn=<SqueezeBackward1>), tensor(-1.6722, grad_fn=<SqueezeBackward1>), tensor(-1.3191, grad_fn=<SqueezeBackward1>), tensor(-1.3199, grad_fn=<SqueezeBackward1>), tensor(-1.3035, grad_fn=<SqueezeBackward1>), tensor(-1.3006, grad_fn=<SqueezeBackward1>), tensor(-1.3040, grad_fn=<SqueezeBackward1>), tensor(-1.3071, grad_fn=<SqueezeBackward1>), tensor(-1.3103, grad_fn=<SqueezeBackward1>), tensor(-1.3117, grad_fn=<SqueezeBackward1>), tensor(-1.3147, grad_fn=<SqueezeBackward1>), tensor(-1.2886, grad_fn=<SqueezeBackward1>), tensor(-1.6570, grad_fn=<SqueezeBackward1>), tensor(-1.6586, grad_fn=<SqueezeBackward1>), tensor(-1.6598, grad_fn=<SqueezeBackward1>), tensor(-1.6610, grad_fn=<SqueezeBackward1>), tensor(-1.2801, grad_fn=<SqueezeBackward1>), tensor(-1.2788, grad_fn=<SqueezeBackward1>), tensor(-1.3165, grad_fn=<SqueezeBackward1>), tensor(-1.6552, grad_fn=<SqueezeBackward1>), tensor(-1.6565, grad_fn=<SqueezeBackward1>), tensor(-1.6567, grad_fn=<SqueezeBackward1>), tensor(-1.3142, grad_fn=<SqueezeBackward1>), tensor(-1.3162, grad_fn=<SqueezeBackward1>), tensor(-1.6496, grad_fn=<SqueezeBackward1>), tensor(-1.2675, grad_fn=<SqueezeBackward1>), tensor(-1.3171, grad_fn=<SqueezeBackward1>), tensor(-1.2648, grad_fn=<SqueezeBackward1>), tensor(-1.6425, grad_fn=<SqueezeBackward1>), tensor(-1.3639, grad_fn=<SqueezeBackward1>), tensor(-1.3205, grad_fn=<SqueezeBackward1>), tensor(-1.6348, grad_fn=<SqueezeBackward1>), tensor(-1.6353, grad_fn=<SqueezeBackward1>), tensor(-1.6357, grad_fn=<SqueezeBackward1>), tensor(-1.2524, grad_fn=<SqueezeBackward1>), tensor(-1.2510, grad_fn=<SqueezeBackward1>), tensor(-1.2495, grad_fn=<SqueezeBackward1>), tensor(-1.3860, grad_fn=<SqueezeBackward1>), tensor(-1.2459, grad_fn=<SqueezeBackward1>), tensor(-1.3254, grad_fn=<SqueezeBackward1>), tensor(-1.3277, grad_fn=<SqueezeBackward1>), tensor(-1.2416, grad_fn=<SqueezeBackward1>), tensor(-1.3306, grad_fn=<SqueezeBackward1>), tensor(-1.2383, grad_fn=<SqueezeBackward1>), tensor(-1.3335, grad_fn=<SqueezeBackward1>), tensor(-1.3357, grad_fn=<SqueezeBackward1>), tensor(-1.3380, grad_fn=<SqueezeBackward1>), tensor(-1.2311, grad_fn=<SqueezeBackward1>), tensor(-1.3403, grad_fn=<SqueezeBackward1>), tensor(-1.5866, grad_fn=<SqueezeBackward1>), tensor(-1.2243, grad_fn=<SqueezeBackward1>), tensor(-1.2220, grad_fn=<SqueezeBackward1>), tensor(-1.4353, grad_fn=<SqueezeBackward1>), tensor(-1.2168, grad_fn=<SqueezeBackward1>), tensor(-1.5764, grad_fn=<SqueezeBackward1>), tensor(-1.5762, grad_fn=<SqueezeBackward1>), tensor(-1.3433, grad_fn=<SqueezeBackward1>), tensor(-1.2077, grad_fn=<SqueezeBackward1>), tensor(-1.4596, grad_fn=<SqueezeBackward1>), tensor(-1.3480, grad_fn=<SqueezeBackward1>), tensor(-1.5634, grad_fn=<SqueezeBackward1>), tensor(-1.3374, grad_fn=<SqueezeBackward1>), tensor(-1.2808, grad_fn=<SqueezeBackward1>), tensor(-1.2945, grad_fn=<SqueezeBackward1>), tensor(-1.2665, grad_fn=<SqueezeBackward1>), tensor(-1.2623, grad_fn=<SqueezeBackward1>), tensor(-1.3483, grad_fn=<SqueezeBackward1>), tensor(-1.3579, grad_fn=<SqueezeBackward1>), tensor(-1.2501, grad_fn=<SqueezeBackward1>), tensor(-1.3556, grad_fn=<SqueezeBackward1>), tensor(-1.3504, grad_fn=<SqueezeBackward1>), tensor(-1.2370, grad_fn=<SqueezeBackward1>), tensor(-1.3389, grad_fn=<SqueezeBackward1>), tensor(-1.4032, grad_fn=<SqueezeBackward1>), tensor(-1.3287, grad_fn=<SqueezeBackward1>), tensor(-1.6284, grad_fn=<SqueezeBackward1>), tensor(-1.6359, grad_fn=<SqueezeBackward1>), tensor(-1.3105, grad_fn=<SqueezeBackward1>), tensor(-1.6499, grad_fn=<SqueezeBackward1>), tensor(-1.1916, grad_fn=<SqueezeBackward1>), tensor(-1.1866, grad_fn=<SqueezeBackward1>), tensor(-1.4710, grad_fn=<SqueezeBackward1>), tensor(-1.2879, grad_fn=<SqueezeBackward1>), tensor(-1.6273, grad_fn=<SqueezeBackward1>), tensor(-1.3524, grad_fn=<SqueezeBackward1>), tensor(-1.6276, grad_fn=<SqueezeBackward1>), tensor(-1.3064, grad_fn=<SqueezeBackward1>), tensor(-1.3502, grad_fn=<SqueezeBackward1>), tensor(-1.3052, grad_fn=<SqueezeBackward1>), tensor(-1.3044, grad_fn=<SqueezeBackward1>), tensor(-1.6274, grad_fn=<SqueezeBackward1>), tensor(-1.3024, grad_fn=<SqueezeBackward1>), tensor(-1.3016, grad_fn=<SqueezeBackward1>), tensor(-1.3049, grad_fn=<SqueezeBackward1>), tensor(-1.3004, grad_fn=<SqueezeBackward1>), tensor(-1.3062, grad_fn=<SqueezeBackward1>), tensor(-1.3059, grad_fn=<SqueezeBackward1>), tensor(-1.2986, grad_fn=<SqueezeBackward1>), tensor(-1.6291, grad_fn=<SqueezeBackward1>), tensor(-1.6309, grad_fn=<SqueezeBackward1>), tensor(-1.6331, grad_fn=<SqueezeBackward1>), tensor(-1.2945, grad_fn=<SqueezeBackward1>), tensor(-1.6336, grad_fn=<SqueezeBackward1>), tensor(-1.2929, grad_fn=<SqueezeBackward1>), tensor(-1.3176, grad_fn=<SqueezeBackward1>), tensor(-1.3385, grad_fn=<SqueezeBackward1>), tensor(-1.2907, grad_fn=<SqueezeBackward1>), tensor(-1.3404, grad_fn=<SqueezeBackward1>), tensor(-1.2894, grad_fn=<SqueezeBackward1>), tensor(-1.6243, grad_fn=<SqueezeBackward1>), tensor(-1.2873, grad_fn=<SqueezeBackward1>), tensor(-1.2865, grad_fn=<SqueezeBackward1>), tensor(-1.3304, grad_fn=<SqueezeBackward1>), tensor(-1.6227, grad_fn=<SqueezeBackward1>), tensor(-1.3384, grad_fn=<SqueezeBackward1>), tensor(-1.3347, grad_fn=<SqueezeBackward1>), tensor(-1.2823, grad_fn=<SqueezeBackward1>), tensor(-1.6184, grad_fn=<SqueezeBackward1>), tensor(-1.2803, grad_fn=<SqueezeBackward1>), tensor(-1.6176, grad_fn=<SqueezeBackward1>), tensor(-1.3422, grad_fn=<SqueezeBackward1>), tensor(-1.2771, grad_fn=<SqueezeBackward1>), tensor(-1.3412, grad_fn=<SqueezeBackward1>), tensor(-1.2760, grad_fn=<SqueezeBackward1>), tensor(-1.6086, grad_fn=<SqueezeBackward1>), tensor(-1.3503, grad_fn=<SqueezeBackward1>), tensor(-1.2728, grad_fn=<SqueezeBackward1>), tensor(-1.2720, grad_fn=<SqueezeBackward1>), tensor(-1.6033, grad_fn=<SqueezeBackward1>), tensor(-1.2700, grad_fn=<SqueezeBackward1>), tensor(-1.3591, grad_fn=<SqueezeBackward1>), tensor(-1.3599, grad_fn=<SqueezeBackward1>), tensor(-1.2679, grad_fn=<SqueezeBackward1>), tensor(-1.3491, grad_fn=<SqueezeBackward1>), tensor(-1.2667, grad_fn=<SqueezeBackward1>), tensor(-1.2657, grad_fn=<SqueezeBackward1>), tensor(-1.5865, grad_fn=<SqueezeBackward1>), tensor(-1.3701, grad_fn=<SqueezeBackward1>), tensor(-1.2622, grad_fn=<SqueezeBackward1>), tensor(-1.2613, grad_fn=<SqueezeBackward1>), tensor(-1.3750, grad_fn=<SqueezeBackward1>), tensor(-1.2594, grad_fn=<SqueezeBackward1>), tensor(-1.2585, grad_fn=<SqueezeBackward1>), tensor(-1.5744, grad_fn=<SqueezeBackward1>), tensor(-1.2563, grad_fn=<SqueezeBackward1>), tensor(-1.3834, grad_fn=<SqueezeBackward1>), tensor(-1.3835, grad_fn=<SqueezeBackward1>), tensor(-1.5688, grad_fn=<SqueezeBackward1>), tensor(-1.3858, grad_fn=<SqueezeBackward1>), tensor(-1.5674, grad_fn=<SqueezeBackward1>), tensor(-1.3646, grad_fn=<SqueezeBackward1>), tensor(-1.5620, grad_fn=<SqueezeBackward1>), tensor(-1.3905, grad_fn=<SqueezeBackward1>), tensor(-1.3906, grad_fn=<SqueezeBackward1>), tensor(-1.3703, grad_fn=<SqueezeBackward1>), tensor(-1.3918, grad_fn=<SqueezeBackward1>), tensor(-1.5528, grad_fn=<SqueezeBackward1>), tensor(-1.3743, grad_fn=<SqueezeBackward1>), tensor(-1.3773, grad_fn=<SqueezeBackward1>), tensor(-1.3963, grad_fn=<SqueezeBackward1>), tensor(-1.2469, grad_fn=<SqueezeBackward1>), tensor(-1.3829, grad_fn=<SqueezeBackward1>), tensor(-1.5358, grad_fn=<SqueezeBackward1>), tensor(-1.5347, grad_fn=<SqueezeBackward1>), tensor(-1.5340, grad_fn=<SqueezeBackward1>), tensor(-1.2417, grad_fn=<SqueezeBackward1>), tensor(-1.3875, grad_fn=<SqueezeBackward1>), tensor(-1.4093, grad_fn=<SqueezeBackward1>), tensor(-1.5247, grad_fn=<SqueezeBackward1>), tensor(-1.4101, grad_fn=<SqueezeBackward1>), tensor(-1.2402, grad_fn=<SqueezeBackward1>), tensor(-1.4524, grad_fn=<SqueezeBackward1>)]\n",
            "logs prob looks like  torch.Size([555])\n",
            "torch.from_numpy(rewards) looks like  torch.Size([555])\n"
          ]
        }
      ],
      "source": [
        "agent.train()  \n",
        "# Switch network into training mode \n",
        "# 转换为train模式 \n",
        "EPISODE_PER_BATCH = 5  \n",
        "# update the  agent every 5 episode\n",
        "# 每5个episode更新一次agent\n",
        "\n",
        "NUM_BATCH = 500      \n",
        "# totally update the agent for 400 time（？）\n",
        "# 一共更新500次\n",
        "\n",
        "avg_total_rewards, avg_final_rewards = [], []\n",
        "\n",
        "prg_bar = tqdm(range(NUM_BATCH))\n",
        "\n",
        "flag_print = 0\n",
        "#控制显示的条数，防止浏览器卡死\n",
        "\n",
        "#Medium: accumulative decaying reward\n",
        "def accu_decay_reward(rewards):\n",
        "  accu_reward = 0\n",
        "  decay = 0.99 #衰减因子\n",
        "  rewards_len = len(rewards)\n",
        "  accu_rewards = [0]*(rewards_len + 1)\n",
        "\n",
        "  for x in range(rewards_len):\n",
        "    accu_rewards[rewards_len-1-x] = decay*accu_rewards[rewards_len-x] + rewards[rewards_len-1-x]\n",
        "  del(accu_rewards[-1])\n",
        "  #print(accu_rewards)\n",
        "  return accu_rewards\n",
        "  \n",
        "    \n",
        "\n",
        "\n",
        "\n",
        "for batch in prg_bar:\n",
        "# 500个batch\n",
        "\n",
        "    log_probs, rewards = [], []\n",
        "    total_rewards, final_rewards = [], []\n",
        "\n",
        "    # collect trajectory\n",
        "    for episode in range(EPISODE_PER_BATCH):\n",
        "      #每个batch有5个episode\n",
        "        \n",
        "        state = env.reset()\n",
        "        total_reward, total_step = 0, 0\n",
        "        seq_rewards = []\n",
        "        while True:\n",
        "\n",
        "            action, log_prob = agent.sample(state) \n",
        "            # at, log(at|st)\n",
        "            #动作种类和这一动作的log概率\n",
        "            next_state, reward, done, _ = env.step(action)\n",
        "            log_probs.append(log_prob) # [log(a1|s1), log(a2|s2), ...., log(at|st)]\n",
        "            #存储log_prob\n",
        "\n",
        "            # seq_rewards.append(reward)\n",
        "            state = next_state   #不太能理解为啥要有 state和next_state之分\n",
        "            total_reward += reward\n",
        "            total_step += 1\n",
        "            #更新参数\n",
        "\n",
        "            rewards.append(reward) # change here\n",
        "            #TODO：需要改变的部分\n",
        "            \n",
        "            # ! IMPORTANT !\n",
        "            # Current reward implementation: immediate reward,  \n",
        "            # given action_list : a1, a2, a3 ......\n",
        "            #  rewards :     r1, r2 ,r3 ......\n",
        "            # medium：change \"rewards\" to accumulative decaying reward, \n",
        "            # given action_list : a1,a2,a3, ......\n",
        "            # rewards :   r1+0.99*r2+0.99^2*r3+......, r2+0.99*r3+0.99^2*r4+...... ,  r3+0.99*r4+0.99^2*r5+ ......\n",
        "            # boss : implement Actor-Critic\n",
        "\n",
        "            #目前的：只存储当前的reward\n",
        "            #medium：积累延迟reward\n",
        "            #boss：采用Actor-Critic\n",
        "\n",
        "            if done:\n",
        "                final_rewards.append(reward)\n",
        "                total_rewards.append(total_reward)\n",
        "                break\n",
        "            #一个episode完成后，记录final reward和total reward\n",
        "\n",
        "\n",
        "    if flag_print%100==0:\n",
        "      print(f\"rewards looks like \", np.shape(rewards))\n",
        "    #log_probs_shape = np.array(log_probs).detach().shape\n",
        "    #AttributeError: 'list' object has no attribute 'shape'\n",
        "    #RuntimeError: Can't call numpy() on Tensor that requires grad. Use tensor.detach().numpy() instead.\n",
        "    #print(f\"log_probs looks like \", np.shape(log_probs)) \n",
        "      print(f\"log_probs looks like \", log_probs) \n",
        "    \n",
        "    #源代码每完成一个batch就要显示一大堆信息，容易卡死，这里让它只显示一次\n",
        "\n",
        "\n",
        "    # record training process\n",
        "    avg_total_reward = sum(total_rewards) / len(total_rewards)\n",
        "    avg_final_reward = sum(final_rewards) / len(final_rewards)\n",
        "    avg_total_rewards.append(avg_total_reward)\n",
        "    avg_final_rewards.append(avg_final_reward)\n",
        "    prg_bar.set_description(f\"Total: {avg_total_reward: 4.1f}, Final: {avg_final_reward: 4.1f}\")\n",
        "    #计算平均的total和final reward，并显示这俩\n",
        "\n",
        "    # update agent 更新agent\n",
        "    # rewards = np.concatenate(rewards, axis=0)\n",
        "    rewards=accu_decay_reward(rewards)\n",
        "    rewards = (rewards - np.mean(rewards)) / (np.std(rewards) + 1e-9)  \n",
        "    # normalize the reward  标准化reward\n",
        "    # std：标准差\n",
        "\n",
        "    \n",
        "\n",
        "    #agent.learn(torch.stack(log_probs), torch.from_numpy(rewards))\n",
        "\n",
        "    agent.learn(torch.stack(log_probs), torch.tensor(rewards))\n",
        "    #调用learn()更新agent\n",
        "    #torch.from_numpy()把numpy中的向量转化为torch中的张量，共享内存空间\n",
        "    #torch.stack()拼接张量，不太清楚这里是怎么拼接的\n",
        "\n",
        "\n",
        "\n",
        "    if flag_print%100==0:\n",
        "      print(\"logs prob looks like \", torch.stack(log_probs).size())\n",
        "      print(\"torch.from_numpy(rewards) looks like \", torch.from_numpy(rewards).size())\n",
        "      flag_print+=1\n",
        "    #显示信息x2\n",
        "\n",
        "\n"
      ]
    },
    {
      "cell_type": "code",
      "execution_count": 20,
      "metadata": {
        "id": "9Wcuqa0dOZiw"
      },
      "outputs": [],
      "source": [
        "#rewards = [1,1,1,1,1,1,1,1,1,1]\n",
        "def accu_decay_reward(rewards):\n",
        "  accu_reward = 0\n",
        "  decay = 0.99 #衰减因子\n",
        "  rewards_len = len(rewards)\n",
        "  accu_rewards = [0]*(rewards_len + 1)\n",
        "\n",
        "  for x in range(rewards_len):\n",
        "    accu_rewards[rewards_len-1-x] = decay*accu_rewards[rewards_len-x] + rewards[rewards_len-1-x]\n",
        "  del(accu_rewards[-1])\n",
        "  print(accu_rewards)\n",
        "  return accu_rewards\n",
        "#print(accu_decay_reward(rewards))"
      ]
    },
    {
      "cell_type": "markdown",
      "metadata": {
        "id": "vNb_tuFYhKVK"
      },
      "source": [
        "### Training Result\n",
        "During the training process, we recorded `avg_total_reward`, which represents the average total reward of episodes before updating the policy network.\n",
        "\n",
        "Theoretically, if the agent becomes better, the `avg_total_reward` will increase.\n",
        "The visualization of the training process is shown below:  \n",
        "  \n",
        "\n",
        "###训练结果  \n",
        "通过训练过程，我们记录了“avg_total_reward”,它表示在更新policy network之前的平均的total reward  \n",
        "理论上，如果agent变好了，那么avg_total_reward也会增加。  \n",
        "训练过程的可视化图像见下"
      ]
    },
    {
      "cell_type": "code",
      "execution_count": 21,
      "metadata": {
        "colab": {
          "base_uri": "https://localhost:8080/",
          "height": 452
        },
        "id": "wZYOI8H10SHN",
        "outputId": "38bc910f-51d6-4f7d-eaa6-8ed972b79807"
      },
      "outputs": [
        {
          "output_type": "display_data",
          "data": {
            "text/plain": [
              "<Figure size 640x480 with 1 Axes>"
            ],
            "image/png": "[encoded data removed]"
          },
          "metadata": {}
        }
      ],
      "source": [
        "plt.plot(avg_total_rewards)\n",
        "plt.title(\"Total Rewards\")\n",
        "plt.show()\n",
        "\n",
        "#横坐标为batch，纵坐标为avg_total_rewards"
      ]
    },
    {
      "cell_type": "markdown",
      "metadata": {
        "id": "mV5jj4dThz0Y"
      },
      "source": [
        "In addition, `avg_final_reward` represents average final rewards of episodes. To be specific, final rewards is the last reward received in one episode, indicating whether the craft lands successfully or not.  \n",
        "  \n",
        "另外，avg_final_reward代表了每个episode的平均final reward  \n",
        "特别的，final reward是一个episode中最后一次获得的reward，表明飞行器是否成功着陆\n"
      ]
    },
    {
      "cell_type": "code",
      "execution_count": 22,
      "metadata": {
        "colab": {
          "base_uri": "https://localhost:8080/",
          "height": 452
        },
        "id": "txDZ5vlGWz5w",
        "outputId": "1752b75d-e290-4d6d-9825-c0f904e8a69e"
      },
      "outputs": [
        {
          "output_type": "display_data",
          "data": {
            "text/plain": [
              "<Figure size 640x480 with 1 Axes>"
            ],
            "image/png": "[encoded data removed]"
          },
          "metadata": {}
        }
      ],
      "source": [
        "plt.plot(avg_final_rewards)\n",
        "plt.title(\"Final Rewards\")\n",
        "plt.show()\n",
        "\n",
        "#横坐标为batch，纵坐标为avg_final_rewards"
      ]
    },
    {
      "cell_type": "markdown",
      "metadata": {
        "id": "u2HaGRVEYGQS"
      },
      "source": [
        "## Testing\n",
        "The testing result will be the average reward of 5 testing  \n",
        "测试结果是五次测试(5个episode，1个batch)的reward的平均值"
      ]
    },
    {
      "cell_type": "code",
      "execution_count": 23,
      "metadata": {
        "colab": {
          "base_uri": "https://localhost:8080/",
          "height": 431
        },
        "id": "5yFuUKKRYH73",
        "outputId": "254d5d83-59f6-473b-9459-c18f1742b283"
      },
      "outputs": [
        {
          "output_type": "stream",
          "name": "stdout",
          "text": [
            "1.1645895295402227\n",
            "1.1888370471461542\n"
          ]
        },
        {
          "output_type": "display_data",
          "data": {
            "text/plain": [
              "<Figure size 640x480 with 1 Axes>"
            ],
            "image/png": "[encoded data removed]"
          },
          "metadata": {}
        }
      ],
      "source": [
        "#测试部分和训练部分基本一样\n",
        "\n",
        "fix(env, seed)\n",
        "agent.eval()  # set the network into evaluation mode  改成evaluation mode\n",
        "NUM_OF_TEST = 5 # Do not revise this !!!  不要更改！！！\n",
        "test_total_reward = []\n",
        "action_list = []\n",
        "for i in range(NUM_OF_TEST):\n",
        "  actions = []\n",
        "  state = env.reset()\n",
        "\n",
        "  img = plt.imshow(env.render(mode='rgb_array'))\n",
        "\n",
        "  total_reward = 0\n",
        "\n",
        "  done = False\n",
        "  while not done:\n",
        "      action, _ = agent.sample(state)\n",
        "      actions.append(action)\n",
        "      state, reward, done, _ = env.step(action)\n",
        "\n",
        "      total_reward += reward\n",
        "\n",
        "      #img.set_data(env.render(mode='rgb_array'))\n",
        "      #display.display(plt.gcf())\n",
        "      #display.clear_output(wait=True)\n",
        "      \n",
        "  print(total_reward)\n",
        "  test_total_reward.append(total_reward)\n",
        "\n",
        "  action_list.append(actions) # save the result of testing \n",
        "  print(np.mean(test_total_reward))\n"
      ]
    },
    {
      "cell_type": "markdown",
      "metadata": {
        "id": "leyebGYRpqsF"
      },
      "source": [
        "## 示例部分\n",
        "Action list  \n",
        "动作列表"
      ]
    },
    {
      "cell_type": "code",
      "execution_count": 24,
      "metadata": {
        "colab": {
          "base_uri": "https://localhost:8080/"
        },
        "id": "hGAH4YWDpp4u",
        "outputId": "9812e76a-1df9-43e5-c496-7c6709e090bc"
      },
      "outputs": [
        {
          "output_type": "stream",
          "name": "stdout",
          "text": [
            "Action list looks like  [[0, 2, 2, 2, 2, 1, 1, 2, 2, 2, 2, 2, 3, 2, 3, 2, 0, 2, 0, 2, 3, 2, 2, 2, 2, 2, 2, 2, 2, 0, 3, 2, 1, 2, 2, 3, 2, 3, 3, 1, 1, 2, 3, 1, 2, 2, 2, 2, 2, 2, 2, 3, 3, 3, 2, 2, 3, 2, 2, 1, 1, 2, 2, 2, 2, 2, 2, 3, 2, 2, 2, 2, 1, 2, 3, 2, 2, 3, 2, 2, 3, 2, 3, 3, 2, 2, 1, 2, 2, 3, 3, 2, 2, 3, 1, 2, 2, 3, 1, 2, 2, 2, 2, 1, 0, 1, 2, 1, 2, 2, 1, 2, 3, 2, 0, 2, 2, 3, 3, 2, 1, 2, 2, 2, 2, 1, 2, 2, 2, 3, 3, 2, 2, 2, 2, 2, 0, 3, 3, 2, 2, 2, 3, 2, 2, 3, 0, 3, 2, 3, 3, 1, 2, 2, 2, 3, 1, 1, 1, 1, 1, 1, 1], [1, 2, 1, 0, 2, 3, 1, 1, 2, 2, 2, 2, 1, 3, 2, 3, 3, 3, 3, 3, 3, 0, 3, 2, 2, 1, 3, 2, 2, 2, 3, 2, 2, 2, 1, 3, 2, 3, 2, 2, 2, 1, 1, 1, 2, 2, 2, 2, 2, 3, 1, 2, 2, 2, 2, 2, 1, 2, 2, 0, 3, 2, 2, 2, 2, 3, 2, 2, 2, 2, 0, 1, 3, 2, 2, 2, 1, 3, 3, 2, 2, 2, 2, 1, 1, 1, 2, 1, 3, 2, 1, 3, 2, 2, 3, 2, 2, 2, 1, 1, 2, 2, 2, 2, 1, 2, 2, 2, 2, 1, 2, 2, 1, 3, 2, 0, 2, 1, 2, 2, 2, 3, 1, 2, 3, 2, 2, 1, 2, 3, 2, 2, 2, 2, 2, 0, 2, 3, 0, 2, 3, 3, 3, 2, 3, 2, 2, 2, 2, 2, 0, 2, 1, 1, 3, 2, 3, 2, 3, 2, 3, 2, 2, 2, 2, 1, 0, 2, 1, 1, 1, 3, 2, 1, 1, 1, 1, 1, 1], [1, 1, 3, 1, 1, 1, 2, 1, 1, 2, 1, 3, 1, 0, 3, 2, 3, 3, 2, 2, 0, 0, 2, 3, 3, 3, 3, 3, 3, 3, 2, 2, 2, 2, 2, 2, 3, 3, 2, 2, 3, 2, 3, 2, 2, 2, 3, 2, 2, 1, 1, 2, 2, 2, 2, 2, 2, 1, 1, 1, 1, 2, 2, 2, 1, 0, 2, 2, 2, 2, 1, 1, 0, 3, 2, 0, 2, 1, 1, 2, 3, 2, 2, 2, 2, 2, 2, 1, 2, 2, 3, 1, 1, 3, 3, 2, 1, 2, 2, 2, 3, 0, 3, 2, 2, 2, 2, 2, 2, 3, 1, 3, 0, 1, 2, 2, 2, 3, 0, 2, 2, 3, 1, 2, 2, 2, 0, 3, 2, 3, 2, 0, 2, 2, 2, 1, 3, 1, 2, 2, 1, 1, 2, 2, 2, 2, 3, 2, 2, 2, 2, 2, 2, 2, 2, 1, 2, 2, 1, 2, 2, 2, 2, 1, 2, 1, 0, 2, 2, 3, 1, 1, 1, 2, 1, 1, 1, 1, 1, 1, 1], [1, 1, 1, 1, 1, 1, 2, 1, 2, 2, 1, 1, 2, 1, 2, 1, 1, 2, 1, 1, 2, 2, 2, 2, 2, 2, 2, 2, 2, 2, 2, 2, 2, 0, 2, 2, 2, 2, 2, 3, 3, 2, 3, 2, 2, 2, 2, 3, 3, 2, 0, 2, 3, 3, 2, 3, 2, 3, 3, 3, 2, 3, 2, 3, 2, 2, 3, 2, 2, 3, 3, 2, 2, 2, 3, 2, 2, 3, 2, 2, 2, 2, 2, 2, 2, 3, 0, 3, 2, 2, 3, 1, 2, 2, 2, 2, 2, 2, 2, 2, 3, 0, 2, 1, 2, 2, 1, 1, 2, 2, 2, 1, 3, 1], [3, 1, 1, 1, 1, 1, 1, 3, 2, 1, 1, 1, 2, 3, 1, 1, 0, 3, 2, 0, 0, 3, 0, 3, 1, 1, 3, 3, 3, 3, 3, 2, 3, 3, 2, 3, 2, 3, 2, 2, 3, 0, 2, 2, 3, 2, 2, 2, 3, 3, 1, 0, 0, 2, 2, 1, 3, 0, 2, 2, 2, 3, 2, 2, 2, 2, 2, 2, 2, 3, 2, 2, 3, 2, 2, 0, 3, 0, 3, 2, 1, 2, 2, 2, 2, 2, 1, 2, 1, 1, 2, 2, 2, 1, 2, 2, 2, 2, 2, 1, 2, 1, 2, 2, 1, 2, 1, 2, 2, 1, 2, 2, 2, 2, 2, 2, 1, 2, 1, 2, 1, 2, 1, 2, 2, 1, 2, 3, 2, 2, 3, 2, 3, 3, 1, 2, 2, 2, 3, 2, 2, 2, 3, 2, 2, 2, 2, 2, 3, 3, 2, 3, 2, 2, 2, 2, 1, 1, 1, 1, 1, 1]]\n",
            "Action list's shape looks like  (5,)\n"
          ]
        },
        {
          "output_type": "stream",
          "name": "stderr",
          "text": [
            "/usr/local/lib/python3.10/dist-packages/numpy/core/fromnumeric.py:2007: VisibleDeprecationWarning: Creating an ndarray from ragged nested sequences (which is a list-or-tuple of lists-or-tuples-or ndarrays with different lengths or shapes) is deprecated. If you meant to do this, you must specify 'dtype=object' when creating the ndarray.\n",
            "  result = asarray(a).shape\n"
          ]
        }
      ],
      "source": [
        "print(\"Action list looks like \", action_list)\n",
        "print(\"Action list's shape looks like \", np.shape(action_list))\n",
        "\n",
        "# 5代表5次episode"
      ]
    },
    {
      "cell_type": "markdown",
      "metadata": {
        "id": "fNkmwucrHMen"
      },
      "source": [
        "Analysis of actions taken by agent  \n",
        "agent的动作分析\n",
        "\n",
        "就是统计了一下上边action list里边各种动作的数目"
      ]
    },
    {
      "cell_type": "code",
      "execution_count": 25,
      "metadata": {
        "colab": {
          "base_uri": "https://localhost:8080/"
        },
        "id": "WHdAItjj1nxw",
        "outputId": "850a0155-5f7b-4307-bc1e-90b91f3010d8"
      },
      "outputs": [
        {
          "output_type": "stream",
          "name": "stdout",
          "text": [
            "{0: 43, 2: 428, 1: 167, 3: 161}\n"
          ]
        }
      ],
      "source": [
        "distribution = {}\n",
        "for actions in action_list:\n",
        "  for action in actions:\n",
        "    if action not in distribution.keys():\n",
        "      distribution[action] = 1\n",
        "    else:\n",
        "      distribution[action] += 1\n",
        "print(distribution)"
      ]
    },
    {
      "cell_type": "markdown",
      "metadata": {
        "id": "ricE0schY75M"
      },
      "source": [
        "Saving the result of Model Testing  \n",
        "保存测试的结果\n"
      ]
    },
    {
      "cell_type": "code",
      "execution_count": 26,
      "metadata": {
        "colab": {
          "base_uri": "https://localhost:8080/"
        },
        "id": "GZsMkGmIY42b",
        "outputId": "6d50ede7-b59a-486c-a3a6-a06a0c2fe36e"
      },
      "outputs": [
        {
          "output_type": "stream",
          "name": "stderr",
          "text": [
            "<ipython-input-26-fd322f3df017>:2: VisibleDeprecationWarning: Creating an ndarray from ragged nested sequences (which is a list-or-tuple of lists-or-tuples-or ndarrays with different lengths or shapes) is deprecated. If you meant to do this, you must specify 'dtype=object' when creating the ndarray.\n",
            "  np.save(PATH ,np.array(action_list))\n"
          ]
        }
      ],
      "source": [
        "PATH = \"Action_List.npy\" # Can be modified into the name or path you want\n",
        "np.save(PATH ,np.array(action_list)) "
      ]
    },
    {
      "cell_type": "markdown",
      "metadata": {
        "id": "asK7WfbkaLjt"
      },
      "source": [
        "### This is the file you need to submit !!!\n",
        "Download the testing result to your device  \n",
        "需要提交的文件\n",
        "\n"
      ]
    },
    {
      "cell_type": "code",
      "execution_count": 27,
      "metadata": {
        "colab": {
          "base_uri": "https://localhost:8080/",
          "height": 17
        },
        "id": "c-CqyhHzaWAL",
        "outputId": "bb476282-c7f5-4777-a89c-1956773eae56"
      },
      "outputs": [
        {
          "output_type": "display_data",
          "data": {
            "text/plain": [
              "<IPython.core.display.Javascript object>"
            ],
            "application/javascript": [
              "\n",
              "    async function download(id, filename, size) {\n",
              "      if (!google.colab.kernel.accessAllowed) {\n",
              "        return;\n",
              "      }\n",
              "      const div = document.createElement('div');\n",
              "      const label = document.createElement('label');\n",
              "      label.textContent = `Downloading \"${filename}\": `;\n",
              "      div.appendChild(label);\n",
              "      const progress = document.createElement('progress');\n",
              "      progress.max = size;\n",
              "      div.appendChild(progress);\n",
              "      document.body.appendChild(div);\n",
              "\n",
              "      const buffers = [];\n",
              "      let downloaded = 0;\n",
              "\n",
              "      const channel = await google.colab.kernel.comms.open(id);\n",
              "      // Send a message to notify the kernel that we're ready.\n",
              "      channel.send({})\n",
              "\n",
              "      for await (const message of channel.messages) {\n",
              "        // Send a message to notify the kernel that we're ready.\n",
              "        channel.send({})\n",
              "        if (message.buffers) {\n",
              "          for (const buffer of message.buffers) {\n",
              "            buffers.push(buffer);\n",
              "            downloaded += buffer.byteLength;\n",
              "            progress.value = downloaded;\n",
              "          }\n",
              "        }\n",
              "      }\n",
              "      const blob = new Blob(buffers, {type: 'application/binary'});\n",
              "      const a = document.createElement('a');\n",
              "      a.href = window.URL.createObjectURL(blob);\n",
              "      a.download = filename;\n",
              "      div.appendChild(a);\n",
              "      a.click();\n",
              "      div.remove();\n",
              "    }\n",
              "  "
            ]
          },
          "metadata": {}
        },
        {
          "output_type": "display_data",
          "data": {
            "text/plain": [
              "<IPython.core.display.Javascript object>"
            ],
            "application/javascript": [
              "download(\"download_8d09293b-5d5d-4e0f-8306-9a27c191ffaf\", \"Action_List.npy\", 1905)"
            ]
          },
          "metadata": {}
        }
      ],
      "source": [
        "from google.colab import files\n",
        "files.download(PATH)"
      ]
    },
    {
      "cell_type": "markdown",
      "metadata": {
        "id": "seT4NUmWmAZ1"
      },
      "source": [
        "# Server \n",
        "The code below simulate the environment on the judge server. Can be used for testing.\n",
        "  \n",
        "下边的代码模拟了judge系统上的环境，可以用来测试"
      ]
    },
    {
      "cell_type": "code",
      "execution_count": 28,
      "metadata": {
        "colab": {
          "base_uri": "https://localhost:8080/",
          "height": 483
        },
        "id": "U69c-YTxaw6b",
        "outputId": "d493e4af-1986-4fe3-8c9e-95b067cd8896"
      },
      "outputs": [
        {
          "output_type": "stream",
          "name": "stdout",
          "text": [
            "Your reward is : 34.20\n",
            "Your reward is : -20.23\n",
            "Your reward is : -50.91\n",
            "Your reward is : 41.71\n",
            "Your reward is : 1.16\n"
          ]
        },
        {
          "output_type": "display_data",
          "data": {
            "text/plain": [
              "<Figure size 640x480 with 1 Axes>"
            ],
            "image/png": "[encoded data removed]"
          },
          "metadata": {}
        }
      ],
      "source": [
        "action_list = np.load(PATH,allow_pickle=True) # The action list you upload\n",
        "seed = 543 # Do not revise this\n",
        "fix(env, seed)\n",
        "\n",
        "agent.eval()  # set network to evaluation mode\n",
        "\n",
        "test_total_reward = []\n",
        "if len(action_list) != 5:\n",
        "  print(\"Wrong format of file !!!\")\n",
        "  exit(0)\n",
        "for actions in action_list:\n",
        "  state = env.reset()\n",
        "  img = plt.imshow(env.render(mode='rgb_array'))\n",
        "\n",
        "  total_reward = 0\n",
        "\n",
        "  done = False\n",
        "\n",
        "  for action in actions:\n",
        "  \n",
        "      state, reward, done, _ = env.step(action)\n",
        "      total_reward += reward\n",
        "      if done:\n",
        "        break\n",
        "\n",
        "  print(f\"Your reward is : %.2f\"%total_reward)\n",
        "  test_total_reward.append(total_reward)"
      ]
    },
    {
      "cell_type": "markdown",
      "metadata": {
        "id": "TjFBWwQP1hVe"
      },
      "source": [
        "# Your score"
      ]
    },
    {
      "cell_type": "code",
      "execution_count": 29,
      "metadata": {
        "colab": {
          "base_uri": "https://localhost:8080/"
        },
        "id": "GpJpZz3Wbm0X",
        "outputId": "fed1f622-210e-4b00-dff3-619126aef55d"
      },
      "outputs": [
        {
          "output_type": "stream",
          "name": "stdout",
          "text": [
            "Your final reward is : 1.19\n"
          ]
        }
      ],
      "source": [
        "print(f\"Your final reward is : %.2f\"%np.mean(test_total_reward))"
      ]
    },
    {
      "cell_type": "markdown",
      "metadata": {
        "id": "wUBtYXG2eaqf"
      },
      "source": [
        "## Reference\n",
        "\n",
        "Below are some useful tips for you to get high score.\n",
        "\n",
        "- [DRL Lecture 1: Policy Gradient (Review)](https://youtu.be/z95ZYgPgXOY)\n",
        "- [ML Lecture 23-3: Reinforcement Learning (including Q-learning) start at 30:00](https://youtu.be/2-JNBzCq77c?t=1800)\n",
        "- [Lecture 7: Policy Gradient, David Silver](http://www0.cs.ucl.ac.uk/staff/d.silver/web/Teaching_files/pg.pdf)\n"
      ]
    }
  ],
  "metadata": {
    "colab": {
      "collapsed_sections": [
        "ZNgu-yzCy4Rt",
        "RMvr6QYx2K-x"
      ],
      "provenance": []
    },
    "kernelspec": {
      "display_name": "Python 3",
      "name": "python3"
    },
    "widgets": {
      "application/vnd.jupyter.widget-state+json": {
        "743141e563054d8ca913b591760f70c9": {
          "model_module": "@jupyter-widgets/controls",
          "model_name": "HBoxModel",
          "model_module_version": "1.5.0",
          "state": {
            "_dom_classes": [],
            "_model_module": "@jupyter-widgets/controls",
            "_model_module_version": "1.5.0",
            "_model_name": "HBoxModel",
            "_view_count": null,
            "_view_module": "@jupyter-widgets/controls",
            "_view_module_version": "1.5.0",
            "_view_name": "HBoxView",
            "box_style": "",
            "children": [
              "IPY_MODEL_7103c2ac2ccb49618ce924211b87dcd3",
              "IPY_MODEL_17e9b078823f49b8af7c52d5d9d90d58",
              "IPY_MODEL_804473c4018e4bb79cb7f972f269b75b"
            ],
            "layout": "IPY_MODEL_16ee487e1949449f8f7f24e3e18303a1"
          }
        },
        "7103c2ac2ccb49618ce924211b87dcd3": {
          "model_module": "@jupyter-widgets/controls",
          "model_name": "HTMLModel",
          "model_module_version": "1.5.0",
          "state": {
            "_dom_classes": [],
            "_model_module": "@jupyter-widgets/controls",
            "_model_module_version": "1.5.0",
            "_model_name": "HTMLModel",
            "_view_count": null,
            "_view_module": "@jupyter-widgets/controls",
            "_view_module_version": "1.5.0",
            "_view_name": "HTMLView",
            "description": "",
            "description_tooltip": null,
            "layout": "IPY_MODEL_156ef56eeee44f44a19abee03c12ccac",
            "placeholder": "​",
            "style": "IPY_MODEL_2f3cb510999a40bbbe0f8583c4332e43",
            "value": "Total:  0.6, Final: -100.0: 100%"
          }
        },
        "17e9b078823f49b8af7c52d5d9d90d58": {
          "model_module": "@jupyter-widgets/controls",
          "model_name": "FloatProgressModel",
          "model_module_version": "1.5.0",
          "state": {
            "_dom_classes": [],
            "_model_module": "@jupyter-widgets/controls",
            "_model_module_version": "1.5.0",
            "_model_name": "FloatProgressModel",
            "_view_count": null,
            "_view_module": "@jupyter-widgets/controls",
            "_view_module_version": "1.5.0",
            "_view_name": "ProgressView",
            "bar_style": "success",
            "description": "",
            "description_tooltip": null,
            "layout": "IPY_MODEL_97c90d34b72449648d72fde6062fe94f",
            "max": 500,
            "min": 0,
            "orientation": "horizontal",
            "style": "IPY_MODEL_83a5e6aa0ecf4415a61e85eb834f87ad",
            "value": 500
          }
        },
        "804473c4018e4bb79cb7f972f269b75b": {
          "model_module": "@jupyter-widgets/controls",
          "model_name": "HTMLModel",
          "model_module_version": "1.5.0",
          "state": {
            "_dom_classes": [],
            "_model_module": "@jupyter-widgets/controls",
            "_model_module_version": "1.5.0",
            "_model_name": "HTMLModel",
            "_view_count": null,
            "_view_module": "@jupyter-widgets/controls",
            "_view_module_version": "1.5.0",
            "_view_name": "HTMLView",
            "description": "",
            "description_tooltip": null,
            "layout": "IPY_MODEL_cd4f976cf322414083adedded9e25579",
            "placeholder": "​",
            "style": "IPY_MODEL_55ffb776baaa4ca183f750fe45b2e263",
            "value": " 500/500 [22:59&lt;00:00,  5.92s/it]"
          }
        },
        "16ee487e1949449f8f7f24e3e18303a1": {
          "model_module": "@jupyter-widgets/base",
          "model_name": "LayoutModel",
          "model_module_version": "1.2.0",
          "state": {
            "_model_module": "@jupyter-widgets/base",
            "_model_module_version": "1.2.0",
            "_model_name": "LayoutModel",
            "_view_count": null,
            "_view_module": "@jupyter-widgets/base",
            "_view_module_version": "1.2.0",
            "_view_name": "LayoutView",
            "align_content": null,
            "align_items": null,
            "align_self": null,
            "border": null,
            "bottom": null,
            "display": null,
            "flex": null,
            "flex_flow": null,
            "grid_area": null,
            "grid_auto_columns": null,
            "grid_auto_flow": null,
            "grid_auto_rows": null,
            "grid_column": null,
            "grid_gap": null,
            "grid_row": null,
            "grid_template_areas": null,
            "grid_template_columns": null,
            "grid_template_rows": null,
            "height": null,
            "justify_content": null,
            "justify_items": null,
            "left": null,
            "margin": null,
            "max_height": null,
            "max_width": null,
            "min_height": null,
            "min_width": null,
            "object_fit": null,
            "object_position": null,
            "order": null,
            "overflow": null,
            "overflow_x": null,
            "overflow_y": null,
            "padding": null,
            "right": null,
            "top": null,
            "visibility": null,
            "width": null
          }
        },
        "156ef56eeee44f44a19abee03c12ccac": {
          "model_module": "@jupyter-widgets/base",
          "model_name": "LayoutModel",
          "model_module_version": "1.2.0",
          "state": {
            "_model_module": "@jupyter-widgets/base",
            "_model_module_version": "1.2.0",
            "_model_name": "LayoutModel",
            "_view_count": null,
            "_view_module": "@jupyter-widgets/base",
            "_view_module_version": "1.2.0",
            "_view_name": "LayoutView",
            "align_content": null,
            "align_items": null,
            "align_self": null,
            "border": null,
            "bottom": null,
            "display": null,
            "flex": null,
            "flex_flow": null,
            "grid_area": null,
            "grid_auto_columns": null,
            "grid_auto_flow": null,
            "grid_auto_rows": null,
            "grid_column": null,
            "grid_gap": null,
            "grid_row": null,
            "grid_template_areas": null,
            "grid_template_columns": null,
            "grid_template_rows": null,
            "height": null,
            "justify_content": null,
            "justify_items": null,
            "left": null,
            "margin": null,
            "max_height": null,
            "max_width": null,
            "min_height": null,
            "min_width": null,
            "object_fit": null,
            "object_position": null,
            "order": null,
            "overflow": null,
            "overflow_x": null,
            "overflow_y": null,
            "padding": null,
            "right": null,
            "top": null,
            "visibility": null,
            "width": null
          }
        },
        "2f3cb510999a40bbbe0f8583c4332e43": {
          "model_module": "@jupyter-widgets/controls",
          "model_name": "DescriptionStyleModel",
          "model_module_version": "1.5.0",
          "state": {
            "_model_module": "@jupyter-widgets/controls",
            "_model_module_version": "1.5.0",
            "_model_name": "DescriptionStyleModel",
            "_view_count": null,
            "_view_module": "@jupyter-widgets/base",
            "_view_module_version": "1.2.0",
            "_view_name": "StyleView",
            "description_width": ""
          }
        },
        "97c90d34b72449648d72fde6062fe94f": {
          "model_module": "@jupyter-widgets/base",
          "model_name": "LayoutModel",
          "model_module_version": "1.2.0",
          "state": {
            "_model_module": "@jupyter-widgets/base",
            "_model_module_version": "1.2.0",
            "_model_name": "LayoutModel",
            "_view_count": null,
            "_view_module": "@jupyter-widgets/base",
            "_view_module_version": "1.2.0",
            "_view_name": "LayoutView",
            "align_content": null,
            "align_items": null,
            "align_self": null,
            "border": null,
            "bottom": null,
            "display": null,
            "flex": null,
            "flex_flow": null,
            "grid_area": null,
            "grid_auto_columns": null,
            "grid_auto_flow": null,
            "grid_auto_rows": null,
            "grid_column": null,
            "grid_gap": null,
            "grid_row": null,
            "grid_template_areas": null,
            "grid_template_columns": null,
            "grid_template_rows": null,
            "height": null,
            "justify_content": null,
            "justify_items": null,
            "left": null,
            "margin": null,
            "max_height": null,
            "max_width": null,
            "min_height": null,
            "min_width": null,
            "object_fit": null,
            "object_position": null,
            "order": null,
            "overflow": null,
            "overflow_x": null,
            "overflow_y": null,
            "padding": null,
            "right": null,
            "top": null,
            "visibility": null,
            "width": null
          }
        },
        "83a5e6aa0ecf4415a61e85eb834f87ad": {
          "model_module": "@jupyter-widgets/controls",
          "model_name": "ProgressStyleModel",
          "model_module_version": "1.5.0",
          "state": {
            "_model_module": "@jupyter-widgets/controls",
            "_model_module_version": "1.5.0",
            "_model_name": "ProgressStyleModel",
            "_view_count": null,
            "_view_module": "@jupyter-widgets/base",
            "_view_module_version": "1.2.0",
            "_view_name": "StyleView",
            "bar_color": null,
            "description_width": ""
          }
        },
        "cd4f976cf322414083adedded9e25579": {
          "model_module": "@jupyter-widgets/base",
          "model_name": "LayoutModel",
          "model_module_version": "1.2.0",
          "state": {
            "_model_module": "@jupyter-widgets/base",
            "_model_module_version": "1.2.0",
            "_model_name": "LayoutModel",
            "_view_count": null,
            "_view_module": "@jupyter-widgets/base",
            "_view_module_version": "1.2.0",
            "_view_name": "LayoutView",
            "align_content": null,
            "align_items": null,
            "align_self": null,
            "border": null,
            "bottom": null,
            "display": null,
            "flex": null,
            "flex_flow": null,
            "grid_area": null,
            "grid_auto_columns": null,
            "grid_auto_flow": null,
            "grid_auto_rows": null,
            "grid_column": null,
            "grid_gap": null,
            "grid_row": null,
            "grid_template_areas": null,
            "grid_template_columns": null,
            "grid_template_rows": null,
            "height": null,
            "justify_content": null,
            "justify_items": null,
            "left": null,
            "margin": null,
            "max_height": null,
            "max_width": null,
            "min_height": null,
            "min_width": null,
            "object_fit": null,
            "object_position": null,
            "order": null,
            "overflow": null,
            "overflow_x": null,
            "overflow_y": null,
            "padding": null,
            "right": null,
            "top": null,
            "visibility": null,
            "width": null
          }
        },
        "55ffb776baaa4ca183f750fe45b2e263": {
          "model_module": "@jupyter-widgets/controls",
          "model_name": "DescriptionStyleModel",
          "model_module_version": "1.5.0",
          "state": {
            "_model_module": "@jupyter-widgets/controls",
            "_model_module_version": "1.5.0",
            "_model_name": "DescriptionStyleModel",
            "_view_count": null,
            "_view_module": "@jupyter-widgets/base",
            "_view_module_version": "1.2.0",
            "_view_name": "StyleView",
            "description_width": ""
          }
        }
      }
    }
  },
  "nbformat": 4,
  "nbformat_minor": 0
}